{
 "cells": [
  {
   "cell_type": "code",
   "execution_count": 5,
   "id": "2d0dbd0d",
   "metadata": {},
   "outputs": [],
   "source": [
    "import numpy as np\n",
    "import pandas as pd\n",
    "import matplotlib.pyplot as plt\n",
    "from glob import glob\n",
    "from Bio import Entrez, SeqIO"
   ]
  },
  {
   "cell_type": "code",
   "execution_count": 6,
   "id": "863628a2",
   "metadata": {},
   "outputs": [],
   "source": [
    "sacc_id = 'GCF_000146045.2_R64'\n",
    "yl_id = 'GCF_000002525.2_ASM252v1'\n",
    "ids = [sacc_id, yl_id]\n"
   ]
  },
  {
   "cell_type": "code",
   "execution_count": 11,
   "id": "03c86ead",
   "metadata": {},
   "outputs": [],
   "source": [
    "# Define a function to make blast database for either protein of nucleotide\n",
    "def make_blast_db(id,folder='prot',db_type='prot'):\n",
    "    import os\n",
    "    out_file ='%s/%s.fa.pin'%(folder, id)\n",
    "    files =glob('%s/*.fa.pin'%folder)\n",
    "    \n",
    "    if out_file in files:\n",
    "        print (id, 'already has a blast db')\n",
    "        return\n",
    "    if db_type=='nucl':\n",
    "        ext='fna'\n",
    "    else:\n",
    "        ext='faa'\n",
    "\n",
    "    cmd_line='makeblastdb -in %s/%s.%s -dbtype %s' %(folder, id, ext, db_type)\n",
    "    \n",
    "    print ('making blast db with following command line...')\n",
    "    print (cmd_line)\n",
    "    os.system(cmd_line)"
   ]
  },
  {
   "cell_type": "code",
   "execution_count": 12,
   "id": "74d64fe6",
   "metadata": {},
   "outputs": [
    {
     "name": "stdout",
     "output_type": "stream",
     "text": [
      "making blast db with following command line...\n",
      "makeblastdb -in prot/GCF_000146045.2_R64_protein.faa -dbtype prot\n",
      "\n",
      "\n",
      "Building a new DB, current time: 10/14/2022 12:03:08\n",
      "New DB name:   /home/kkrishnan/SBRG/Sequencing/Y-Lipolytica/blast/prot/GCF_000146045.2_R64_protein.faa\n",
      "New DB title:  prot/GCF_000146045.2_R64_protein.faa\n",
      "Sequence type: Protein\n",
      "Keep MBits: T\n",
      "Maximum file size: 1000000000B\n",
      "Adding sequences from FASTA; added 6016 sequences in 0.109475 seconds.\n",
      "making blast db with following command line...\n",
      "makeblastdb -in prot/GCF_000002525.2_ASM252v1_protein.faa -dbtype prot\n",
      "\n",
      "\n",
      "Building a new DB, current time: 10/14/2022 12:03:08\n",
      "New DB name:   /home/kkrishnan/SBRG/Sequencing/Y-Lipolytica/blast/prot/GCF_000002525.2_ASM252v1_protein.faa\n",
      "New DB title:  prot/GCF_000002525.2_ASM252v1_protein.faa\n",
      "Sequence type: Protein\n",
      "Keep MBits: T\n",
      "Maximum file size: 1000000000B\n",
      "Adding sequences from FASTA; added 6472 sequences in 0.115157 seconds.\n"
     ]
    }
   ],
   "source": [
    "for seq in ids:\n",
    "    new_seq = seq+'_protein'\n",
    "    make_blast_db(new_seq,folder='prot',db_type='prot')"
   ]
  },
  {
   "cell_type": "code",
   "execution_count": null,
   "id": "229faa28",
   "metadata": {},
   "outputs": [],
   "source": [
    "# define a function to run BLASTp\n",
    "def run_blastp(seq,db,in_folder='prot', out_folder='bbh', out=None,outfmt=6,evalue=0.001,threads=1):\n",
    "    import os\n",
    "    if out==None:\n",
    "        out='%s/%s_vs_%s.txt'%(out_folder, seq, db)\n",
    "        print(out)\n",
    "    \n",
    "    files =glob('%s/*.txt'%out_folder)\n",
    "#    if out in files:\n",
    "#        print (seq, 'already blasted')\n",
    "#        return\n",
    "    \n",
    "    print ('blasting %s vs %s'%(seq, db))\n",
    "    \n",
    "    db = '%s/%s.faa'%(in_folder, db)\n",
    "    seq = '%s/%s.faa'%(in_folder, seq)\n",
    "    cmd_line='blastp -db %s -query %s -out %s -evalue %s -outfmt %s -num_threads %i' \\\n",
    "    %(db, seq, out, evalue, outfmt, threads)\n",
    "    \n",
    "    print ('running blastp with following command line...')\n",
    "    print (cmd_line)\n",
    "    os.system(cmd_line)\n",
    "    return out"
   ]
  }
 ],
 "metadata": {
  "kernelspec": {
   "display_name": "Python 3 (ipykernel)",
   "language": "python",
   "name": "python3"
  },
  "language_info": {
   "codemirror_mode": {
    "name": "ipython",
    "version": 3
   },
   "file_extension": ".py",
   "mimetype": "text/x-python",
   "name": "python",
   "nbconvert_exporter": "python",
   "pygments_lexer": "ipython3",
   "version": "3.8.10"
  }
 },
 "nbformat": 4,
 "nbformat_minor": 5
}
