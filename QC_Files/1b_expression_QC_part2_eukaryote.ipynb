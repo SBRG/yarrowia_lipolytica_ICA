{
 "cells": [
  {
   "cell_type": "markdown",
   "metadata": {},
   "source": [
    "# Expression Quality Control (Part 2)"
   ]
  },
  {
   "cell_type": "markdown",
   "metadata": {},
   "source": [
    "This is a template notebook for performing the final quality control on your organism's expression data. This requires a curated metadata sheet."
   ]
  },
  {
   "cell_type": "markdown",
   "metadata": {
    "tags": []
   },
   "source": [
    "## Setup "
   ]
  },
  {
   "cell_type": "code",
   "execution_count": 1,
   "metadata": {
    "execution": {
     "iopub.execute_input": "2025-04-25T21:41:49.009100Z",
     "iopub.status.busy": "2025-04-25T21:41:49.008962Z",
     "iopub.status.idle": "2025-04-25T21:41:49.887015Z",
     "shell.execute_reply": "2025-04-25T21:41:49.886489Z",
     "shell.execute_reply.started": "2025-04-25T21:41:49.009083Z"
    }
   },
   "outputs": [],
   "source": [
    "import itertools\n",
    "\n",
    "import matplotlib.pyplot as plt\n",
    "import numpy as np\n",
    "import pandas as pd\n",
    "import seaborn as sns\n",
    "\n",
    "from os import path\n",
    "from scipy import stats\n",
    "from tqdm.notebook import tqdm"
   ]
  },
  {
   "cell_type": "code",
   "execution_count": 2,
   "metadata": {
    "execution": {
     "iopub.execute_input": "2025-04-25T21:41:49.887946Z",
     "iopub.status.busy": "2025-04-25T21:41:49.887707Z",
     "iopub.status.idle": "2025-04-25T21:41:49.890638Z",
     "shell.execute_reply": "2025-04-25T21:41:49.890286Z",
     "shell.execute_reply.started": "2025-04-25T21:41:49.887931Z"
    }
   },
   "outputs": [],
   "source": [
    "sns.set_style('ticks')"
   ]
  },
  {
   "cell_type": "markdown",
   "metadata": {},
   "source": [
    "### Inputs"
   ]
  },
  {
   "cell_type": "code",
   "execution_count": 3,
   "metadata": {
    "execution": {
     "iopub.execute_input": "2025-04-25T21:41:49.891308Z",
     "iopub.status.busy": "2025-04-25T21:41:49.891171Z",
     "iopub.status.idle": "2025-04-25T21:41:49.916134Z",
     "shell.execute_reply": "2025-04-25T21:41:49.915709Z",
     "shell.execute_reply.started": "2025-04-25T21:41:49.891296Z"
    }
   },
   "outputs": [],
   "source": [
    "#logTPM_file = path.join('..','data','raw_data','log_tpm.csv') # Enter log-TPM filename here\n",
    "#all_metadata_file = path.join('..','data','interim','metadata_qc_part1_all.tsv') # Enter full metadata filename here\n",
    "#metadata_file = path.join('..','data','interim','metadata_qc_part1.tsv') # Enter curated metadata filename here\n",
    "\n",
    "\n",
    "logTPM_file = path.join(\"log_tpm.tsv\") # Enter log-TPM filename here\n",
    "all_metadata_file = path.join('metadata_qc_part1_all.tsv') # Enter full metadata filename here\n",
    "metadata_file = path.join(\"metadata_qc_part1.tsv\") # Enter curated metadata filename here"
   ]
  },
  {
   "cell_type": "markdown",
   "metadata": {},
   "source": [
    "### Load expression data"
   ]
  },
  {
   "cell_type": "code",
   "execution_count": 4,
   "metadata": {
    "execution": {
     "iopub.execute_input": "2025-04-25T21:41:49.916896Z",
     "iopub.status.busy": "2025-04-25T21:41:49.916750Z",
     "iopub.status.idle": "2025-04-25T21:41:52.707866Z",
     "shell.execute_reply": "2025-04-25T21:41:52.707401Z",
     "shell.execute_reply.started": "2025-04-25T21:41:49.916883Z"
    }
   },
   "outputs": [
    {
     "name": "stdout",
     "output_type": "stream",
     "text": [
      "Number of genes: 8295\n",
      "Number of samples: 155\n"
     ]
    },
    {
     "data": {
      "text/html": [
       "<div>\n",
       "<style scoped>\n",
       "    .dataframe tbody tr th:only-of-type {\n",
       "        vertical-align: middle;\n",
       "    }\n",
       "\n",
       "    .dataframe tbody tr th {\n",
       "        vertical-align: top;\n",
       "    }\n",
       "\n",
       "    .dataframe thead th {\n",
       "        text-align: right;\n",
       "    }\n",
       "</style>\n",
       "<table border=\"1\" class=\"dataframe\">\n",
       "  <thead>\n",
       "    <tr style=\"text-align: right;\">\n",
       "      <th></th>\n",
       "      <th>yl_001</th>\n",
       "      <th>yl_002</th>\n",
       "      <th>yl_003</th>\n",
       "      <th>yl_004</th>\n",
       "      <th>yl_005</th>\n",
       "      <th>yl_006</th>\n",
       "      <th>yl_007</th>\n",
       "      <th>yl_008</th>\n",
       "      <th>yl_009</th>\n",
       "      <th>yl_010</th>\n",
       "      <th>...</th>\n",
       "      <th>yl_146</th>\n",
       "      <th>yl_147</th>\n",
       "      <th>yl_148</th>\n",
       "      <th>yl_149</th>\n",
       "      <th>yl_150</th>\n",
       "      <th>yl_151</th>\n",
       "      <th>yl_152</th>\n",
       "      <th>yl_153</th>\n",
       "      <th>yl_154</th>\n",
       "      <th>yl_155</th>\n",
       "    </tr>\n",
       "    <tr>\n",
       "      <th>gene_id</th>\n",
       "      <th></th>\n",
       "      <th></th>\n",
       "      <th></th>\n",
       "      <th></th>\n",
       "      <th></th>\n",
       "      <th></th>\n",
       "      <th></th>\n",
       "      <th></th>\n",
       "      <th></th>\n",
       "      <th></th>\n",
       "      <th></th>\n",
       "      <th></th>\n",
       "      <th></th>\n",
       "      <th></th>\n",
       "      <th></th>\n",
       "      <th></th>\n",
       "      <th></th>\n",
       "      <th></th>\n",
       "      <th></th>\n",
       "      <th></th>\n",
       "      <th></th>\n",
       "    </tr>\n",
       "  </thead>\n",
       "  <tbody>\n",
       "    <tr>\n",
       "      <th>gene-YALI1_A00014g</th>\n",
       "      <td>2.219437</td>\n",
       "      <td>2.901137</td>\n",
       "      <td>1.796333</td>\n",
       "      <td>1.084102</td>\n",
       "      <td>2.396117</td>\n",
       "      <td>3.142210</td>\n",
       "      <td>1.979108</td>\n",
       "      <td>2.053250</td>\n",
       "      <td>0.854585</td>\n",
       "      <td>1.198564</td>\n",
       "      <td>...</td>\n",
       "      <td>3.096962</td>\n",
       "      <td>2.444014</td>\n",
       "      <td>1.434185</td>\n",
       "      <td>1.961436</td>\n",
       "      <td>1.450889</td>\n",
       "      <td>0.646635</td>\n",
       "      <td>0.638314</td>\n",
       "      <td>2.586683</td>\n",
       "      <td>2.859160</td>\n",
       "      <td>2.662944</td>\n",
       "    </tr>\n",
       "    <tr>\n",
       "      <th>gene-YALI1_A00019g</th>\n",
       "      <td>2.479771</td>\n",
       "      <td>3.071489</td>\n",
       "      <td>2.412731</td>\n",
       "      <td>2.376413</td>\n",
       "      <td>2.181040</td>\n",
       "      <td>3.325732</td>\n",
       "      <td>3.422598</td>\n",
       "      <td>3.677334</td>\n",
       "      <td>1.592050</td>\n",
       "      <td>2.402921</td>\n",
       "      <td>...</td>\n",
       "      <td>4.168705</td>\n",
       "      <td>4.298615</td>\n",
       "      <td>2.986596</td>\n",
       "      <td>2.745184</td>\n",
       "      <td>3.363298</td>\n",
       "      <td>3.503200</td>\n",
       "      <td>2.970253</td>\n",
       "      <td>3.088438</td>\n",
       "      <td>3.348551</td>\n",
       "      <td>3.568447</td>\n",
       "    </tr>\n",
       "    <tr>\n",
       "      <th>gene-YALI1_A00032g</th>\n",
       "      <td>1.224640</td>\n",
       "      <td>0.996979</td>\n",
       "      <td>1.081263</td>\n",
       "      <td>1.057208</td>\n",
       "      <td>2.083938</td>\n",
       "      <td>2.431156</td>\n",
       "      <td>1.636752</td>\n",
       "      <td>0.744576</td>\n",
       "      <td>0.944026</td>\n",
       "      <td>1.011568</td>\n",
       "      <td>...</td>\n",
       "      <td>0.505068</td>\n",
       "      <td>0.275213</td>\n",
       "      <td>0.000000</td>\n",
       "      <td>0.000000</td>\n",
       "      <td>0.000000</td>\n",
       "      <td>0.000000</td>\n",
       "      <td>0.247626</td>\n",
       "      <td>0.000000</td>\n",
       "      <td>0.270298</td>\n",
       "      <td>0.000000</td>\n",
       "    </tr>\n",
       "    <tr>\n",
       "      <th>gene-YALI1_A00058g</th>\n",
       "      <td>4.245284</td>\n",
       "      <td>4.511994</td>\n",
       "      <td>6.470509</td>\n",
       "      <td>6.335026</td>\n",
       "      <td>8.117646</td>\n",
       "      <td>8.004352</td>\n",
       "      <td>2.516706</td>\n",
       "      <td>2.555854</td>\n",
       "      <td>2.228695</td>\n",
       "      <td>2.391956</td>\n",
       "      <td>...</td>\n",
       "      <td>6.413679</td>\n",
       "      <td>6.461103</td>\n",
       "      <td>5.527275</td>\n",
       "      <td>5.609048</td>\n",
       "      <td>6.556823</td>\n",
       "      <td>6.490361</td>\n",
       "      <td>1.976841</td>\n",
       "      <td>1.712053</td>\n",
       "      <td>1.715332</td>\n",
       "      <td>1.489509</td>\n",
       "    </tr>\n",
       "    <tr>\n",
       "      <th>gene-YALI1_A00102g</th>\n",
       "      <td>10.071292</td>\n",
       "      <td>9.723366</td>\n",
       "      <td>9.552074</td>\n",
       "      <td>9.702984</td>\n",
       "      <td>9.314543</td>\n",
       "      <td>9.641832</td>\n",
       "      <td>8.993897</td>\n",
       "      <td>9.343659</td>\n",
       "      <td>10.559394</td>\n",
       "      <td>10.329969</td>\n",
       "      <td>...</td>\n",
       "      <td>9.777729</td>\n",
       "      <td>9.711318</td>\n",
       "      <td>10.204559</td>\n",
       "      <td>10.065050</td>\n",
       "      <td>10.329709</td>\n",
       "      <td>10.360962</td>\n",
       "      <td>10.307225</td>\n",
       "      <td>10.330866</td>\n",
       "      <td>10.479916</td>\n",
       "      <td>10.443098</td>\n",
       "    </tr>\n",
       "  </tbody>\n",
       "</table>\n",
       "<p>5 rows × 155 columns</p>\n",
       "</div>"
      ],
      "text/plain": [
       "                       yl_001    yl_002    yl_003    yl_004    yl_005  \\\n",
       "gene_id                                                                 \n",
       "gene-YALI1_A00014g   2.219437  2.901137  1.796333  1.084102  2.396117   \n",
       "gene-YALI1_A00019g   2.479771  3.071489  2.412731  2.376413  2.181040   \n",
       "gene-YALI1_A00032g   1.224640  0.996979  1.081263  1.057208  2.083938   \n",
       "gene-YALI1_A00058g   4.245284  4.511994  6.470509  6.335026  8.117646   \n",
       "gene-YALI1_A00102g  10.071292  9.723366  9.552074  9.702984  9.314543   \n",
       "\n",
       "                      yl_006    yl_007    yl_008     yl_009     yl_010  ...  \\\n",
       "gene_id                                                                 ...   \n",
       "gene-YALI1_A00014g  3.142210  1.979108  2.053250   0.854585   1.198564  ...   \n",
       "gene-YALI1_A00019g  3.325732  3.422598  3.677334   1.592050   2.402921  ...   \n",
       "gene-YALI1_A00032g  2.431156  1.636752  0.744576   0.944026   1.011568  ...   \n",
       "gene-YALI1_A00058g  8.004352  2.516706  2.555854   2.228695   2.391956  ...   \n",
       "gene-YALI1_A00102g  9.641832  8.993897  9.343659  10.559394  10.329969  ...   \n",
       "\n",
       "                      yl_146    yl_147     yl_148     yl_149     yl_150  \\\n",
       "gene_id                                                                   \n",
       "gene-YALI1_A00014g  3.096962  2.444014   1.434185   1.961436   1.450889   \n",
       "gene-YALI1_A00019g  4.168705  4.298615   2.986596   2.745184   3.363298   \n",
       "gene-YALI1_A00032g  0.505068  0.275213   0.000000   0.000000   0.000000   \n",
       "gene-YALI1_A00058g  6.413679  6.461103   5.527275   5.609048   6.556823   \n",
       "gene-YALI1_A00102g  9.777729  9.711318  10.204559  10.065050  10.329709   \n",
       "\n",
       "                       yl_151     yl_152     yl_153     yl_154     yl_155  \n",
       "gene_id                                                                    \n",
       "gene-YALI1_A00014g   0.646635   0.638314   2.586683   2.859160   2.662944  \n",
       "gene-YALI1_A00019g   3.503200   2.970253   3.088438   3.348551   3.568447  \n",
       "gene-YALI1_A00032g   0.000000   0.247626   0.000000   0.270298   0.000000  \n",
       "gene-YALI1_A00058g   6.490361   1.976841   1.712053   1.715332   1.489509  \n",
       "gene-YALI1_A00102g  10.360962  10.307225  10.330866  10.479916  10.443098  \n",
       "\n",
       "[5 rows x 155 columns]"
      ]
     },
     "execution_count": 4,
     "metadata": {},
     "output_type": "execute_result"
    }
   ],
   "source": [
    "DF_log_tpm = pd.read_csv(logTPM_file,index_col=[0], sep='\\t').fillna(0)\n",
    "print('Number of genes:',DF_log_tpm.shape[0])\n",
    "print('Number of samples:',DF_log_tpm.shape[1])\n",
    "DF_log_tpm.head()"
   ]
  },
  {
   "cell_type": "markdown",
   "metadata": {},
   "source": [
    "### Load metadata"
   ]
  },
  {
   "cell_type": "code",
   "execution_count": 5,
   "metadata": {
    "execution": {
     "iopub.execute_input": "2025-04-25T21:41:52.708607Z",
     "iopub.status.busy": "2025-04-25T21:41:52.708449Z",
     "iopub.status.idle": "2025-04-25T21:41:52.744426Z",
     "shell.execute_reply": "2025-04-25T21:41:52.744065Z",
     "shell.execute_reply.started": "2025-04-25T21:41:52.708593Z"
    }
   },
   "outputs": [
    {
     "name": "stdout",
     "output_type": "stream",
     "text": [
      "Number of samples with curated metadata: 155\n"
     ]
    },
    {
     "data": {
      "text/html": [
       "<div>\n",
       "<style scoped>\n",
       "    .dataframe tbody tr th:only-of-type {\n",
       "        vertical-align: middle;\n",
       "    }\n",
       "\n",
       "    .dataframe tbody tr th {\n",
       "        vertical-align: top;\n",
       "    }\n",
       "\n",
       "    .dataframe thead th {\n",
       "        text-align: right;\n",
       "    }\n",
       "</style>\n",
       "<table border=\"1\" class=\"dataframe\">\n",
       "  <thead>\n",
       "    <tr style=\"text-align: right;\">\n",
       "      <th></th>\n",
       "      <th>File name</th>\n",
       "      <th>condition</th>\n",
       "      <th>project</th>\n",
       "      <th>reference_condition</th>\n",
       "      <th>Strain</th>\n",
       "      <th>Mode of operation</th>\n",
       "      <th>Media</th>\n",
       "      <th>Limitation</th>\n",
       "      <th>C-source</th>\n",
       "      <th>Growth rate</th>\n",
       "      <th>DO</th>\n",
       "      <th>pH</th>\n",
       "      <th>Temperature</th>\n",
       "      <th>Read1</th>\n",
       "      <th>Read2</th>\n",
       "      <th>passed_fastqc</th>\n",
       "      <th>passed_reads_mapped_to_CDS</th>\n",
       "      <th>passed_global_correlation</th>\n",
       "    </tr>\n",
       "  </thead>\n",
       "  <tbody>\n",
       "    <tr>\n",
       "      <th>yl_001</th>\n",
       "      <td>PD019 A1 S02 #1</td>\n",
       "      <td>µ0.05_DO50</td>\n",
       "      <td>O2_oscillation_0.05</td>\n",
       "      <td>µ0.05_DO10</td>\n",
       "      <td>W29</td>\n",
       "      <td>Continuous</td>\n",
       "      <td>Delft</td>\n",
       "      <td>Carbon</td>\n",
       "      <td>Glucose</td>\n",
       "      <td>0.05</td>\n",
       "      <td>50</td>\n",
       "      <td>6</td>\n",
       "      <td>30</td>\n",
       "      <td>ylipolytic2025_repeat/PD019A1S021A_1.fq.gz</td>\n",
       "      <td>ylipolytic2025_repeat/PD019A1S021A_2.fq.gz</td>\n",
       "      <td>True</td>\n",
       "      <td>True</td>\n",
       "      <td>True</td>\n",
       "    </tr>\n",
       "    <tr>\n",
       "      <th>yl_002</th>\n",
       "      <td>PD019 A1 S02 #2</td>\n",
       "      <td>µ0.05_DO50</td>\n",
       "      <td>O2_oscillation_0.05</td>\n",
       "      <td>µ0.05_DO10</td>\n",
       "      <td>W29</td>\n",
       "      <td>Continuous</td>\n",
       "      <td>Delft</td>\n",
       "      <td>Carbon</td>\n",
       "      <td>Glucose</td>\n",
       "      <td>0.05</td>\n",
       "      <td>50</td>\n",
       "      <td>6</td>\n",
       "      <td>30</td>\n",
       "      <td>ylipolytic2025_repeat/PD019A1S022A_1.fq.gz</td>\n",
       "      <td>ylipolytic2025_repeat/PD019A1S022A_2.fq.gz</td>\n",
       "      <td>True</td>\n",
       "      <td>True</td>\n",
       "      <td>True</td>\n",
       "    </tr>\n",
       "    <tr>\n",
       "      <th>yl_003</th>\n",
       "      <td>PD019 A1 S03 #2</td>\n",
       "      <td>µ0.05_DO25</td>\n",
       "      <td>O2_oscillation_0.05</td>\n",
       "      <td>µ0.05_DO10</td>\n",
       "      <td>W29</td>\n",
       "      <td>Continuous</td>\n",
       "      <td>Delft</td>\n",
       "      <td>Carbon</td>\n",
       "      <td>Glucose</td>\n",
       "      <td>0.05</td>\n",
       "      <td>25</td>\n",
       "      <td>6</td>\n",
       "      <td>30</td>\n",
       "      <td>ylipolytic2025_repeat/PD019A1S032A_1.fq.gz</td>\n",
       "      <td>ylipolytic2025_repeat/PD019A1S032A_2.fq.gz</td>\n",
       "      <td>True</td>\n",
       "      <td>True</td>\n",
       "      <td>True</td>\n",
       "    </tr>\n",
       "    <tr>\n",
       "      <th>yl_004</th>\n",
       "      <td>PD019 A1 S03 #1</td>\n",
       "      <td>µ0.05_DO25</td>\n",
       "      <td>O2_oscillation_0.05</td>\n",
       "      <td>µ0.05_DO10</td>\n",
       "      <td>W29</td>\n",
       "      <td>Continuous</td>\n",
       "      <td>Delft</td>\n",
       "      <td>Carbon</td>\n",
       "      <td>Glucose</td>\n",
       "      <td>0.05</td>\n",
       "      <td>25</td>\n",
       "      <td>6</td>\n",
       "      <td>30</td>\n",
       "      <td>ylipolytic2025_repeat/PD019A1S031A_1.fq.gz</td>\n",
       "      <td>ylipolytic2025_repeat/PD019A1S031A_2.fq.gz</td>\n",
       "      <td>True</td>\n",
       "      <td>True</td>\n",
       "      <td>True</td>\n",
       "    </tr>\n",
       "    <tr>\n",
       "      <th>yl_005</th>\n",
       "      <td>PD019 A1 S04 #1</td>\n",
       "      <td>µ0.05_DO10</td>\n",
       "      <td>O2_oscillation_0.05</td>\n",
       "      <td>µ0.05_DO10</td>\n",
       "      <td>W29</td>\n",
       "      <td>Continuous</td>\n",
       "      <td>Delft</td>\n",
       "      <td>Carbon</td>\n",
       "      <td>Glucose</td>\n",
       "      <td>0.05</td>\n",
       "      <td>10</td>\n",
       "      <td>6</td>\n",
       "      <td>30</td>\n",
       "      <td>ylipolytic2025_repeat/PD019A1S041A_1.fq.gz</td>\n",
       "      <td>ylipolytic2025_repeat/PD019A1S041A_2.fq.gz</td>\n",
       "      <td>True</td>\n",
       "      <td>True</td>\n",
       "      <td>True</td>\n",
       "    </tr>\n",
       "  </tbody>\n",
       "</table>\n",
       "</div>"
      ],
      "text/plain": [
       "              File name   condition              project reference_condition  \\\n",
       "yl_001  PD019 A1 S02 #1  µ0.05_DO50  O2_oscillation_0.05          µ0.05_DO10   \n",
       "yl_002  PD019 A1 S02 #2  µ0.05_DO50  O2_oscillation_0.05          µ0.05_DO10   \n",
       "yl_003  PD019 A1 S03 #2  µ0.05_DO25  O2_oscillation_0.05          µ0.05_DO10   \n",
       "yl_004  PD019 A1 S03 #1  µ0.05_DO25  O2_oscillation_0.05          µ0.05_DO10   \n",
       "yl_005  PD019 A1 S04 #1  µ0.05_DO10  O2_oscillation_0.05          µ0.05_DO10   \n",
       "\n",
       "       Strain Mode of operation  Media Limitation C-source  Growth rate  DO  \\\n",
       "yl_001    W29        Continuous  Delft     Carbon  Glucose         0.05  50   \n",
       "yl_002    W29        Continuous  Delft     Carbon  Glucose         0.05  50   \n",
       "yl_003    W29        Continuous  Delft     Carbon  Glucose         0.05  25   \n",
       "yl_004    W29        Continuous  Delft     Carbon  Glucose         0.05  25   \n",
       "yl_005    W29        Continuous  Delft     Carbon  Glucose         0.05  10   \n",
       "\n",
       "       pH  Temperature                                       Read1  \\\n",
       "yl_001  6           30  ylipolytic2025_repeat/PD019A1S021A_1.fq.gz   \n",
       "yl_002  6           30  ylipolytic2025_repeat/PD019A1S022A_1.fq.gz   \n",
       "yl_003  6           30  ylipolytic2025_repeat/PD019A1S032A_1.fq.gz   \n",
       "yl_004  6           30  ylipolytic2025_repeat/PD019A1S031A_1.fq.gz   \n",
       "yl_005  6           30  ylipolytic2025_repeat/PD019A1S041A_1.fq.gz   \n",
       "\n",
       "                                             Read2  passed_fastqc  \\\n",
       "yl_001  ylipolytic2025_repeat/PD019A1S021A_2.fq.gz           True   \n",
       "yl_002  ylipolytic2025_repeat/PD019A1S022A_2.fq.gz           True   \n",
       "yl_003  ylipolytic2025_repeat/PD019A1S032A_2.fq.gz           True   \n",
       "yl_004  ylipolytic2025_repeat/PD019A1S031A_2.fq.gz           True   \n",
       "yl_005  ylipolytic2025_repeat/PD019A1S041A_2.fq.gz           True   \n",
       "\n",
       "        passed_reads_mapped_to_CDS  passed_global_correlation  \n",
       "yl_001                        True                       True  \n",
       "yl_002                        True                       True  \n",
       "yl_003                        True                       True  \n",
       "yl_004                        True                       True  \n",
       "yl_005                        True                       True  "
      ]
     },
     "execution_count": 5,
     "metadata": {},
     "output_type": "execute_result"
    }
   ],
   "source": [
    "DF_metadata = pd.read_csv(metadata_file,index_col=0, sep='\\t')\n",
    "print('Number of samples with curated metadata:',DF_metadata.shape[0])\n",
    "DF_metadata.head()"
   ]
  },
  {
   "cell_type": "code",
   "execution_count": 6,
   "metadata": {
    "execution": {
     "iopub.execute_input": "2025-04-25T21:41:52.752816Z",
     "iopub.status.busy": "2025-04-25T21:41:52.752488Z",
     "iopub.status.idle": "2025-04-25T21:41:52.775479Z",
     "shell.execute_reply": "2025-04-25T21:41:52.774967Z",
     "shell.execute_reply.started": "2025-04-25T21:41:52.752801Z"
    }
   },
   "outputs": [],
   "source": [
    "DF_metadata_all = pd.read_csv(all_metadata_file,index_col=0,sep='\\t')"
   ]
  },
  {
   "cell_type": "markdown",
   "metadata": {},
   "source": [
    "## Remove samples due to poor metadata"
   ]
  },
  {
   "cell_type": "markdown",
   "metadata": {},
   "source": [
    "After curation, some samples either did not have enough replicates or metadata to warrant inclusion in this database."
   ]
  },
  {
   "cell_type": "code",
   "execution_count": 7,
   "metadata": {
    "execution": {
     "iopub.execute_input": "2025-04-25T21:41:52.776241Z",
     "iopub.status.busy": "2025-04-25T21:41:52.776094Z",
     "iopub.status.idle": "2025-04-25T21:41:52.794524Z",
     "shell.execute_reply": "2025-04-25T21:41:52.794172Z",
     "shell.execute_reply.started": "2025-04-25T21:41:52.776226Z"
    }
   },
   "outputs": [
    {
     "name": "stdout",
     "output_type": "stream",
     "text": [
      "New number of samples with curated metadata: 155\n"
     ]
    },
    {
     "data": {
      "text/html": [
       "<div>\n",
       "<style scoped>\n",
       "    .dataframe tbody tr th:only-of-type {\n",
       "        vertical-align: middle;\n",
       "    }\n",
       "\n",
       "    .dataframe tbody tr th {\n",
       "        vertical-align: top;\n",
       "    }\n",
       "\n",
       "    .dataframe thead th {\n",
       "        text-align: right;\n",
       "    }\n",
       "</style>\n",
       "<table border=\"1\" class=\"dataframe\">\n",
       "  <thead>\n",
       "    <tr style=\"text-align: right;\">\n",
       "      <th></th>\n",
       "      <th>File name</th>\n",
       "      <th>condition</th>\n",
       "      <th>project</th>\n",
       "      <th>reference_condition</th>\n",
       "      <th>Strain</th>\n",
       "      <th>Mode of operation</th>\n",
       "      <th>Media</th>\n",
       "      <th>Limitation</th>\n",
       "      <th>C-source</th>\n",
       "      <th>Growth rate</th>\n",
       "      <th>DO</th>\n",
       "      <th>pH</th>\n",
       "      <th>Temperature</th>\n",
       "      <th>Read1</th>\n",
       "      <th>Read2</th>\n",
       "      <th>passed_fastqc</th>\n",
       "      <th>passed_reads_mapped_to_CDS</th>\n",
       "      <th>passed_global_correlation</th>\n",
       "    </tr>\n",
       "  </thead>\n",
       "  <tbody>\n",
       "    <tr>\n",
       "      <th>yl_001</th>\n",
       "      <td>PD019 A1 S02 #1</td>\n",
       "      <td>µ0.05_DO50</td>\n",
       "      <td>O2_oscillation_0.05</td>\n",
       "      <td>µ0.05_DO10</td>\n",
       "      <td>W29</td>\n",
       "      <td>Continuous</td>\n",
       "      <td>Delft</td>\n",
       "      <td>Carbon</td>\n",
       "      <td>Glucose</td>\n",
       "      <td>0.05</td>\n",
       "      <td>50</td>\n",
       "      <td>6</td>\n",
       "      <td>30</td>\n",
       "      <td>ylipolytic2025_repeat/PD019A1S021A_1.fq.gz</td>\n",
       "      <td>ylipolytic2025_repeat/PD019A1S021A_2.fq.gz</td>\n",
       "      <td>True</td>\n",
       "      <td>True</td>\n",
       "      <td>True</td>\n",
       "    </tr>\n",
       "    <tr>\n",
       "      <th>yl_002</th>\n",
       "      <td>PD019 A1 S02 #2</td>\n",
       "      <td>µ0.05_DO50</td>\n",
       "      <td>O2_oscillation_0.05</td>\n",
       "      <td>µ0.05_DO10</td>\n",
       "      <td>W29</td>\n",
       "      <td>Continuous</td>\n",
       "      <td>Delft</td>\n",
       "      <td>Carbon</td>\n",
       "      <td>Glucose</td>\n",
       "      <td>0.05</td>\n",
       "      <td>50</td>\n",
       "      <td>6</td>\n",
       "      <td>30</td>\n",
       "      <td>ylipolytic2025_repeat/PD019A1S022A_1.fq.gz</td>\n",
       "      <td>ylipolytic2025_repeat/PD019A1S022A_2.fq.gz</td>\n",
       "      <td>True</td>\n",
       "      <td>True</td>\n",
       "      <td>True</td>\n",
       "    </tr>\n",
       "    <tr>\n",
       "      <th>yl_003</th>\n",
       "      <td>PD019 A1 S03 #2</td>\n",
       "      <td>µ0.05_DO25</td>\n",
       "      <td>O2_oscillation_0.05</td>\n",
       "      <td>µ0.05_DO10</td>\n",
       "      <td>W29</td>\n",
       "      <td>Continuous</td>\n",
       "      <td>Delft</td>\n",
       "      <td>Carbon</td>\n",
       "      <td>Glucose</td>\n",
       "      <td>0.05</td>\n",
       "      <td>25</td>\n",
       "      <td>6</td>\n",
       "      <td>30</td>\n",
       "      <td>ylipolytic2025_repeat/PD019A1S032A_1.fq.gz</td>\n",
       "      <td>ylipolytic2025_repeat/PD019A1S032A_2.fq.gz</td>\n",
       "      <td>True</td>\n",
       "      <td>True</td>\n",
       "      <td>True</td>\n",
       "    </tr>\n",
       "    <tr>\n",
       "      <th>yl_004</th>\n",
       "      <td>PD019 A1 S03 #1</td>\n",
       "      <td>µ0.05_DO25</td>\n",
       "      <td>O2_oscillation_0.05</td>\n",
       "      <td>µ0.05_DO10</td>\n",
       "      <td>W29</td>\n",
       "      <td>Continuous</td>\n",
       "      <td>Delft</td>\n",
       "      <td>Carbon</td>\n",
       "      <td>Glucose</td>\n",
       "      <td>0.05</td>\n",
       "      <td>25</td>\n",
       "      <td>6</td>\n",
       "      <td>30</td>\n",
       "      <td>ylipolytic2025_repeat/PD019A1S031A_1.fq.gz</td>\n",
       "      <td>ylipolytic2025_repeat/PD019A1S031A_2.fq.gz</td>\n",
       "      <td>True</td>\n",
       "      <td>True</td>\n",
       "      <td>True</td>\n",
       "    </tr>\n",
       "    <tr>\n",
       "      <th>yl_005</th>\n",
       "      <td>PD019 A1 S04 #1</td>\n",
       "      <td>µ0.05_DO10</td>\n",
       "      <td>O2_oscillation_0.05</td>\n",
       "      <td>µ0.05_DO10</td>\n",
       "      <td>W29</td>\n",
       "      <td>Continuous</td>\n",
       "      <td>Delft</td>\n",
       "      <td>Carbon</td>\n",
       "      <td>Glucose</td>\n",
       "      <td>0.05</td>\n",
       "      <td>10</td>\n",
       "      <td>6</td>\n",
       "      <td>30</td>\n",
       "      <td>ylipolytic2025_repeat/PD019A1S041A_1.fq.gz</td>\n",
       "      <td>ylipolytic2025_repeat/PD019A1S041A_2.fq.gz</td>\n",
       "      <td>True</td>\n",
       "      <td>True</td>\n",
       "      <td>True</td>\n",
       "    </tr>\n",
       "    <tr>\n",
       "      <th>...</th>\n",
       "      <td>...</td>\n",
       "      <td>...</td>\n",
       "      <td>...</td>\n",
       "      <td>...</td>\n",
       "      <td>...</td>\n",
       "      <td>...</td>\n",
       "      <td>...</td>\n",
       "      <td>...</td>\n",
       "      <td>...</td>\n",
       "      <td>...</td>\n",
       "      <td>...</td>\n",
       "      <td>...</td>\n",
       "      <td>...</td>\n",
       "      <td>...</td>\n",
       "      <td>...</td>\n",
       "      <td>...</td>\n",
       "      <td>...</td>\n",
       "      <td>...</td>\n",
       "    </tr>\n",
       "    <tr>\n",
       "      <th>yl_151</th>\n",
       "      <td>NaN</td>\n",
       "      <td>Single_oscillation_#4.2_DO40</td>\n",
       "      <td>O2_oscillation2</td>\n",
       "      <td>Single_oscillation_#1.2_DO40</td>\n",
       "      <td>W29</td>\n",
       "      <td>Continuous</td>\n",
       "      <td>Delft</td>\n",
       "      <td>Oxygen</td>\n",
       "      <td>Glucose</td>\n",
       "      <td>NaN</td>\n",
       "      <td>40</td>\n",
       "      <td>6</td>\n",
       "      <td>30</td>\n",
       "      <td>s3://modulome/jayanth/yarrowia_lipolytica_sequ...</td>\n",
       "      <td>s3://modulome/jayanth/yarrowia_lipolytica_sequ...</td>\n",
       "      <td>True</td>\n",
       "      <td>True</td>\n",
       "      <td>True</td>\n",
       "    </tr>\n",
       "    <tr>\n",
       "      <th>yl_152</th>\n",
       "      <td>NaN</td>\n",
       "      <td>Repeated_oscillation_#5.2_DO40</td>\n",
       "      <td>O2_oscillation2</td>\n",
       "      <td>Single_oscillation_#1.2_DO40</td>\n",
       "      <td>W29</td>\n",
       "      <td>Continuous</td>\n",
       "      <td>Delft</td>\n",
       "      <td>Oxygen</td>\n",
       "      <td>Glucose</td>\n",
       "      <td>NaN</td>\n",
       "      <td>40</td>\n",
       "      <td>6</td>\n",
       "      <td>30</td>\n",
       "      <td>s3://modulome/jayanth/yarrowia_lipolytica_sequ...</td>\n",
       "      <td>s3://modulome/jayanth/yarrowia_lipolytica_sequ...</td>\n",
       "      <td>True</td>\n",
       "      <td>True</td>\n",
       "      <td>True</td>\n",
       "    </tr>\n",
       "    <tr>\n",
       "      <th>yl_153</th>\n",
       "      <td>NaN</td>\n",
       "      <td>Repeated_oscillation_#5.2_DO40</td>\n",
       "      <td>O2_oscillation2</td>\n",
       "      <td>Single_oscillation_#1.2_DO40</td>\n",
       "      <td>W29</td>\n",
       "      <td>Continuous</td>\n",
       "      <td>Delft</td>\n",
       "      <td>Oxygen</td>\n",
       "      <td>Glucose</td>\n",
       "      <td>NaN</td>\n",
       "      <td>0</td>\n",
       "      <td>6</td>\n",
       "      <td>30</td>\n",
       "      <td>s3://modulome/jayanth/yarrowia_lipolytica_sequ...</td>\n",
       "      <td>s3://modulome/jayanth/yarrowia_lipolytica_sequ...</td>\n",
       "      <td>True</td>\n",
       "      <td>True</td>\n",
       "      <td>True</td>\n",
       "    </tr>\n",
       "    <tr>\n",
       "      <th>yl_154</th>\n",
       "      <td>NaN</td>\n",
       "      <td>Repeated_oscillation_#6.2_DO0</td>\n",
       "      <td>O2_oscillation2</td>\n",
       "      <td>Single_oscillation_#1.2_DO40</td>\n",
       "      <td>W29</td>\n",
       "      <td>Continuous</td>\n",
       "      <td>Delft</td>\n",
       "      <td>Oxygen</td>\n",
       "      <td>Glucose</td>\n",
       "      <td>NaN</td>\n",
       "      <td>0</td>\n",
       "      <td>6</td>\n",
       "      <td>30</td>\n",
       "      <td>s3://modulome/jayanth/yarrowia_lipolytica_sequ...</td>\n",
       "      <td>s3://modulome/jayanth/yarrowia_lipolytica_sequ...</td>\n",
       "      <td>True</td>\n",
       "      <td>True</td>\n",
       "      <td>True</td>\n",
       "    </tr>\n",
       "    <tr>\n",
       "      <th>yl_155</th>\n",
       "      <td>NaN</td>\n",
       "      <td>Repeated_oscillation_#6.2_DO0</td>\n",
       "      <td>O2_oscillation2</td>\n",
       "      <td>Single_oscillation_#1.2_DO40</td>\n",
       "      <td>W29</td>\n",
       "      <td>Continuous</td>\n",
       "      <td>Delft</td>\n",
       "      <td>Oxygen</td>\n",
       "      <td>Glucose</td>\n",
       "      <td>NaN</td>\n",
       "      <td>0</td>\n",
       "      <td>6</td>\n",
       "      <td>30</td>\n",
       "      <td>s3://modulome/jayanth/yarrowia_lipolytica_sequ...</td>\n",
       "      <td>s3://modulome/jayanth/yarrowia_lipolytica_sequ...</td>\n",
       "      <td>True</td>\n",
       "      <td>True</td>\n",
       "      <td>True</td>\n",
       "    </tr>\n",
       "  </tbody>\n",
       "</table>\n",
       "<p>155 rows × 18 columns</p>\n",
       "</div>"
      ],
      "text/plain": [
       "              File name                       condition              project  \\\n",
       "yl_001  PD019 A1 S02 #1                      µ0.05_DO50  O2_oscillation_0.05   \n",
       "yl_002  PD019 A1 S02 #2                      µ0.05_DO50  O2_oscillation_0.05   \n",
       "yl_003  PD019 A1 S03 #2                      µ0.05_DO25  O2_oscillation_0.05   \n",
       "yl_004  PD019 A1 S03 #1                      µ0.05_DO25  O2_oscillation_0.05   \n",
       "yl_005  PD019 A1 S04 #1                      µ0.05_DO10  O2_oscillation_0.05   \n",
       "...                 ...                             ...                  ...   \n",
       "yl_151              NaN    Single_oscillation_#4.2_DO40      O2_oscillation2   \n",
       "yl_152              NaN  Repeated_oscillation_#5.2_DO40      O2_oscillation2   \n",
       "yl_153              NaN  Repeated_oscillation_#5.2_DO40      O2_oscillation2   \n",
       "yl_154              NaN   Repeated_oscillation_#6.2_DO0      O2_oscillation2   \n",
       "yl_155              NaN   Repeated_oscillation_#6.2_DO0      O2_oscillation2   \n",
       "\n",
       "                 reference_condition Strain Mode of operation  Media  \\\n",
       "yl_001                    µ0.05_DO10    W29        Continuous  Delft   \n",
       "yl_002                    µ0.05_DO10    W29        Continuous  Delft   \n",
       "yl_003                    µ0.05_DO10    W29        Continuous  Delft   \n",
       "yl_004                    µ0.05_DO10    W29        Continuous  Delft   \n",
       "yl_005                    µ0.05_DO10    W29        Continuous  Delft   \n",
       "...                              ...    ...               ...    ...   \n",
       "yl_151  Single_oscillation_#1.2_DO40    W29        Continuous  Delft   \n",
       "yl_152  Single_oscillation_#1.2_DO40    W29        Continuous  Delft   \n",
       "yl_153  Single_oscillation_#1.2_DO40    W29        Continuous  Delft   \n",
       "yl_154  Single_oscillation_#1.2_DO40    W29        Continuous  Delft   \n",
       "yl_155  Single_oscillation_#1.2_DO40    W29        Continuous  Delft   \n",
       "\n",
       "       Limitation C-source  Growth rate  DO pH  Temperature  \\\n",
       "yl_001     Carbon  Glucose         0.05  50  6           30   \n",
       "yl_002     Carbon  Glucose         0.05  50  6           30   \n",
       "yl_003     Carbon  Glucose         0.05  25  6           30   \n",
       "yl_004     Carbon  Glucose         0.05  25  6           30   \n",
       "yl_005     Carbon  Glucose         0.05  10  6           30   \n",
       "...           ...      ...          ...  .. ..          ...   \n",
       "yl_151     Oxygen  Glucose          NaN  40  6           30   \n",
       "yl_152     Oxygen  Glucose          NaN  40  6           30   \n",
       "yl_153     Oxygen  Glucose          NaN   0  6           30   \n",
       "yl_154     Oxygen  Glucose          NaN   0  6           30   \n",
       "yl_155     Oxygen  Glucose          NaN   0  6           30   \n",
       "\n",
       "                                                    Read1  \\\n",
       "yl_001         ylipolytic2025_repeat/PD019A1S021A_1.fq.gz   \n",
       "yl_002         ylipolytic2025_repeat/PD019A1S022A_1.fq.gz   \n",
       "yl_003         ylipolytic2025_repeat/PD019A1S032A_1.fq.gz   \n",
       "yl_004         ylipolytic2025_repeat/PD019A1S031A_1.fq.gz   \n",
       "yl_005         ylipolytic2025_repeat/PD019A1S041A_1.fq.gz   \n",
       "...                                                   ...   \n",
       "yl_151  s3://modulome/jayanth/yarrowia_lipolytica_sequ...   \n",
       "yl_152  s3://modulome/jayanth/yarrowia_lipolytica_sequ...   \n",
       "yl_153  s3://modulome/jayanth/yarrowia_lipolytica_sequ...   \n",
       "yl_154  s3://modulome/jayanth/yarrowia_lipolytica_sequ...   \n",
       "yl_155  s3://modulome/jayanth/yarrowia_lipolytica_sequ...   \n",
       "\n",
       "                                                    Read2  passed_fastqc  \\\n",
       "yl_001         ylipolytic2025_repeat/PD019A1S021A_2.fq.gz           True   \n",
       "yl_002         ylipolytic2025_repeat/PD019A1S022A_2.fq.gz           True   \n",
       "yl_003         ylipolytic2025_repeat/PD019A1S032A_2.fq.gz           True   \n",
       "yl_004         ylipolytic2025_repeat/PD019A1S031A_2.fq.gz           True   \n",
       "yl_005         ylipolytic2025_repeat/PD019A1S041A_2.fq.gz           True   \n",
       "...                                                   ...            ...   \n",
       "yl_151  s3://modulome/jayanth/yarrowia_lipolytica_sequ...           True   \n",
       "yl_152  s3://modulome/jayanth/yarrowia_lipolytica_sequ...           True   \n",
       "yl_153  s3://modulome/jayanth/yarrowia_lipolytica_sequ...           True   \n",
       "yl_154  s3://modulome/jayanth/yarrowia_lipolytica_sequ...           True   \n",
       "yl_155  s3://modulome/jayanth/yarrowia_lipolytica_sequ...           True   \n",
       "\n",
       "        passed_reads_mapped_to_CDS  passed_global_correlation  \n",
       "yl_001                        True                       True  \n",
       "yl_002                        True                       True  \n",
       "yl_003                        True                       True  \n",
       "yl_004                        True                       True  \n",
       "yl_005                        True                       True  \n",
       "...                            ...                        ...  \n",
       "yl_151                        True                       True  \n",
       "yl_152                        True                       True  \n",
       "yl_153                        True                       True  \n",
       "yl_154                        True                       True  \n",
       "yl_155                        True                       True  \n",
       "\n",
       "[155 rows x 18 columns]"
      ]
     },
     "execution_count": 7,
     "metadata": {},
     "output_type": "execute_result"
    }
   ],
   "source": [
    "DF_metadata_passed_step4 = DF_metadata#[~DF_metadata.skip.fillna(False)].copy()\n",
    "print('New number of samples with curated metadata:',DF_metadata_passed_step4.shape[0])\n",
    "DF_metadata_passed_step4"
   ]
  },
  {
   "cell_type": "markdown",
   "metadata": {},
   "source": [
    "### Check curation\n",
    "Since manual curation is error-prone, we want to make sure that all samples have labels for their project and condition. In addition, there should only be one reference condition in each project, and it should be in the project itself.\n",
    "\n",
    "Any samples that fail these checks will be printed below."
   ]
  },
  {
   "cell_type": "code",
   "execution_count": 8,
   "metadata": {
    "execution": {
     "iopub.execute_input": "2025-04-25T21:41:52.795351Z",
     "iopub.status.busy": "2025-04-25T21:41:52.795127Z",
     "iopub.status.idle": "2025-04-25T21:41:52.802850Z",
     "shell.execute_reply": "2025-04-25T21:41:52.802487Z",
     "shell.execute_reply.started": "2025-04-25T21:41:52.795337Z"
    },
    "tags": []
   },
   "outputs": [],
   "source": [
    "assert(DF_metadata_passed_step4.project.notnull().all())\n",
    "assert(DF_metadata_passed_step4.condition.notnull().all())\n",
    "\n",
    "for name,group in DF_metadata_passed_step4.groupby('project'):\n",
    "    ref_cond = group.reference_condition.unique()\n",
    "    \n",
    "    # Ensure that there is only one reference condition per project\n",
    "    if not len(ref_cond) == 1:\n",
    "        print(ref_cond)\n",
    "        print('Multiple reference conditions for:, name')\n",
    "    \n",
    "    # Ensure the reference condition is in fact in the project\n",
    "    ref_cond = ref_cond[0]\n",
    "    if not ref_cond in group.condition.tolist():\n",
    "        print('Reference condition not in project:', name)"
   ]
  },
  {
   "cell_type": "markdown",
   "metadata": {},
   "source": [
    "Next, make a new column called ``full_name`` that gives every experimental condition a unique, human-readable identifier."
   ]
  },
  {
   "cell_type": "code",
   "execution_count": 9,
   "metadata": {
    "execution": {
     "iopub.execute_input": "2025-04-25T21:41:52.803583Z",
     "iopub.status.busy": "2025-04-25T21:41:52.803439Z",
     "iopub.status.idle": "2025-04-25T21:41:52.806979Z",
     "shell.execute_reply": "2025-04-25T21:41:52.806655Z",
     "shell.execute_reply.started": "2025-04-25T21:41:52.803569Z"
    }
   },
   "outputs": [],
   "source": [
    "DF_metadata_passed_step4['full_name'] = DF_metadata_passed_step4['project'].str.cat(DF_metadata_passed_step4['condition'],sep=':')"
   ]
  },
  {
   "cell_type": "code",
   "execution_count": 10,
   "metadata": {
    "execution": {
     "iopub.execute_input": "2025-04-25T21:41:52.807672Z",
     "iopub.status.busy": "2025-04-25T21:41:52.807533Z",
     "iopub.status.idle": "2025-04-25T21:41:52.811234Z",
     "shell.execute_reply": "2025-04-25T21:41:52.810851Z",
     "shell.execute_reply.started": "2025-04-25T21:41:52.807659Z"
    }
   },
   "outputs": [
    {
     "data": {
      "text/plain": [
       "155"
      ]
     },
     "execution_count": 10,
     "metadata": {},
     "output_type": "execute_result"
    }
   ],
   "source": [
    "DF_metadata_passed_step4['full_name'].value_counts().sum()"
   ]
  },
  {
   "cell_type": "markdown",
   "metadata": {},
   "source": [
    "### Remove samples with only one replicate"
   ]
  },
  {
   "cell_type": "markdown",
   "metadata": {},
   "source": [
    "First, find sample names that have at least two replicates."
   ]
  },
  {
   "cell_type": "code",
   "execution_count": 11,
   "metadata": {
    "execution": {
     "iopub.execute_input": "2025-04-25T21:41:52.811906Z",
     "iopub.status.busy": "2025-04-25T21:41:52.811770Z",
     "iopub.status.idle": "2025-04-25T21:41:52.815254Z",
     "shell.execute_reply": "2025-04-25T21:41:52.814851Z",
     "shell.execute_reply.started": "2025-04-25T21:41:52.811893Z"
    }
   },
   "outputs": [
    {
     "name": "stdout",
     "output_type": "stream",
     "text": [
      "73\n"
     ]
    }
   ],
   "source": [
    "counts = DF_metadata_passed_step4.full_name.value_counts()\n",
    "keep_samples = counts[counts >= 2].index\n",
    "print(len(keep_samples))"
   ]
  },
  {
   "cell_type": "code",
   "execution_count": 12,
   "metadata": {},
   "outputs": [
    {
     "data": {
      "text/plain": [
       "Index([], dtype='object')"
      ]
     },
     "execution_count": 12,
     "metadata": {},
     "output_type": "execute_result"
    }
   ],
   "source": [
    "counts[counts < 2].index"
   ]
  },
  {
   "cell_type": "code",
   "execution_count": 13,
   "metadata": {},
   "outputs": [
    {
     "data": {
      "text/plain": [
       "Index(['CO2_oscillation:CO2_0%', 'CO2_oscillation:CO2_50%',\n",
       "       'CO2_oscillation:CO2_40%', 'CO2_oscillation:CO2_30%',\n",
       "       'CO2_oscillation:CO2_10%', 'Batch_Shaken:Glucose_Plimit_pH6',\n",
       "       'Batch_Shaken:Glucose_lowDO_pH3', 'Batch_Shaken:Glucose_mediumDO_pH3',\n",
       "       'Batch_Shaken:Glucose_highDO_pH3', 'Batch_Shaken:Glucose_Mglimit_pH6',\n",
       "       'Batch_Shaken:Glucose_Mglimit_pH3',\n",
       "       'Batch_Shaken:High glucose_lowDO_pH6',\n",
       "       'Batch_Shaken:Glucose_Nlimit_pH6', 'Batch_Shaken:Glucose_Nlimit_pH3',\n",
       "       'Batch_Shaken:Glucose_shaken_reference',\n",
       "       'Batch_Shaken:High glucose_mediumDO_pH6',\n",
       "       'Batch_Shaken:High glucose_highDO_pH6',\n",
       "       'Batch_Shaken:High glucose_lowDO_pH3',\n",
       "       'Batch_Shaken:Glucose_highDO_ph6', 'Batch_Shaken:Glucose_mediumDO_pH6',\n",
       "       'Batch_Shaken:Glucose_lowDO_pH6', 'Batch_Shaken:High glycerol_pH6',\n",
       "       'O2_oscillation2:Repeated_oscillation_#5.2_DO40',\n",
       "       'O2_oscillation2:Single_oscillation_#4.2_DO40',\n",
       "       'O2_oscillation2:Single oscillation_#3.2_DO0',\n",
       "       'O2_oscillation2:Single oscillation_#2.2_DO3',\n",
       "       'O2_oscillation2:Single_oscillation_#1.2_DO40',\n",
       "       'O2_oscillation:Repeated_oscillation_#6.1_DO0',\n",
       "       'O2_oscillation:Repeated_oscillation_#5.1_DO40',\n",
       "       'O2_oscillation:Single_oscillation_#4.1_DO40',\n",
       "       'O2_oscillation:Single oscillation_#3.1_DO34',\n",
       "       'O2_oscillation:Single oscillation_#2.1_DO0',\n",
       "       'O2_oscillation:Single_oscillation_#1.1_DO40',\n",
       "       'Batch_Shaken:Glycerol_lowDO_pH6', 'Batch_Shaken:Glycerol_highDO_pH6',\n",
       "       'Batch_Shaken:Glycerol_Plimit_pH6', 'Batch_Shaken:Glycerol_Nlimit_pH6',\n",
       "       'Batch_Shaken:High glucose_mediumDO_pH3',\n",
       "       'O2_oscillation_0.05:µ0.05_DO50', 'Batch_Shaken:Glucose_lowDO',\n",
       "       'O2_oscillation_0.2:µ0.2_DO5', 'O2_oscillation_0.1:µ0.1_DO5',\n",
       "       'O2_oscillation_0.1:µ0.1_DO10', 'O2_oscillation_0.1:µ0.1_DO25',\n",
       "       'O2_oscillation_0.1:µ0.1_DO50', 'O2_oscillation_0.2:µ0.2_DO0',\n",
       "       'O2_oscillation_0.2:µ0.2_DO2.5', 'O2_oscillation_0.2:µ0.2_DO10',\n",
       "       'Batch_Shaken:Glucose_Nlimit', 'O2_oscillation_0.2:µ0.2_DO25',\n",
       "       'O2_oscillation_0.2:µ0.2_DO50', 'O2_oscillation_0.05:µ0.05_DO0',\n",
       "       'O2_oscillation_0.05:µ0.05_DO2.5', 'O2_oscillation_0.05:µ0.05_DO5',\n",
       "       'O2_oscillation_0.05:µ0.05_DO10', 'O2_oscillation_0.1:µ0.1_DO2.5',\n",
       "       'O2_oscillation_0.1:µ0.1_DO0', 'Growth_Variance_W29:µ0',\n",
       "       'Growth_Variance_W29:µ0.05', 'Growth_Variance_W29:µ0.1',\n",
       "       'Growth_Variance_W29:µ0.15', 'Growth_Variance_W29:µ0.2',\n",
       "       'Growth_Variance_W29:µ0.25', 'Growth_Variance_W29:µ0.3',\n",
       "       'Growth_Variance_ST8712:µ0_ST8712',\n",
       "       'Growth_Variance_ST8712:µ0.05_ST8712',\n",
       "       'Growth_Variance_ST8712:µ0.075_ST8712',\n",
       "       'Growth_Variance_ST8712:µ0.1_ST8712',\n",
       "       'Growth_Variance_ST8712:µ0.125_ST8712',\n",
       "       'Growth_Variance_ST8712:µ0.15_ST8712', 'CO2_oscillation:CO2_20%',\n",
       "       'O2_oscillation_0.05:µ0.05_DO25',\n",
       "       'O2_oscillation2:Repeated_oscillation_#6.2_DO0'],\n",
       "      dtype='object')"
      ]
     },
     "execution_count": 13,
     "metadata": {},
     "output_type": "execute_result"
    }
   ],
   "source": [
    "keep_samples"
   ]
  },
  {
   "cell_type": "markdown",
   "metadata": {},
   "source": [
    "Only keep these samples"
   ]
  },
  {
   "cell_type": "code",
   "execution_count": 14,
   "metadata": {
    "execution": {
     "iopub.execute_input": "2025-04-25T21:41:52.815924Z",
     "iopub.status.busy": "2025-04-25T21:41:52.815784Z",
     "iopub.status.idle": "2025-04-25T21:41:52.833368Z",
     "shell.execute_reply": "2025-04-25T21:41:52.833016Z",
     "shell.execute_reply.started": "2025-04-25T21:41:52.815912Z"
    }
   },
   "outputs": [
    {
     "name": "stdout",
     "output_type": "stream",
     "text": [
      "New number of samples with curated metadata: 155\n"
     ]
    },
    {
     "data": {
      "text/html": [
       "<div>\n",
       "<style scoped>\n",
       "    .dataframe tbody tr th:only-of-type {\n",
       "        vertical-align: middle;\n",
       "    }\n",
       "\n",
       "    .dataframe tbody tr th {\n",
       "        vertical-align: top;\n",
       "    }\n",
       "\n",
       "    .dataframe thead th {\n",
       "        text-align: right;\n",
       "    }\n",
       "</style>\n",
       "<table border=\"1\" class=\"dataframe\">\n",
       "  <thead>\n",
       "    <tr style=\"text-align: right;\">\n",
       "      <th></th>\n",
       "      <th>File name</th>\n",
       "      <th>condition</th>\n",
       "      <th>project</th>\n",
       "      <th>reference_condition</th>\n",
       "      <th>Strain</th>\n",
       "      <th>Mode of operation</th>\n",
       "      <th>Media</th>\n",
       "      <th>Limitation</th>\n",
       "      <th>C-source</th>\n",
       "      <th>Growth rate</th>\n",
       "      <th>DO</th>\n",
       "      <th>pH</th>\n",
       "      <th>Temperature</th>\n",
       "      <th>Read1</th>\n",
       "      <th>Read2</th>\n",
       "      <th>passed_fastqc</th>\n",
       "      <th>passed_reads_mapped_to_CDS</th>\n",
       "      <th>passed_global_correlation</th>\n",
       "      <th>full_name</th>\n",
       "    </tr>\n",
       "  </thead>\n",
       "  <tbody>\n",
       "    <tr>\n",
       "      <th>yl_001</th>\n",
       "      <td>PD019 A1 S02 #1</td>\n",
       "      <td>µ0.05_DO50</td>\n",
       "      <td>O2_oscillation_0.05</td>\n",
       "      <td>µ0.05_DO10</td>\n",
       "      <td>W29</td>\n",
       "      <td>Continuous</td>\n",
       "      <td>Delft</td>\n",
       "      <td>Carbon</td>\n",
       "      <td>Glucose</td>\n",
       "      <td>0.05</td>\n",
       "      <td>50</td>\n",
       "      <td>6</td>\n",
       "      <td>30</td>\n",
       "      <td>ylipolytic2025_repeat/PD019A1S021A_1.fq.gz</td>\n",
       "      <td>ylipolytic2025_repeat/PD019A1S021A_2.fq.gz</td>\n",
       "      <td>True</td>\n",
       "      <td>True</td>\n",
       "      <td>True</td>\n",
       "      <td>O2_oscillation_0.05:µ0.05_DO50</td>\n",
       "    </tr>\n",
       "    <tr>\n",
       "      <th>yl_002</th>\n",
       "      <td>PD019 A1 S02 #2</td>\n",
       "      <td>µ0.05_DO50</td>\n",
       "      <td>O2_oscillation_0.05</td>\n",
       "      <td>µ0.05_DO10</td>\n",
       "      <td>W29</td>\n",
       "      <td>Continuous</td>\n",
       "      <td>Delft</td>\n",
       "      <td>Carbon</td>\n",
       "      <td>Glucose</td>\n",
       "      <td>0.05</td>\n",
       "      <td>50</td>\n",
       "      <td>6</td>\n",
       "      <td>30</td>\n",
       "      <td>ylipolytic2025_repeat/PD019A1S022A_1.fq.gz</td>\n",
       "      <td>ylipolytic2025_repeat/PD019A1S022A_2.fq.gz</td>\n",
       "      <td>True</td>\n",
       "      <td>True</td>\n",
       "      <td>True</td>\n",
       "      <td>O2_oscillation_0.05:µ0.05_DO50</td>\n",
       "    </tr>\n",
       "    <tr>\n",
       "      <th>yl_003</th>\n",
       "      <td>PD019 A1 S03 #2</td>\n",
       "      <td>µ0.05_DO25</td>\n",
       "      <td>O2_oscillation_0.05</td>\n",
       "      <td>µ0.05_DO10</td>\n",
       "      <td>W29</td>\n",
       "      <td>Continuous</td>\n",
       "      <td>Delft</td>\n",
       "      <td>Carbon</td>\n",
       "      <td>Glucose</td>\n",
       "      <td>0.05</td>\n",
       "      <td>25</td>\n",
       "      <td>6</td>\n",
       "      <td>30</td>\n",
       "      <td>ylipolytic2025_repeat/PD019A1S032A_1.fq.gz</td>\n",
       "      <td>ylipolytic2025_repeat/PD019A1S032A_2.fq.gz</td>\n",
       "      <td>True</td>\n",
       "      <td>True</td>\n",
       "      <td>True</td>\n",
       "      <td>O2_oscillation_0.05:µ0.05_DO25</td>\n",
       "    </tr>\n",
       "    <tr>\n",
       "      <th>yl_004</th>\n",
       "      <td>PD019 A1 S03 #1</td>\n",
       "      <td>µ0.05_DO25</td>\n",
       "      <td>O2_oscillation_0.05</td>\n",
       "      <td>µ0.05_DO10</td>\n",
       "      <td>W29</td>\n",
       "      <td>Continuous</td>\n",
       "      <td>Delft</td>\n",
       "      <td>Carbon</td>\n",
       "      <td>Glucose</td>\n",
       "      <td>0.05</td>\n",
       "      <td>25</td>\n",
       "      <td>6</td>\n",
       "      <td>30</td>\n",
       "      <td>ylipolytic2025_repeat/PD019A1S031A_1.fq.gz</td>\n",
       "      <td>ylipolytic2025_repeat/PD019A1S031A_2.fq.gz</td>\n",
       "      <td>True</td>\n",
       "      <td>True</td>\n",
       "      <td>True</td>\n",
       "      <td>O2_oscillation_0.05:µ0.05_DO25</td>\n",
       "    </tr>\n",
       "    <tr>\n",
       "      <th>yl_005</th>\n",
       "      <td>PD019 A1 S04 #1</td>\n",
       "      <td>µ0.05_DO10</td>\n",
       "      <td>O2_oscillation_0.05</td>\n",
       "      <td>µ0.05_DO10</td>\n",
       "      <td>W29</td>\n",
       "      <td>Continuous</td>\n",
       "      <td>Delft</td>\n",
       "      <td>Carbon</td>\n",
       "      <td>Glucose</td>\n",
       "      <td>0.05</td>\n",
       "      <td>10</td>\n",
       "      <td>6</td>\n",
       "      <td>30</td>\n",
       "      <td>ylipolytic2025_repeat/PD019A1S041A_1.fq.gz</td>\n",
       "      <td>ylipolytic2025_repeat/PD019A1S041A_2.fq.gz</td>\n",
       "      <td>True</td>\n",
       "      <td>True</td>\n",
       "      <td>True</td>\n",
       "      <td>O2_oscillation_0.05:µ0.05_DO10</td>\n",
       "    </tr>\n",
       "    <tr>\n",
       "      <th>...</th>\n",
       "      <td>...</td>\n",
       "      <td>...</td>\n",
       "      <td>...</td>\n",
       "      <td>...</td>\n",
       "      <td>...</td>\n",
       "      <td>...</td>\n",
       "      <td>...</td>\n",
       "      <td>...</td>\n",
       "      <td>...</td>\n",
       "      <td>...</td>\n",
       "      <td>...</td>\n",
       "      <td>...</td>\n",
       "      <td>...</td>\n",
       "      <td>...</td>\n",
       "      <td>...</td>\n",
       "      <td>...</td>\n",
       "      <td>...</td>\n",
       "      <td>...</td>\n",
       "      <td>...</td>\n",
       "    </tr>\n",
       "    <tr>\n",
       "      <th>yl_151</th>\n",
       "      <td>NaN</td>\n",
       "      <td>Single_oscillation_#4.2_DO40</td>\n",
       "      <td>O2_oscillation2</td>\n",
       "      <td>Single_oscillation_#1.2_DO40</td>\n",
       "      <td>W29</td>\n",
       "      <td>Continuous</td>\n",
       "      <td>Delft</td>\n",
       "      <td>Oxygen</td>\n",
       "      <td>Glucose</td>\n",
       "      <td>NaN</td>\n",
       "      <td>40</td>\n",
       "      <td>6</td>\n",
       "      <td>30</td>\n",
       "      <td>s3://modulome/jayanth/yarrowia_lipolytica_sequ...</td>\n",
       "      <td>s3://modulome/jayanth/yarrowia_lipolytica_sequ...</td>\n",
       "      <td>True</td>\n",
       "      <td>True</td>\n",
       "      <td>True</td>\n",
       "      <td>O2_oscillation2:Single_oscillation_#4.2_DO40</td>\n",
       "    </tr>\n",
       "    <tr>\n",
       "      <th>yl_152</th>\n",
       "      <td>NaN</td>\n",
       "      <td>Repeated_oscillation_#5.2_DO40</td>\n",
       "      <td>O2_oscillation2</td>\n",
       "      <td>Single_oscillation_#1.2_DO40</td>\n",
       "      <td>W29</td>\n",
       "      <td>Continuous</td>\n",
       "      <td>Delft</td>\n",
       "      <td>Oxygen</td>\n",
       "      <td>Glucose</td>\n",
       "      <td>NaN</td>\n",
       "      <td>40</td>\n",
       "      <td>6</td>\n",
       "      <td>30</td>\n",
       "      <td>s3://modulome/jayanth/yarrowia_lipolytica_sequ...</td>\n",
       "      <td>s3://modulome/jayanth/yarrowia_lipolytica_sequ...</td>\n",
       "      <td>True</td>\n",
       "      <td>True</td>\n",
       "      <td>True</td>\n",
       "      <td>O2_oscillation2:Repeated_oscillation_#5.2_DO40</td>\n",
       "    </tr>\n",
       "    <tr>\n",
       "      <th>yl_153</th>\n",
       "      <td>NaN</td>\n",
       "      <td>Repeated_oscillation_#5.2_DO40</td>\n",
       "      <td>O2_oscillation2</td>\n",
       "      <td>Single_oscillation_#1.2_DO40</td>\n",
       "      <td>W29</td>\n",
       "      <td>Continuous</td>\n",
       "      <td>Delft</td>\n",
       "      <td>Oxygen</td>\n",
       "      <td>Glucose</td>\n",
       "      <td>NaN</td>\n",
       "      <td>0</td>\n",
       "      <td>6</td>\n",
       "      <td>30</td>\n",
       "      <td>s3://modulome/jayanth/yarrowia_lipolytica_sequ...</td>\n",
       "      <td>s3://modulome/jayanth/yarrowia_lipolytica_sequ...</td>\n",
       "      <td>True</td>\n",
       "      <td>True</td>\n",
       "      <td>True</td>\n",
       "      <td>O2_oscillation2:Repeated_oscillation_#5.2_DO40</td>\n",
       "    </tr>\n",
       "    <tr>\n",
       "      <th>yl_154</th>\n",
       "      <td>NaN</td>\n",
       "      <td>Repeated_oscillation_#6.2_DO0</td>\n",
       "      <td>O2_oscillation2</td>\n",
       "      <td>Single_oscillation_#1.2_DO40</td>\n",
       "      <td>W29</td>\n",
       "      <td>Continuous</td>\n",
       "      <td>Delft</td>\n",
       "      <td>Oxygen</td>\n",
       "      <td>Glucose</td>\n",
       "      <td>NaN</td>\n",
       "      <td>0</td>\n",
       "      <td>6</td>\n",
       "      <td>30</td>\n",
       "      <td>s3://modulome/jayanth/yarrowia_lipolytica_sequ...</td>\n",
       "      <td>s3://modulome/jayanth/yarrowia_lipolytica_sequ...</td>\n",
       "      <td>True</td>\n",
       "      <td>True</td>\n",
       "      <td>True</td>\n",
       "      <td>O2_oscillation2:Repeated_oscillation_#6.2_DO0</td>\n",
       "    </tr>\n",
       "    <tr>\n",
       "      <th>yl_155</th>\n",
       "      <td>NaN</td>\n",
       "      <td>Repeated_oscillation_#6.2_DO0</td>\n",
       "      <td>O2_oscillation2</td>\n",
       "      <td>Single_oscillation_#1.2_DO40</td>\n",
       "      <td>W29</td>\n",
       "      <td>Continuous</td>\n",
       "      <td>Delft</td>\n",
       "      <td>Oxygen</td>\n",
       "      <td>Glucose</td>\n",
       "      <td>NaN</td>\n",
       "      <td>0</td>\n",
       "      <td>6</td>\n",
       "      <td>30</td>\n",
       "      <td>s3://modulome/jayanth/yarrowia_lipolytica_sequ...</td>\n",
       "      <td>s3://modulome/jayanth/yarrowia_lipolytica_sequ...</td>\n",
       "      <td>True</td>\n",
       "      <td>True</td>\n",
       "      <td>True</td>\n",
       "      <td>O2_oscillation2:Repeated_oscillation_#6.2_DO0</td>\n",
       "    </tr>\n",
       "  </tbody>\n",
       "</table>\n",
       "<p>155 rows × 19 columns</p>\n",
       "</div>"
      ],
      "text/plain": [
       "              File name                       condition              project  \\\n",
       "yl_001  PD019 A1 S02 #1                      µ0.05_DO50  O2_oscillation_0.05   \n",
       "yl_002  PD019 A1 S02 #2                      µ0.05_DO50  O2_oscillation_0.05   \n",
       "yl_003  PD019 A1 S03 #2                      µ0.05_DO25  O2_oscillation_0.05   \n",
       "yl_004  PD019 A1 S03 #1                      µ0.05_DO25  O2_oscillation_0.05   \n",
       "yl_005  PD019 A1 S04 #1                      µ0.05_DO10  O2_oscillation_0.05   \n",
       "...                 ...                             ...                  ...   \n",
       "yl_151              NaN    Single_oscillation_#4.2_DO40      O2_oscillation2   \n",
       "yl_152              NaN  Repeated_oscillation_#5.2_DO40      O2_oscillation2   \n",
       "yl_153              NaN  Repeated_oscillation_#5.2_DO40      O2_oscillation2   \n",
       "yl_154              NaN   Repeated_oscillation_#6.2_DO0      O2_oscillation2   \n",
       "yl_155              NaN   Repeated_oscillation_#6.2_DO0      O2_oscillation2   \n",
       "\n",
       "                 reference_condition Strain Mode of operation  Media  \\\n",
       "yl_001                    µ0.05_DO10    W29        Continuous  Delft   \n",
       "yl_002                    µ0.05_DO10    W29        Continuous  Delft   \n",
       "yl_003                    µ0.05_DO10    W29        Continuous  Delft   \n",
       "yl_004                    µ0.05_DO10    W29        Continuous  Delft   \n",
       "yl_005                    µ0.05_DO10    W29        Continuous  Delft   \n",
       "...                              ...    ...               ...    ...   \n",
       "yl_151  Single_oscillation_#1.2_DO40    W29        Continuous  Delft   \n",
       "yl_152  Single_oscillation_#1.2_DO40    W29        Continuous  Delft   \n",
       "yl_153  Single_oscillation_#1.2_DO40    W29        Continuous  Delft   \n",
       "yl_154  Single_oscillation_#1.2_DO40    W29        Continuous  Delft   \n",
       "yl_155  Single_oscillation_#1.2_DO40    W29        Continuous  Delft   \n",
       "\n",
       "       Limitation C-source  Growth rate  DO pH  Temperature  \\\n",
       "yl_001     Carbon  Glucose         0.05  50  6           30   \n",
       "yl_002     Carbon  Glucose         0.05  50  6           30   \n",
       "yl_003     Carbon  Glucose         0.05  25  6           30   \n",
       "yl_004     Carbon  Glucose         0.05  25  6           30   \n",
       "yl_005     Carbon  Glucose         0.05  10  6           30   \n",
       "...           ...      ...          ...  .. ..          ...   \n",
       "yl_151     Oxygen  Glucose          NaN  40  6           30   \n",
       "yl_152     Oxygen  Glucose          NaN  40  6           30   \n",
       "yl_153     Oxygen  Glucose          NaN   0  6           30   \n",
       "yl_154     Oxygen  Glucose          NaN   0  6           30   \n",
       "yl_155     Oxygen  Glucose          NaN   0  6           30   \n",
       "\n",
       "                                                    Read1  \\\n",
       "yl_001         ylipolytic2025_repeat/PD019A1S021A_1.fq.gz   \n",
       "yl_002         ylipolytic2025_repeat/PD019A1S022A_1.fq.gz   \n",
       "yl_003         ylipolytic2025_repeat/PD019A1S032A_1.fq.gz   \n",
       "yl_004         ylipolytic2025_repeat/PD019A1S031A_1.fq.gz   \n",
       "yl_005         ylipolytic2025_repeat/PD019A1S041A_1.fq.gz   \n",
       "...                                                   ...   \n",
       "yl_151  s3://modulome/jayanth/yarrowia_lipolytica_sequ...   \n",
       "yl_152  s3://modulome/jayanth/yarrowia_lipolytica_sequ...   \n",
       "yl_153  s3://modulome/jayanth/yarrowia_lipolytica_sequ...   \n",
       "yl_154  s3://modulome/jayanth/yarrowia_lipolytica_sequ...   \n",
       "yl_155  s3://modulome/jayanth/yarrowia_lipolytica_sequ...   \n",
       "\n",
       "                                                    Read2  passed_fastqc  \\\n",
       "yl_001         ylipolytic2025_repeat/PD019A1S021A_2.fq.gz           True   \n",
       "yl_002         ylipolytic2025_repeat/PD019A1S022A_2.fq.gz           True   \n",
       "yl_003         ylipolytic2025_repeat/PD019A1S032A_2.fq.gz           True   \n",
       "yl_004         ylipolytic2025_repeat/PD019A1S031A_2.fq.gz           True   \n",
       "yl_005         ylipolytic2025_repeat/PD019A1S041A_2.fq.gz           True   \n",
       "...                                                   ...            ...   \n",
       "yl_151  s3://modulome/jayanth/yarrowia_lipolytica_sequ...           True   \n",
       "yl_152  s3://modulome/jayanth/yarrowia_lipolytica_sequ...           True   \n",
       "yl_153  s3://modulome/jayanth/yarrowia_lipolytica_sequ...           True   \n",
       "yl_154  s3://modulome/jayanth/yarrowia_lipolytica_sequ...           True   \n",
       "yl_155  s3://modulome/jayanth/yarrowia_lipolytica_sequ...           True   \n",
       "\n",
       "        passed_reads_mapped_to_CDS  passed_global_correlation  \\\n",
       "yl_001                        True                       True   \n",
       "yl_002                        True                       True   \n",
       "yl_003                        True                       True   \n",
       "yl_004                        True                       True   \n",
       "yl_005                        True                       True   \n",
       "...                            ...                        ...   \n",
       "yl_151                        True                       True   \n",
       "yl_152                        True                       True   \n",
       "yl_153                        True                       True   \n",
       "yl_154                        True                       True   \n",
       "yl_155                        True                       True   \n",
       "\n",
       "                                             full_name  \n",
       "yl_001                  O2_oscillation_0.05:µ0.05_DO50  \n",
       "yl_002                  O2_oscillation_0.05:µ0.05_DO50  \n",
       "yl_003                  O2_oscillation_0.05:µ0.05_DO25  \n",
       "yl_004                  O2_oscillation_0.05:µ0.05_DO25  \n",
       "yl_005                  O2_oscillation_0.05:µ0.05_DO10  \n",
       "...                                                ...  \n",
       "yl_151    O2_oscillation2:Single_oscillation_#4.2_DO40  \n",
       "yl_152  O2_oscillation2:Repeated_oscillation_#5.2_DO40  \n",
       "yl_153  O2_oscillation2:Repeated_oscillation_#5.2_DO40  \n",
       "yl_154   O2_oscillation2:Repeated_oscillation_#6.2_DO0  \n",
       "yl_155   O2_oscillation2:Repeated_oscillation_#6.2_DO0  \n",
       "\n",
       "[155 rows x 19 columns]"
      ]
     },
     "execution_count": 14,
     "metadata": {},
     "output_type": "execute_result"
    }
   ],
   "source": [
    "DF_metadata_passed_step4 = DF_metadata_passed_step4[DF_metadata_passed_step4.full_name.isin(keep_samples)]\n",
    "print('New number of samples with curated metadata:',DF_metadata_passed_step4.shape[0])\n",
    "DF_metadata_passed_step4"
   ]
  },
  {
   "cell_type": "markdown",
   "metadata": {},
   "source": [
    "### Save this information to the full metadata dataframe"
   ]
  },
  {
   "cell_type": "code",
   "execution_count": 15,
   "metadata": {
    "execution": {
     "iopub.execute_input": "2025-04-25T21:41:52.834113Z",
     "iopub.status.busy": "2025-04-25T21:41:52.833971Z",
     "iopub.status.idle": "2025-04-25T21:41:52.837058Z",
     "shell.execute_reply": "2025-04-25T21:41:52.836724Z",
     "shell.execute_reply.started": "2025-04-25T21:41:52.834099Z"
    }
   },
   "outputs": [],
   "source": [
    "DF_metadata_all['passed_curation'] = DF_metadata_all.index.isin(DF_metadata_passed_step4.index)"
   ]
  },
  {
   "cell_type": "markdown",
   "metadata": {},
   "source": [
    "## Check correlations between replicates"
   ]
  },
  {
   "cell_type": "markdown",
   "metadata": {},
   "source": [
    "### Remove failed data from log_tpm files"
   ]
  },
  {
   "cell_type": "code",
   "execution_count": 16,
   "metadata": {
    "execution": {
     "iopub.execute_input": "2025-04-25T21:41:52.837719Z",
     "iopub.status.busy": "2025-04-25T21:41:52.837584Z",
     "iopub.status.idle": "2025-04-25T21:41:52.847607Z",
     "shell.execute_reply": "2025-04-25T21:41:52.847104Z",
     "shell.execute_reply.started": "2025-04-25T21:41:52.837706Z"
    }
   },
   "outputs": [],
   "source": [
    "DF_log_tpm = DF_log_tpm[DF_metadata_passed_step4.index]"
   ]
  },
  {
   "cell_type": "markdown",
   "metadata": {},
   "source": [
    "### Compute Pearson R Score"
   ]
  },
  {
   "cell_type": "markdown",
   "metadata": {},
   "source": [
    "Biological replicates should have a Pearson R correlation above 0.95. For samples with more than 2 replicates, the replicates must have R >= 0.95 with at least one other replicate or it will be dropped. The correlation threshold can be changed below:"
   ]
  },
  {
   "cell_type": "code",
   "execution_count": 17,
   "metadata": {
    "execution": {
     "iopub.execute_input": "2025-04-25T21:41:52.848428Z",
     "iopub.status.busy": "2025-04-25T21:41:52.848277Z",
     "iopub.status.idle": "2025-04-25T21:41:52.850648Z",
     "shell.execute_reply": "2025-04-25T21:41:52.850316Z",
     "shell.execute_reply.started": "2025-04-25T21:41:52.848412Z"
    }
   },
   "outputs": [],
   "source": [
    "rcutoff = 0.9"
   ]
  },
  {
   "cell_type": "markdown",
   "metadata": {},
   "source": [
    "The following code computes correlations between all samples and collects correlations between replicates and non-replicates."
   ]
  },
  {
   "cell_type": "code",
   "execution_count": 18,
   "metadata": {
    "execution": {
     "iopub.execute_input": "2025-04-25T21:41:52.851505Z",
     "iopub.status.busy": "2025-04-25T21:41:52.851338Z",
     "iopub.status.idle": "2025-04-25T21:46:13.790241Z",
     "shell.execute_reply": "2025-04-25T21:46:13.789816Z",
     "shell.execute_reply.started": "2025-04-25T21:41:52.851490Z"
    }
   },
   "outputs": [
    {
     "data": {
      "application/vnd.jupyter.widget-view+json": {
       "model_id": "6b3239934d3e499c90f607cc499ab320",
       "version_major": 2,
       "version_minor": 0
      },
      "text/plain": [
       "  0%|          | 0/11935.0 [00:00<?, ?it/s]"
      ]
     },
     "metadata": {},
     "output_type": "display_data"
    }
   ],
   "source": [
    "rep_corrs = {}\n",
    "rand_corrs = {}\n",
    "\n",
    "num_comparisons = len(DF_metadata_passed_step4)*(len(DF_metadata_passed_step4)-1)/2\n",
    "\n",
    "for exp1,exp2 in tqdm(itertools.combinations(DF_metadata_passed_step4.index,2),total=num_comparisons):\n",
    "    if DF_metadata_passed_step4.loc[exp1,'full_name'] == DF_metadata_passed_step4.loc[exp2,'full_name']:\n",
    "        rep_corrs[(exp1,exp2)] = stats.pearsonr(DF_log_tpm[exp1],DF_log_tpm[exp2])[0]\n",
    "    else:\n",
    "        rand_corrs[(exp1,exp2)] = stats.pearsonr(DF_log_tpm[exp1],DF_log_tpm[exp2])[0]"
   ]
  },
  {
   "cell_type": "markdown",
   "metadata": {},
   "source": [
    "Correlations can be plotted on a histogram"
   ]
  },
  {
   "cell_type": "code",
   "execution_count": 19,
   "metadata": {
    "execution": {
     "iopub.execute_input": "2025-04-25T21:46:13.790958Z",
     "iopub.status.busy": "2025-04-25T21:46:13.790816Z",
     "iopub.status.idle": "2025-04-25T21:46:14.610464Z",
     "shell.execute_reply": "2025-04-25T21:46:14.610058Z",
     "shell.execute_reply.started": "2025-04-25T21:46:13.790945Z"
    }
   },
   "outputs": [
    {
     "name": "stdout",
     "output_type": "stream",
     "text": [
      "Median Pearson R between replicates: 0.99\n"
     ]
    },
    {
     "data": {
      "image/png": "[encoded data removed]",
      "text/plain": [
       "<Figure size 360x360 with 2 Axes>"
      ]
     },
     "metadata": {
      "needs_background": "light"
     },
     "output_type": "display_data"
    }
   ],
   "source": [
    "fig,ax = plt.subplots(figsize=(5,5))\n",
    "ax2 = ax.twinx()\n",
    "ax2.hist(rep_corrs.values(),bins=50,range=(0.2,1),alpha=0.8,color='green',linewidth=0)\n",
    "ax.hist(rand_corrs.values(),bins=50,range=(0.2,1),alpha=0.8,color='blue',linewidth=0)\n",
    "ax.set_title('Pearson R correlation between experiments',fontsize=14)\n",
    "ax.set_xlabel('Pearson R correlation',fontsize=14)\n",
    "ax.set_ylabel('Different Conditions',fontsize=14)\n",
    "ax2.set_ylabel('Known Replicates',fontsize=14)\n",
    "\n",
    "med_corr = np.median([v for k,v in rep_corrs.items()])\n",
    "print('Median Pearson R between replicates: {:.2f}'.format(med_corr))"
   ]
  },
  {
   "cell_type": "markdown",
   "metadata": {},
   "source": [
    "Remove samples without any high-correlation replicates"
   ]
  },
  {
   "cell_type": "code",
   "execution_count": 20,
   "metadata": {
    "execution": {
     "iopub.execute_input": "2025-04-25T21:46:14.611167Z",
     "iopub.status.busy": "2025-04-25T21:46:14.611035Z",
     "iopub.status.idle": "2025-04-25T21:46:14.839716Z",
     "shell.execute_reply": "2025-04-25T21:46:14.839304Z",
     "shell.execute_reply.started": "2025-04-25T21:46:14.611155Z"
    }
   },
   "outputs": [],
   "source": [
    "dissimilar = []\n",
    "for idx, grp in DF_metadata_passed_step4.groupby('full_name'):\n",
    "    ident = np.identity(len(grp))\n",
    "    corrs = (DF_log_tpm[grp.index].corr() - ident).max()\n",
    "    dissimilar.extend(corrs[corrs<rcutoff].index)\n",
    "\n",
    "# Save this information in both the original metadata dataframe and the new metadata dataframe\n",
    "DF_metadata_all['passed_replicate_correlations'] = ~DF_metadata_all.index.isin(dissimilar)\n",
    "DF_metadata_passed_step4['passed_replicate_correlations'] = ~DF_metadata_passed_step4.index.isin(dissimilar)"
   ]
  },
  {
   "cell_type": "code",
   "execution_count": 21,
   "metadata": {
    "execution": {
     "iopub.execute_input": "2025-04-25T21:46:14.841914Z",
     "iopub.status.busy": "2025-04-25T21:46:14.841618Z",
     "iopub.status.idle": "2025-04-25T21:46:14.844856Z",
     "shell.execute_reply": "2025-04-25T21:46:14.844537Z",
     "shell.execute_reply.started": "2025-04-25T21:46:14.841901Z"
    }
   },
   "outputs": [
    {
     "name": "stdout",
     "output_type": "stream",
     "text": [
      "# Samples that passed replicate correlations: 155\n"
     ]
    }
   ],
   "source": [
    "DF_metadata_final = DF_metadata_passed_step4[DF_metadata_passed_step4['passed_replicate_correlations']]\n",
    "print('# Samples that passed replicate correlations:',len(DF_metadata_final))"
   ]
  },
  {
   "cell_type": "code",
   "execution_count": 22,
   "metadata": {
    "execution": {
     "iopub.execute_input": "2025-04-25T21:46:14.845389Z",
     "iopub.status.busy": "2025-04-25T21:46:14.845265Z",
     "iopub.status.idle": "2025-04-25T21:46:14.889336Z",
     "shell.execute_reply": "2025-04-25T21:46:14.888923Z",
     "shell.execute_reply.started": "2025-04-25T21:46:14.845377Z"
    }
   },
   "outputs": [
    {
     "data": {
      "text/plain": [
       "Batch_Shaken              48\n",
       "CO2_oscillation           21\n",
       "Growth_Variance_W29       14\n",
       "O2_oscillation_0.05       12\n",
       "O2_oscillation_0.2        12\n",
       "O2_oscillation_0.1        12\n",
       "Growth_Variance_ST8712    12\n",
       "O2_oscillation            12\n",
       "O2_oscillation2           12\n",
       "Name: project, dtype: int64"
      ]
     },
     "execution_count": 22,
     "metadata": {},
     "output_type": "execute_result"
    }
   ],
   "source": [
    "DF_metadata_final[\"project\"].value_counts()"
   ]
  },
  {
   "cell_type": "markdown",
   "metadata": {},
   "source": [
    "## Check that reference conditions still exist\n",
    "If a reference condition was removed due to poor replicate correlations, a new reference condition needs to be defined.\n",
    "\n",
    "Again, any samples that fail these checks will be printed below."
   ]
  },
  {
   "cell_type": "code",
   "execution_count": 23,
   "metadata": {
    "execution": {
     "iopub.execute_input": "2025-04-25T21:46:14.890050Z",
     "iopub.status.busy": "2025-04-25T21:46:14.889892Z",
     "iopub.status.idle": "2025-04-25T21:46:14.898038Z",
     "shell.execute_reply": "2025-04-25T21:46:14.897681Z",
     "shell.execute_reply.started": "2025-04-25T21:46:14.890035Z"
    }
   },
   "outputs": [],
   "source": [
    "project_exprs = []\n",
    "for name,group in DF_metadata_final.groupby('project'):\n",
    "    \n",
    "    # Get reference condition\n",
    "    ref_cond = group.reference_condition.iloc[0]\n",
    "    \n",
    "    # Ensure the reference condition is still in the project\n",
    "    if ref_cond not in group.condition.tolist():\n",
    "        print('Reference condition missing from:', name)\n",
    "    \n",
    "    # Check that each project has at least two conditions (a reference and at least one test condition)\n",
    "    if len(group.condition.unique()) <= 1:\n",
    "        print('Only one condition in:', name)"
   ]
  },
  {
   "cell_type": "code",
   "execution_count": 24,
   "metadata": {
    "execution": {
     "iopub.execute_input": "2025-04-25T21:46:14.898924Z",
     "iopub.status.busy": "2025-04-25T21:46:14.898606Z",
     "iopub.status.idle": "2025-04-25T21:46:14.901943Z",
     "shell.execute_reply": "2025-04-25T21:46:14.901613Z",
     "shell.execute_reply.started": "2025-04-25T21:46:14.898908Z"
    }
   },
   "outputs": [],
   "source": [
    "# drop bad projects\n",
    "bad_projects = ['MIT_splicing', 'ou_aggregate_toxicity']\n",
    "DF_metadata_final = DF_metadata_final[~DF_metadata_final.project.isin(bad_projects)]"
   ]
  },
  {
   "cell_type": "markdown",
   "metadata": {},
   "source": [
    "If necessary, choose a new condition for failed projects and re-run notebook."
   ]
  },
  {
   "cell_type": "markdown",
   "metadata": {},
   "source": [
    "## Deseq2 Normalization of Counts for Downstream Use"
   ]
  },
  {
   "cell_type": "code",
   "execution_count": 25,
   "metadata": {
    "execution": {
     "iopub.execute_input": "2025-04-25T21:46:14.902712Z",
     "iopub.status.busy": "2025-04-25T21:46:14.902415Z",
     "iopub.status.idle": "2025-04-25T21:46:28.327274Z",
     "shell.execute_reply": "2025-04-25T21:46:28.326806Z",
     "shell.execute_reply.started": "2025-04-25T21:46:14.902698Z"
    }
   },
   "outputs": [],
   "source": [
    "# counts_path = path.join('..', 'data', 'raw_data', 'salmon.merged.gene_counts_length_scaled.tsv')\n",
    "\n",
    "# DF_counts = pd.read_csv(counts_path, index_col=0, sep='\\t').drop('gene_name', axis=1)\n",
    "# DF_counts = DF_counts[DF_metadata_final.index]\n",
    "# DF_counts.to_csv(path.join('..', 'data', 'interim', 'counts_data.csv'))\n",
    "# for index in DF_counts.index: # remove 'gene-' from each gene \n",
    "#     DF_counts.rename(index={index:index.strip('gene-')},inplace=True)"
   ]
  },
  {
   "cell_type": "code",
   "execution_count": 26,
   "metadata": {
    "execution": {
     "iopub.execute_input": "2025-04-25T21:46:28.327954Z",
     "iopub.status.busy": "2025-04-25T21:46:28.327821Z",
     "iopub.status.idle": "2025-04-25T21:46:28.341489Z",
     "shell.execute_reply": "2025-04-25T21:46:28.341095Z",
     "shell.execute_reply.started": "2025-04-25T21:46:28.327942Z"
    }
   },
   "outputs": [],
   "source": [
    "# use this cell if you want to decompose on protein-coding genes only (see notebook 0)\n",
    "# genes = []\n",
    "# with open('../data/sequence_files/protein_coding_genes.txt', 'r') as genes_file:\n",
    "#     for line in genes_file:\n",
    "#         genes.append(line.strip())\n",
    "\n",
    "# DF_counts = DF_counts.loc[genes]"
   ]
  },
  {
   "cell_type": "code",
   "execution_count": 27,
   "metadata": {
    "execution": {
     "iopub.execute_input": "2025-04-25T21:46:28.342183Z",
     "iopub.status.busy": "2025-04-25T21:46:28.342047Z",
     "iopub.status.idle": "2025-04-25T21:46:28.559515Z",
     "shell.execute_reply": "2025-04-25T21:46:28.559099Z",
     "shell.execute_reply.started": "2025-04-25T21:46:28.342170Z"
    }
   },
   "outputs": [],
   "source": [
    "# normalize the data using pydeseq2's median of ratios method\n",
    "# from pydeseq2.preprocessing import deseq2_norm\n",
    "\n",
    "# DF_normalizedCounts = deseq2_norm(DF_counts.T)[0].T\n",
    "\n",
    "# DF_log_normalizedCounts = DF_normalizedCounts + 1\n",
    "# DF_log_normalizedCounts = np.log2(DF_log_normalizedCounts)\n",
    "# DF_log_normalizedCounts"
   ]
  },
  {
   "cell_type": "code",
   "execution_count": 28,
   "metadata": {
    "execution": {
     "iopub.execute_input": "2025-04-25T21:46:28.560159Z",
     "iopub.status.busy": "2025-04-25T21:46:28.560027Z",
     "iopub.status.idle": "2025-04-25T21:46:28.564213Z",
     "shell.execute_reply": "2025-04-25T21:46:28.563895Z",
     "shell.execute_reply.started": "2025-04-25T21:46:28.560146Z"
    }
   },
   "outputs": [],
   "source": [
    "import scipy.cluster.hierarchy as sch\n",
    "import matplotlib.patches as patches\n",
    "\n",
    "def global_clustering(data, threshold=0.3, xticklabels=False, yticklabels=False, figsize=(9,9)):\n",
    "    \n",
    "    # Retrieve clusters using fcluster \n",
    "    corr = data.corr()\n",
    "    corr.fillna(0,inplace=True)\n",
    "    dist = sch.distance.pdist(corr)\n",
    "    link = sch.linkage(dist, method='complete')\n",
    "    clst = pd.DataFrame(index=data.columns)\n",
    "    clst['cluster'] = sch.fcluster(link, threshold * dist.max(), 'distance')\n",
    "\n",
    "    # Get colors for each cluster\n",
    "    cm = plt.cm.get_cmap('tab20')\n",
    "    cluster_colors = dict(zip(clst.cluster.unique(), cm.colors + cm.colors))\n",
    "    clst['color'] = clst.cluster.map(cluster_colors)\n",
    "\n",
    "    print('Number of cluster: ', len(cluster_colors))\n",
    "    \n",
    "    legend_items = [patches.Patch(color=c, label=l) for l,c in cluster_colors.items()]\n",
    "    \n",
    "    sns.set(rc={'figure.facecolor':'white'})\n",
    "    \n",
    "    clst_map = sns.clustermap(data.corr(), \n",
    "                              figsize=figsize, \n",
    "                              row_linkage=link, \n",
    "                              col_linkage=link, \n",
    "                              col_colors=clst.color,\n",
    "                              yticklabels=yticklabels, \n",
    "                              xticklabels=xticklabels,\n",
    "                              vmin=0, \n",
    "                              vmax=1)\n",
    "    \n",
    "    legend = clst_map.ax_heatmap.legend(loc='upper left', \n",
    "                                        bbox_to_anchor=(1.01,0.85), \n",
    "                                        handles=legend_items,\n",
    "                                        frameon=True)\n",
    "    \n",
    "    legend.set_title(title='Clusters',prop={'size':10})\n",
    "    \n",
    "    return clst['cluster']"
   ]
  },
  {
   "cell_type": "markdown",
   "metadata": {
    "execution": {
     "iopub.execute_input": "2025-04-25T21:46:28.564898Z",
     "iopub.status.busy": "2025-04-25T21:46:28.564743Z",
     "iopub.status.idle": "2025-04-25T21:46:43.131923Z",
     "shell.execute_reply": "2025-04-25T21:46:43.131539Z",
     "shell.execute_reply.started": "2025-04-25T21:46:28.564884Z"
    }
   },
   "source": [
    "<!-- clusters = global_clustering(DF_log_normalizedCounts) -->"
   ]
  },
  {
   "cell_type": "markdown",
   "metadata": {},
   "source": [
    "## Normalize dataset to reference conditions"
   ]
  },
  {
   "cell_type": "code",
   "execution_count": 29,
   "metadata": {
    "execution": {
     "iopub.execute_input": "2025-04-25T21:46:43.132666Z",
     "iopub.status.busy": "2025-04-25T21:46:43.132510Z",
     "iopub.status.idle": "2025-04-25T21:46:43.141062Z",
     "shell.execute_reply": "2025-04-25T21:46:43.140663Z",
     "shell.execute_reply.started": "2025-04-25T21:46:43.132652Z"
    }
   },
   "outputs": [],
   "source": [
    "DF_log_tpm_final = DF_log_tpm[DF_metadata_final.index]"
   ]
  },
  {
   "cell_type": "code",
   "execution_count": 30,
   "metadata": {
    "execution": {
     "iopub.execute_input": "2025-04-25T21:46:43.141749Z",
     "iopub.status.busy": "2025-04-25T21:46:43.141616Z",
     "iopub.status.idle": "2025-04-25T21:46:43.241619Z",
     "shell.execute_reply": "2025-04-25T21:46:43.241151Z",
     "shell.execute_reply.started": "2025-04-25T21:46:43.141736Z"
    }
   },
   "outputs": [],
   "source": [
    "# normalize log tpm data\n",
    "project_exprs = []\n",
    "for name,group in DF_metadata_final.groupby('project'):\n",
    "    \n",
    "    # Get reference condition\n",
    "    ref_cond = group.reference_condition.iloc[0]\n",
    "    \n",
    "    # Get reference condition sample ids\n",
    "    ref_samples = group[group.condition == ref_cond].index\n",
    "    \n",
    "    # Get reference condition expression\n",
    "    ref_expr = DF_log_tpm_final[ref_samples].mean(axis=1)\n",
    "    \n",
    "    # Subtract reference expression from project\n",
    "    project_exprs.append(DF_log_tpm_final[group.index].sub(ref_expr,axis=0))\n",
    "\n",
    "DF_log_tpm_norm = pd.concat(project_exprs,axis=1)"
   ]
  },
  {
   "cell_type": "code",
   "execution_count": 31,
   "metadata": {
    "execution": {
     "iopub.execute_input": "2025-04-25T21:46:43.242316Z",
     "iopub.status.busy": "2025-04-25T21:46:43.242184Z",
     "iopub.status.idle": "2025-04-25T21:46:43.303939Z",
     "shell.execute_reply": "2025-04-25T21:46:43.303481Z",
     "shell.execute_reply.started": "2025-04-25T21:46:43.242304Z"
    }
   },
   "outputs": [],
   "source": [
    "# # normalize log normalized counts data to references\n",
    "# project_exprs = []\n",
    "# for name,group in DF_metadata_final.groupby('project'):\n",
    "    \n",
    "#     # Get reference condition\n",
    "#     ref_cond = group.reference_condition.iloc[0]\n",
    "    \n",
    "#     # Get reference condition sample ids\n",
    "#     ref_samples = group[group.condition == ref_cond].index\n",
    "    \n",
    "#     # Get reference condition expression\n",
    "#     ref_expr = DF_log_normalizedCounts[ref_samples].mean(axis=1)\n",
    "    \n",
    "#     # Subtract reference expression from project\n",
    "#     project_exprs.append(DF_log_normalizedCounts[group.index].sub(ref_expr,axis=0))\n",
    "\n",
    "# DF_log_normalizedCounts_norm = pd.concat(project_exprs,axis=1)"
   ]
  },
  {
   "cell_type": "code",
   "execution_count": 32,
   "metadata": {
    "execution": {
     "iopub.execute_input": "2025-04-25T21:46:43.304822Z",
     "iopub.status.busy": "2025-04-25T21:46:43.304484Z",
     "iopub.status.idle": "2025-04-25T21:46:43.311339Z",
     "shell.execute_reply": "2025-04-25T21:46:43.311035Z",
     "shell.execute_reply.started": "2025-04-25T21:46:43.304809Z"
    }
   },
   "outputs": [],
   "source": [
    "# DF_log_normalizedCounts_norm.isna().any().value_counts()"
   ]
  },
  {
   "cell_type": "code",
   "execution_count": 33,
   "metadata": {
    "execution": {
     "iopub.execute_input": "2025-04-25T21:46:43.311945Z",
     "iopub.status.busy": "2025-04-25T21:46:43.311815Z",
     "iopub.status.idle": "2025-04-25T21:46:43.318564Z",
     "shell.execute_reply": "2025-04-25T21:46:43.318249Z",
     "shell.execute_reply.started": "2025-04-25T21:46:43.311933Z"
    }
   },
   "outputs": [
    {
     "data": {
      "text/plain": [
       "False    155\n",
       "dtype: int64"
      ]
     },
     "execution_count": 33,
     "metadata": {},
     "output_type": "execute_result"
    }
   ],
   "source": [
    "DF_log_tpm_norm.isna().any().value_counts()"
   ]
  },
  {
   "cell_type": "markdown",
   "metadata": {
    "tags": []
   },
   "source": [
    "## Save final datasets"
   ]
  },
  {
   "cell_type": "code",
   "execution_count": 34,
   "metadata": {
    "execution": {
     "iopub.execute_input": "2025-04-25T21:46:43.319191Z",
     "iopub.status.busy": "2025-04-25T21:46:43.319060Z",
     "iopub.status.idle": "2025-04-25T21:47:02.728442Z",
     "shell.execute_reply": "2025-04-25T21:47:02.727983Z",
     "shell.execute_reply.started": "2025-04-25T21:46:43.319179Z"
    }
   },
   "outputs": [],
   "source": [
    "# logTPM_qc_file = path.join('QC_Files','log_tpm.csv')\n",
    "# logTPM_norm_file = path.join('QC_Files','log_tpm_norm.csv')\n",
    "# # logNormalizedCounts_qc_file = path.join('data','processed_data','log_normalizedCounts.csv')\n",
    "# # logNormalizedCounts_norm_file = path.join('data','processed_data','log_normalizedCounts_norm.csv')\n",
    "# final_metadata_file = path.join('data','processed_data','metadata.tsv')\n",
    "# final_metadata_all_file = path.join('data','interim','metadata_qc_part2_all.tsv')\n",
    "\n",
    "\n",
    "# DF_log_tpm_final.to_csv(logTPM_qc_file)\n",
    "# DF_log_tpm_norm.to_csv(logTPM_norm_file)\n",
    "# # DF_log_normalizedCounts.to_csv(logNormalizedCounts_qc_file)\n",
    "# # DF_log_normalizedCounts_norm.to_csv(logNormalizedCounts_norm_file)\n",
    "# DF_metadata_final.to_csv(final_metadata_file, sep='\\t')\n",
    "# DF_metadata_all.to_csv(final_metadata_all_file, sep='\\t')"
   ]
  },
  {
   "cell_type": "code",
   "execution_count": 36,
   "metadata": {
    "execution": {
     "iopub.execute_input": "2025-04-25T21:47:02.729150Z",
     "iopub.status.busy": "2025-04-25T21:47:02.729015Z",
     "iopub.status.idle": "2025-04-25T21:47:02.749242Z",
     "shell.execute_reply": "2025-04-25T21:47:02.748861Z",
     "shell.execute_reply.started": "2025-04-25T21:47:02.729138Z"
    }
   },
   "outputs": [],
   "source": [
    "final_metadata_file = path.join('metadata.tsv')\n",
    "logTPM_qc_file = path.join('log_tpm.csv')\n",
    "logTPM_norm_file = path.join('log_tpm_norm.csv')\n",
    "\n",
    "DF_metadata_final.to_csv(final_metadata_file, sep='\\t')\n",
    "DF_log_tpm_final.to_csv(logTPM_qc_file)\n",
    "DF_log_tpm_norm.to_csv(logTPM_norm_file)"
   ]
  },
  {
   "cell_type": "code",
   "execution_count": null,
   "metadata": {},
   "outputs": [],
   "source": []
  }
 ],
 "metadata": {
  "kernelspec": {
   "display_name": "Python 3",
   "language": "python",
   "name": "python3"
  },
  "language_info": {
   "codemirror_mode": {
    "name": "ipython",
    "version": 3
   },
   "file_extension": ".py",
   "mimetype": "text/x-python",
   "name": "python",
   "nbconvert_exporter": "python",
   "pygments_lexer": "ipython3",
   "version": "3.8.10"
  },
  "toc": {
   "base_numbering": 1,
   "nav_menu": {},
   "number_sections": true,
   "sideBar": true,
   "skip_h1_title": false,
   "title_cell": "Table of Contents",
   "title_sidebar": "Contents",
   "toc_cell": true,
   "toc_position": {},
   "toc_section_display": true,
   "toc_window_display": false
  }
 },
 "nbformat": 4,
 "nbformat_minor": 4
}
