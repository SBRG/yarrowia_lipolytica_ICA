{
 "cells": [
  {
   "cell_type": "markdown",
   "metadata": {},
   "source": [
    "# Expression Quality Control (Part 2)"
   ]
  },
  {
   "cell_type": "markdown",
   "metadata": {},
   "source": [
    "This is a template notebook for performing the final quality control on your organism's expression data. This requires a curated metadata sheet."
   ]
  },
  {
   "cell_type": "markdown",
   "metadata": {
    "tags": []
   },
   "source": [
    "## Setup "
   ]
  },
  {
   "cell_type": "code",
   "execution_count": 1,
   "metadata": {
    "execution": {
     "iopub.execute_input": "2025-04-25T21:41:49.009100Z",
     "iopub.status.busy": "2025-04-25T21:41:49.008962Z",
     "iopub.status.idle": "2025-04-25T21:41:49.887015Z",
     "shell.execute_reply": "2025-04-25T21:41:49.886489Z",
     "shell.execute_reply.started": "2025-04-25T21:41:49.009083Z"
    }
   },
   "outputs": [],
   "source": [
    "import itertools\n",
    "\n",
    "import matplotlib.pyplot as plt\n",
    "import numpy as np\n",
    "import pandas as pd\n",
    "import seaborn as sns\n",
    "\n",
    "from os import path\n",
    "from scipy import stats\n",
    "from tqdm.notebook import tqdm"
   ]
  },
  {
   "cell_type": "code",
   "execution_count": 2,
   "metadata": {
    "execution": {
     "iopub.execute_input": "2025-04-25T21:41:49.887946Z",
     "iopub.status.busy": "2025-04-25T21:41:49.887707Z",
     "iopub.status.idle": "2025-04-25T21:41:49.890638Z",
     "shell.execute_reply": "2025-04-25T21:41:49.890286Z",
     "shell.execute_reply.started": "2025-04-25T21:41:49.887931Z"
    }
   },
   "outputs": [],
   "source": [
    "sns.set_style('ticks')"
   ]
  },
  {
   "cell_type": "markdown",
   "metadata": {},
   "source": [
    "### Inputs"
   ]
  },
  {
   "cell_type": "code",
   "execution_count": 5,
   "metadata": {
    "execution": {
     "iopub.execute_input": "2025-04-25T21:41:49.891308Z",
     "iopub.status.busy": "2025-04-25T21:41:49.891171Z",
     "iopub.status.idle": "2025-04-25T21:41:49.916134Z",
     "shell.execute_reply": "2025-04-25T21:41:49.915709Z",
     "shell.execute_reply.started": "2025-04-25T21:41:49.891296Z"
    }
   },
   "outputs": [],
   "source": [
    "#logTPM_file = path.join('..','data','raw_data','log_tpm.csv') # Enter log-TPM filename here\n",
    "#all_metadata_file = path.join('..','data','interim','metadata_qc_part1_all.tsv') # Enter full metadata filename here\n",
    "#metadata_file = path.join('..','data','interim','metadata_qc_part1.tsv') # Enter curated metadata filename here\n",
    "\n",
    "\n",
    "logTPM_file = path.join(\"log_tpm.tsv\") # Enter log-TPM filename here\n",
    "all_metadata_file = path.join('metadata_qc_part1_all.tsv') # Enter full metadata filename here\n",
    "metadata_file = path.join(\"metadata_qc_part1.tsv\") # Enter curated metadata filename here"
   ]
  },
  {
   "cell_type": "markdown",
   "metadata": {},
   "source": [
    "### Load expression data"
   ]
  },
  {
   "cell_type": "code",
   "execution_count": 6,
   "metadata": {
    "execution": {
     "iopub.execute_input": "2025-04-25T21:41:49.916896Z",
     "iopub.status.busy": "2025-04-25T21:41:49.916750Z",
     "iopub.status.idle": "2025-04-25T21:41:52.707866Z",
     "shell.execute_reply": "2025-04-25T21:41:52.707401Z",
     "shell.execute_reply.started": "2025-04-25T21:41:49.916883Z"
    }
   },
   "outputs": [
    {
     "name": "stdout",
     "output_type": "stream",
     "text": [
      "Number of genes: 8295\n",
      "Number of samples: 134\n"
     ]
    },
    {
     "data": {
      "text/html": [
       "<div>\n",
       "<style scoped>\n",
       "    .dataframe tbody tr th:only-of-type {\n",
       "        vertical-align: middle;\n",
       "    }\n",
       "\n",
       "    .dataframe tbody tr th {\n",
       "        vertical-align: top;\n",
       "    }\n",
       "\n",
       "    .dataframe thead th {\n",
       "        text-align: right;\n",
       "    }\n",
       "</style>\n",
       "<table border=\"1\" class=\"dataframe\">\n",
       "  <thead>\n",
       "    <tr style=\"text-align: right;\">\n",
       "      <th></th>\n",
       "      <th>yl_001</th>\n",
       "      <th>yl_002</th>\n",
       "      <th>yl_003</th>\n",
       "      <th>yl_004</th>\n",
       "      <th>yl_005</th>\n",
       "      <th>yl_006</th>\n",
       "      <th>yl_007</th>\n",
       "      <th>yl_008</th>\n",
       "      <th>yl_009</th>\n",
       "      <th>yl_010</th>\n",
       "      <th>...</th>\n",
       "      <th>yl_125</th>\n",
       "      <th>yl_126</th>\n",
       "      <th>yl_127</th>\n",
       "      <th>yl_128</th>\n",
       "      <th>yl_129</th>\n",
       "      <th>yl_130</th>\n",
       "      <th>yl_131</th>\n",
       "      <th>yl_132</th>\n",
       "      <th>yl_133</th>\n",
       "      <th>yl_134</th>\n",
       "    </tr>\n",
       "    <tr>\n",
       "      <th>gene_id</th>\n",
       "      <th></th>\n",
       "      <th></th>\n",
       "      <th></th>\n",
       "      <th></th>\n",
       "      <th></th>\n",
       "      <th></th>\n",
       "      <th></th>\n",
       "      <th></th>\n",
       "      <th></th>\n",
       "      <th></th>\n",
       "      <th></th>\n",
       "      <th></th>\n",
       "      <th></th>\n",
       "      <th></th>\n",
       "      <th></th>\n",
       "      <th></th>\n",
       "      <th></th>\n",
       "      <th></th>\n",
       "      <th></th>\n",
       "      <th></th>\n",
       "      <th></th>\n",
       "    </tr>\n",
       "  </thead>\n",
       "  <tbody>\n",
       "    <tr>\n",
       "      <th>gene-YALI1_A00014g</th>\n",
       "      <td>2.149698</td>\n",
       "      <td>2.124970</td>\n",
       "      <td>2.802317</td>\n",
       "      <td>2.833502</td>\n",
       "      <td>0.758881</td>\n",
       "      <td>1.321601</td>\n",
       "      <td>2.488293</td>\n",
       "      <td>1.617332</td>\n",
       "      <td>1.171998</td>\n",
       "      <td>1.573064</td>\n",
       "      <td>...</td>\n",
       "      <td>2.543021</td>\n",
       "      <td>2.572742</td>\n",
       "      <td>2.720925</td>\n",
       "      <td>2.655467</td>\n",
       "      <td>1.653597</td>\n",
       "      <td>1.420364</td>\n",
       "      <td>2.243534</td>\n",
       "      <td>1.421676</td>\n",
       "      <td>3.159357</td>\n",
       "      <td>2.988174</td>\n",
       "    </tr>\n",
       "    <tr>\n",
       "      <th>gene-YALI1_A00019g</th>\n",
       "      <td>3.212896</td>\n",
       "      <td>3.091169</td>\n",
       "      <td>1.998273</td>\n",
       "      <td>2.310140</td>\n",
       "      <td>1.808926</td>\n",
       "      <td>2.342025</td>\n",
       "      <td>2.917158</td>\n",
       "      <td>2.039178</td>\n",
       "      <td>3.174929</td>\n",
       "      <td>1.990159</td>\n",
       "      <td>...</td>\n",
       "      <td>3.747540</td>\n",
       "      <td>4.206630</td>\n",
       "      <td>3.238885</td>\n",
       "      <td>2.917420</td>\n",
       "      <td>2.659140</td>\n",
       "      <td>2.838105</td>\n",
       "      <td>3.115226</td>\n",
       "      <td>3.106868</td>\n",
       "      <td>4.315281</td>\n",
       "      <td>4.734701</td>\n",
       "    </tr>\n",
       "    <tr>\n",
       "      <th>gene-YALI1_A00032g</th>\n",
       "      <td>1.983575</td>\n",
       "      <td>1.864524</td>\n",
       "      <td>2.747599</td>\n",
       "      <td>3.093594</td>\n",
       "      <td>0.000000</td>\n",
       "      <td>0.195839</td>\n",
       "      <td>0.556255</td>\n",
       "      <td>0.826795</td>\n",
       "      <td>0.000000</td>\n",
       "      <td>0.246049</td>\n",
       "      <td>...</td>\n",
       "      <td>1.191146</td>\n",
       "      <td>1.319363</td>\n",
       "      <td>1.179742</td>\n",
       "      <td>1.048777</td>\n",
       "      <td>0.237633</td>\n",
       "      <td>0.252225</td>\n",
       "      <td>0.653268</td>\n",
       "      <td>0.000000</td>\n",
       "      <td>1.108077</td>\n",
       "      <td>1.439453</td>\n",
       "    </tr>\n",
       "    <tr>\n",
       "      <th>gene-YALI1_A00058g</th>\n",
       "      <td>0.670216</td>\n",
       "      <td>0.820167</td>\n",
       "      <td>1.801633</td>\n",
       "      <td>1.916780</td>\n",
       "      <td>0.400433</td>\n",
       "      <td>0.246064</td>\n",
       "      <td>0.184499</td>\n",
       "      <td>0.094194</td>\n",
       "      <td>0.078324</td>\n",
       "      <td>0.135053</td>\n",
       "      <td>...</td>\n",
       "      <td>7.250342</td>\n",
       "      <td>6.999008</td>\n",
       "      <td>2.443423</td>\n",
       "      <td>1.995394</td>\n",
       "      <td>1.170699</td>\n",
       "      <td>0.970573</td>\n",
       "      <td>0.574029</td>\n",
       "      <td>0.795188</td>\n",
       "      <td>8.356572</td>\n",
       "      <td>8.318017</td>\n",
       "    </tr>\n",
       "    <tr>\n",
       "      <th>gene-YALI1_A00102g</th>\n",
       "      <td>6.562419</td>\n",
       "      <td>6.389061</td>\n",
       "      <td>6.886836</td>\n",
       "      <td>6.794589</td>\n",
       "      <td>9.539226</td>\n",
       "      <td>9.347609</td>\n",
       "      <td>9.580435</td>\n",
       "      <td>10.322755</td>\n",
       "      <td>9.762035</td>\n",
       "      <td>10.381235</td>\n",
       "      <td>...</td>\n",
       "      <td>10.006692</td>\n",
       "      <td>9.945214</td>\n",
       "      <td>9.944281</td>\n",
       "      <td>10.089857</td>\n",
       "      <td>10.535861</td>\n",
       "      <td>10.671098</td>\n",
       "      <td>10.265646</td>\n",
       "      <td>10.575467</td>\n",
       "      <td>9.990295</td>\n",
       "      <td>9.888927</td>\n",
       "    </tr>\n",
       "  </tbody>\n",
       "</table>\n",
       "<p>5 rows × 134 columns</p>\n",
       "</div>"
      ],
      "text/plain": [
       "                      yl_001    yl_002    yl_003    yl_004    yl_005  \\\n",
       "gene_id                                                                \n",
       "gene-YALI1_A00014g  2.149698  2.124970  2.802317  2.833502  0.758881   \n",
       "gene-YALI1_A00019g  3.212896  3.091169  1.998273  2.310140  1.808926   \n",
       "gene-YALI1_A00032g  1.983575  1.864524  2.747599  3.093594  0.000000   \n",
       "gene-YALI1_A00058g  0.670216  0.820167  1.801633  1.916780  0.400433   \n",
       "gene-YALI1_A00102g  6.562419  6.389061  6.886836  6.794589  9.539226   \n",
       "\n",
       "                      yl_006    yl_007     yl_008    yl_009     yl_010  ...  \\\n",
       "gene_id                                                                 ...   \n",
       "gene-YALI1_A00014g  1.321601  2.488293   1.617332  1.171998   1.573064  ...   \n",
       "gene-YALI1_A00019g  2.342025  2.917158   2.039178  3.174929   1.990159  ...   \n",
       "gene-YALI1_A00032g  0.195839  0.556255   0.826795  0.000000   0.246049  ...   \n",
       "gene-YALI1_A00058g  0.246064  0.184499   0.094194  0.078324   0.135053  ...   \n",
       "gene-YALI1_A00102g  9.347609  9.580435  10.322755  9.762035  10.381235  ...   \n",
       "\n",
       "                       yl_125    yl_126    yl_127     yl_128     yl_129  \\\n",
       "gene_id                                                                   \n",
       "gene-YALI1_A00014g   2.543021  2.572742  2.720925   2.655467   1.653597   \n",
       "gene-YALI1_A00019g   3.747540  4.206630  3.238885   2.917420   2.659140   \n",
       "gene-YALI1_A00032g   1.191146  1.319363  1.179742   1.048777   0.237633   \n",
       "gene-YALI1_A00058g   7.250342  6.999008  2.443423   1.995394   1.170699   \n",
       "gene-YALI1_A00102g  10.006692  9.945214  9.944281  10.089857  10.535861   \n",
       "\n",
       "                       yl_130     yl_131     yl_132    yl_133    yl_134  \n",
       "gene_id                                                                  \n",
       "gene-YALI1_A00014g   1.420364   2.243534   1.421676  3.159357  2.988174  \n",
       "gene-YALI1_A00019g   2.838105   3.115226   3.106868  4.315281  4.734701  \n",
       "gene-YALI1_A00032g   0.252225   0.653268   0.000000  1.108077  1.439453  \n",
       "gene-YALI1_A00058g   0.970573   0.574029   0.795188  8.356572  8.318017  \n",
       "gene-YALI1_A00102g  10.671098  10.265646  10.575467  9.990295  9.888927  \n",
       "\n",
       "[5 rows x 134 columns]"
      ]
     },
     "execution_count": 6,
     "metadata": {},
     "output_type": "execute_result"
    }
   ],
   "source": [
    "DF_log_tpm = pd.read_csv(logTPM_file,index_col=[0], sep='\\t').fillna(0)\n",
    "print('Number of genes:',DF_log_tpm.shape[0])\n",
    "print('Number of samples:',DF_log_tpm.shape[1])\n",
    "DF_log_tpm.head()"
   ]
  },
  {
   "cell_type": "markdown",
   "metadata": {},
   "source": [
    "### Load metadata"
   ]
  },
  {
   "cell_type": "code",
   "execution_count": 7,
   "metadata": {
    "execution": {
     "iopub.execute_input": "2025-04-25T21:41:52.708607Z",
     "iopub.status.busy": "2025-04-25T21:41:52.708449Z",
     "iopub.status.idle": "2025-04-25T21:41:52.744426Z",
     "shell.execute_reply": "2025-04-25T21:41:52.744065Z",
     "shell.execute_reply.started": "2025-04-25T21:41:52.708593Z"
    }
   },
   "outputs": [
    {
     "name": "stdout",
     "output_type": "stream",
     "text": [
      "Number of samples with curated metadata: 134\n"
     ]
    },
    {
     "data": {
      "text/html": [
       "<div>\n",
       "<style scoped>\n",
       "    .dataframe tbody tr th:only-of-type {\n",
       "        vertical-align: middle;\n",
       "    }\n",
       "\n",
       "    .dataframe tbody tr th {\n",
       "        vertical-align: top;\n",
       "    }\n",
       "\n",
       "    .dataframe thead th {\n",
       "        text-align: right;\n",
       "    }\n",
       "</style>\n",
       "<table border=\"1\" class=\"dataframe\">\n",
       "  <thead>\n",
       "    <tr style=\"text-align: right;\">\n",
       "      <th></th>\n",
       "      <th>File name</th>\n",
       "      <th>condition</th>\n",
       "      <th>project</th>\n",
       "      <th>reference_condition</th>\n",
       "      <th>Strain</th>\n",
       "      <th>Mode of operation</th>\n",
       "      <th>Media</th>\n",
       "      <th>Limitation</th>\n",
       "      <th>C-source</th>\n",
       "      <th>Growth rate</th>\n",
       "      <th>DO</th>\n",
       "      <th>pH</th>\n",
       "      <th>Temperature</th>\n",
       "      <th>Read1</th>\n",
       "      <th>Read2</th>\n",
       "      <th>passed_fastqc</th>\n",
       "      <th>passed_reads_mapped_to_CDS</th>\n",
       "      <th>passed_global_correlation</th>\n",
       "    </tr>\n",
       "  </thead>\n",
       "  <tbody>\n",
       "    <tr>\n",
       "      <th>yl_001</th>\n",
       "      <td>20210204-YL-CN-1</td>\n",
       "      <td>Glucose_Nlimit</td>\n",
       "      <td>Batch_Shaken</td>\n",
       "      <td>Glucose_shaken_reference</td>\n",
       "      <td>W29</td>\n",
       "      <td>Shaken culture</td>\n",
       "      <td>Delft-N limited</td>\n",
       "      <td>Nitrogen</td>\n",
       "      <td>Glucose</td>\n",
       "      <td>0.3</td>\n",
       "      <td>High</td>\n",
       "      <td>6</td>\n",
       "      <td>30</td>\n",
       "      <td>ylipolytic2025_repeat/20210204-YL-CN-1A_1.fq.gz</td>\n",
       "      <td>ylipolytic2025_repeat/20210204-YL-CN-1A_2.fq.gz</td>\n",
       "      <td>True</td>\n",
       "      <td>True</td>\n",
       "      <td>True</td>\n",
       "    </tr>\n",
       "    <tr>\n",
       "      <th>yl_002</th>\n",
       "      <td>20210204-YL-CN-2</td>\n",
       "      <td>Glucose_Nlimit</td>\n",
       "      <td>Batch_Shaken</td>\n",
       "      <td>Glucose_shaken_reference</td>\n",
       "      <td>W29</td>\n",
       "      <td>Shaken culture</td>\n",
       "      <td>Delft-N limited</td>\n",
       "      <td>Nitrogen</td>\n",
       "      <td>Glucose</td>\n",
       "      <td>0.3</td>\n",
       "      <td>High</td>\n",
       "      <td>6</td>\n",
       "      <td>30</td>\n",
       "      <td>ylipolytic2025_repeat/20210204-YL-CN-2A_1.fq.gz</td>\n",
       "      <td>ylipolytic2025_repeat/20210204-YL-CN-2A_2.fq.gz</td>\n",
       "      <td>True</td>\n",
       "      <td>True</td>\n",
       "      <td>True</td>\n",
       "    </tr>\n",
       "    <tr>\n",
       "      <th>yl_003</th>\n",
       "      <td>20210204-YL-fill-1</td>\n",
       "      <td>Glucose_lowDO</td>\n",
       "      <td>Batch_Shaken</td>\n",
       "      <td>Glucose_shaken_reference</td>\n",
       "      <td>W29</td>\n",
       "      <td>Shaken culture</td>\n",
       "      <td>Delft</td>\n",
       "      <td>Carbon</td>\n",
       "      <td>Glucose</td>\n",
       "      <td>0.3</td>\n",
       "      <td>Low</td>\n",
       "      <td>6</td>\n",
       "      <td>30</td>\n",
       "      <td>ylipolytic2025_repeat/20210204-YL-fill-1A_1.fq.gz</td>\n",
       "      <td>ylipolytic2025_repeat/20210204-YL-fill-1A_2.fq.gz</td>\n",
       "      <td>True</td>\n",
       "      <td>True</td>\n",
       "      <td>True</td>\n",
       "    </tr>\n",
       "    <tr>\n",
       "      <th>yl_004</th>\n",
       "      <td>20210204-YL-fill-2</td>\n",
       "      <td>Glucose_lowDO</td>\n",
       "      <td>Batch_Shaken</td>\n",
       "      <td>Glucose_shaken_reference</td>\n",
       "      <td>W29</td>\n",
       "      <td>Shaken culture</td>\n",
       "      <td>Delft</td>\n",
       "      <td>Carbon</td>\n",
       "      <td>Glucose</td>\n",
       "      <td>0.3</td>\n",
       "      <td>Low</td>\n",
       "      <td>6</td>\n",
       "      <td>30</td>\n",
       "      <td>ylipolytic2025_repeat/20210204-YL-fill-2A_1.fq.gz</td>\n",
       "      <td>ylipolytic2025_repeat/20210204-YL-fill-2A_2.fq.gz</td>\n",
       "      <td>True</td>\n",
       "      <td>True</td>\n",
       "      <td>True</td>\n",
       "    </tr>\n",
       "    <tr>\n",
       "      <th>yl_005</th>\n",
       "      <td>20210204-YL-ref-1</td>\n",
       "      <td>Glucose_shaken_reference</td>\n",
       "      <td>Batch_Shaken</td>\n",
       "      <td>Glucose_shaken_reference</td>\n",
       "      <td>W29</td>\n",
       "      <td>Shaken culture</td>\n",
       "      <td>Delft</td>\n",
       "      <td>Carbon</td>\n",
       "      <td>Glucose</td>\n",
       "      <td>0.3</td>\n",
       "      <td>High</td>\n",
       "      <td>6</td>\n",
       "      <td>30</td>\n",
       "      <td>ylipolytic2025_repeat/20210204-YL-ref-1A_1.fq.gz</td>\n",
       "      <td>ylipolytic2025_repeat/20210204-YL-ref-1A_2.fq.gz</td>\n",
       "      <td>True</td>\n",
       "      <td>True</td>\n",
       "      <td>True</td>\n",
       "    </tr>\n",
       "  </tbody>\n",
       "</table>\n",
       "</div>"
      ],
      "text/plain": [
       "                 File name                 condition       project  \\\n",
       "yl_001    20210204-YL-CN-1            Glucose_Nlimit  Batch_Shaken   \n",
       "yl_002    20210204-YL-CN-2            Glucose_Nlimit  Batch_Shaken   \n",
       "yl_003  20210204-YL-fill-1             Glucose_lowDO  Batch_Shaken   \n",
       "yl_004  20210204-YL-fill-2             Glucose_lowDO  Batch_Shaken   \n",
       "yl_005   20210204-YL-ref-1  Glucose_shaken_reference  Batch_Shaken   \n",
       "\n",
       "             reference_condition Strain Mode of operation            Media  \\\n",
       "yl_001  Glucose_shaken_reference    W29    Shaken culture  Delft-N limited   \n",
       "yl_002  Glucose_shaken_reference    W29    Shaken culture  Delft-N limited   \n",
       "yl_003  Glucose_shaken_reference    W29    Shaken culture            Delft   \n",
       "yl_004  Glucose_shaken_reference    W29    Shaken culture            Delft   \n",
       "yl_005  Glucose_shaken_reference    W29    Shaken culture            Delft   \n",
       "\n",
       "       Limitation C-source  Growth rate    DO pH  Temperature  \\\n",
       "yl_001   Nitrogen  Glucose          0.3  High  6           30   \n",
       "yl_002   Nitrogen  Glucose          0.3  High  6           30   \n",
       "yl_003     Carbon  Glucose          0.3   Low  6           30   \n",
       "yl_004     Carbon  Glucose          0.3   Low  6           30   \n",
       "yl_005     Carbon  Glucose          0.3  High  6           30   \n",
       "\n",
       "                                                    Read1  \\\n",
       "yl_001    ylipolytic2025_repeat/20210204-YL-CN-1A_1.fq.gz   \n",
       "yl_002    ylipolytic2025_repeat/20210204-YL-CN-2A_1.fq.gz   \n",
       "yl_003  ylipolytic2025_repeat/20210204-YL-fill-1A_1.fq.gz   \n",
       "yl_004  ylipolytic2025_repeat/20210204-YL-fill-2A_1.fq.gz   \n",
       "yl_005   ylipolytic2025_repeat/20210204-YL-ref-1A_1.fq.gz   \n",
       "\n",
       "                                                    Read2  passed_fastqc  \\\n",
       "yl_001    ylipolytic2025_repeat/20210204-YL-CN-1A_2.fq.gz           True   \n",
       "yl_002    ylipolytic2025_repeat/20210204-YL-CN-2A_2.fq.gz           True   \n",
       "yl_003  ylipolytic2025_repeat/20210204-YL-fill-1A_2.fq.gz           True   \n",
       "yl_004  ylipolytic2025_repeat/20210204-YL-fill-2A_2.fq.gz           True   \n",
       "yl_005   ylipolytic2025_repeat/20210204-YL-ref-1A_2.fq.gz           True   \n",
       "\n",
       "        passed_reads_mapped_to_CDS  passed_global_correlation  \n",
       "yl_001                        True                       True  \n",
       "yl_002                        True                       True  \n",
       "yl_003                        True                       True  \n",
       "yl_004                        True                       True  \n",
       "yl_005                        True                       True  "
      ]
     },
     "execution_count": 7,
     "metadata": {},
     "output_type": "execute_result"
    }
   ],
   "source": [
    "DF_metadata = pd.read_csv(metadata_file,index_col=0, sep='\\t')\n",
    "print('Number of samples with curated metadata:',DF_metadata.shape[0])\n",
    "DF_metadata.head()"
   ]
  },
  {
   "cell_type": "code",
   "execution_count": 8,
   "metadata": {
    "execution": {
     "iopub.execute_input": "2025-04-25T21:41:52.752816Z",
     "iopub.status.busy": "2025-04-25T21:41:52.752488Z",
     "iopub.status.idle": "2025-04-25T21:41:52.775479Z",
     "shell.execute_reply": "2025-04-25T21:41:52.774967Z",
     "shell.execute_reply.started": "2025-04-25T21:41:52.752801Z"
    }
   },
   "outputs": [],
   "source": [
    "DF_metadata_all = pd.read_csv(all_metadata_file,index_col=0,sep='\\t')"
   ]
  },
  {
   "cell_type": "markdown",
   "metadata": {},
   "source": [
    "## Remove samples due to poor metadata"
   ]
  },
  {
   "cell_type": "markdown",
   "metadata": {},
   "source": [
    "After curation, some samples either did not have enough replicates or metadata to warrant inclusion in this database."
   ]
  },
  {
   "cell_type": "code",
   "execution_count": 9,
   "metadata": {
    "execution": {
     "iopub.execute_input": "2025-04-25T21:41:52.776241Z",
     "iopub.status.busy": "2025-04-25T21:41:52.776094Z",
     "iopub.status.idle": "2025-04-25T21:41:52.794524Z",
     "shell.execute_reply": "2025-04-25T21:41:52.794172Z",
     "shell.execute_reply.started": "2025-04-25T21:41:52.776226Z"
    }
   },
   "outputs": [
    {
     "name": "stdout",
     "output_type": "stream",
     "text": [
      "New number of samples with curated metadata: 134\n"
     ]
    },
    {
     "data": {
      "text/html": [
       "<div>\n",
       "<style scoped>\n",
       "    .dataframe tbody tr th:only-of-type {\n",
       "        vertical-align: middle;\n",
       "    }\n",
       "\n",
       "    .dataframe tbody tr th {\n",
       "        vertical-align: top;\n",
       "    }\n",
       "\n",
       "    .dataframe thead th {\n",
       "        text-align: right;\n",
       "    }\n",
       "</style>\n",
       "<table border=\"1\" class=\"dataframe\">\n",
       "  <thead>\n",
       "    <tr style=\"text-align: right;\">\n",
       "      <th></th>\n",
       "      <th>File name</th>\n",
       "      <th>condition</th>\n",
       "      <th>project</th>\n",
       "      <th>reference_condition</th>\n",
       "      <th>Strain</th>\n",
       "      <th>Mode of operation</th>\n",
       "      <th>Media</th>\n",
       "      <th>Limitation</th>\n",
       "      <th>C-source</th>\n",
       "      <th>Growth rate</th>\n",
       "      <th>DO</th>\n",
       "      <th>pH</th>\n",
       "      <th>Temperature</th>\n",
       "      <th>Read1</th>\n",
       "      <th>Read2</th>\n",
       "      <th>passed_fastqc</th>\n",
       "      <th>passed_reads_mapped_to_CDS</th>\n",
       "      <th>passed_global_correlation</th>\n",
       "    </tr>\n",
       "  </thead>\n",
       "  <tbody>\n",
       "    <tr>\n",
       "      <th>yl_001</th>\n",
       "      <td>20210204-YL-CN-1</td>\n",
       "      <td>Glucose_Nlimit</td>\n",
       "      <td>Batch_Shaken</td>\n",
       "      <td>Glucose_shaken_reference</td>\n",
       "      <td>W29</td>\n",
       "      <td>Shaken culture</td>\n",
       "      <td>Delft-N limited</td>\n",
       "      <td>Nitrogen</td>\n",
       "      <td>Glucose</td>\n",
       "      <td>0.3</td>\n",
       "      <td>High</td>\n",
       "      <td>6</td>\n",
       "      <td>30</td>\n",
       "      <td>ylipolytic2025_repeat/20210204-YL-CN-1A_1.fq.gz</td>\n",
       "      <td>ylipolytic2025_repeat/20210204-YL-CN-1A_2.fq.gz</td>\n",
       "      <td>True</td>\n",
       "      <td>True</td>\n",
       "      <td>True</td>\n",
       "    </tr>\n",
       "    <tr>\n",
       "      <th>yl_002</th>\n",
       "      <td>20210204-YL-CN-2</td>\n",
       "      <td>Glucose_Nlimit</td>\n",
       "      <td>Batch_Shaken</td>\n",
       "      <td>Glucose_shaken_reference</td>\n",
       "      <td>W29</td>\n",
       "      <td>Shaken culture</td>\n",
       "      <td>Delft-N limited</td>\n",
       "      <td>Nitrogen</td>\n",
       "      <td>Glucose</td>\n",
       "      <td>0.3</td>\n",
       "      <td>High</td>\n",
       "      <td>6</td>\n",
       "      <td>30</td>\n",
       "      <td>ylipolytic2025_repeat/20210204-YL-CN-2A_1.fq.gz</td>\n",
       "      <td>ylipolytic2025_repeat/20210204-YL-CN-2A_2.fq.gz</td>\n",
       "      <td>True</td>\n",
       "      <td>True</td>\n",
       "      <td>True</td>\n",
       "    </tr>\n",
       "    <tr>\n",
       "      <th>yl_003</th>\n",
       "      <td>20210204-YL-fill-1</td>\n",
       "      <td>Glucose_lowDO</td>\n",
       "      <td>Batch_Shaken</td>\n",
       "      <td>Glucose_shaken_reference</td>\n",
       "      <td>W29</td>\n",
       "      <td>Shaken culture</td>\n",
       "      <td>Delft</td>\n",
       "      <td>Carbon</td>\n",
       "      <td>Glucose</td>\n",
       "      <td>0.3</td>\n",
       "      <td>Low</td>\n",
       "      <td>6</td>\n",
       "      <td>30</td>\n",
       "      <td>ylipolytic2025_repeat/20210204-YL-fill-1A_1.fq.gz</td>\n",
       "      <td>ylipolytic2025_repeat/20210204-YL-fill-1A_2.fq.gz</td>\n",
       "      <td>True</td>\n",
       "      <td>True</td>\n",
       "      <td>True</td>\n",
       "    </tr>\n",
       "    <tr>\n",
       "      <th>yl_004</th>\n",
       "      <td>20210204-YL-fill-2</td>\n",
       "      <td>Glucose_lowDO</td>\n",
       "      <td>Batch_Shaken</td>\n",
       "      <td>Glucose_shaken_reference</td>\n",
       "      <td>W29</td>\n",
       "      <td>Shaken culture</td>\n",
       "      <td>Delft</td>\n",
       "      <td>Carbon</td>\n",
       "      <td>Glucose</td>\n",
       "      <td>0.3</td>\n",
       "      <td>Low</td>\n",
       "      <td>6</td>\n",
       "      <td>30</td>\n",
       "      <td>ylipolytic2025_repeat/20210204-YL-fill-2A_1.fq.gz</td>\n",
       "      <td>ylipolytic2025_repeat/20210204-YL-fill-2A_2.fq.gz</td>\n",
       "      <td>True</td>\n",
       "      <td>True</td>\n",
       "      <td>True</td>\n",
       "    </tr>\n",
       "    <tr>\n",
       "      <th>yl_005</th>\n",
       "      <td>20210204-YL-ref-1</td>\n",
       "      <td>Glucose_shaken_reference</td>\n",
       "      <td>Batch_Shaken</td>\n",
       "      <td>Glucose_shaken_reference</td>\n",
       "      <td>W29</td>\n",
       "      <td>Shaken culture</td>\n",
       "      <td>Delft</td>\n",
       "      <td>Carbon</td>\n",
       "      <td>Glucose</td>\n",
       "      <td>0.3</td>\n",
       "      <td>High</td>\n",
       "      <td>6</td>\n",
       "      <td>30</td>\n",
       "      <td>ylipolytic2025_repeat/20210204-YL-ref-1A_1.fq.gz</td>\n",
       "      <td>ylipolytic2025_repeat/20210204-YL-ref-1A_2.fq.gz</td>\n",
       "      <td>True</td>\n",
       "      <td>True</td>\n",
       "      <td>True</td>\n",
       "    </tr>\n",
       "    <tr>\n",
       "      <th>...</th>\n",
       "      <td>...</td>\n",
       "      <td>...</td>\n",
       "      <td>...</td>\n",
       "      <td>...</td>\n",
       "      <td>...</td>\n",
       "      <td>...</td>\n",
       "      <td>...</td>\n",
       "      <td>...</td>\n",
       "      <td>...</td>\n",
       "      <td>...</td>\n",
       "      <td>...</td>\n",
       "      <td>...</td>\n",
       "      <td>...</td>\n",
       "      <td>...</td>\n",
       "      <td>...</td>\n",
       "      <td>...</td>\n",
       "      <td>...</td>\n",
       "      <td>...</td>\n",
       "    </tr>\n",
       "    <tr>\n",
       "      <th>yl_130</th>\n",
       "      <td>R3_S05_#2</td>\n",
       "      <td>CO2_40%</td>\n",
       "      <td>CO2_oscillation</td>\n",
       "      <td>CO2_20%</td>\n",
       "      <td>W29</td>\n",
       "      <td>Continuous</td>\n",
       "      <td>Delft</td>\n",
       "      <td>None</td>\n",
       "      <td>Glucose</td>\n",
       "      <td>0.1</td>\n",
       "      <td>25</td>\n",
       "      <td>N.A</td>\n",
       "      <td>30</td>\n",
       "      <td>ylipolytic2025_repeat/R3_S05_#2A_1.fq.gz</td>\n",
       "      <td>ylipolytic2025_repeat/R3_S05_#2A_2.fq.gz</td>\n",
       "      <td>True</td>\n",
       "      <td>True</td>\n",
       "      <td>True</td>\n",
       "    </tr>\n",
       "    <tr>\n",
       "      <th>yl_131</th>\n",
       "      <td>R3_S06_#1</td>\n",
       "      <td>CO2_50%</td>\n",
       "      <td>CO2_oscillation</td>\n",
       "      <td>CO2_20%</td>\n",
       "      <td>W29</td>\n",
       "      <td>Continuous</td>\n",
       "      <td>Delft</td>\n",
       "      <td>None</td>\n",
       "      <td>Glucose</td>\n",
       "      <td>0.1</td>\n",
       "      <td>25</td>\n",
       "      <td>N.A</td>\n",
       "      <td>30</td>\n",
       "      <td>ylipolytic2025_repeat/R3_S06_#1A_1.fq.gz</td>\n",
       "      <td>ylipolytic2025_repeat/R3_S06_#1A_2.fq.gz</td>\n",
       "      <td>True</td>\n",
       "      <td>True</td>\n",
       "      <td>True</td>\n",
       "    </tr>\n",
       "    <tr>\n",
       "      <th>yl_132</th>\n",
       "      <td>R3_S06_#2</td>\n",
       "      <td>CO2_50%</td>\n",
       "      <td>CO2_oscillation</td>\n",
       "      <td>CO2_20%</td>\n",
       "      <td>W29</td>\n",
       "      <td>Continuous</td>\n",
       "      <td>Delft</td>\n",
       "      <td>None</td>\n",
       "      <td>Glucose</td>\n",
       "      <td>0.1</td>\n",
       "      <td>25</td>\n",
       "      <td>N.A</td>\n",
       "      <td>30</td>\n",
       "      <td>ylipolytic2025_repeat/R3_S06_#2A_1.fq.gz</td>\n",
       "      <td>ylipolytic2025_repeat/R3_S06_#2A_2.fq.gz</td>\n",
       "      <td>True</td>\n",
       "      <td>True</td>\n",
       "      <td>True</td>\n",
       "    </tr>\n",
       "    <tr>\n",
       "      <th>yl_133</th>\n",
       "      <td>R3_S08_#1</td>\n",
       "      <td>CO2_0%</td>\n",
       "      <td>CO2_oscillation</td>\n",
       "      <td>CO2_20%</td>\n",
       "      <td>W29</td>\n",
       "      <td>Continuous</td>\n",
       "      <td>Delft</td>\n",
       "      <td>None</td>\n",
       "      <td>Glucose</td>\n",
       "      <td>0.1</td>\n",
       "      <td>25</td>\n",
       "      <td>N.A</td>\n",
       "      <td>30</td>\n",
       "      <td>ylipolytic2025_repeat/R3_S08_#1A_1.fq.gz</td>\n",
       "      <td>ylipolytic2025_repeat/R3_S08_#1A_2.fq.gz</td>\n",
       "      <td>True</td>\n",
       "      <td>True</td>\n",
       "      <td>True</td>\n",
       "    </tr>\n",
       "    <tr>\n",
       "      <th>yl_134</th>\n",
       "      <td>R3_S08_#2</td>\n",
       "      <td>CO2_0%</td>\n",
       "      <td>CO2_oscillation</td>\n",
       "      <td>CO2_20%</td>\n",
       "      <td>W29</td>\n",
       "      <td>Continuous</td>\n",
       "      <td>Delft</td>\n",
       "      <td>None</td>\n",
       "      <td>Glucose</td>\n",
       "      <td>0.1</td>\n",
       "      <td>25</td>\n",
       "      <td>N.A</td>\n",
       "      <td>30</td>\n",
       "      <td>ylipolytic2025_repeat/R3_S08_#2A_1.fq.gz</td>\n",
       "      <td>ylipolytic2025_repeat/R3_S08_#2A_2.fq.gz</td>\n",
       "      <td>True</td>\n",
       "      <td>True</td>\n",
       "      <td>True</td>\n",
       "    </tr>\n",
       "  </tbody>\n",
       "</table>\n",
       "<p>134 rows × 18 columns</p>\n",
       "</div>"
      ],
      "text/plain": [
       "                 File name                 condition          project  \\\n",
       "yl_001    20210204-YL-CN-1            Glucose_Nlimit     Batch_Shaken   \n",
       "yl_002    20210204-YL-CN-2            Glucose_Nlimit     Batch_Shaken   \n",
       "yl_003  20210204-YL-fill-1             Glucose_lowDO     Batch_Shaken   \n",
       "yl_004  20210204-YL-fill-2             Glucose_lowDO     Batch_Shaken   \n",
       "yl_005   20210204-YL-ref-1  Glucose_shaken_reference     Batch_Shaken   \n",
       "...                    ...                       ...              ...   \n",
       "yl_130           R3_S05_#2                   CO2_40%  CO2_oscillation   \n",
       "yl_131           R3_S06_#1                   CO2_50%  CO2_oscillation   \n",
       "yl_132           R3_S06_#2                   CO2_50%  CO2_oscillation   \n",
       "yl_133           R3_S08_#1                    CO2_0%  CO2_oscillation   \n",
       "yl_134           R3_S08_#2                    CO2_0%  CO2_oscillation   \n",
       "\n",
       "             reference_condition Strain Mode of operation            Media  \\\n",
       "yl_001  Glucose_shaken_reference    W29    Shaken culture  Delft-N limited   \n",
       "yl_002  Glucose_shaken_reference    W29    Shaken culture  Delft-N limited   \n",
       "yl_003  Glucose_shaken_reference    W29    Shaken culture            Delft   \n",
       "yl_004  Glucose_shaken_reference    W29    Shaken culture            Delft   \n",
       "yl_005  Glucose_shaken_reference    W29    Shaken culture            Delft   \n",
       "...                          ...    ...               ...              ...   \n",
       "yl_130                   CO2_20%    W29        Continuous            Delft   \n",
       "yl_131                   CO2_20%    W29        Continuous            Delft   \n",
       "yl_132                   CO2_20%    W29        Continuous            Delft   \n",
       "yl_133                   CO2_20%    W29        Continuous            Delft   \n",
       "yl_134                   CO2_20%    W29        Continuous            Delft   \n",
       "\n",
       "       Limitation C-source  Growth rate    DO   pH  Temperature  \\\n",
       "yl_001   Nitrogen  Glucose          0.3  High    6           30   \n",
       "yl_002   Nitrogen  Glucose          0.3  High    6           30   \n",
       "yl_003     Carbon  Glucose          0.3   Low    6           30   \n",
       "yl_004     Carbon  Glucose          0.3   Low    6           30   \n",
       "yl_005     Carbon  Glucose          0.3  High    6           30   \n",
       "...           ...      ...          ...   ...  ...          ...   \n",
       "yl_130       None  Glucose          0.1    25  N.A           30   \n",
       "yl_131       None  Glucose          0.1    25  N.A           30   \n",
       "yl_132       None  Glucose          0.1    25  N.A           30   \n",
       "yl_133       None  Glucose          0.1    25  N.A           30   \n",
       "yl_134       None  Glucose          0.1    25  N.A           30   \n",
       "\n",
       "                                                    Read1  \\\n",
       "yl_001    ylipolytic2025_repeat/20210204-YL-CN-1A_1.fq.gz   \n",
       "yl_002    ylipolytic2025_repeat/20210204-YL-CN-2A_1.fq.gz   \n",
       "yl_003  ylipolytic2025_repeat/20210204-YL-fill-1A_1.fq.gz   \n",
       "yl_004  ylipolytic2025_repeat/20210204-YL-fill-2A_1.fq.gz   \n",
       "yl_005   ylipolytic2025_repeat/20210204-YL-ref-1A_1.fq.gz   \n",
       "...                                                   ...   \n",
       "yl_130           ylipolytic2025_repeat/R3_S05_#2A_1.fq.gz   \n",
       "yl_131           ylipolytic2025_repeat/R3_S06_#1A_1.fq.gz   \n",
       "yl_132           ylipolytic2025_repeat/R3_S06_#2A_1.fq.gz   \n",
       "yl_133           ylipolytic2025_repeat/R3_S08_#1A_1.fq.gz   \n",
       "yl_134           ylipolytic2025_repeat/R3_S08_#2A_1.fq.gz   \n",
       "\n",
       "                                                    Read2  passed_fastqc  \\\n",
       "yl_001    ylipolytic2025_repeat/20210204-YL-CN-1A_2.fq.gz           True   \n",
       "yl_002    ylipolytic2025_repeat/20210204-YL-CN-2A_2.fq.gz           True   \n",
       "yl_003  ylipolytic2025_repeat/20210204-YL-fill-1A_2.fq.gz           True   \n",
       "yl_004  ylipolytic2025_repeat/20210204-YL-fill-2A_2.fq.gz           True   \n",
       "yl_005   ylipolytic2025_repeat/20210204-YL-ref-1A_2.fq.gz           True   \n",
       "...                                                   ...            ...   \n",
       "yl_130           ylipolytic2025_repeat/R3_S05_#2A_2.fq.gz           True   \n",
       "yl_131           ylipolytic2025_repeat/R3_S06_#1A_2.fq.gz           True   \n",
       "yl_132           ylipolytic2025_repeat/R3_S06_#2A_2.fq.gz           True   \n",
       "yl_133           ylipolytic2025_repeat/R3_S08_#1A_2.fq.gz           True   \n",
       "yl_134           ylipolytic2025_repeat/R3_S08_#2A_2.fq.gz           True   \n",
       "\n",
       "        passed_reads_mapped_to_CDS  passed_global_correlation  \n",
       "yl_001                        True                       True  \n",
       "yl_002                        True                       True  \n",
       "yl_003                        True                       True  \n",
       "yl_004                        True                       True  \n",
       "yl_005                        True                       True  \n",
       "...                            ...                        ...  \n",
       "yl_130                        True                       True  \n",
       "yl_131                        True                       True  \n",
       "yl_132                        True                       True  \n",
       "yl_133                        True                       True  \n",
       "yl_134                        True                       True  \n",
       "\n",
       "[134 rows x 18 columns]"
      ]
     },
     "execution_count": 9,
     "metadata": {},
     "output_type": "execute_result"
    }
   ],
   "source": [
    "DF_metadata_passed_step4 = DF_metadata#[~DF_metadata.skip.fillna(False)].copy()\n",
    "print('New number of samples with curated metadata:',DF_metadata_passed_step4.shape[0])\n",
    "DF_metadata_passed_step4"
   ]
  },
  {
   "cell_type": "markdown",
   "metadata": {},
   "source": [
    "### Check curation\n",
    "Since manual curation is error-prone, we want to make sure that all samples have labels for their project and condition. In addition, there should only be one reference condition in each project, and it should be in the project itself.\n",
    "\n",
    "Any samples that fail these checks will be printed below."
   ]
  },
  {
   "cell_type": "code",
   "execution_count": 10,
   "metadata": {
    "execution": {
     "iopub.execute_input": "2025-04-25T21:41:52.795351Z",
     "iopub.status.busy": "2025-04-25T21:41:52.795127Z",
     "iopub.status.idle": "2025-04-25T21:41:52.802850Z",
     "shell.execute_reply": "2025-04-25T21:41:52.802487Z",
     "shell.execute_reply.started": "2025-04-25T21:41:52.795337Z"
    },
    "tags": []
   },
   "outputs": [],
   "source": [
    "assert(DF_metadata_passed_step4.project.notnull().all())\n",
    "assert(DF_metadata_passed_step4.condition.notnull().all())\n",
    "\n",
    "for name,group in DF_metadata_passed_step4.groupby('project'):\n",
    "    ref_cond = group.reference_condition.unique()\n",
    "    \n",
    "    # Ensure that there is only one reference condition per project\n",
    "    if not len(ref_cond) == 1:\n",
    "        print(ref_cond)\n",
    "        print('Multiple reference conditions for:, name')\n",
    "    \n",
    "    # Ensure the reference condition is in fact in the project\n",
    "    ref_cond = ref_cond[0]\n",
    "    if not ref_cond in group.condition.tolist():\n",
    "        print('Reference condition not in project:', name)"
   ]
  },
  {
   "cell_type": "markdown",
   "metadata": {},
   "source": [
    "Next, make a new column called ``full_name`` that gives every experimental condition a unique, human-readable identifier."
   ]
  },
  {
   "cell_type": "code",
   "execution_count": 11,
   "metadata": {
    "execution": {
     "iopub.execute_input": "2025-04-25T21:41:52.803583Z",
     "iopub.status.busy": "2025-04-25T21:41:52.803439Z",
     "iopub.status.idle": "2025-04-25T21:41:52.806979Z",
     "shell.execute_reply": "2025-04-25T21:41:52.806655Z",
     "shell.execute_reply.started": "2025-04-25T21:41:52.803569Z"
    }
   },
   "outputs": [],
   "source": [
    "DF_metadata_passed_step4['full_name'] = DF_metadata_passed_step4['project'].str.cat(DF_metadata_passed_step4['condition'],sep=':')"
   ]
  },
  {
   "cell_type": "code",
   "execution_count": 12,
   "metadata": {
    "execution": {
     "iopub.execute_input": "2025-04-25T21:41:52.807672Z",
     "iopub.status.busy": "2025-04-25T21:41:52.807533Z",
     "iopub.status.idle": "2025-04-25T21:41:52.811234Z",
     "shell.execute_reply": "2025-04-25T21:41:52.810851Z",
     "shell.execute_reply.started": "2025-04-25T21:41:52.807659Z"
    }
   },
   "outputs": [
    {
     "data": {
      "text/plain": [
       "134"
      ]
     },
     "execution_count": 12,
     "metadata": {},
     "output_type": "execute_result"
    }
   ],
   "source": [
    "DF_metadata_passed_step4['full_name'].value_counts().sum()"
   ]
  },
  {
   "cell_type": "markdown",
   "metadata": {},
   "source": [
    "### Remove samples with only one replicate"
   ]
  },
  {
   "cell_type": "markdown",
   "metadata": {},
   "source": [
    "First, find sample names that have at least two replicates."
   ]
  },
  {
   "cell_type": "code",
   "execution_count": 13,
   "metadata": {
    "execution": {
     "iopub.execute_input": "2025-04-25T21:41:52.811906Z",
     "iopub.status.busy": "2025-04-25T21:41:52.811770Z",
     "iopub.status.idle": "2025-04-25T21:41:52.815254Z",
     "shell.execute_reply": "2025-04-25T21:41:52.814851Z",
     "shell.execute_reply.started": "2025-04-25T21:41:52.811893Z"
    }
   },
   "outputs": [
    {
     "name": "stdout",
     "output_type": "stream",
     "text": [
      "59\n"
     ]
    }
   ],
   "source": [
    "counts = DF_metadata_passed_step4.full_name.value_counts()\n",
    "keep_samples = counts[counts >= 2].index\n",
    "print(len(keep_samples))"
   ]
  },
  {
   "cell_type": "code",
   "execution_count": 14,
   "metadata": {},
   "outputs": [
    {
     "data": {
      "text/plain": [
       "Index(['O2_oscillation_0.1:µ0.1_DO35', 'O2_oscillation_0.05:µ0.05_DO35',\n",
       "       'O2_oscillation_0.05:µ0.05_DO25',\n",
       "       'Batch_Shaken:High glucose_highDO_pH3',\n",
       "       'Batch_Shaken:Glycerol_Mglimit_pH6', 'O2_oscillation_0.1:µ0.1_DO25'],\n",
       "      dtype='object')"
      ]
     },
     "execution_count": 14,
     "metadata": {},
     "output_type": "execute_result"
    }
   ],
   "source": [
    "counts[counts < 2].index"
   ]
  },
  {
   "cell_type": "code",
   "execution_count": 15,
   "metadata": {},
   "outputs": [
    {
     "data": {
      "text/plain": [
       "Index(['CO2_oscillation:CO2_0%', 'CO2_oscillation:CO2_50%',\n",
       "       'CO2_oscillation:CO2_40%', 'CO2_oscillation:CO2_30%',\n",
       "       'CO2_oscillation:CO2_10%', 'Growth_Variance_ST8712:µ0.15_ST8712',\n",
       "       'O2_oscillation_0.1:µ0.1_DO2.5', 'O2_oscillation_0.1:µ0.1_DO5',\n",
       "       'O2_oscillation_0.1:µ0.1_DO10', 'O2_oscillation_0.1:µ0.1_DO50',\n",
       "       'Growth_Variance_ST8712:µ0.075_ST8712',\n",
       "       'Growth_Variance_ST8712:µ0.125_ST8712',\n",
       "       'Growth_Variance_ST8712:µ0.1_ST8712', 'O2_oscillation_0.2:µ0.2_DO50',\n",
       "       'Growth_Variance_ST8712:µ0.05_ST8712',\n",
       "       'Growth_Variance_ST8712:µ0_ST8712', 'O2_oscillation_0.1:µ0.1_DO0',\n",
       "       'O2_oscillation_0.2:µ0.2_DO10', 'O2_oscillation_0.2:µ0.2_DO25',\n",
       "       'Growth_Variance_W29:µ0.25', 'O2_oscillation_0.2:µ0.2_DO5',\n",
       "       'O2_oscillation_0.2:µ0.2_DO2.5', 'O2_oscillation_0.2:µ0.2_DO0',\n",
       "       'O2_oscillation_0.05:µ0.05_DO50', 'O2_oscillation_0.05:µ0.05_DO10',\n",
       "       'O2_oscillation_0.05:µ0.05_DO5', 'O2_oscillation_0.05:µ0.05_DO2.5',\n",
       "       'O2_oscillation_0.05:µ0.05_DO0', 'CO2_oscillation:CO2_20%',\n",
       "       'Batch_Shaken:Glucose_lowDO', 'Batch_Shaken:Glucose_Nlimit',\n",
       "       'Growth_Variance_W29:µ0.2', 'Batch_Shaken:Glucose_highDO_ph6',\n",
       "       'Batch_Shaken:Glucose_shaken_reference',\n",
       "       'Batch_Shaken:High glucose_mediumDO_pH3',\n",
       "       'Batch_Shaken:High glucose_lowDO_pH3',\n",
       "       'Batch_Shaken:High glucose_highDO_pH6',\n",
       "       'Batch_Shaken:High glucose_mediumDO_pH6',\n",
       "       'Batch_Shaken:High glucose_lowDO_pH6',\n",
       "       'Batch_Shaken:Glucose_Nlimit_pH3', 'Batch_Shaken:Glucose_Nlimit_pH6',\n",
       "       'Batch_Shaken:Glucose_Plimit_pH6', 'Batch_Shaken:Glucose_Mglimit_pH3',\n",
       "       'Batch_Shaken:Glucose_Mglimit_pH6', 'Batch_Shaken:Glucose_highDO_pH3',\n",
       "       'Batch_Shaken:Glucose_mediumDO_pH3', 'Growth_Variance_W29:µ0.15',\n",
       "       'Batch_Shaken:Glucose_lowDO_pH3', 'Batch_Shaken:Glucose_mediumDO_pH6',\n",
       "       'Batch_Shaken:Glucose_lowDO_pH6', 'Growth_Variance_W29:µ0.1',\n",
       "       'Growth_Variance_W29:µ0.05', 'Growth_Variance_W29:µ0',\n",
       "       'Batch_Shaken:Glycerol_lowDO_pH6', 'Batch_Shaken:Glycerol_highDO_pH6',\n",
       "       'Growth_Variance_W29:µ0.3', 'Batch_Shaken:Glycerol_Plimit_pH6',\n",
       "       'Batch_Shaken:Glycerol_Nlimit_pH6', 'Batch_Shaken:High glycerol_pH6'],\n",
       "      dtype='object')"
      ]
     },
     "execution_count": 15,
     "metadata": {},
     "output_type": "execute_result"
    }
   ],
   "source": [
    "keep_samples"
   ]
  },
  {
   "cell_type": "markdown",
   "metadata": {},
   "source": [
    "Only keep these samples"
   ]
  },
  {
   "cell_type": "code",
   "execution_count": 16,
   "metadata": {
    "execution": {
     "iopub.execute_input": "2025-04-25T21:41:52.815924Z",
     "iopub.status.busy": "2025-04-25T21:41:52.815784Z",
     "iopub.status.idle": "2025-04-25T21:41:52.833368Z",
     "shell.execute_reply": "2025-04-25T21:41:52.833016Z",
     "shell.execute_reply.started": "2025-04-25T21:41:52.815912Z"
    }
   },
   "outputs": [
    {
     "name": "stdout",
     "output_type": "stream",
     "text": [
      "New number of samples with curated metadata: 128\n"
     ]
    },
    {
     "data": {
      "text/html": [
       "<div>\n",
       "<style scoped>\n",
       "    .dataframe tbody tr th:only-of-type {\n",
       "        vertical-align: middle;\n",
       "    }\n",
       "\n",
       "    .dataframe tbody tr th {\n",
       "        vertical-align: top;\n",
       "    }\n",
       "\n",
       "    .dataframe thead th {\n",
       "        text-align: right;\n",
       "    }\n",
       "</style>\n",
       "<table border=\"1\" class=\"dataframe\">\n",
       "  <thead>\n",
       "    <tr style=\"text-align: right;\">\n",
       "      <th></th>\n",
       "      <th>File name</th>\n",
       "      <th>condition</th>\n",
       "      <th>project</th>\n",
       "      <th>reference_condition</th>\n",
       "      <th>Strain</th>\n",
       "      <th>Mode of operation</th>\n",
       "      <th>Media</th>\n",
       "      <th>Limitation</th>\n",
       "      <th>C-source</th>\n",
       "      <th>Growth rate</th>\n",
       "      <th>DO</th>\n",
       "      <th>pH</th>\n",
       "      <th>Temperature</th>\n",
       "      <th>Read1</th>\n",
       "      <th>Read2</th>\n",
       "      <th>passed_fastqc</th>\n",
       "      <th>passed_reads_mapped_to_CDS</th>\n",
       "      <th>passed_global_correlation</th>\n",
       "      <th>full_name</th>\n",
       "    </tr>\n",
       "  </thead>\n",
       "  <tbody>\n",
       "    <tr>\n",
       "      <th>yl_001</th>\n",
       "      <td>20210204-YL-CN-1</td>\n",
       "      <td>Glucose_Nlimit</td>\n",
       "      <td>Batch_Shaken</td>\n",
       "      <td>Glucose_shaken_reference</td>\n",
       "      <td>W29</td>\n",
       "      <td>Shaken culture</td>\n",
       "      <td>Delft-N limited</td>\n",
       "      <td>Nitrogen</td>\n",
       "      <td>Glucose</td>\n",
       "      <td>0.3</td>\n",
       "      <td>High</td>\n",
       "      <td>6</td>\n",
       "      <td>30</td>\n",
       "      <td>ylipolytic2025_repeat/20210204-YL-CN-1A_1.fq.gz</td>\n",
       "      <td>ylipolytic2025_repeat/20210204-YL-CN-1A_2.fq.gz</td>\n",
       "      <td>True</td>\n",
       "      <td>True</td>\n",
       "      <td>True</td>\n",
       "      <td>Batch_Shaken:Glucose_Nlimit</td>\n",
       "    </tr>\n",
       "    <tr>\n",
       "      <th>yl_002</th>\n",
       "      <td>20210204-YL-CN-2</td>\n",
       "      <td>Glucose_Nlimit</td>\n",
       "      <td>Batch_Shaken</td>\n",
       "      <td>Glucose_shaken_reference</td>\n",
       "      <td>W29</td>\n",
       "      <td>Shaken culture</td>\n",
       "      <td>Delft-N limited</td>\n",
       "      <td>Nitrogen</td>\n",
       "      <td>Glucose</td>\n",
       "      <td>0.3</td>\n",
       "      <td>High</td>\n",
       "      <td>6</td>\n",
       "      <td>30</td>\n",
       "      <td>ylipolytic2025_repeat/20210204-YL-CN-2A_1.fq.gz</td>\n",
       "      <td>ylipolytic2025_repeat/20210204-YL-CN-2A_2.fq.gz</td>\n",
       "      <td>True</td>\n",
       "      <td>True</td>\n",
       "      <td>True</td>\n",
       "      <td>Batch_Shaken:Glucose_Nlimit</td>\n",
       "    </tr>\n",
       "    <tr>\n",
       "      <th>yl_003</th>\n",
       "      <td>20210204-YL-fill-1</td>\n",
       "      <td>Glucose_lowDO</td>\n",
       "      <td>Batch_Shaken</td>\n",
       "      <td>Glucose_shaken_reference</td>\n",
       "      <td>W29</td>\n",
       "      <td>Shaken culture</td>\n",
       "      <td>Delft</td>\n",
       "      <td>Carbon</td>\n",
       "      <td>Glucose</td>\n",
       "      <td>0.3</td>\n",
       "      <td>Low</td>\n",
       "      <td>6</td>\n",
       "      <td>30</td>\n",
       "      <td>ylipolytic2025_repeat/20210204-YL-fill-1A_1.fq.gz</td>\n",
       "      <td>ylipolytic2025_repeat/20210204-YL-fill-1A_2.fq.gz</td>\n",
       "      <td>True</td>\n",
       "      <td>True</td>\n",
       "      <td>True</td>\n",
       "      <td>Batch_Shaken:Glucose_lowDO</td>\n",
       "    </tr>\n",
       "    <tr>\n",
       "      <th>yl_004</th>\n",
       "      <td>20210204-YL-fill-2</td>\n",
       "      <td>Glucose_lowDO</td>\n",
       "      <td>Batch_Shaken</td>\n",
       "      <td>Glucose_shaken_reference</td>\n",
       "      <td>W29</td>\n",
       "      <td>Shaken culture</td>\n",
       "      <td>Delft</td>\n",
       "      <td>Carbon</td>\n",
       "      <td>Glucose</td>\n",
       "      <td>0.3</td>\n",
       "      <td>Low</td>\n",
       "      <td>6</td>\n",
       "      <td>30</td>\n",
       "      <td>ylipolytic2025_repeat/20210204-YL-fill-2A_1.fq.gz</td>\n",
       "      <td>ylipolytic2025_repeat/20210204-YL-fill-2A_2.fq.gz</td>\n",
       "      <td>True</td>\n",
       "      <td>True</td>\n",
       "      <td>True</td>\n",
       "      <td>Batch_Shaken:Glucose_lowDO</td>\n",
       "    </tr>\n",
       "    <tr>\n",
       "      <th>yl_005</th>\n",
       "      <td>20210204-YL-ref-1</td>\n",
       "      <td>Glucose_shaken_reference</td>\n",
       "      <td>Batch_Shaken</td>\n",
       "      <td>Glucose_shaken_reference</td>\n",
       "      <td>W29</td>\n",
       "      <td>Shaken culture</td>\n",
       "      <td>Delft</td>\n",
       "      <td>Carbon</td>\n",
       "      <td>Glucose</td>\n",
       "      <td>0.3</td>\n",
       "      <td>High</td>\n",
       "      <td>6</td>\n",
       "      <td>30</td>\n",
       "      <td>ylipolytic2025_repeat/20210204-YL-ref-1A_1.fq.gz</td>\n",
       "      <td>ylipolytic2025_repeat/20210204-YL-ref-1A_2.fq.gz</td>\n",
       "      <td>True</td>\n",
       "      <td>True</td>\n",
       "      <td>True</td>\n",
       "      <td>Batch_Shaken:Glucose_shaken_reference</td>\n",
       "    </tr>\n",
       "    <tr>\n",
       "      <th>...</th>\n",
       "      <td>...</td>\n",
       "      <td>...</td>\n",
       "      <td>...</td>\n",
       "      <td>...</td>\n",
       "      <td>...</td>\n",
       "      <td>...</td>\n",
       "      <td>...</td>\n",
       "      <td>...</td>\n",
       "      <td>...</td>\n",
       "      <td>...</td>\n",
       "      <td>...</td>\n",
       "      <td>...</td>\n",
       "      <td>...</td>\n",
       "      <td>...</td>\n",
       "      <td>...</td>\n",
       "      <td>...</td>\n",
       "      <td>...</td>\n",
       "      <td>...</td>\n",
       "      <td>...</td>\n",
       "    </tr>\n",
       "    <tr>\n",
       "      <th>yl_130</th>\n",
       "      <td>R3_S05_#2</td>\n",
       "      <td>CO2_40%</td>\n",
       "      <td>CO2_oscillation</td>\n",
       "      <td>CO2_20%</td>\n",
       "      <td>W29</td>\n",
       "      <td>Continuous</td>\n",
       "      <td>Delft</td>\n",
       "      <td>None</td>\n",
       "      <td>Glucose</td>\n",
       "      <td>0.1</td>\n",
       "      <td>25</td>\n",
       "      <td>N.A</td>\n",
       "      <td>30</td>\n",
       "      <td>ylipolytic2025_repeat/R3_S05_#2A_1.fq.gz</td>\n",
       "      <td>ylipolytic2025_repeat/R3_S05_#2A_2.fq.gz</td>\n",
       "      <td>True</td>\n",
       "      <td>True</td>\n",
       "      <td>True</td>\n",
       "      <td>CO2_oscillation:CO2_40%</td>\n",
       "    </tr>\n",
       "    <tr>\n",
       "      <th>yl_131</th>\n",
       "      <td>R3_S06_#1</td>\n",
       "      <td>CO2_50%</td>\n",
       "      <td>CO2_oscillation</td>\n",
       "      <td>CO2_20%</td>\n",
       "      <td>W29</td>\n",
       "      <td>Continuous</td>\n",
       "      <td>Delft</td>\n",
       "      <td>None</td>\n",
       "      <td>Glucose</td>\n",
       "      <td>0.1</td>\n",
       "      <td>25</td>\n",
       "      <td>N.A</td>\n",
       "      <td>30</td>\n",
       "      <td>ylipolytic2025_repeat/R3_S06_#1A_1.fq.gz</td>\n",
       "      <td>ylipolytic2025_repeat/R3_S06_#1A_2.fq.gz</td>\n",
       "      <td>True</td>\n",
       "      <td>True</td>\n",
       "      <td>True</td>\n",
       "      <td>CO2_oscillation:CO2_50%</td>\n",
       "    </tr>\n",
       "    <tr>\n",
       "      <th>yl_132</th>\n",
       "      <td>R3_S06_#2</td>\n",
       "      <td>CO2_50%</td>\n",
       "      <td>CO2_oscillation</td>\n",
       "      <td>CO2_20%</td>\n",
       "      <td>W29</td>\n",
       "      <td>Continuous</td>\n",
       "      <td>Delft</td>\n",
       "      <td>None</td>\n",
       "      <td>Glucose</td>\n",
       "      <td>0.1</td>\n",
       "      <td>25</td>\n",
       "      <td>N.A</td>\n",
       "      <td>30</td>\n",
       "      <td>ylipolytic2025_repeat/R3_S06_#2A_1.fq.gz</td>\n",
       "      <td>ylipolytic2025_repeat/R3_S06_#2A_2.fq.gz</td>\n",
       "      <td>True</td>\n",
       "      <td>True</td>\n",
       "      <td>True</td>\n",
       "      <td>CO2_oscillation:CO2_50%</td>\n",
       "    </tr>\n",
       "    <tr>\n",
       "      <th>yl_133</th>\n",
       "      <td>R3_S08_#1</td>\n",
       "      <td>CO2_0%</td>\n",
       "      <td>CO2_oscillation</td>\n",
       "      <td>CO2_20%</td>\n",
       "      <td>W29</td>\n",
       "      <td>Continuous</td>\n",
       "      <td>Delft</td>\n",
       "      <td>None</td>\n",
       "      <td>Glucose</td>\n",
       "      <td>0.1</td>\n",
       "      <td>25</td>\n",
       "      <td>N.A</td>\n",
       "      <td>30</td>\n",
       "      <td>ylipolytic2025_repeat/R3_S08_#1A_1.fq.gz</td>\n",
       "      <td>ylipolytic2025_repeat/R3_S08_#1A_2.fq.gz</td>\n",
       "      <td>True</td>\n",
       "      <td>True</td>\n",
       "      <td>True</td>\n",
       "      <td>CO2_oscillation:CO2_0%</td>\n",
       "    </tr>\n",
       "    <tr>\n",
       "      <th>yl_134</th>\n",
       "      <td>R3_S08_#2</td>\n",
       "      <td>CO2_0%</td>\n",
       "      <td>CO2_oscillation</td>\n",
       "      <td>CO2_20%</td>\n",
       "      <td>W29</td>\n",
       "      <td>Continuous</td>\n",
       "      <td>Delft</td>\n",
       "      <td>None</td>\n",
       "      <td>Glucose</td>\n",
       "      <td>0.1</td>\n",
       "      <td>25</td>\n",
       "      <td>N.A</td>\n",
       "      <td>30</td>\n",
       "      <td>ylipolytic2025_repeat/R3_S08_#2A_1.fq.gz</td>\n",
       "      <td>ylipolytic2025_repeat/R3_S08_#2A_2.fq.gz</td>\n",
       "      <td>True</td>\n",
       "      <td>True</td>\n",
       "      <td>True</td>\n",
       "      <td>CO2_oscillation:CO2_0%</td>\n",
       "    </tr>\n",
       "  </tbody>\n",
       "</table>\n",
       "<p>128 rows × 19 columns</p>\n",
       "</div>"
      ],
      "text/plain": [
       "                 File name                 condition          project  \\\n",
       "yl_001    20210204-YL-CN-1            Glucose_Nlimit     Batch_Shaken   \n",
       "yl_002    20210204-YL-CN-2            Glucose_Nlimit     Batch_Shaken   \n",
       "yl_003  20210204-YL-fill-1             Glucose_lowDO     Batch_Shaken   \n",
       "yl_004  20210204-YL-fill-2             Glucose_lowDO     Batch_Shaken   \n",
       "yl_005   20210204-YL-ref-1  Glucose_shaken_reference     Batch_Shaken   \n",
       "...                    ...                       ...              ...   \n",
       "yl_130           R3_S05_#2                   CO2_40%  CO2_oscillation   \n",
       "yl_131           R3_S06_#1                   CO2_50%  CO2_oscillation   \n",
       "yl_132           R3_S06_#2                   CO2_50%  CO2_oscillation   \n",
       "yl_133           R3_S08_#1                    CO2_0%  CO2_oscillation   \n",
       "yl_134           R3_S08_#2                    CO2_0%  CO2_oscillation   \n",
       "\n",
       "             reference_condition Strain Mode of operation            Media  \\\n",
       "yl_001  Glucose_shaken_reference    W29    Shaken culture  Delft-N limited   \n",
       "yl_002  Glucose_shaken_reference    W29    Shaken culture  Delft-N limited   \n",
       "yl_003  Glucose_shaken_reference    W29    Shaken culture            Delft   \n",
       "yl_004  Glucose_shaken_reference    W29    Shaken culture            Delft   \n",
       "yl_005  Glucose_shaken_reference    W29    Shaken culture            Delft   \n",
       "...                          ...    ...               ...              ...   \n",
       "yl_130                   CO2_20%    W29        Continuous            Delft   \n",
       "yl_131                   CO2_20%    W29        Continuous            Delft   \n",
       "yl_132                   CO2_20%    W29        Continuous            Delft   \n",
       "yl_133                   CO2_20%    W29        Continuous            Delft   \n",
       "yl_134                   CO2_20%    W29        Continuous            Delft   \n",
       "\n",
       "       Limitation C-source  Growth rate    DO   pH  Temperature  \\\n",
       "yl_001   Nitrogen  Glucose          0.3  High    6           30   \n",
       "yl_002   Nitrogen  Glucose          0.3  High    6           30   \n",
       "yl_003     Carbon  Glucose          0.3   Low    6           30   \n",
       "yl_004     Carbon  Glucose          0.3   Low    6           30   \n",
       "yl_005     Carbon  Glucose          0.3  High    6           30   \n",
       "...           ...      ...          ...   ...  ...          ...   \n",
       "yl_130       None  Glucose          0.1    25  N.A           30   \n",
       "yl_131       None  Glucose          0.1    25  N.A           30   \n",
       "yl_132       None  Glucose          0.1    25  N.A           30   \n",
       "yl_133       None  Glucose          0.1    25  N.A           30   \n",
       "yl_134       None  Glucose          0.1    25  N.A           30   \n",
       "\n",
       "                                                    Read1  \\\n",
       "yl_001    ylipolytic2025_repeat/20210204-YL-CN-1A_1.fq.gz   \n",
       "yl_002    ylipolytic2025_repeat/20210204-YL-CN-2A_1.fq.gz   \n",
       "yl_003  ylipolytic2025_repeat/20210204-YL-fill-1A_1.fq.gz   \n",
       "yl_004  ylipolytic2025_repeat/20210204-YL-fill-2A_1.fq.gz   \n",
       "yl_005   ylipolytic2025_repeat/20210204-YL-ref-1A_1.fq.gz   \n",
       "...                                                   ...   \n",
       "yl_130           ylipolytic2025_repeat/R3_S05_#2A_1.fq.gz   \n",
       "yl_131           ylipolytic2025_repeat/R3_S06_#1A_1.fq.gz   \n",
       "yl_132           ylipolytic2025_repeat/R3_S06_#2A_1.fq.gz   \n",
       "yl_133           ylipolytic2025_repeat/R3_S08_#1A_1.fq.gz   \n",
       "yl_134           ylipolytic2025_repeat/R3_S08_#2A_1.fq.gz   \n",
       "\n",
       "                                                    Read2  passed_fastqc  \\\n",
       "yl_001    ylipolytic2025_repeat/20210204-YL-CN-1A_2.fq.gz           True   \n",
       "yl_002    ylipolytic2025_repeat/20210204-YL-CN-2A_2.fq.gz           True   \n",
       "yl_003  ylipolytic2025_repeat/20210204-YL-fill-1A_2.fq.gz           True   \n",
       "yl_004  ylipolytic2025_repeat/20210204-YL-fill-2A_2.fq.gz           True   \n",
       "yl_005   ylipolytic2025_repeat/20210204-YL-ref-1A_2.fq.gz           True   \n",
       "...                                                   ...            ...   \n",
       "yl_130           ylipolytic2025_repeat/R3_S05_#2A_2.fq.gz           True   \n",
       "yl_131           ylipolytic2025_repeat/R3_S06_#1A_2.fq.gz           True   \n",
       "yl_132           ylipolytic2025_repeat/R3_S06_#2A_2.fq.gz           True   \n",
       "yl_133           ylipolytic2025_repeat/R3_S08_#1A_2.fq.gz           True   \n",
       "yl_134           ylipolytic2025_repeat/R3_S08_#2A_2.fq.gz           True   \n",
       "\n",
       "        passed_reads_mapped_to_CDS  passed_global_correlation  \\\n",
       "yl_001                        True                       True   \n",
       "yl_002                        True                       True   \n",
       "yl_003                        True                       True   \n",
       "yl_004                        True                       True   \n",
       "yl_005                        True                       True   \n",
       "...                            ...                        ...   \n",
       "yl_130                        True                       True   \n",
       "yl_131                        True                       True   \n",
       "yl_132                        True                       True   \n",
       "yl_133                        True                       True   \n",
       "yl_134                        True                       True   \n",
       "\n",
       "                                    full_name  \n",
       "yl_001            Batch_Shaken:Glucose_Nlimit  \n",
       "yl_002            Batch_Shaken:Glucose_Nlimit  \n",
       "yl_003             Batch_Shaken:Glucose_lowDO  \n",
       "yl_004             Batch_Shaken:Glucose_lowDO  \n",
       "yl_005  Batch_Shaken:Glucose_shaken_reference  \n",
       "...                                       ...  \n",
       "yl_130                CO2_oscillation:CO2_40%  \n",
       "yl_131                CO2_oscillation:CO2_50%  \n",
       "yl_132                CO2_oscillation:CO2_50%  \n",
       "yl_133                 CO2_oscillation:CO2_0%  \n",
       "yl_134                 CO2_oscillation:CO2_0%  \n",
       "\n",
       "[128 rows x 19 columns]"
      ]
     },
     "execution_count": 16,
     "metadata": {},
     "output_type": "execute_result"
    }
   ],
   "source": [
    "DF_metadata_passed_step4 = DF_metadata_passed_step4[DF_metadata_passed_step4.full_name.isin(keep_samples)]\n",
    "print('New number of samples with curated metadata:',DF_metadata_passed_step4.shape[0])\n",
    "DF_metadata_passed_step4"
   ]
  },
  {
   "cell_type": "markdown",
   "metadata": {},
   "source": [
    "### Save this information to the full metadata dataframe"
   ]
  },
  {
   "cell_type": "code",
   "execution_count": 17,
   "metadata": {
    "execution": {
     "iopub.execute_input": "2025-04-25T21:41:52.834113Z",
     "iopub.status.busy": "2025-04-25T21:41:52.833971Z",
     "iopub.status.idle": "2025-04-25T21:41:52.837058Z",
     "shell.execute_reply": "2025-04-25T21:41:52.836724Z",
     "shell.execute_reply.started": "2025-04-25T21:41:52.834099Z"
    }
   },
   "outputs": [],
   "source": [
    "DF_metadata_all['passed_curation'] = DF_metadata_all.index.isin(DF_metadata_passed_step4.index)"
   ]
  },
  {
   "cell_type": "markdown",
   "metadata": {},
   "source": [
    "## Check correlations between replicates"
   ]
  },
  {
   "cell_type": "markdown",
   "metadata": {},
   "source": [
    "### Remove failed data from log_tpm files"
   ]
  },
  {
   "cell_type": "code",
   "execution_count": 18,
   "metadata": {
    "execution": {
     "iopub.execute_input": "2025-04-25T21:41:52.837719Z",
     "iopub.status.busy": "2025-04-25T21:41:52.837584Z",
     "iopub.status.idle": "2025-04-25T21:41:52.847607Z",
     "shell.execute_reply": "2025-04-25T21:41:52.847104Z",
     "shell.execute_reply.started": "2025-04-25T21:41:52.837706Z"
    }
   },
   "outputs": [],
   "source": [
    "DF_log_tpm = DF_log_tpm[DF_metadata_passed_step4.index]"
   ]
  },
  {
   "cell_type": "markdown",
   "metadata": {},
   "source": [
    "### Compute Pearson R Score"
   ]
  },
  {
   "cell_type": "markdown",
   "metadata": {},
   "source": [
    "Biological replicates should have a Pearson R correlation above 0.95. For samples with more than 2 replicates, the replicates must have R >= 0.95 with at least one other replicate or it will be dropped. The correlation threshold can be changed below:"
   ]
  },
  {
   "cell_type": "code",
   "execution_count": 19,
   "metadata": {
    "execution": {
     "iopub.execute_input": "2025-04-25T21:41:52.848428Z",
     "iopub.status.busy": "2025-04-25T21:41:52.848277Z",
     "iopub.status.idle": "2025-04-25T21:41:52.850648Z",
     "shell.execute_reply": "2025-04-25T21:41:52.850316Z",
     "shell.execute_reply.started": "2025-04-25T21:41:52.848412Z"
    }
   },
   "outputs": [],
   "source": [
    "rcutoff = 0.9"
   ]
  },
  {
   "cell_type": "markdown",
   "metadata": {},
   "source": [
    "The following code computes correlations between all samples and collects correlations between replicates and non-replicates."
   ]
  },
  {
   "cell_type": "code",
   "execution_count": 20,
   "metadata": {
    "execution": {
     "iopub.execute_input": "2025-04-25T21:41:52.851505Z",
     "iopub.status.busy": "2025-04-25T21:41:52.851338Z",
     "iopub.status.idle": "2025-04-25T21:46:13.790241Z",
     "shell.execute_reply": "2025-04-25T21:46:13.789816Z",
     "shell.execute_reply.started": "2025-04-25T21:41:52.851490Z"
    }
   },
   "outputs": [
    {
     "data": {
      "application/vnd.jupyter.widget-view+json": {
       "model_id": "c1e9e0cd16444416bd26076f21f08ca1",
       "version_major": 2,
       "version_minor": 0
      },
      "text/plain": [
       "  0%|          | 0/8128.0 [00:00<?, ?it/s]"
      ]
     },
     "metadata": {},
     "output_type": "display_data"
    }
   ],
   "source": [
    "rep_corrs = {}\n",
    "rand_corrs = {}\n",
    "\n",
    "num_comparisons = len(DF_metadata_passed_step4)*(len(DF_metadata_passed_step4)-1)/2\n",
    "\n",
    "for exp1,exp2 in tqdm(itertools.combinations(DF_metadata_passed_step4.index,2),total=num_comparisons):\n",
    "    if DF_metadata_passed_step4.loc[exp1,'full_name'] == DF_metadata_passed_step4.loc[exp2,'full_name']:\n",
    "        rep_corrs[(exp1,exp2)] = stats.pearsonr(DF_log_tpm[exp1],DF_log_tpm[exp2])[0]\n",
    "    else:\n",
    "        rand_corrs[(exp1,exp2)] = stats.pearsonr(DF_log_tpm[exp1],DF_log_tpm[exp2])[0]"
   ]
  },
  {
   "cell_type": "markdown",
   "metadata": {},
   "source": [
    "Correlations can be plotted on a histogram"
   ]
  },
  {
   "cell_type": "code",
   "execution_count": 21,
   "metadata": {
    "execution": {
     "iopub.execute_input": "2025-04-25T21:46:13.790958Z",
     "iopub.status.busy": "2025-04-25T21:46:13.790816Z",
     "iopub.status.idle": "2025-04-25T21:46:14.610464Z",
     "shell.execute_reply": "2025-04-25T21:46:14.610058Z",
     "shell.execute_reply.started": "2025-04-25T21:46:13.790945Z"
    }
   },
   "outputs": [
    {
     "name": "stdout",
     "output_type": "stream",
     "text": [
      "Median Pearson R between replicates: 0.98\n"
     ]
    },
    {
     "data": {
      "image/png": "[encoded data removed]",
      "text/plain": [
       "<Figure size 360x360 with 2 Axes>"
      ]
     },
     "metadata": {
      "needs_background": "light"
     },
     "output_type": "display_data"
    }
   ],
   "source": [
    "fig,ax = plt.subplots(figsize=(5,5))\n",
    "ax2 = ax.twinx()\n",
    "ax2.hist(rep_corrs.values(),bins=50,range=(0.2,1),alpha=0.8,color='green',linewidth=0)\n",
    "ax.hist(rand_corrs.values(),bins=50,range=(0.2,1),alpha=0.8,color='blue',linewidth=0)\n",
    "ax.set_title('Pearson R correlation between experiments',fontsize=14)\n",
    "ax.set_xlabel('Pearson R correlation',fontsize=14)\n",
    "ax.set_ylabel('Different Conditions',fontsize=14)\n",
    "ax2.set_ylabel('Known Replicates',fontsize=14)\n",
    "\n",
    "med_corr = np.median([v for k,v in rep_corrs.items()])\n",
    "print('Median Pearson R between replicates: {:.2f}'.format(med_corr))"
   ]
  },
  {
   "cell_type": "markdown",
   "metadata": {},
   "source": [
    "Remove samples without any high-correlation replicates"
   ]
  },
  {
   "cell_type": "code",
   "execution_count": 22,
   "metadata": {
    "execution": {
     "iopub.execute_input": "2025-04-25T21:46:14.611167Z",
     "iopub.status.busy": "2025-04-25T21:46:14.611035Z",
     "iopub.status.idle": "2025-04-25T21:46:14.839716Z",
     "shell.execute_reply": "2025-04-25T21:46:14.839304Z",
     "shell.execute_reply.started": "2025-04-25T21:46:14.611155Z"
    }
   },
   "outputs": [
    {
     "name": "stderr",
     "output_type": "stream",
     "text": [
      "/tmp/ipykernel_1733766/687183630.py:9: SettingWithCopyWarning: \n",
      "A value is trying to be set on a copy of a slice from a DataFrame.\n",
      "Try using .loc[row_indexer,col_indexer] = value instead\n",
      "\n",
      "See the caveats in the documentation: https://pandas.pydata.org/pandas-docs/stable/user_guide/indexing.html#returning-a-view-versus-a-copy\n",
      "  DF_metadata_passed_step4['passed_replicate_correlations'] = ~DF_metadata_passed_step4.index.isin(dissimilar)\n"
     ]
    }
   ],
   "source": [
    "dissimilar = []\n",
    "for idx, grp in DF_metadata_passed_step4.groupby('full_name'):\n",
    "    ident = np.identity(len(grp))\n",
    "    corrs = (DF_log_tpm[grp.index].corr() - ident).max()\n",
    "    dissimilar.extend(corrs[corrs<rcutoff].index)\n",
    "\n",
    "# Save this information in both the original metadata dataframe and the new metadata dataframe\n",
    "DF_metadata_all['passed_replicate_correlations'] = ~DF_metadata_all.index.isin(dissimilar)\n",
    "DF_metadata_passed_step4['passed_replicate_correlations'] = ~DF_metadata_passed_step4.index.isin(dissimilar)"
   ]
  },
  {
   "cell_type": "code",
   "execution_count": 23,
   "metadata": {
    "execution": {
     "iopub.execute_input": "2025-04-25T21:46:14.841914Z",
     "iopub.status.busy": "2025-04-25T21:46:14.841618Z",
     "iopub.status.idle": "2025-04-25T21:46:14.844856Z",
     "shell.execute_reply": "2025-04-25T21:46:14.844537Z",
     "shell.execute_reply.started": "2025-04-25T21:46:14.841901Z"
    }
   },
   "outputs": [
    {
     "name": "stdout",
     "output_type": "stream",
     "text": [
      "# Samples that passed replicate correlations: 123\n"
     ]
    }
   ],
   "source": [
    "DF_metadata_final = DF_metadata_passed_step4[DF_metadata_passed_step4['passed_replicate_correlations']]\n",
    "print('# Samples that passed replicate correlations:',len(DF_metadata_final))"
   ]
  },
  {
   "cell_type": "code",
   "execution_count": 24,
   "metadata": {
    "execution": {
     "iopub.execute_input": "2025-04-25T21:46:14.845389Z",
     "iopub.status.busy": "2025-04-25T21:46:14.845265Z",
     "iopub.status.idle": "2025-04-25T21:46:14.889336Z",
     "shell.execute_reply": "2025-04-25T21:46:14.888923Z",
     "shell.execute_reply.started": "2025-04-25T21:46:14.845377Z"
    }
   },
   "outputs": [
    {
     "data": {
      "text/plain": [
       "Batch_Shaken              48\n",
       "CO2_oscillation           21\n",
       "Growth_Variance_W29       12\n",
       "O2_oscillation_0.2        12\n",
       "Growth_Variance_ST8712    10\n",
       "O2_oscillation_0.1        10\n",
       "O2_oscillation_0.05       10\n",
       "Name: project, dtype: int64"
      ]
     },
     "execution_count": 24,
     "metadata": {},
     "output_type": "execute_result"
    }
   ],
   "source": [
    "DF_metadata_final[\"project\"].value_counts()"
   ]
  },
  {
   "cell_type": "markdown",
   "metadata": {},
   "source": [
    "## Check that reference conditions still exist\n",
    "If a reference condition was removed due to poor replicate correlations, a new reference condition needs to be defined.\n",
    "\n",
    "Again, any samples that fail these checks will be printed below."
   ]
  },
  {
   "cell_type": "code",
   "execution_count": 25,
   "metadata": {
    "execution": {
     "iopub.execute_input": "2025-04-25T21:46:14.890050Z",
     "iopub.status.busy": "2025-04-25T21:46:14.889892Z",
     "iopub.status.idle": "2025-04-25T21:46:14.898038Z",
     "shell.execute_reply": "2025-04-25T21:46:14.897681Z",
     "shell.execute_reply.started": "2025-04-25T21:46:14.890035Z"
    }
   },
   "outputs": [],
   "source": [
    "project_exprs = []\n",
    "for name,group in DF_metadata_final.groupby('project'):\n",
    "    \n",
    "    # Get reference condition\n",
    "    ref_cond = group.reference_condition.iloc[0]\n",
    "    \n",
    "    # Ensure the reference condition is still in the project\n",
    "    if ref_cond not in group.condition.tolist():\n",
    "        print('Reference condition missing from:', name)\n",
    "    \n",
    "    # Check that each project has at least two conditions (a reference and at least one test condition)\n",
    "    if len(group.condition.unique()) <= 1:\n",
    "        print('Only one condition in:', name)"
   ]
  },
  {
   "cell_type": "code",
   "execution_count": 26,
   "metadata": {
    "execution": {
     "iopub.execute_input": "2025-04-25T21:46:14.898924Z",
     "iopub.status.busy": "2025-04-25T21:46:14.898606Z",
     "iopub.status.idle": "2025-04-25T21:46:14.901943Z",
     "shell.execute_reply": "2025-04-25T21:46:14.901613Z",
     "shell.execute_reply.started": "2025-04-25T21:46:14.898908Z"
    }
   },
   "outputs": [],
   "source": [
    "# drop bad projects\n",
    "bad_projects = ['MIT_splicing', 'ou_aggregate_toxicity']\n",
    "DF_metadata_final = DF_metadata_final[~DF_metadata_final.project.isin(bad_projects)]"
   ]
  },
  {
   "cell_type": "markdown",
   "metadata": {},
   "source": [
    "If necessary, choose a new condition for failed projects and re-run notebook."
   ]
  },
  {
   "cell_type": "markdown",
   "metadata": {},
   "source": [
    "## Deseq2 Normalization of Counts for Downstream Use"
   ]
  },
  {
   "cell_type": "code",
   "execution_count": 27,
   "metadata": {
    "execution": {
     "iopub.execute_input": "2025-04-25T21:46:14.902712Z",
     "iopub.status.busy": "2025-04-25T21:46:14.902415Z",
     "iopub.status.idle": "2025-04-25T21:46:28.327274Z",
     "shell.execute_reply": "2025-04-25T21:46:28.326806Z",
     "shell.execute_reply.started": "2025-04-25T21:46:14.902698Z"
    }
   },
   "outputs": [],
   "source": [
    "# counts_path = path.join('..', 'data', 'raw_data', 'salmon.merged.gene_counts_length_scaled.tsv')\n",
    "\n",
    "# DF_counts = pd.read_csv(counts_path, index_col=0, sep='\\t').drop('gene_name', axis=1)\n",
    "# DF_counts = DF_counts[DF_metadata_final.index]\n",
    "# DF_counts.to_csv(path.join('..', 'data', 'interim', 'counts_data.csv'))\n",
    "# for index in DF_counts.index: # remove 'gene-' from each gene \n",
    "#     DF_counts.rename(index={index:index.strip('gene-')},inplace=True)"
   ]
  },
  {
   "cell_type": "code",
   "execution_count": 28,
   "metadata": {
    "execution": {
     "iopub.execute_input": "2025-04-25T21:46:28.327954Z",
     "iopub.status.busy": "2025-04-25T21:46:28.327821Z",
     "iopub.status.idle": "2025-04-25T21:46:28.341489Z",
     "shell.execute_reply": "2025-04-25T21:46:28.341095Z",
     "shell.execute_reply.started": "2025-04-25T21:46:28.327942Z"
    }
   },
   "outputs": [],
   "source": [
    "# use this cell if you want to decompose on protein-coding genes only (see notebook 0)\n",
    "# genes = []\n",
    "# with open('../data/sequence_files/protein_coding_genes.txt', 'r') as genes_file:\n",
    "#     for line in genes_file:\n",
    "#         genes.append(line.strip())\n",
    "\n",
    "# DF_counts = DF_counts.loc[genes]"
   ]
  },
  {
   "cell_type": "code",
   "execution_count": 29,
   "metadata": {
    "execution": {
     "iopub.execute_input": "2025-04-25T21:46:28.342183Z",
     "iopub.status.busy": "2025-04-25T21:46:28.342047Z",
     "iopub.status.idle": "2025-04-25T21:46:28.559515Z",
     "shell.execute_reply": "2025-04-25T21:46:28.559099Z",
     "shell.execute_reply.started": "2025-04-25T21:46:28.342170Z"
    }
   },
   "outputs": [],
   "source": [
    "# normalize the data using pydeseq2's median of ratios method\n",
    "# from pydeseq2.preprocessing import deseq2_norm\n",
    "\n",
    "# DF_normalizedCounts = deseq2_norm(DF_counts.T)[0].T\n",
    "\n",
    "# DF_log_normalizedCounts = DF_normalizedCounts + 1\n",
    "# DF_log_normalizedCounts = np.log2(DF_log_normalizedCounts)\n",
    "# DF_log_normalizedCounts"
   ]
  },
  {
   "cell_type": "code",
   "execution_count": 30,
   "metadata": {
    "execution": {
     "iopub.execute_input": "2025-04-25T21:46:28.560159Z",
     "iopub.status.busy": "2025-04-25T21:46:28.560027Z",
     "iopub.status.idle": "2025-04-25T21:46:28.564213Z",
     "shell.execute_reply": "2025-04-25T21:46:28.563895Z",
     "shell.execute_reply.started": "2025-04-25T21:46:28.560146Z"
    }
   },
   "outputs": [],
   "source": [
    "import scipy.cluster.hierarchy as sch\n",
    "import matplotlib.patches as patches\n",
    "\n",
    "def global_clustering(data, threshold=0.3, xticklabels=False, yticklabels=False, figsize=(9,9)):\n",
    "    \n",
    "    # Retrieve clusters using fcluster \n",
    "    corr = data.corr()\n",
    "    corr.fillna(0,inplace=True)\n",
    "    dist = sch.distance.pdist(corr)\n",
    "    link = sch.linkage(dist, method='complete')\n",
    "    clst = pd.DataFrame(index=data.columns)\n",
    "    clst['cluster'] = sch.fcluster(link, threshold * dist.max(), 'distance')\n",
    "\n",
    "    # Get colors for each cluster\n",
    "    cm = plt.cm.get_cmap('tab20')\n",
    "    cluster_colors = dict(zip(clst.cluster.unique(), cm.colors + cm.colors))\n",
    "    clst['color'] = clst.cluster.map(cluster_colors)\n",
    "\n",
    "    print('Number of cluster: ', len(cluster_colors))\n",
    "    \n",
    "    legend_items = [patches.Patch(color=c, label=l) for l,c in cluster_colors.items()]\n",
    "    \n",
    "    sns.set(rc={'figure.facecolor':'white'})\n",
    "    \n",
    "    clst_map = sns.clustermap(data.corr(), \n",
    "                              figsize=figsize, \n",
    "                              row_linkage=link, \n",
    "                              col_linkage=link, \n",
    "                              col_colors=clst.color,\n",
    "                              yticklabels=yticklabels, \n",
    "                              xticklabels=xticklabels,\n",
    "                              vmin=0, \n",
    "                              vmax=1)\n",
    "    \n",
    "    legend = clst_map.ax_heatmap.legend(loc='upper left', \n",
    "                                        bbox_to_anchor=(1.01,0.85), \n",
    "                                        handles=legend_items,\n",
    "                                        frameon=True)\n",
    "    \n",
    "    legend.set_title(title='Clusters',prop={'size':10})\n",
    "    \n",
    "    return clst['cluster']"
   ]
  },
  {
   "cell_type": "markdown",
   "metadata": {
    "execution": {
     "iopub.execute_input": "2025-04-25T21:46:28.564898Z",
     "iopub.status.busy": "2025-04-25T21:46:28.564743Z",
     "iopub.status.idle": "2025-04-25T21:46:43.131923Z",
     "shell.execute_reply": "2025-04-25T21:46:43.131539Z",
     "shell.execute_reply.started": "2025-04-25T21:46:28.564884Z"
    }
   },
   "source": [
    "<!-- clusters = global_clustering(DF_log_normalizedCounts) -->"
   ]
  },
  {
   "cell_type": "markdown",
   "metadata": {},
   "source": [
    "## Normalize dataset to reference conditions"
   ]
  },
  {
   "cell_type": "code",
   "execution_count": 31,
   "metadata": {
    "execution": {
     "iopub.execute_input": "2025-04-25T21:46:43.132666Z",
     "iopub.status.busy": "2025-04-25T21:46:43.132510Z",
     "iopub.status.idle": "2025-04-25T21:46:43.141062Z",
     "shell.execute_reply": "2025-04-25T21:46:43.140663Z",
     "shell.execute_reply.started": "2025-04-25T21:46:43.132652Z"
    }
   },
   "outputs": [],
   "source": [
    "DF_log_tpm_final = DF_log_tpm[DF_metadata_final.index]"
   ]
  },
  {
   "cell_type": "code",
   "execution_count": 32,
   "metadata": {
    "execution": {
     "iopub.execute_input": "2025-04-25T21:46:43.141749Z",
     "iopub.status.busy": "2025-04-25T21:46:43.141616Z",
     "iopub.status.idle": "2025-04-25T21:46:43.241619Z",
     "shell.execute_reply": "2025-04-25T21:46:43.241151Z",
     "shell.execute_reply.started": "2025-04-25T21:46:43.141736Z"
    }
   },
   "outputs": [],
   "source": [
    "# normalize log tpm data\n",
    "project_exprs = []\n",
    "for name,group in DF_metadata_final.groupby('project'):\n",
    "    \n",
    "    # Get reference condition\n",
    "    ref_cond = group.reference_condition.iloc[0]\n",
    "    \n",
    "    # Get reference condition sample ids\n",
    "    ref_samples = group[group.condition == ref_cond].index\n",
    "    \n",
    "    # Get reference condition expression\n",
    "    ref_expr = DF_log_tpm_final[ref_samples].mean(axis=1)\n",
    "    \n",
    "    # Subtract reference expression from project\n",
    "    project_exprs.append(DF_log_tpm_final[group.index].sub(ref_expr,axis=0))\n",
    "\n",
    "DF_log_tpm_norm = pd.concat(project_exprs,axis=1)"
   ]
  },
  {
   "cell_type": "code",
   "execution_count": 33,
   "metadata": {
    "execution": {
     "iopub.execute_input": "2025-04-25T21:46:43.242316Z",
     "iopub.status.busy": "2025-04-25T21:46:43.242184Z",
     "iopub.status.idle": "2025-04-25T21:46:43.303939Z",
     "shell.execute_reply": "2025-04-25T21:46:43.303481Z",
     "shell.execute_reply.started": "2025-04-25T21:46:43.242304Z"
    }
   },
   "outputs": [],
   "source": [
    "# # normalize log normalized counts data to references\n",
    "# project_exprs = []\n",
    "# for name,group in DF_metadata_final.groupby('project'):\n",
    "    \n",
    "#     # Get reference condition\n",
    "#     ref_cond = group.reference_condition.iloc[0]\n",
    "    \n",
    "#     # Get reference condition sample ids\n",
    "#     ref_samples = group[group.condition == ref_cond].index\n",
    "    \n",
    "#     # Get reference condition expression\n",
    "#     ref_expr = DF_log_normalizedCounts[ref_samples].mean(axis=1)\n",
    "    \n",
    "#     # Subtract reference expression from project\n",
    "#     project_exprs.append(DF_log_normalizedCounts[group.index].sub(ref_expr,axis=0))\n",
    "\n",
    "# DF_log_normalizedCounts_norm = pd.concat(project_exprs,axis=1)"
   ]
  },
  {
   "cell_type": "code",
   "execution_count": 34,
   "metadata": {
    "execution": {
     "iopub.execute_input": "2025-04-25T21:46:43.304822Z",
     "iopub.status.busy": "2025-04-25T21:46:43.304484Z",
     "iopub.status.idle": "2025-04-25T21:46:43.311339Z",
     "shell.execute_reply": "2025-04-25T21:46:43.311035Z",
     "shell.execute_reply.started": "2025-04-25T21:46:43.304809Z"
    }
   },
   "outputs": [],
   "source": [
    "# DF_log_normalizedCounts_norm.isna().any().value_counts()"
   ]
  },
  {
   "cell_type": "code",
   "execution_count": 35,
   "metadata": {
    "execution": {
     "iopub.execute_input": "2025-04-25T21:46:43.311945Z",
     "iopub.status.busy": "2025-04-25T21:46:43.311815Z",
     "iopub.status.idle": "2025-04-25T21:46:43.318564Z",
     "shell.execute_reply": "2025-04-25T21:46:43.318249Z",
     "shell.execute_reply.started": "2025-04-25T21:46:43.311933Z"
    }
   },
   "outputs": [
    {
     "data": {
      "text/plain": [
       "False    123\n",
       "dtype: int64"
      ]
     },
     "execution_count": 35,
     "metadata": {},
     "output_type": "execute_result"
    }
   ],
   "source": [
    "DF_log_tpm_norm.isna().any().value_counts()"
   ]
  },
  {
   "cell_type": "markdown",
   "metadata": {
    "tags": []
   },
   "source": [
    "## Save final datasets"
   ]
  },
  {
   "cell_type": "code",
   "execution_count": 36,
   "metadata": {
    "execution": {
     "iopub.execute_input": "2025-04-25T21:46:43.319191Z",
     "iopub.status.busy": "2025-04-25T21:46:43.319060Z",
     "iopub.status.idle": "2025-04-25T21:47:02.728442Z",
     "shell.execute_reply": "2025-04-25T21:47:02.727983Z",
     "shell.execute_reply.started": "2025-04-25T21:46:43.319179Z"
    }
   },
   "outputs": [],
   "source": [
    "# logTPM_qc_file = path.join('QC_Files','log_tpm.csv')\n",
    "# logTPM_norm_file = path.join('QC_Files','log_tpm_norm.csv')\n",
    "# # logNormalizedCounts_qc_file = path.join('data','processed_data','log_normalizedCounts.csv')\n",
    "# # logNormalizedCounts_norm_file = path.join('data','processed_data','log_normalizedCounts_norm.csv')\n",
    "# final_metadata_file = path.join('data','processed_data','metadata.tsv')\n",
    "# final_metadata_all_file = path.join('data','interim','metadata_qc_part2_all.tsv')\n",
    "\n",
    "\n",
    "# DF_log_tpm_final.to_csv(logTPM_qc_file)\n",
    "# DF_log_tpm_norm.to_csv(logTPM_norm_file)\n",
    "# # DF_log_normalizedCounts.to_csv(logNormalizedCounts_qc_file)\n",
    "# # DF_log_normalizedCounts_norm.to_csv(logNormalizedCounts_norm_file)\n",
    "# DF_metadata_final.to_csv(final_metadata_file, sep='\\t')\n",
    "# DF_metadata_all.to_csv(final_metadata_all_file, sep='\\t')"
   ]
  },
  {
   "cell_type": "code",
   "execution_count": 38,
   "metadata": {
    "execution": {
     "iopub.execute_input": "2025-04-25T21:47:02.729150Z",
     "iopub.status.busy": "2025-04-25T21:47:02.729015Z",
     "iopub.status.idle": "2025-04-25T21:47:02.749242Z",
     "shell.execute_reply": "2025-04-25T21:47:02.748861Z",
     "shell.execute_reply.started": "2025-04-25T21:47:02.729138Z"
    }
   },
   "outputs": [],
   "source": [
    "final_metadata_file = path.join('final_metadata.tsv')\n",
    "logTPM_qc_file = path.join('log_tpm.csv')\n",
    "logTPM_norm_file = path.join('log_tpm_norm.csv')\n",
    "\n",
    "DF_metadata_final.to_csv(final_metadata_file, sep='\\t')\n",
    "DF_log_tpm_final.to_csv(logTPM_qc_file)\n",
    "DF_log_tpm_norm.to_csv(logTPM_norm_file)"
   ]
  },
  {
   "cell_type": "code",
   "execution_count": null,
   "metadata": {},
   "outputs": [],
   "source": []
  }
 ],
 "metadata": {
  "kernelspec": {
   "display_name": "Python 3",
   "language": "python",
   "name": "python3"
  },
  "language_info": {
   "codemirror_mode": {
    "name": "ipython",
    "version": 3
   },
   "file_extension": ".py",
   "mimetype": "text/x-python",
   "name": "python",
   "nbconvert_exporter": "python",
   "pygments_lexer": "ipython3",
   "version": "3.8.10"
  },
  "toc": {
   "base_numbering": 1,
   "nav_menu": {},
   "number_sections": true,
   "sideBar": true,
   "skip_h1_title": false,
   "title_cell": "Table of Contents",
   "title_sidebar": "Contents",
   "toc_cell": true,
   "toc_position": {},
   "toc_section_display": true,
   "toc_window_display": false
  }
 },
 "nbformat": 4,
 "nbformat_minor": 4
}
