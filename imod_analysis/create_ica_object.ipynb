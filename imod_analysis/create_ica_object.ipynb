{
 "cells": [
  {
   "cell_type": "code",
   "execution_count": null,
   "id": "e829eb4e",
   "metadata": {},
   "outputs": [],
   "source": [
    "import numpy as np\n",
    "import matplotlib.pyplot as plt\n",
    "import pandas as pd\n",
    "from pymodulon.core import IcaData\n",
    "from pymodulon import example_data\n",
    "from pymodulon.io import save_to_json, load_json_model\n",
    "from pymodulon.enrichment import *"
   ]
  },
  {
   "cell_type": "markdown",
   "id": "6b564100",
   "metadata": {},
   "source": [
    "d"
   ]
  },
  {
   "cell_type": "markdown",
   "id": "72f20b9b",
   "metadata": {},
   "source": [
    "### Create ICA object"
   ]
  },
  {
   "cell_type": "code",
   "execution_count": null,
   "id": "3217f61f",
   "metadata": {},
   "outputs": [],
   "source": [
    "tpm = pd.read_csv('../data/ICA_data/log_tpm_norm.csv',index_col='gene_id')\n",
    "#gene_table = pd.read_csv('../data/Annotations/yarrowia_NCBI_table.csv',index_col='Locus tag')\n",
    "sample_table = pd.read_table('../data/ICA_data/metadata.tsv',index_col='ID')\n",
    "A = pd.read_csv('../data/ICA_data/A.csv',index_col='Unnamed: 0')\n",
    "M = pd.read_csv('../data/ICA_data/M.csv',index_col='gene_id')\n",
    "M.index = [w.replace('gene-','') for w in M.index]\n",
    "tpm.index = [w.replace('gene-','') for w in tpm.index]\n",
    "TRN = pd.read_csv('../data/Annotations/yarrowiaTRN.csv',index_col = 'Unnamed: 0')\n"
   ]
  },
  {
   "cell_type": "code",
   "execution_count": null,
   "id": "9b87d31c",
   "metadata": {},
   "outputs": [],
   "source": [
    "'''\n",
    "Generate gene table\n",
    "'''\n",
    "\n",
    "from pymodulon.gene_util import *\n",
    "\n",
    "yl_gene_table = gff2pandas('../data/Sequences/W29.gff',index='locus_tag')\n",
    "bbh_results = pd.read_csv('../data/blast/bbh/homologue_maps.csv',index_col='Unnamed: 0')\n",
    "\n",
    "bbh_results = bbh_results.rename(columns={'subject':'locus_tag'}) \n",
    "bbh_results = bbh_results[['gene','locus_tag','PID','COV','BBH','sacc_gene_name', 'sacc_gene_product']]\n"
   ]
  },
  {
   "cell_type": "code",
   "execution_count": null,
   "id": "f130811e",
   "metadata": {},
   "outputs": [],
   "source": [
    "yl_gene_table = yl_gene_table.merge(bbh_results, on='locus_tag', how='left').set_index('locus_tag')\n"
   ]
  },
  {
   "cell_type": "code",
   "execution_count": null,
   "id": "975cbbea",
   "metadata": {},
   "outputs": [],
   "source": [
    "yl_gene_table"
   ]
  },
  {
   "cell_type": "markdown",
   "id": "ad0355db",
   "metadata": {},
   "source": [
    "### Get COG categories"
   ]
  },
  {
   "cell_type": "code",
   "execution_count": null,
   "id": "b2212666",
   "metadata": {},
   "outputs": [],
   "source": [
    "from Bio import Entrez, SeqIO\n",
    "import pandas as pd\n",
    "\n",
    "Entrez.email = \"kkrishnan@ucsd.edu\"\n",
    "\n",
    "def fetch_protein_fasta(accession):\n",
    "    try:\n",
    "        handle = Entrez.efetch(db=\"protein\", id=accession, rettype=\"fasta\", retmode=\"text\")\n",
    "        return handle.read()\n",
    "    except:\n",
    "        return None\n",
    "\n",
    "# # Extract unique protein accessions from your dataframe\n",
    "# protein_ids = yl_gene_table['ncbi_protein'].dropna().unique()\n",
    "\n",
    "# # Download protein sequences to a file for eggNOG-mapper\n",
    "# with open(\"yarrowia_proteins.faa\", \"w\") as out_f:\n",
    "#     for acc in protein_ids:\n",
    "#         fasta = fetch_protein_fasta(acc)\n",
    "#         if fasta:\n",
    "#             out_f.write(fasta)\n"
   ]
  },
  {
   "cell_type": "markdown",
   "id": "b20b6109",
   "metadata": {},
   "source": [
    "### Map COGs"
   ]
  },
  {
   "cell_type": "code",
   "execution_count": null,
   "id": "b6c61dd3",
   "metadata": {},
   "outputs": [],
   "source": [
    "cogs = pd.read_csv('../data/eggnog/eggnog.tsv', sep='\\t', skiprows=4)  # Skip the 3 `##` lines + 1 blank\n",
    "cogs = cogs[['#query','COG_category','Description','Preferred_name','GOs','PFAMs','KEGG_Pathway','KEGG_Module','BRITE']]\n",
    "cogs = cogs.rename(columns={'#query':'locus_tag'})\n",
    "\n",
    "yl_gene_table = yl_gene_table.merge(cogs, on='locus_tag', how='left').set_index('locus_tag')\n"
   ]
  },
  {
   "cell_type": "markdown",
   "id": "93e258eb",
   "metadata": {},
   "source": [
    "MAP CLB to W29 genes"
   ]
  },
  {
   "cell_type": "code",
   "execution_count": null,
   "id": "bd4fb18d",
   "metadata": {},
   "outputs": [],
   "source": [
    "from compare_genomes import reciprocal_best_hits\n",
    "\n",
    "from Bio import SeqIO\n",
    "\n",
    "def extract_proteins_from_gbff(gbff_path, output_fasta):\n",
    "    with open(output_fasta, \"w\") as out_f:\n",
    "        for record in SeqIO.parse(gbff_path, \"genbank\"):\n",
    "            for feature in record.features:\n",
    "                if feature.type == \"CDS\" and \"translation\" in feature.qualifiers:\n",
    "                    protein_seq = feature.qualifiers[\"translation\"][0]\n",
    "                    gene_id = feature.qualifiers.get(\"locus_tag\", [\"unknown\"])[0]\n",
    "                    out_f.write(f\">{gene_id}\\n{protein_seq}\\n\")\n",
    "\n",
    "# Example usage:\n",
    "#extract_proteins_from_gbff(\"../data/Sequences/CLIB122.gbff\", \"CLIB122_proteins.faa\")\n",
    "#extract_proteins_from_gbff(\"../data/Sequences/W29.gbff\", \"W29_proteins.faa\")\n",
    "\n",
    "#df = reciprocal_best_hits(\"genomeA_proteins.faa\", \"genomeB_proteins.faa\")"
   ]
  },
  {
   "cell_type": "code",
   "execution_count": null,
   "id": "f13334c4",
   "metadata": {},
   "outputs": [],
   "source": [
    "# df = reciprocal_best_hits(\"CLIB122_proteins.faa\", \"W29_proteins.faa\")\n",
    "\n",
    "# df"
   ]
  },
  {
   "cell_type": "code",
   "execution_count": null,
   "id": "beafe96c",
   "metadata": {},
   "outputs": [],
   "source": [
    "#df.to_csv('cl_w29_protein_maps.tsv',sep='\\t')\n",
    "\n",
    "df = pd.read_csv('cl_w29_protein_maps.tsv',sep='\\t',index_col=0)\n",
    "df\n"
   ]
  },
  {
   "cell_type": "markdown",
   "id": "1878c173",
   "metadata": {},
   "source": [
    "Create a new TRN mapping\n",
    "\n"
   ]
  },
  {
   "cell_type": "code",
   "execution_count": null,
   "id": "9da034db",
   "metadata": {},
   "outputs": [],
   "source": [
    "trn = pd.read_csv('../data/Annotations/yarrowiaTRN.csv',index_col='Unnamed: 0')\n",
    "\n",
    "gene_map = []\n",
    "for gene in trn['gene_id'].tolist():\n",
    "    if(df[df['gene_a']==gene].shape[0]>0):\n",
    "        gene_map.append(df[df['gene_a']==gene]['gene_b'].tolist()[0])\n",
    "    else:\n",
    "        gene_map.append('NA')   \n",
    "\n",
    "trn['W29_gene_map'] = gene_map\n",
    "trn = trn[['regulator','W29_gene_map']].rename(columns={'W29_gene_map':'gene_id'})\n",
    "\n",
    "\n"
   ]
  },
  {
   "cell_type": "code",
   "execution_count": null,
   "id": "5475394f",
   "metadata": {},
   "outputs": [],
   "source": [
    "tpm"
   ]
  },
  {
   "cell_type": "markdown",
   "id": "35a6ac5f",
   "metadata": {},
   "source": [
    "### Create ICA data object"
   ]
  },
  {
   "cell_type": "code",
   "execution_count": null,
   "id": "0e352bd3",
   "metadata": {},
   "outputs": [],
   "source": [
    "from pymodulon.core import IcaData\n",
    "\n",
    "ica_data = IcaData(M,A,trn=trn,threshold_method='dagostino')\n",
    "\n",
    "ica_data.gene_table = yl_gene_table\n",
    "ica_data.X = tpm\n",
    "ica_data.sample_table = sample_table\n"
   ]
  },
  {
   "cell_type": "markdown",
   "id": "fc63530a",
   "metadata": {},
   "source": [
    "Perform regulon enrichments\n"
   ]
  },
  {
   "cell_type": "code",
   "execution_count": null,
   "id": "0a07786d",
   "metadata": {},
   "outputs": [],
   "source": [
    "from enrichment import *\n",
    "\n",
    "imod_table = pd.DataFrame()\n",
    "sacc_enrich = []\n",
    "\n",
    "for imod in ica_data.M.columns:\n",
    "    enrichs = compute_trn_enrichment(\n",
    "        ica_data.view_imodulon(imod).index.tolist(),\n",
    "        ica_data.gene_names,\n",
    "        trn\n",
    "    )\n",
    "\n",
    "    if not enrichs.empty:\n",
    "        ser = enrichs.iloc[0]              # first row as a Series\n",
    "        imod_table[imod] = ser             # scores → column\n",
    "        sacc_enrich.append(ser.name)       # row label → list\n",
    "    else:\n",
    "        # keep the column but fill with NaN so shapes stay consistent\n",
    "        imod_table[imod] = pd.Series(\n",
    "            np.nan,\n",
    "            index=imod_table.index,        # match existing index (may be empty the first time)\n",
    "            dtype=float\n",
    "        )\n",
    "        sacc_enrich.append('N.A')          # or np.nan if you prefer\n",
    "\n",
    "# imod_table  → columns = imod IDs, index = TFs (union over all Series)\n",
    "# sacc_enrich → list of first-row labels (or 'N.A' for empty enrichs)\n"
   ]
  },
  {
   "cell_type": "code",
   "execution_count": null,
   "id": "ec7c8ddb",
   "metadata": {},
   "outputs": [],
   "source": [
    "imod_table.loc['Yeast_TF',:] = sacc_enrich\n",
    "\n",
    "imod_table.to_csv('yeast_enrichments.tsv',sep='\\t')"
   ]
  },
  {
   "cell_type": "code",
   "execution_count": null,
   "id": "580b66ac",
   "metadata": {},
   "outputs": [],
   "source": [
    "enrichment_details = imod_table.copy(deep=False)\n",
    "\n",
    "enrichment_details"
   ]
  },
  {
   "cell_type": "code",
   "execution_count": null,
   "id": "3d4bea0a",
   "metadata": {},
   "outputs": [],
   "source": [
    "def compute_row_threshold(row, percentile=99.75, min_count=100):\n",
    "    \"\"\"\n",
    "    Given a Pandas Series (one row of data), compute a threshold T with these rules:\n",
    "      1. Let abs_vals = sorted absolute values of `row`.\n",
    "      2. Let T_perc = np.percentile(abs_vals, percentile).\n",
    "      3. Count how many entries satisfy |value| > T_perc:\n",
    "           count_above = sum(abs_vals > T_perc).\n",
    "         - If count_above < min_count, return T_perc.\n",
    "         - Otherwise, return the (min_count)-th largest absolute value.\n",
    "    \"\"\"\n",
    "    abs_vals = np.abs(row.values)\n",
    "    \n",
    "    # 1) Find the X-th percentile threshold of abs_vals:\n",
    "    T_perc = np.percentile(abs_vals, percentile)\n",
    "    \n",
    "    # 2) How many entries are strictly greater than that percentile?\n",
    "    count_above = np.sum(abs_vals > T_perc)\n",
    "    \n",
    "    if count_above < min_count:\n",
    "        return T_perc\n",
    "    else:\n",
    "        # Sort descending, then take the (min_count)-th entry\n",
    "        sorted_desc = np.sort(abs_vals)[::-1]\n",
    "        # If there are at least min_count entries, pick that one.\n",
    "        if len(sorted_desc) >= min_count:\n",
    "            return sorted_desc[min_count-1]\n",
    "        else:\n",
    "            # In the rare case that the row has fewer than min_count entries,\n",
    "            # we just pick the smallest absolute value (i.e. the last one in sorted_desc).\n",
    "            return sorted_desc[-1]\n",
    "        \n",
    "        \n",
    "thresholds = ica_data.M.T.apply(compute_row_threshold,\n",
    "                    axis=1)"
   ]
  },
  {
   "cell_type": "code",
   "execution_count": null,
   "id": "b2a9d7ca",
   "metadata": {},
   "outputs": [],
   "source": [
    "### Plot COG categories"
   ]
  },
  {
   "cell_type": "code",
   "execution_count": null,
   "id": "c7018538",
   "metadata": {},
   "outputs": [],
   "source": [
    "from collections import Counter\n",
    "import matplotlib.pyplot as plt\n",
    "\n",
    "majority_cogs = []\n",
    "second_majority_cogs = []\n",
    "majority_counts = []\n",
    "second_majority_counts = []\n",
    "imodulon_cog_df = pd.DataFrame({'imodulon': list(range(ica_data.M.shape[1]))})\n",
    "imodulon_cog_df['majority_cog'] = None\n",
    "imodulon_cog_df['second_majority_cog'] = None\n",
    "imodulon_cog_df['majority_count'] = 0\n",
    "imodulon_cog_df['second_majority_count'] = 0\n",
    "# Create a list of all imodulon IDs \n",
    "all_imodulon_ids = range(ica_data.M.shape[1])\n",
    "# Iterate through each imodulon and compute the majority and second majority COG categories                 \n",
    "for imod_id in all_imodulon_ids:\n",
    "    imod_df = ica_data.view_imodulon(imod_id)\n",
    "    cogs = imod_df['COG_category'].dropna()\n",
    "    cog_counts = Counter(cogs)\n",
    "    if len(cog_counts) == 0:\n",
    "        majority_counts.append(0)\n",
    "        second_majority_counts.append(0)\n",
    "        majority_cogs.append(None)\n",
    "        second_majority_cogs.append(None)\n",
    "        continue\n",
    "    most_common = cog_counts.most_common(2)\n",
    "    majority_counts.append(most_common[0][1])\n",
    "    second_majority_counts.append(most_common[1][1] if len(most_common) > 1 else 0)\n",
    "    majority_cogs.append(most_common[0][0])\n",
    "    second_majority_cogs.append(most_common[1][0] if len(most_common) > 1 else None)\n",
    "\n",
    "imodulon_cog_df['majority_count'] = majority_counts\n",
    "imodulon_cog_df['second_majority_count'] = second_majority_counts\n",
    "imodulon_cog_df['majority_cog'] = majority_cogs\n",
    "imodulon_cog_df['second_majority_cog'] = second_majority_cogs\n",
    "# Display the updated DataFrame for inspection\n",
    "imodulon_cog_df[['imodulon', 'majority_cog', 'majority_count', 'second_majority_cog', 'second_majority_count']].head()\n"
   ]
  },
  {
   "cell_type": "code",
   "execution_count": null,
   "id": "2f7a58e0",
   "metadata": {},
   "outputs": [],
   "source": [
    "import matplotlib.pyplot as plt\n",
    "import seaborn as sns\n",
    "\n",
    "# Prepare data\n",
    "plot_df = imodulon_cog_df.copy()\n",
    "plot_df['imodulon'] = plot_df['imodulon'].astype(int)\n",
    "plot_df = plot_df.sort_values('imodulon')\n",
    "plot_df['imodulon'] = plot_df['imodulon'].astype(str)\n",
    "\n",
    "# Calculate total gene count per iModulon\n",
    "plot_df['total_count'] = plot_df['majority_count'] + plot_df['second_majority_count']\n",
    "\n",
    "# Compute fraction\n",
    "plot_df['majority_fraction'] = plot_df['majority_count'] / plot_df['total_count']\n",
    "plot_df['second_majority_fraction'] = plot_df['second_majority_count'] / plot_df['total_count']\n",
    "\n",
    "# Get unique COGs from both columns\n",
    "all_cogs = pd.unique(plot_df[['majority_cog', 'second_majority_cog']].values.ravel('K'))\n",
    "all_cogs = [c for c in all_cogs if pd.notnull(c)]\n",
    "cog_palette = dict(zip(all_cogs, sns.color_palette('tab20', len(all_cogs))))\n",
    "\n",
    "fig, ax = plt.subplots(figsize=(18, 6))\n",
    "\n",
    "x = range(len(plot_df))\n",
    "bar_width = 0.4\n",
    "\n",
    "# Plot majority COG fractions\n",
    "for i, row in plot_df.iterrows():\n",
    "    cog = row['majority_cog']\n",
    "    if pd.notnull(cog):\n",
    "        ax.bar(x[i] - bar_width / 2, row['majority_fraction'], width=bar_width,\n",
    "               color=cog_palette[cog], label=f'Majority: {cog}', alpha=0.8)\n",
    "\n",
    "# Plot second majority COG fractions\n",
    "for i, row in plot_df.iterrows():\n",
    "    cog = row['second_majority_cog']\n",
    "    if pd.notnull(cog):\n",
    "        ax.bar(x[i] + bar_width / 2, row['second_majority_fraction'], width=bar_width,\n",
    "               color=cog_palette[cog], label=f'Second: {cog}', alpha=0.4, hatch='//')\n",
    "\n",
    "# Remove duplicate legend entries\n",
    "handles, labels = ax.get_legend_handles_labels()\n",
    "unique = dict()\n",
    "for h, l in zip(handles, labels):\n",
    "    if l not in unique:\n",
    "        unique[l] = h\n",
    "ax.legend(unique.values(), unique.keys(), loc='upper right', bbox_to_anchor=(1.15, 1), fontsize='small')\n",
    "\n",
    "ax.set_xticks(x)\n",
    "ax.set_xticklabels(plot_df['imodulon'], rotation=90)\n",
    "ax.set_xlabel('iModulon')\n",
    "ax.set_ylabel('Fraction of Genes')\n",
    "ax.set_title('Fraction of Genes Assigned to Majority and Second Majority COGs per iModulon')\n",
    "plt.ylim(0, 1)\n",
    "plt.tight_layout()\n",
    "plt.show()"
   ]
  },
  {
   "cell_type": "code",
   "execution_count": null,
   "id": "6a742f2f",
   "metadata": {},
   "outputs": [],
   "source": [
    "ica_data.view_imodulon(32)[abs(ica_data.view_imodulon(32)['gene_weight'])>0.05]"
   ]
  },
  {
   "cell_type": "markdown",
   "id": "baf082c7",
   "metadata": {},
   "source": [
    "Rename iModulons and create imodulon table based on trn + COG enrichments"
   ]
  },
  {
   "cell_type": "code",
   "execution_count": null,
   "id": "ad81a963",
   "metadata": {},
   "outputs": [],
   "source": [
    "imod_table = pd.read_csv('../data/Annotations/imodulon_table.csv',index_col='iModulon')\n",
    "\n",
    "imod_table.head()"
   ]
  },
  {
   "cell_type": "code",
   "execution_count": null,
   "id": "d7ad2cb8",
   "metadata": {},
   "outputs": [],
   "source": [
    "from pymodulon.util import explained_variance\n",
    "\n",
    "ngenes = []\n",
    "exp_var = []\n",
    "thresholds = []\n",
    "\n",
    "for i in imod_table.index:\n",
    "    ngenes.append(ica_data.view_imodulon(i).shape[0])\n",
    "    exp_var.append(explained_variance(ica_data,imodulons=i))\n",
    "    thresholds.append(ica_data.thresholds[i])\n",
    "\n",
    "imod_table['ngenes'] = ngenes\n",
    "imod_table['explained_variance'] = exp_var\n",
    "imod_table['threshold'] = thresholds    \n",
    "\n"
   ]
  },
  {
   "cell_type": "code",
   "execution_count": null,
   "id": "82dd4d1b",
   "metadata": {},
   "outputs": [],
   "source": [
    "imod_table['pvalue'] = enrichment_details.loc['pvalue']\n",
    "imod_table['precision'] = enrichment_details.loc['precision']\n",
    "imod_table['recall'] = enrichment_details.loc['recall']\n",
    "imod_table['f1score'] = enrichment_details.loc['f1score']\n",
    "imod_table['TP'] = enrichment_details.loc['TP']\n",
    "imod_table['regulon_size'] = enrichment_details.loc['regulon_size']\n",
    "imod_table['gene_set_size'] = enrichment_details.loc['gene_set_size']\n",
    "imod_table['qvalue'] = enrichment_details.loc['qvalue']\n",
    "imod_table['n_regs'] = enrichment_details.loc['n_regs']\n",
    "\n",
    "\n",
    "imod_table\n",
    "\n",
    "\n"
   ]
  },
  {
   "cell_type": "code",
   "execution_count": null,
   "id": "8486ebf4",
   "metadata": {},
   "outputs": [],
   "source": [
    "enrichment_details"
   ]
  },
  {
   "cell_type": "code",
   "execution_count": null,
   "id": "c7fc8aeb",
   "metadata": {},
   "outputs": [],
   "source": [
    "ica_data.imodulon_table = imod_table"
   ]
  },
  {
   "cell_type": "markdown",
   "id": "316211c7",
   "metadata": {},
   "source": [
    "Save ica_data onject"
   ]
  },
  {
   "cell_type": "code",
   "execution_count": null,
   "id": "12422c33",
   "metadata": {},
   "outputs": [],
   "source": [
    "save_to_json(ica_data,'../data/yarrowia2025.json')"
   ]
  },
  {
   "cell_type": "code",
   "execution_count": null,
   "id": "63074a59",
   "metadata": {},
   "outputs": [],
   "source": [
    "ica_data.imodulon_table"
   ]
  },
  {
   "cell_type": "code",
   "execution_count": null,
   "id": "558f2afb",
   "metadata": {},
   "outputs": [],
   "source": []
  },
  {
   "cell_type": "code",
   "execution_count": null,
   "id": "f5dbb24a",
   "metadata": {},
   "outputs": [],
   "source": []
  },
  {
   "cell_type": "code",
   "execution_count": null,
   "id": "7ed71a7c",
   "metadata": {},
   "outputs": [],
   "source": []
  },
  {
   "cell_type": "code",
   "execution_count": null,
   "id": "9cd87f7a",
   "metadata": {},
   "outputs": [],
   "source": []
  },
  {
   "cell_type": "code",
   "execution_count": null,
   "id": "c4874668",
   "metadata": {},
   "outputs": [],
   "source": []
  },
  {
   "cell_type": "code",
   "execution_count": null,
   "id": "024c3046",
   "metadata": {},
   "outputs": [],
   "source": []
  },
  {
   "cell_type": "code",
   "execution_count": null,
   "id": "f90e145a",
   "metadata": {},
   "outputs": [],
   "source": []
  },
  {
   "cell_type": "code",
   "execution_count": null,
   "id": "b8c25250",
   "metadata": {},
   "outputs": [],
   "source": []
  },
  {
   "cell_type": "code",
   "execution_count": null,
   "id": "6bb97266",
   "metadata": {},
   "outputs": [],
   "source": []
  },
  {
   "cell_type": "code",
   "execution_count": null,
   "id": "af2d5b94",
   "metadata": {},
   "outputs": [],
   "source": []
  },
  {
   "cell_type": "code",
   "execution_count": null,
   "id": "f46199c6",
   "metadata": {},
   "outputs": [],
   "source": []
  },
  {
   "cell_type": "code",
   "execution_count": null,
   "id": "91046290",
   "metadata": {},
   "outputs": [],
   "source": []
  },
  {
   "cell_type": "code",
   "execution_count": null,
   "id": "ade3314a",
   "metadata": {},
   "outputs": [],
   "source": []
  },
  {
   "cell_type": "code",
   "execution_count": null,
   "id": "34e7e6da",
   "metadata": {},
   "outputs": [],
   "source": []
  },
  {
   "cell_type": "code",
   "execution_count": null,
   "id": "eef51d1a",
   "metadata": {},
   "outputs": [],
   "source": []
  },
  {
   "cell_type": "code",
   "execution_count": null,
   "id": "f1434737",
   "metadata": {},
   "outputs": [],
   "source": []
  },
  {
   "cell_type": "code",
   "execution_count": null,
   "id": "b8a6bc84",
   "metadata": {},
   "outputs": [],
   "source": []
  },
  {
   "cell_type": "code",
   "execution_count": null,
   "id": "20c425b1",
   "metadata": {},
   "outputs": [],
   "source": []
  },
  {
   "cell_type": "code",
   "execution_count": null,
   "id": "0ef5f6f4",
   "metadata": {},
   "outputs": [],
   "source": []
  },
  {
   "cell_type": "code",
   "execution_count": null,
   "id": "3f336db6",
   "metadata": {},
   "outputs": [],
   "source": []
  },
  {
   "cell_type": "code",
   "execution_count": null,
   "id": "aab044d3",
   "metadata": {},
   "outputs": [],
   "source": []
  },
  {
   "cell_type": "code",
   "execution_count": null,
   "id": "49533b49",
   "metadata": {},
   "outputs": [],
   "source": []
  },
  {
   "cell_type": "code",
   "execution_count": null,
   "id": "8bbeb3a7",
   "metadata": {},
   "outputs": [],
   "source": []
  },
  {
   "cell_type": "code",
   "execution_count": null,
   "id": "d11db673",
   "metadata": {},
   "outputs": [],
   "source": []
  },
  {
   "cell_type": "code",
   "execution_count": null,
   "id": "119da2d4",
   "metadata": {},
   "outputs": [],
   "source": []
  },
  {
   "cell_type": "code",
   "execution_count": null,
   "id": "a900c25a",
   "metadata": {},
   "outputs": [],
   "source": []
  },
  {
   "cell_type": "code",
   "execution_count": null,
   "id": "e0ddd3e6",
   "metadata": {},
   "outputs": [],
   "source": []
  }
 ],
 "metadata": {
  "kernelspec": {
   "display_name": "pymodulon38",
   "language": "python",
   "name": "python3"
  },
  "language_info": {
   "codemirror_mode": {
    "name": "ipython",
    "version": 3
   },
   "file_extension": ".py",
   "mimetype": "text/x-python",
   "name": "python",
   "nbconvert_exporter": "python",
   "pygments_lexer": "ipython3",
   "version": "3.8.20"
  }
 },
 "nbformat": 4,
 "nbformat_minor": 5
}
