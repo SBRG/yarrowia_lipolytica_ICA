{
 "cells": [
  {
   "cell_type": "code",
   "execution_count": 15,
   "id": "157bce7f",
   "metadata": {},
   "outputs": [],
   "source": [
    "import numpy as np\n",
    "import matplotlib.pyplot as plt\n",
    "import pandas as pd\n",
    "from pymodulon.core import IcaData\n",
    "from pymodulon import example_data\n",
    "from pymodulon.io import save_to_json, load_json_model\n",
    "from pymodulon.enrichment import *\n",
    "import plotly.express as px\n",
    "from pymodulon.plotting import *"
   ]
  },
  {
   "cell_type": "code",
   "execution_count": 16,
   "id": "acc0bb9c",
   "metadata": {},
   "outputs": [
    {
     "data": {
      "text/plain": [
       "<pymodulon.core.IcaData at 0x7f4fd6599b50>"
      ]
     },
     "execution_count": 16,
     "metadata": {},
     "output_type": "execute_result"
    }
   ],
   "source": [
    "ica_data = load_json_model('../data/yarrowia2025_fixed.json')\n",
    "\n",
    "ica_data"
   ]
  },
  {
   "cell_type": "code",
   "execution_count": 17,
   "id": "889fcb98",
   "metadata": {},
   "outputs": [
    {
     "data": {
      "text/html": [
       "<div>\n",
       "<style scoped>\n",
       "    .dataframe tbody tr th:only-of-type {\n",
       "        vertical-align: middle;\n",
       "    }\n",
       "\n",
       "    .dataframe tbody tr th {\n",
       "        vertical-align: top;\n",
       "    }\n",
       "\n",
       "    .dataframe thead th {\n",
       "        text-align: right;\n",
       "    }\n",
       "</style>\n",
       "<table border=\"1\" class=\"dataframe\">\n",
       "  <thead>\n",
       "    <tr style=\"text-align: right;\">\n",
       "      <th></th>\n",
       "      <th>iModulon Name</th>\n",
       "      <th>Descriptors</th>\n",
       "      <th>COGs</th>\n",
       "      <th>Category</th>\n",
       "      <th>ngenes</th>\n",
       "      <th>explained_variance</th>\n",
       "    </tr>\n",
       "  </thead>\n",
       "  <tbody>\n",
       "    <tr>\n",
       "      <th>0</th>\n",
       "      <td>FDH</td>\n",
       "      <td>Formate Dehydrogenase</td>\n",
       "      <td>C (Energy Production and Conversion)</td>\n",
       "      <td>Energy</td>\n",
       "      <td>58</td>\n",
       "      <td>0.011639</td>\n",
       "    </tr>\n",
       "    <tr>\n",
       "      <th>1</th>\n",
       "      <td>FKH2</td>\n",
       "      <td>chromatin regulation</td>\n",
       "      <td>A (RNA processing and modification)</td>\n",
       "      <td>Cell division</td>\n",
       "      <td>235</td>\n",
       "      <td>0.044410</td>\n",
       "    </tr>\n",
       "    <tr>\n",
       "      <th>2</th>\n",
       "      <td>Zrt_Ftr</td>\n",
       "      <td>ZRT/FTR (Zinc, iron transporters)</td>\n",
       "      <td>S (Unknown)</td>\n",
       "      <td>Transport</td>\n",
       "      <td>182</td>\n",
       "      <td>0.035740</td>\n",
       "    </tr>\n",
       "    <tr>\n",
       "      <th>3</th>\n",
       "      <td>UC20</td>\n",
       "      <td>N.A</td>\n",
       "      <td>N.A</td>\n",
       "      <td>Uncharacterized</td>\n",
       "      <td>0</td>\n",
       "      <td>0.013702</td>\n",
       "    </tr>\n",
       "    <tr>\n",
       "      <th>4</th>\n",
       "      <td>HSP3</td>\n",
       "      <td>Heat shock protein subunits</td>\n",
       "      <td>N.A</td>\n",
       "      <td>Stress</td>\n",
       "      <td>38</td>\n",
       "      <td>0.007174</td>\n",
       "    </tr>\n",
       "    <tr>\n",
       "      <th>5</th>\n",
       "      <td>UC5</td>\n",
       "      <td>N.A</td>\n",
       "      <td>O (Post translation mods, chaperons)</td>\n",
       "      <td>Uncharacterized</td>\n",
       "      <td>92</td>\n",
       "      <td>0.003345</td>\n",
       "    </tr>\n",
       "    <tr>\n",
       "      <th>6</th>\n",
       "      <td>UC4</td>\n",
       "      <td>N.A</td>\n",
       "      <td>S (Unknown)</td>\n",
       "      <td>Uncharacterized</td>\n",
       "      <td>253</td>\n",
       "      <td>0.014527</td>\n",
       "    </tr>\n",
       "    <tr>\n",
       "      <th>7</th>\n",
       "      <td>UC6</td>\n",
       "      <td>N.A</td>\n",
       "      <td>C (Energy Production and Conversion)</td>\n",
       "      <td>Uncharacterized</td>\n",
       "      <td>182</td>\n",
       "      <td>0.001548</td>\n",
       "    </tr>\n",
       "    <tr>\n",
       "      <th>8</th>\n",
       "      <td>HOT1</td>\n",
       "      <td>Osmolarity related glycerol biosynthesis</td>\n",
       "      <td>S(Unknown)</td>\n",
       "      <td>Stress</td>\n",
       "      <td>83</td>\n",
       "      <td>0.017138</td>\n",
       "    </tr>\n",
       "    <tr>\n",
       "      <th>9</th>\n",
       "      <td>UC21</td>\n",
       "      <td>N.A</td>\n",
       "      <td>N.A</td>\n",
       "      <td>Uncharacterized</td>\n",
       "      <td>184</td>\n",
       "      <td>0.001813</td>\n",
       "    </tr>\n",
       "    <tr>\n",
       "      <th>10</th>\n",
       "      <td>RME</td>\n",
       "      <td>RME1?</td>\n",
       "      <td>S (Unknown)</td>\n",
       "      <td>Cell division</td>\n",
       "      <td>69</td>\n",
       "      <td>0.009379</td>\n",
       "    </tr>\n",
       "    <tr>\n",
       "      <th>11</th>\n",
       "      <td>MET32</td>\n",
       "      <td>Methionine biosynthesis</td>\n",
       "      <td>E (Amino acid transport)</td>\n",
       "      <td>Metabolism</td>\n",
       "      <td>82</td>\n",
       "      <td>0.039350</td>\n",
       "    </tr>\n",
       "    <tr>\n",
       "      <th>12</th>\n",
       "      <td>UC10</td>\n",
       "      <td>N.A</td>\n",
       "      <td>Q (Catabolism)</td>\n",
       "      <td>Uncharacerized</td>\n",
       "      <td>116</td>\n",
       "      <td>0.035028</td>\n",
       "    </tr>\n",
       "    <tr>\n",
       "      <th>13</th>\n",
       "      <td>FeRd</td>\n",
       "      <td>Iron reductae/Iron related</td>\n",
       "      <td>S(Unknown)</td>\n",
       "      <td>Energy</td>\n",
       "      <td>103</td>\n",
       "      <td>0.006915</td>\n",
       "    </tr>\n",
       "    <tr>\n",
       "      <th>14</th>\n",
       "      <td>UC1</td>\n",
       "      <td>Contains some sugar related proteins?</td>\n",
       "      <td>S (Unknown)</td>\n",
       "      <td>Uncharacterized</td>\n",
       "      <td>75</td>\n",
       "      <td>0.009010</td>\n",
       "    </tr>\n",
       "    <tr>\n",
       "      <th>15</th>\n",
       "      <td>UC8</td>\n",
       "      <td>N.A</td>\n",
       "      <td>S (Unknown)</td>\n",
       "      <td>Uncharacterized</td>\n",
       "      <td>295</td>\n",
       "      <td>0.002949</td>\n",
       "    </tr>\n",
       "    <tr>\n",
       "      <th>16</th>\n",
       "      <td>RTG3</td>\n",
       "      <td>Mitochondrial retrograde</td>\n",
       "      <td>S (Unknown), E(Amino acid transport)</td>\n",
       "      <td>Stress</td>\n",
       "      <td>69</td>\n",
       "      <td>0.005272</td>\n",
       "    </tr>\n",
       "    <tr>\n",
       "      <th>17</th>\n",
       "      <td>UC15</td>\n",
       "      <td>N.A</td>\n",
       "      <td>S (Unknown)</td>\n",
       "      <td>Uncharacterized</td>\n",
       "      <td>191</td>\n",
       "      <td>0.005777</td>\n",
       "    </tr>\n",
       "    <tr>\n",
       "      <th>18</th>\n",
       "      <td>UC2</td>\n",
       "      <td>N.A</td>\n",
       "      <td>S (Unknown)</td>\n",
       "      <td>Uncharacterized</td>\n",
       "      <td>104</td>\n",
       "      <td>0.039261</td>\n",
       "    </tr>\n",
       "    <tr>\n",
       "      <th>19</th>\n",
       "      <td>SWI5</td>\n",
       "      <td>D (Cell cycle control)</td>\n",
       "      <td>D (Cell cycle control)</td>\n",
       "      <td>Cell division</td>\n",
       "      <td>66</td>\n",
       "      <td>0.019581</td>\n",
       "    </tr>\n",
       "    <tr>\n",
       "      <th>20</th>\n",
       "      <td>UC13</td>\n",
       "      <td>N.A</td>\n",
       "      <td>O (Post translation mods, chaperons)</td>\n",
       "      <td>Uncharacterized</td>\n",
       "      <td>173</td>\n",
       "      <td>0.003298</td>\n",
       "    </tr>\n",
       "    <tr>\n",
       "      <th>21</th>\n",
       "      <td>HSP1</td>\n",
       "      <td>Heat shock protein subunits</td>\n",
       "      <td>S (Unknown)</td>\n",
       "      <td>Stress</td>\n",
       "      <td>160</td>\n",
       "      <td>0.067963</td>\n",
       "    </tr>\n",
       "    <tr>\n",
       "      <th>22</th>\n",
       "      <td>UC14</td>\n",
       "      <td>N.A</td>\n",
       "      <td>P, H (Ion, Cofactor transport)</td>\n",
       "      <td>Transport</td>\n",
       "      <td>122</td>\n",
       "      <td>0.005523</td>\n",
       "    </tr>\n",
       "    <tr>\n",
       "      <th>23</th>\n",
       "      <td>DAL81</td>\n",
       "      <td>Ammonia degradation/Nitrogen related</td>\n",
       "      <td>E (Amino acid transport)</td>\n",
       "      <td>Metabolism</td>\n",
       "      <td>114</td>\n",
       "      <td>0.020548</td>\n",
       "    </tr>\n",
       "    <tr>\n",
       "      <th>24</th>\n",
       "      <td>UC22</td>\n",
       "      <td>N.A</td>\n",
       "      <td>N.A</td>\n",
       "      <td>Uncharacterized</td>\n",
       "      <td>63</td>\n",
       "      <td>0.007317</td>\n",
       "    </tr>\n",
       "    <tr>\n",
       "      <th>25</th>\n",
       "      <td>UC23</td>\n",
       "      <td>N.A</td>\n",
       "      <td>N.A</td>\n",
       "      <td>Uncharacterized</td>\n",
       "      <td>24</td>\n",
       "      <td>0.013921</td>\n",
       "    </tr>\n",
       "    <tr>\n",
       "      <th>26</th>\n",
       "      <td>UC3</td>\n",
       "      <td>N.A</td>\n",
       "      <td>G(Carbohydrate transport and metabolism)</td>\n",
       "      <td>Uncharacterized</td>\n",
       "      <td>265</td>\n",
       "      <td>0.030003</td>\n",
       "    </tr>\n",
       "    <tr>\n",
       "      <th>27</th>\n",
       "      <td>UC11</td>\n",
       "      <td>N.A</td>\n",
       "      <td>- (Unknown)</td>\n",
       "      <td>Uncharacterized</td>\n",
       "      <td>133</td>\n",
       "      <td>0.002340</td>\n",
       "    </tr>\n",
       "    <tr>\n",
       "      <th>28</th>\n",
       "      <td>UC12</td>\n",
       "      <td>N.A</td>\n",
       "      <td>G(Carbohydrate transport and metabolism)</td>\n",
       "      <td>Uncharacterized</td>\n",
       "      <td>107</td>\n",
       "      <td>0.005721</td>\n",
       "    </tr>\n",
       "    <tr>\n",
       "      <th>29</th>\n",
       "      <td>GCN4</td>\n",
       "      <td>Amino acid biosynthesis</td>\n",
       "      <td>E (Amino acid transport)</td>\n",
       "      <td>Metabolism</td>\n",
       "      <td>219</td>\n",
       "      <td>0.012036</td>\n",
       "    </tr>\n",
       "    <tr>\n",
       "      <th>30</th>\n",
       "      <td>ADR1</td>\n",
       "      <td>CRP like - non glucose carbon metabolism</td>\n",
       "      <td>Q (Catabolism)</td>\n",
       "      <td>Metabolism</td>\n",
       "      <td>178</td>\n",
       "      <td>0.071492</td>\n",
       "    </tr>\n",
       "    <tr>\n",
       "      <th>31</th>\n",
       "      <td>UC16</td>\n",
       "      <td>N.A</td>\n",
       "      <td>A(RNA processing), E (Amino acid transport)</td>\n",
       "      <td>Uncharacterized</td>\n",
       "      <td>41</td>\n",
       "      <td>0.013641</td>\n",
       "    </tr>\n",
       "    <tr>\n",
       "      <th>32</th>\n",
       "      <td>HSP2</td>\n",
       "      <td>Heat shock protein subunits</td>\n",
       "      <td>S(Unknown), G(Catabolism)</td>\n",
       "      <td>Stress</td>\n",
       "      <td>94</td>\n",
       "      <td>0.006626</td>\n",
       "    </tr>\n",
       "    <tr>\n",
       "      <th>33</th>\n",
       "      <td>CAT8</td>\n",
       "      <td>CRP like - non glucose carbon metabolism</td>\n",
       "      <td>C, G (Catabolism)</td>\n",
       "      <td>Metabolism</td>\n",
       "      <td>88</td>\n",
       "      <td>0.011815</td>\n",
       "    </tr>\n",
       "    <tr>\n",
       "      <th>34</th>\n",
       "      <td>MBP1</td>\n",
       "      <td>Cell phase related regulation</td>\n",
       "      <td>L ( Replication, Recombination, Repair)</td>\n",
       "      <td>Cell division</td>\n",
       "      <td>198</td>\n",
       "      <td>0.021747</td>\n",
       "    </tr>\n",
       "    <tr>\n",
       "      <th>35</th>\n",
       "      <td>UC9</td>\n",
       "      <td>N.A</td>\n",
       "      <td>S (Unknown)</td>\n",
       "      <td>Uncharacterized</td>\n",
       "      <td>201</td>\n",
       "      <td>0.130308</td>\n",
       "    </tr>\n",
       "    <tr>\n",
       "      <th>36</th>\n",
       "      <td>UC19</td>\n",
       "      <td>N.A</td>\n",
       "      <td>N.A</td>\n",
       "      <td>Uncharacterized</td>\n",
       "      <td>0</td>\n",
       "      <td>0.031540</td>\n",
       "    </tr>\n",
       "    <tr>\n",
       "      <th>37</th>\n",
       "      <td>UC24</td>\n",
       "      <td>N.A</td>\n",
       "      <td>N.A</td>\n",
       "      <td>Uncharacterized</td>\n",
       "      <td>162</td>\n",
       "      <td>0.025759</td>\n",
       "    </tr>\n",
       "    <tr>\n",
       "      <th>38</th>\n",
       "      <td>IFH1</td>\n",
       "      <td>Ribsomal</td>\n",
       "      <td>J (Translation/Ribosomal)</td>\n",
       "      <td>Translation</td>\n",
       "      <td>61</td>\n",
       "      <td>0.056417</td>\n",
       "    </tr>\n",
       "    <tr>\n",
       "      <th>39</th>\n",
       "      <td>UC17</td>\n",
       "      <td>N.A</td>\n",
       "      <td>E (Amino acid transport)</td>\n",
       "      <td>Transport</td>\n",
       "      <td>51</td>\n",
       "      <td>0.008132</td>\n",
       "    </tr>\n",
       "    <tr>\n",
       "      <th>40</th>\n",
       "      <td>UC18</td>\n",
       "      <td>N.A</td>\n",
       "      <td>G(Carbohydrate transport and metabolism), T(Si...</td>\n",
       "      <td>Uncharacterized</td>\n",
       "      <td>87</td>\n",
       "      <td>0.006744</td>\n",
       "    </tr>\n",
       "    <tr>\n",
       "      <th>41</th>\n",
       "      <td>UC25</td>\n",
       "      <td>N.A</td>\n",
       "      <td>N.A</td>\n",
       "      <td>Uncharacterized</td>\n",
       "      <td>184</td>\n",
       "      <td>0.004805</td>\n",
       "    </tr>\n",
       "  </tbody>\n",
       "</table>\n",
       "</div>"
      ],
      "text/plain": [
       "   iModulon Name                               Descriptors  \\\n",
       "0            FDH                     Formate Dehydrogenase   \n",
       "1           FKH2                      chromatin regulation   \n",
       "2        Zrt_Ftr         ZRT/FTR (Zinc, iron transporters)   \n",
       "3           UC20                                       N.A   \n",
       "4           HSP3               Heat shock protein subunits   \n",
       "5            UC5                                       N.A   \n",
       "6            UC4                                       N.A   \n",
       "7            UC6                                       N.A   \n",
       "8           HOT1  Osmolarity related glycerol biosynthesis   \n",
       "9           UC21                                       N.A   \n",
       "10           RME                                     RME1?   \n",
       "11         MET32                   Methionine biosynthesis   \n",
       "12          UC10                                       N.A   \n",
       "13          FeRd                Iron reductae/Iron related   \n",
       "14           UC1     Contains some sugar related proteins?   \n",
       "15           UC8                                       N.A   \n",
       "16          RTG3                  Mitochondrial retrograde   \n",
       "17          UC15                                       N.A   \n",
       "18           UC2                                       N.A   \n",
       "19          SWI5                    D (Cell cycle control)   \n",
       "20          UC13                                       N.A   \n",
       "21          HSP1               Heat shock protein subunits   \n",
       "22          UC14                                       N.A   \n",
       "23         DAL81      Ammonia degradation/Nitrogen related   \n",
       "24          UC22                                       N.A   \n",
       "25          UC23                                       N.A   \n",
       "26           UC3                                       N.A   \n",
       "27          UC11                                       N.A   \n",
       "28          UC12                                       N.A   \n",
       "29          GCN4                   Amino acid biosynthesis   \n",
       "30          ADR1  CRP like - non glucose carbon metabolism   \n",
       "31          UC16                                       N.A   \n",
       "32          HSP2               Heat shock protein subunits   \n",
       "33          CAT8  CRP like - non glucose carbon metabolism   \n",
       "34          MBP1             Cell phase related regulation   \n",
       "35           UC9                                       N.A   \n",
       "36          UC19                                       N.A   \n",
       "37          UC24                                       N.A   \n",
       "38          IFH1                                  Ribsomal   \n",
       "39          UC17                                       N.A   \n",
       "40          UC18                                       N.A   \n",
       "41          UC25                                       N.A   \n",
       "\n",
       "                                                 COGs         Category  \\\n",
       "0                C (Energy Production and Conversion)           Energy   \n",
       "1                 A (RNA processing and modification)    Cell division   \n",
       "2                                         S (Unknown)        Transport   \n",
       "3                                                 N.A  Uncharacterized   \n",
       "4                                                 N.A           Stress   \n",
       "5                O (Post translation mods, chaperons)  Uncharacterized   \n",
       "6                                         S (Unknown)  Uncharacterized   \n",
       "7                C (Energy Production and Conversion)  Uncharacterized   \n",
       "8                                          S(Unknown)           Stress   \n",
       "9                                                 N.A  Uncharacterized   \n",
       "10                                        S (Unknown)    Cell division   \n",
       "11                           E (Amino acid transport)       Metabolism   \n",
       "12                                     Q (Catabolism)   Uncharacerized   \n",
       "13                                         S(Unknown)           Energy   \n",
       "14                                        S (Unknown)  Uncharacterized   \n",
       "15                                        S (Unknown)  Uncharacterized   \n",
       "16               S (Unknown), E(Amino acid transport)           Stress   \n",
       "17                                        S (Unknown)  Uncharacterized   \n",
       "18                                        S (Unknown)  Uncharacterized   \n",
       "19                             D (Cell cycle control)    Cell division   \n",
       "20               O (Post translation mods, chaperons)  Uncharacterized   \n",
       "21                                        S (Unknown)           Stress   \n",
       "22                     P, H (Ion, Cofactor transport)        Transport   \n",
       "23                           E (Amino acid transport)       Metabolism   \n",
       "24                                                N.A  Uncharacterized   \n",
       "25                                                N.A  Uncharacterized   \n",
       "26           G(Carbohydrate transport and metabolism)  Uncharacterized   \n",
       "27                                        - (Unknown)  Uncharacterized   \n",
       "28           G(Carbohydrate transport and metabolism)  Uncharacterized   \n",
       "29                           E (Amino acid transport)       Metabolism   \n",
       "30                                     Q (Catabolism)       Metabolism   \n",
       "31        A(RNA processing), E (Amino acid transport)  Uncharacterized   \n",
       "32                          S(Unknown), G(Catabolism)           Stress   \n",
       "33                                  C, G (Catabolism)       Metabolism   \n",
       "34            L ( Replication, Recombination, Repair)    Cell division   \n",
       "35                                        S (Unknown)  Uncharacterized   \n",
       "36                                                N.A  Uncharacterized   \n",
       "37                                                N.A  Uncharacterized   \n",
       "38                          J (Translation/Ribosomal)      Translation   \n",
       "39                           E (Amino acid transport)        Transport   \n",
       "40  G(Carbohydrate transport and metabolism), T(Si...  Uncharacterized   \n",
       "41                                                N.A  Uncharacterized   \n",
       "\n",
       "    ngenes  explained_variance  \n",
       "0       58            0.011639  \n",
       "1      235            0.044410  \n",
       "2      182            0.035740  \n",
       "3        0            0.013702  \n",
       "4       38            0.007174  \n",
       "5       92            0.003345  \n",
       "6      253            0.014527  \n",
       "7      182            0.001548  \n",
       "8       83            0.017138  \n",
       "9      184            0.001813  \n",
       "10      69            0.009379  \n",
       "11      82            0.039350  \n",
       "12     116            0.035028  \n",
       "13     103            0.006915  \n",
       "14      75            0.009010  \n",
       "15     295            0.002949  \n",
       "16      69            0.005272  \n",
       "17     191            0.005777  \n",
       "18     104            0.039261  \n",
       "19      66            0.019581  \n",
       "20     173            0.003298  \n",
       "21     160            0.067963  \n",
       "22     122            0.005523  \n",
       "23     114            0.020548  \n",
       "24      63            0.007317  \n",
       "25      24            0.013921  \n",
       "26     265            0.030003  \n",
       "27     133            0.002340  \n",
       "28     107            0.005721  \n",
       "29     219            0.012036  \n",
       "30     178            0.071492  \n",
       "31      41            0.013641  \n",
       "32      94            0.006626  \n",
       "33      88            0.011815  \n",
       "34     198            0.021747  \n",
       "35     201            0.130308  \n",
       "36       0            0.031540  \n",
       "37     162            0.025759  \n",
       "38      61            0.056417  \n",
       "39      51            0.008132  \n",
       "40      87            0.006744  \n",
       "41     184            0.004805  "
      ]
     },
     "execution_count": 17,
     "metadata": {},
     "output_type": "execute_result"
    }
   ],
   "source": [
    "ica_data.imodulon_table = ica_data.imodulon_table.fillna('Uncharacerized')\n",
    "\n",
    "ica_data.imodulon_table['Category'] = (ica_data.imodulon_table['Category'].replace('N.A', 'Uncharacterized') .fillna('Uncharacterized')           # NaN → Uncharacterized\n",
    ")\n",
    "\n",
    "ica_data.imodulon_table\n"
   ]
  },
  {
   "cell_type": "code",
   "execution_count": 18,
   "id": "79fde052",
   "metadata": {},
   "outputs": [
    {
     "data": {
      "application/vnd.plotly.v1+json": {
       "config": {
        "plotlyServerURL": "https://plot.ly"
       },
       "data": [
        {
         "branchvalues": "total",
         "customdata": [
          [
           "Metabolism"
          ],
          [
           "Metabolism"
          ],
          [
           "Metabolism"
          ],
          [
           "Energy"
          ],
          [
           "Cell division"
          ],
          [
           "Energy"
          ],
          [
           "Stress"
          ],
          [
           "Stress"
          ],
          [
           "Stress"
          ],
          [
           "Metabolism"
          ],
          [
           "Stress"
          ],
          [
           "Translation"
          ],
          [
           "Cell division"
          ],
          [
           "Metabolism"
          ],
          [
           "Cell division"
          ],
          [
           "Stress"
          ],
          [
           "Cell division"
          ],
          [
           "Uncharacerized"
          ],
          [
           "Uncharacterized"
          ],
          [
           "Uncharacterized"
          ],
          [
           "Uncharacterized"
          ],
          [
           "Uncharacterized"
          ],
          [
           "Uncharacterized"
          ],
          [
           "Uncharacterized"
          ],
          [
           "Uncharacterized"
          ],
          [
           "Uncharacterized"
          ],
          [
           "Uncharacterized"
          ],
          [
           "Uncharacterized"
          ],
          [
           "Uncharacterized"
          ],
          [
           "Uncharacterized"
          ],
          [
           "Uncharacterized"
          ],
          [
           "Uncharacterized"
          ],
          [
           "Uncharacterized"
          ],
          [
           "Uncharacterized"
          ],
          [
           "Uncharacterized"
          ],
          [
           "Uncharacterized"
          ],
          [
           "Transport"
          ],
          [
           "Uncharacterized"
          ],
          [
           "Uncharacterized"
          ],
          [
           "Transport"
          ],
          [
           "Uncharacterized"
          ],
          [
           "Transport"
          ],
          [
           "Cell division"
          ],
          [
           "Energy"
          ],
          [
           "Metabolism"
          ],
          [
           "Stress"
          ],
          [
           "Translation"
          ],
          [
           "Transport"
          ],
          [
           "Uncharacerized"
          ],
          [
           "Uncharacterized"
          ]
         ],
         "domain": {
          "x": [
           0,
           1
          ],
          "y": [
           0,
           1
          ]
         },
         "hovertemplate": "labels=%{label}<br>explained_variance=%{value}<br>parent=%{parent}<br>id=%{id}<br>Category=%{customdata[0]}<extra></extra>",
         "ids": [
          "Metabolism/ADR1",
          "Metabolism/CAT8",
          "Metabolism/DAL81",
          "Energy/FDH",
          "Cell division/FKH2",
          "Energy/FeRd",
          "Stress/HSP3",
          "Stress/HSP1",
          "Stress/HSP2",
          "Metabolism/GCN4",
          "Stress/HOT1",
          "Translation/IFH1",
          "Cell division/MBP1",
          "Metabolism/MET32",
          "Cell division/RME",
          "Stress/RTG3",
          "Cell division/SWI5",
          "Uncharacerized/UC10",
          "Uncharacterized/UC1",
          "Uncharacterized/UC11",
          "Uncharacterized/UC12",
          "Uncharacterized/UC13",
          "Uncharacterized/UC8",
          "Uncharacterized/UC6",
          "Uncharacterized/UC5",
          "Uncharacterized/UC4",
          "Uncharacterized/UC3",
          "Uncharacterized/UC25",
          "Uncharacterized/UC24",
          "Uncharacterized/UC23",
          "Uncharacterized/UC9",
          "Uncharacterized/UC22",
          "Uncharacterized/UC20",
          "Uncharacterized/UC2",
          "Uncharacterized/UC19",
          "Uncharacterized/UC18",
          "Transport/UC17",
          "Uncharacterized/UC16",
          "Uncharacterized/UC15",
          "Transport/UC14",
          "Uncharacterized/UC21",
          "Transport/Zrt_Ftr",
          "Cell division",
          "Energy",
          "Metabolism",
          "Stress",
          "Translation",
          "Transport",
          "Uncharacerized",
          "Uncharacterized"
         ],
         "labels": [
          "ADR1",
          "CAT8",
          "DAL81",
          "FDH",
          "FKH2",
          "FeRd",
          "HSP3",
          "HSP1",
          "HSP2",
          "GCN4",
          "HOT1",
          "IFH1",
          "MBP1",
          "MET32",
          "RME",
          "RTG3",
          "SWI5",
          "UC10",
          "UC1",
          "UC11",
          "UC12",
          "UC13",
          "UC8",
          "UC6",
          "UC5",
          "UC4",
          "UC3",
          "UC25",
          "UC24",
          "UC23",
          "UC9",
          "UC22",
          "UC20",
          "UC2",
          "UC19",
          "UC18",
          "UC17",
          "UC16",
          "UC15",
          "UC14",
          "UC21",
          "Zrt_Ftr",
          "Cell division",
          "Energy",
          "Metabolism",
          "Stress",
          "Translation",
          "Transport",
          "Uncharacerized",
          "Uncharacterized"
         ],
         "marker": {
          "colors": [
           "rgb(141,211,199)",
           "rgb(141,211,199)",
           "rgb(141,211,199)",
           "rgb(255,255,179)",
           "rgb(190,186,218)",
           "rgb(255,255,179)",
           "rgb(251,128,114)",
           "rgb(251,128,114)",
           "rgb(251,128,114)",
           "rgb(141,211,199)",
           "rgb(251,128,114)",
           "rgb(128,177,211)",
           "rgb(190,186,218)",
           "rgb(141,211,199)",
           "rgb(190,186,218)",
           "rgb(251,128,114)",
           "rgb(190,186,218)",
           "rgb(253,180,98)",
           "rgb(179,222,105)",
           "rgb(179,222,105)",
           "rgb(179,222,105)",
           "rgb(179,222,105)",
           "rgb(179,222,105)",
           "rgb(179,222,105)",
           "rgb(179,222,105)",
           "rgb(179,222,105)",
           "rgb(179,222,105)",
           "rgb(179,222,105)",
           "rgb(179,222,105)",
           "rgb(179,222,105)",
           "rgb(179,222,105)",
           "rgb(179,222,105)",
           "rgb(179,222,105)",
           "rgb(179,222,105)",
           "rgb(179,222,105)",
           "rgb(179,222,105)",
           "rgb(252,205,229)",
           "rgb(179,222,105)",
           "rgb(179,222,105)",
           "rgb(252,205,229)",
           "rgb(179,222,105)",
           "rgb(252,205,229)",
           "rgb(190,186,218)",
           "rgb(255,255,179)",
           "rgb(141,211,199)",
           "rgb(251,128,114)",
           "rgb(128,177,211)",
           "rgb(252,205,229)",
           "rgb(253,180,98)",
           "rgb(179,222,105)"
          ]
         },
         "name": "",
         "parents": [
          "Metabolism",
          "Metabolism",
          "Metabolism",
          "Energy",
          "Cell division",
          "Energy",
          "Stress",
          "Stress",
          "Stress",
          "Metabolism",
          "Stress",
          "Translation",
          "Cell division",
          "Metabolism",
          "Cell division",
          "Stress",
          "Cell division",
          "Uncharacerized",
          "Uncharacterized",
          "Uncharacterized",
          "Uncharacterized",
          "Uncharacterized",
          "Uncharacterized",
          "Uncharacterized",
          "Uncharacterized",
          "Uncharacterized",
          "Uncharacterized",
          "Uncharacterized",
          "Uncharacterized",
          "Uncharacterized",
          "Uncharacterized",
          "Uncharacterized",
          "Uncharacterized",
          "Uncharacterized",
          "Uncharacterized",
          "Uncharacterized",
          "Transport",
          "Uncharacterized",
          "Uncharacterized",
          "Transport",
          "Uncharacterized",
          "Transport",
          "",
          "",
          "",
          "",
          "",
          "",
          "",
          ""
         ],
         "textfont": {
          "color": "black",
          "family": "Arial",
          "size": 16
         },
         "tiling": {
          "squarifyratio": 1
         },
         "type": "treemap",
         "values": [
          0.07149191764533591,
          0.011814754942778727,
          0.02054776409034409,
          0.011639321533033709,
          0.04441033242669268,
          0.006915432002940314,
          0.007173845871228046,
          0.06796258564568614,
          0.006625764465723272,
          0.012035949787618683,
          0.017137866105402133,
          0.0564166641740671,
          0.02174696850191793,
          0.03935029881478902,
          0.009379408029456027,
          0.005272467288431115,
          0.019581425748104175,
          0.035027832441107076,
          0.009010083490369802,
          0.002340483406210847,
          0.005720872044375325,
          0.0032984987220070483,
          0.002948680028002526,
          0.001547657730124663,
          0.003344506803868219,
          0.014526604233203622,
          0.03000293240641494,
          0.0048045416519898465,
          0.02575921959836769,
          0.013921459900774313,
          0.13030784325530198,
          0.007316786683368326,
          0.0137018423418368,
          0.03926066877080048,
          0.03153976465433572,
          0.006744363983307022,
          0.008131626904236411,
          0.013641290756073232,
          0.0057766842790488715,
          0.005523366874378599,
          0.0018127437009599623,
          0.03573981985053176,
          0.09511813470617081,
          0.018554753535974022,
          0.15524068528086643,
          0.1041725293764707,
          0.0564166641740671,
          0.04939481362914677,
          0.035027832441107076,
          0.36732752844074124
         ]
        }
       ],
       "layout": {
        "height": 500,
        "legend": {
         "tracegroupgap": 0
        },
        "margin": {
         "b": 10,
         "l": 10,
         "r": 10,
         "t": 60
        },
        "template": {
         "data": {
          "bar": [
           {
            "error_x": {
             "color": "#2a3f5f"
            },
            "error_y": {
             "color": "#2a3f5f"
            },
            "marker": {
             "line": {
              "color": "#E5ECF6",
              "width": 0.5
             },
             "pattern": {
              "fillmode": "overlay",
              "size": 10,
              "solidity": 0.2
             }
            },
            "type": "bar"
           }
          ],
          "barpolar": [
           {
            "marker": {
             "line": {
              "color": "#E5ECF6",
              "width": 0.5
             },
             "pattern": {
              "fillmode": "overlay",
              "size": 10,
              "solidity": 0.2
             }
            },
            "type": "barpolar"
           }
          ],
          "carpet": [
           {
            "aaxis": {
             "endlinecolor": "#2a3f5f",
             "gridcolor": "white",
             "linecolor": "white",
             "minorgridcolor": "white",
             "startlinecolor": "#2a3f5f"
            },
            "baxis": {
             "endlinecolor": "#2a3f5f",
             "gridcolor": "white",
             "linecolor": "white",
             "minorgridcolor": "white",
             "startlinecolor": "#2a3f5f"
            },
            "type": "carpet"
           }
          ],
          "choropleth": [
           {
            "colorbar": {
             "outlinewidth": 0,
             "ticks": ""
            },
            "type": "choropleth"
           }
          ],
          "contour": [
           {
            "colorbar": {
             "outlinewidth": 0,
             "ticks": ""
            },
            "colorscale": [
             [
              0,
              "#0d0887"
             ],
             [
              0.1111111111111111,
              "#46039f"
             ],
             [
              0.2222222222222222,
              "#7201a8"
             ],
             [
              0.3333333333333333,
              "#9c179e"
             ],
             [
              0.4444444444444444,
              "#bd3786"
             ],
             [
              0.5555555555555556,
              "#d8576b"
             ],
             [
              0.6666666666666666,
              "#ed7953"
             ],
             [
              0.7777777777777778,
              "#fb9f3a"
             ],
             [
              0.8888888888888888,
              "#fdca26"
             ],
             [
              1,
              "#f0f921"
             ]
            ],
            "type": "contour"
           }
          ],
          "contourcarpet": [
           {
            "colorbar": {
             "outlinewidth": 0,
             "ticks": ""
            },
            "type": "contourcarpet"
           }
          ],
          "heatmap": [
           {
            "colorbar": {
             "outlinewidth": 0,
             "ticks": ""
            },
            "colorscale": [
             [
              0,
              "#0d0887"
             ],
             [
              0.1111111111111111,
              "#46039f"
             ],
             [
              0.2222222222222222,
              "#7201a8"
             ],
             [
              0.3333333333333333,
              "#9c179e"
             ],
             [
              0.4444444444444444,
              "#bd3786"
             ],
             [
              0.5555555555555556,
              "#d8576b"
             ],
             [
              0.6666666666666666,
              "#ed7953"
             ],
             [
              0.7777777777777778,
              "#fb9f3a"
             ],
             [
              0.8888888888888888,
              "#fdca26"
             ],
             [
              1,
              "#f0f921"
             ]
            ],
            "type": "heatmap"
           }
          ],
          "heatmapgl": [
           {
            "colorbar": {
             "outlinewidth": 0,
             "ticks": ""
            },
            "colorscale": [
             [
              0,
              "#0d0887"
             ],
             [
              0.1111111111111111,
              "#46039f"
             ],
             [
              0.2222222222222222,
              "#7201a8"
             ],
             [
              0.3333333333333333,
              "#9c179e"
             ],
             [
              0.4444444444444444,
              "#bd3786"
             ],
             [
              0.5555555555555556,
              "#d8576b"
             ],
             [
              0.6666666666666666,
              "#ed7953"
             ],
             [
              0.7777777777777778,
              "#fb9f3a"
             ],
             [
              0.8888888888888888,
              "#fdca26"
             ],
             [
              1,
              "#f0f921"
             ]
            ],
            "type": "heatmapgl"
           }
          ],
          "histogram": [
           {
            "marker": {
             "pattern": {
              "fillmode": "overlay",
              "size": 10,
              "solidity": 0.2
             }
            },
            "type": "histogram"
           }
          ],
          "histogram2d": [
           {
            "colorbar": {
             "outlinewidth": 0,
             "ticks": ""
            },
            "colorscale": [
             [
              0,
              "#0d0887"
             ],
             [
              0.1111111111111111,
              "#46039f"
             ],
             [
              0.2222222222222222,
              "#7201a8"
             ],
             [
              0.3333333333333333,
              "#9c179e"
             ],
             [
              0.4444444444444444,
              "#bd3786"
             ],
             [
              0.5555555555555556,
              "#d8576b"
             ],
             [
              0.6666666666666666,
              "#ed7953"
             ],
             [
              0.7777777777777778,
              "#fb9f3a"
             ],
             [
              0.8888888888888888,
              "#fdca26"
             ],
             [
              1,
              "#f0f921"
             ]
            ],
            "type": "histogram2d"
           }
          ],
          "histogram2dcontour": [
           {
            "colorbar": {
             "outlinewidth": 0,
             "ticks": ""
            },
            "colorscale": [
             [
              0,
              "#0d0887"
             ],
             [
              0.1111111111111111,
              "#46039f"
             ],
             [
              0.2222222222222222,
              "#7201a8"
             ],
             [
              0.3333333333333333,
              "#9c179e"
             ],
             [
              0.4444444444444444,
              "#bd3786"
             ],
             [
              0.5555555555555556,
              "#d8576b"
             ],
             [
              0.6666666666666666,
              "#ed7953"
             ],
             [
              0.7777777777777778,
              "#fb9f3a"
             ],
             [
              0.8888888888888888,
              "#fdca26"
             ],
             [
              1,
              "#f0f921"
             ]
            ],
            "type": "histogram2dcontour"
           }
          ],
          "mesh3d": [
           {
            "colorbar": {
             "outlinewidth": 0,
             "ticks": ""
            },
            "type": "mesh3d"
           }
          ],
          "parcoords": [
           {
            "line": {
             "colorbar": {
              "outlinewidth": 0,
              "ticks": ""
             }
            },
            "type": "parcoords"
           }
          ],
          "pie": [
           {
            "automargin": true,
            "type": "pie"
           }
          ],
          "scatter": [
           {
            "fillpattern": {
             "fillmode": "overlay",
             "size": 10,
             "solidity": 0.2
            },
            "type": "scatter"
           }
          ],
          "scatter3d": [
           {
            "line": {
             "colorbar": {
              "outlinewidth": 0,
              "ticks": ""
             }
            },
            "marker": {
             "colorbar": {
              "outlinewidth": 0,
              "ticks": ""
             }
            },
            "type": "scatter3d"
           }
          ],
          "scattercarpet": [
           {
            "marker": {
             "colorbar": {
              "outlinewidth": 0,
              "ticks": ""
             }
            },
            "type": "scattercarpet"
           }
          ],
          "scattergeo": [
           {
            "marker": {
             "colorbar": {
              "outlinewidth": 0,
              "ticks": ""
             }
            },
            "type": "scattergeo"
           }
          ],
          "scattergl": [
           {
            "marker": {
             "colorbar": {
              "outlinewidth": 0,
              "ticks": ""
             }
            },
            "type": "scattergl"
           }
          ],
          "scattermapbox": [
           {
            "marker": {
             "colorbar": {
              "outlinewidth": 0,
              "ticks": ""
             }
            },
            "type": "scattermapbox"
           }
          ],
          "scatterpolar": [
           {
            "marker": {
             "colorbar": {
              "outlinewidth": 0,
              "ticks": ""
             }
            },
            "type": "scatterpolar"
           }
          ],
          "scatterpolargl": [
           {
            "marker": {
             "colorbar": {
              "outlinewidth": 0,
              "ticks": ""
             }
            },
            "type": "scatterpolargl"
           }
          ],
          "scatterternary": [
           {
            "marker": {
             "colorbar": {
              "outlinewidth": 0,
              "ticks": ""
             }
            },
            "type": "scatterternary"
           }
          ],
          "surface": [
           {
            "colorbar": {
             "outlinewidth": 0,
             "ticks": ""
            },
            "colorscale": [
             [
              0,
              "#0d0887"
             ],
             [
              0.1111111111111111,
              "#46039f"
             ],
             [
              0.2222222222222222,
              "#7201a8"
             ],
             [
              0.3333333333333333,
              "#9c179e"
             ],
             [
              0.4444444444444444,
              "#bd3786"
             ],
             [
              0.5555555555555556,
              "#d8576b"
             ],
             [
              0.6666666666666666,
              "#ed7953"
             ],
             [
              0.7777777777777778,
              "#fb9f3a"
             ],
             [
              0.8888888888888888,
              "#fdca26"
             ],
             [
              1,
              "#f0f921"
             ]
            ],
            "type": "surface"
           }
          ],
          "table": [
           {
            "cells": {
             "fill": {
              "color": "#EBF0F8"
             },
             "line": {
              "color": "white"
             }
            },
            "header": {
             "fill": {
              "color": "#C8D4E3"
             },
             "line": {
              "color": "white"
             }
            },
            "type": "table"
           }
          ]
         },
         "layout": {
          "annotationdefaults": {
           "arrowcolor": "#2a3f5f",
           "arrowhead": 0,
           "arrowwidth": 1
          },
          "autotypenumbers": "strict",
          "coloraxis": {
           "colorbar": {
            "outlinewidth": 0,
            "ticks": ""
           }
          },
          "colorscale": {
           "diverging": [
            [
             0,
             "#8e0152"
            ],
            [
             0.1,
             "#c51b7d"
            ],
            [
             0.2,
             "#de77ae"
            ],
            [
             0.3,
             "#f1b6da"
            ],
            [
             0.4,
             "#fde0ef"
            ],
            [
             0.5,
             "#f7f7f7"
            ],
            [
             0.6,
             "#e6f5d0"
            ],
            [
             0.7,
             "#b8e186"
            ],
            [
             0.8,
             "#7fbc41"
            ],
            [
             0.9,
             "#4d9221"
            ],
            [
             1,
             "#276419"
            ]
           ],
           "sequential": [
            [
             0,
             "#0d0887"
            ],
            [
             0.1111111111111111,
             "#46039f"
            ],
            [
             0.2222222222222222,
             "#7201a8"
            ],
            [
             0.3333333333333333,
             "#9c179e"
            ],
            [
             0.4444444444444444,
             "#bd3786"
            ],
            [
             0.5555555555555556,
             "#d8576b"
            ],
            [
             0.6666666666666666,
             "#ed7953"
            ],
            [
             0.7777777777777778,
             "#fb9f3a"
            ],
            [
             0.8888888888888888,
             "#fdca26"
            ],
            [
             1,
             "#f0f921"
            ]
           ],
           "sequentialminus": [
            [
             0,
             "#0d0887"
            ],
            [
             0.1111111111111111,
             "#46039f"
            ],
            [
             0.2222222222222222,
             "#7201a8"
            ],
            [
             0.3333333333333333,
             "#9c179e"
            ],
            [
             0.4444444444444444,
             "#bd3786"
            ],
            [
             0.5555555555555556,
             "#d8576b"
            ],
            [
             0.6666666666666666,
             "#ed7953"
            ],
            [
             0.7777777777777778,
             "#fb9f3a"
            ],
            [
             0.8888888888888888,
             "#fdca26"
            ],
            [
             1,
             "#f0f921"
            ]
           ]
          },
          "colorway": [
           "#636efa",
           "#EF553B",
           "#00cc96",
           "#ab63fa",
           "#FFA15A",
           "#19d3f3",
           "#FF6692",
           "#B6E880",
           "#FF97FF",
           "#FECB52"
          ],
          "font": {
           "color": "#2a3f5f"
          },
          "geo": {
           "bgcolor": "white",
           "lakecolor": "white",
           "landcolor": "#E5ECF6",
           "showlakes": true,
           "showland": true,
           "subunitcolor": "white"
          },
          "hoverlabel": {
           "align": "left"
          },
          "hovermode": "closest",
          "mapbox": {
           "style": "light"
          },
          "paper_bgcolor": "white",
          "plot_bgcolor": "#E5ECF6",
          "polar": {
           "angularaxis": {
            "gridcolor": "white",
            "linecolor": "white",
            "ticks": ""
           },
           "bgcolor": "#E5ECF6",
           "radialaxis": {
            "gridcolor": "white",
            "linecolor": "white",
            "ticks": ""
           }
          },
          "scene": {
           "xaxis": {
            "backgroundcolor": "#E5ECF6",
            "gridcolor": "white",
            "gridwidth": 2,
            "linecolor": "white",
            "showbackground": true,
            "ticks": "",
            "zerolinecolor": "white"
           },
           "yaxis": {
            "backgroundcolor": "#E5ECF6",
            "gridcolor": "white",
            "gridwidth": 2,
            "linecolor": "white",
            "showbackground": true,
            "ticks": "",
            "zerolinecolor": "white"
           },
           "zaxis": {
            "backgroundcolor": "#E5ECF6",
            "gridcolor": "white",
            "gridwidth": 2,
            "linecolor": "white",
            "showbackground": true,
            "ticks": "",
            "zerolinecolor": "white"
           }
          },
          "shapedefaults": {
           "line": {
            "color": "#2a3f5f"
           }
          },
          "ternary": {
           "aaxis": {
            "gridcolor": "white",
            "linecolor": "white",
            "ticks": ""
           },
           "baxis": {
            "gridcolor": "white",
            "linecolor": "white",
            "ticks": ""
           },
           "bgcolor": "#E5ECF6",
           "caxis": {
            "gridcolor": "white",
            "linecolor": "white",
            "ticks": ""
           }
          },
          "title": {
           "x": 0.05
          },
          "xaxis": {
           "automargin": true,
           "gridcolor": "white",
           "linecolor": "white",
           "ticks": "",
           "title": {
            "standoff": 15
           },
           "zerolinecolor": "white",
           "zerolinewidth": 2
          },
          "yaxis": {
           "automargin": true,
           "gridcolor": "white",
           "linecolor": "white",
           "ticks": "",
           "title": {
            "standoff": 15
           },
           "zerolinecolor": "white",
           "zerolinewidth": 2
          }
         }
        },
        "treemapcolorway": [
         "rgb(141,211,199)",
         "rgb(255,255,179)",
         "rgb(190,186,218)",
         "rgb(251,128,114)",
         "rgb(128,177,211)",
         "rgb(253,180,98)",
         "rgb(179,222,105)",
         "rgb(252,205,229)",
         "rgb(217,217,217)",
         "rgb(188,128,189)",
         "rgb(204,235,197)",
         "rgb(255,237,111)"
        ],
        "width": 500
       }
      }
     },
     "metadata": {},
     "output_type": "display_data"
    }
   ],
   "source": [
    "### Treemap of explained variance by imodulon category\n",
    "\n",
    "df = ica_data.imodulon_table.copy(deep=False)\n",
    "df = df.sort_values(['Category', 'explained_variance'], ascending=[True, False])\n",
    "\n",
    "# -------------------------------------------------\n",
    "# 3)  Build the treemap\n",
    "# -------------------------------------------------\n",
    "fig = px.treemap(\n",
    "    df,\n",
    "    path=['Category', 'iModulon Name'],\n",
    "    values='explained_variance',\n",
    "    color='Category',\n",
    "    color_discrete_sequence=px.colors.qualitative.Set3,\n",
    "    # ↓ give the figure a tall, narrow “page”\n",
    "    height=500,      # make it tall\n",
    "    width=500         # keep it relatively narrow\n",
    ")\n",
    "fig.update_traces(\n",
    "    tiling=dict(\n",
    "        squarifyratio=1   \n",
    "    ),\n",
    "    textfont=dict(\n",
    "        size=16,      \n",
    "        color='black',\n",
    "        family='Arial'    \n",
    "    ),\n",
    "    selector=dict(type='treemap')\n",
    ")\n",
    "\n",
    "fig.update_layout(\n",
    "    margin=dict(t=60, l=10, r=10, b=10)\n",
    ")\n",
    "\n",
    "fig.show()"
   ]
  },
  {
   "cell_type": "code",
   "execution_count": 19,
   "id": "ac9ebde4",
   "metadata": {},
   "outputs": [
    {
     "data": {
      "text/plain": [
       "Text(0, 0.5, 'Cumulative Explained Variance')"
      ]
     },
     "execution_count": 19,
     "metadata": {},
     "output_type": "execute_result"
    },
    {
     "data": {
      "image/png": "[encoded data removed]",
      "text/plain": [
       "<Figure size 640x480 with 1 Axes>"
      ]
     },
     "metadata": {},
     "output_type": "display_data"
    }
   ],
   "source": [
    "exp_var = ica_data.imodulon_table.sort_values(by='explained_variance', ascending=False).copy(deep=False)\n",
    "\n",
    "plt.plot(exp_var['iModulon Name'],exp_var['explained_variance'].cumsum(), marker='o',color='teal')\n",
    "plt.xticks(rotation=90, ha='right',fontsize=8);\n",
    "plt.yticks(fontsize=8)\n",
    "plt.ylabel('Cumulative Explained Variance',fontsize=12)\n"
   ]
  },
  {
   "cell_type": "code",
   "execution_count": 41,
   "id": "5f4e0366",
   "metadata": {},
   "outputs": [
    {
     "data": {
      "image/png": "[encoded data removed]",
      "text/plain": [
       "<Figure size 500x500 with 1 Axes>"
      ]
     },
     "metadata": {},
     "output_type": "display_data"
    }
   ],
   "source": [
    "#ica_data.imodulon_table.rename(columns={'ngenes':'n_genes'},inplace=True)\n",
    "\n",
    "ica_data.imodulon_table['regulator'] = ica_data.imodulon_table['iModulon Name']\n",
    "\n",
    "compare_imodulons_vs_regulons(ica_data,\n",
    "                              size_column='ngenes',\n",
    "                              cat_column='Category',\n",
    "                              scale=3);\n"
   ]
  },
  {
   "cell_type": "code",
   "execution_count": 14,
   "id": "f5c5cd0b",
   "metadata": {},
   "outputs": [
    {
     "name": "stdout",
     "output_type": "stream",
     "text": [
      "['UC20' 'UC19' 'UC18']\n"
     ]
    }
   ],
   "source": [
    "repeated = ica_data.imodulon_table['iModulon Name'][ica_data.imodulon_table['iModulon Name'].duplicated()].unique()\n",
    "print(repeated)"
   ]
  },
  {
   "cell_type": "code",
   "execution_count": null,
   "id": "e838150d",
   "metadata": {},
   "outputs": [],
   "source": []
  }
 ],
 "metadata": {
  "kernelspec": {
   "display_name": "pymodulon38",
   "language": "python",
   "name": "python3"
  },
  "language_info": {
   "codemirror_mode": {
    "name": "ipython",
    "version": 3
   },
   "file_extension": ".py",
   "mimetype": "text/x-python",
   "name": "python",
   "nbconvert_exporter": "python",
   "pygments_lexer": "ipython3",
   "version": "3.8.20"
  }
 },
 "nbformat": 4,
 "nbformat_minor": 5
}
