{
 "cells": [
  {
   "cell_type": "code",
   "execution_count": 36,
   "id": "157bce7f",
   "metadata": {},
   "outputs": [],
   "source": [
    "import numpy as np\n",
    "import matplotlib.pyplot as plt\n",
    "import pandas as pd\n",
    "from pymodulon.core import IcaData\n",
    "from pymodulon import example_data\n",
    "from pymodulon.io import save_to_json, load_json_model\n",
    "from pymodulon.enrichment import *\n",
    "import plotly.express as px\n",
    "from pymodulon.plotting import *"
   ]
  },
  {
   "cell_type": "code",
   "execution_count": 37,
   "id": "acc0bb9c",
   "metadata": {},
   "outputs": [
    {
     "data": {
      "text/plain": [
       "<pymodulon.core.IcaData at 0x7fe17db3a7c0>"
      ]
     },
     "execution_count": 37,
     "metadata": {},
     "output_type": "execute_result"
    }
   ],
   "source": [
    "ica_data = load_json_model('../data/yarrowia2025.json')\n",
    "\n",
    "ica_data"
   ]
  },
  {
   "cell_type": "code",
   "execution_count": 38,
   "id": "889fcb98",
   "metadata": {},
   "outputs": [
    {
     "data": {
      "text/html": [
       "<div>\n",
       "<style scoped>\n",
       "    .dataframe tbody tr th:only-of-type {\n",
       "        vertical-align: middle;\n",
       "    }\n",
       "\n",
       "    .dataframe tbody tr th {\n",
       "        vertical-align: top;\n",
       "    }\n",
       "\n",
       "    .dataframe thead th {\n",
       "        text-align: right;\n",
       "    }\n",
       "</style>\n",
       "<table border=\"1\" class=\"dataframe\">\n",
       "  <thead>\n",
       "    <tr style=\"text-align: right;\">\n",
       "      <th></th>\n",
       "      <th>iModulon Name</th>\n",
       "      <th>Descriptors</th>\n",
       "      <th>COGs</th>\n",
       "      <th>Category</th>\n",
       "      <th>ngenes</th>\n",
       "      <th>explained_variance</th>\n",
       "      <th>threshold</th>\n",
       "      <th>pvalue</th>\n",
       "      <th>precision</th>\n",
       "      <th>recall</th>\n",
       "      <th>f1score</th>\n",
       "      <th>TP</th>\n",
       "      <th>regulon_size</th>\n",
       "      <th>gene_set_size</th>\n",
       "      <th>qvalue</th>\n",
       "      <th>n_regs</th>\n",
       "    </tr>\n",
       "  </thead>\n",
       "  <tbody>\n",
       "    <tr>\n",
       "      <th>0</th>\n",
       "      <td>DAL81</td>\n",
       "      <td>Ammonia degradation/Nitrogen related</td>\n",
       "      <td>E (Amino acid transport)</td>\n",
       "      <td>Metabolism</td>\n",
       "      <td>131</td>\n",
       "      <td>0.024226</td>\n",
       "      <td>0.032645</td>\n",
       "      <td>4.471409016562623e-07</td>\n",
       "      <td>0.04580152671755725</td>\n",
       "      <td>0.3</td>\n",
       "      <td>0.07947019867549668</td>\n",
       "      <td>6.0</td>\n",
       "      <td>20.0</td>\n",
       "      <td>131.0</td>\n",
       "      <td>3.2194144919250886e-05</td>\n",
       "      <td>1.0</td>\n",
       "    </tr>\n",
       "    <tr>\n",
       "      <th>1</th>\n",
       "      <td>UC1</td>\n",
       "      <td>Contains some sugar related proteins?</td>\n",
       "      <td>S (Unknown)</td>\n",
       "      <td>Uncharacterized</td>\n",
       "      <td>85</td>\n",
       "      <td>0.010175</td>\n",
       "      <td>0.035350</td>\n",
       "      <td>Uncharacerized</td>\n",
       "      <td>Uncharacerized</td>\n",
       "      <td>Uncharacerized</td>\n",
       "      <td>Uncharacerized</td>\n",
       "      <td>Uncharacerized</td>\n",
       "      <td>Uncharacerized</td>\n",
       "      <td>Uncharacerized</td>\n",
       "      <td>Uncharacerized</td>\n",
       "      <td>Uncharacerized</td>\n",
       "    </tr>\n",
       "    <tr>\n",
       "      <th>2</th>\n",
       "      <td>FDH</td>\n",
       "      <td>Formate Dehydrogenase</td>\n",
       "      <td>C (Energy Production and Conversion)</td>\n",
       "      <td>Energy</td>\n",
       "      <td>55</td>\n",
       "      <td>0.012128</td>\n",
       "      <td>0.040596</td>\n",
       "      <td>Uncharacerized</td>\n",
       "      <td>Uncharacerized</td>\n",
       "      <td>Uncharacerized</td>\n",
       "      <td>Uncharacerized</td>\n",
       "      <td>Uncharacerized</td>\n",
       "      <td>Uncharacerized</td>\n",
       "      <td>Uncharacerized</td>\n",
       "      <td>Uncharacerized</td>\n",
       "      <td>Uncharacerized</td>\n",
       "    </tr>\n",
       "    <tr>\n",
       "      <th>3</th>\n",
       "      <td>UC19</td>\n",
       "      <td>N.A</td>\n",
       "      <td>N.A</td>\n",
       "      <td>Uncharacterized</td>\n",
       "      <td>0</td>\n",
       "      <td>0.033613</td>\n",
       "      <td>0.120962</td>\n",
       "      <td>Uncharacerized</td>\n",
       "      <td>Uncharacerized</td>\n",
       "      <td>Uncharacerized</td>\n",
       "      <td>Uncharacerized</td>\n",
       "      <td>Uncharacerized</td>\n",
       "      <td>Uncharacerized</td>\n",
       "      <td>Uncharacerized</td>\n",
       "      <td>Uncharacerized</td>\n",
       "      <td>Uncharacerized</td>\n",
       "    </tr>\n",
       "    <tr>\n",
       "      <th>4</th>\n",
       "      <td>ADR1</td>\n",
       "      <td>CRP like - non glucose carbon metabolism</td>\n",
       "      <td>Q (Catabolism)</td>\n",
       "      <td>Metabolism</td>\n",
       "      <td>287</td>\n",
       "      <td>0.095930</td>\n",
       "      <td>0.024665</td>\n",
       "      <td>2.4016560658451717e-09</td>\n",
       "      <td>0.04878048780487805</td>\n",
       "      <td>0.25925925925925924</td>\n",
       "      <td>0.08211143695014664</td>\n",
       "      <td>14.0</td>\n",
       "      <td>54.0</td>\n",
       "      <td>287.0</td>\n",
       "      <td>2.041407655968396e-07</td>\n",
       "      <td>1.0</td>\n",
       "    </tr>\n",
       "    <tr>\n",
       "      <th>5</th>\n",
       "      <td>UC2</td>\n",
       "      <td>N.A</td>\n",
       "      <td>S (Unknown)</td>\n",
       "      <td>Uncharacterized</td>\n",
       "      <td>78</td>\n",
       "      <td>0.017706</td>\n",
       "      <td>0.040438</td>\n",
       "      <td>Uncharacerized</td>\n",
       "      <td>Uncharacerized</td>\n",
       "      <td>Uncharacerized</td>\n",
       "      <td>Uncharacerized</td>\n",
       "      <td>Uncharacerized</td>\n",
       "      <td>Uncharacerized</td>\n",
       "      <td>Uncharacerized</td>\n",
       "      <td>Uncharacerized</td>\n",
       "      <td>Uncharacerized</td>\n",
       "    </tr>\n",
       "    <tr>\n",
       "      <th>6</th>\n",
       "      <td>SWI5</td>\n",
       "      <td>D (Cell cycle control)</td>\n",
       "      <td>D (Cell cycle control)</td>\n",
       "      <td>Cell division</td>\n",
       "      <td>80</td>\n",
       "      <td>0.017075</td>\n",
       "      <td>0.041429</td>\n",
       "      <td>2.956025509236294e-07</td>\n",
       "      <td>0.0625</td>\n",
       "      <td>0.3125</td>\n",
       "      <td>0.10416666666666667</td>\n",
       "      <td>5.0</td>\n",
       "      <td>16.0</td>\n",
       "      <td>80.0</td>\n",
       "      <td>1.50757300971051e-05</td>\n",
       "      <td>1.0</td>\n",
       "    </tr>\n",
       "    <tr>\n",
       "      <th>7</th>\n",
       "      <td>UC3</td>\n",
       "      <td>N.A</td>\n",
       "      <td>G(Carbohydrate transport and metabolism)</td>\n",
       "      <td>Uncharacterized</td>\n",
       "      <td>394</td>\n",
       "      <td>0.013854</td>\n",
       "      <td>0.021520</td>\n",
       "      <td>Uncharacerized</td>\n",
       "      <td>Uncharacerized</td>\n",
       "      <td>Uncharacerized</td>\n",
       "      <td>Uncharacerized</td>\n",
       "      <td>Uncharacerized</td>\n",
       "      <td>Uncharacerized</td>\n",
       "      <td>Uncharacerized</td>\n",
       "      <td>Uncharacerized</td>\n",
       "      <td>Uncharacerized</td>\n",
       "    </tr>\n",
       "    <tr>\n",
       "      <th>8</th>\n",
       "      <td>UC4</td>\n",
       "      <td>N.A</td>\n",
       "      <td>S (Unknown)</td>\n",
       "      <td>Uncharacterized</td>\n",
       "      <td>262</td>\n",
       "      <td>0.008360</td>\n",
       "      <td>0.023275</td>\n",
       "      <td>Uncharacerized</td>\n",
       "      <td>Uncharacerized</td>\n",
       "      <td>Uncharacerized</td>\n",
       "      <td>Uncharacerized</td>\n",
       "      <td>Uncharacerized</td>\n",
       "      <td>Uncharacerized</td>\n",
       "      <td>Uncharacerized</td>\n",
       "      <td>Uncharacerized</td>\n",
       "      <td>Uncharacerized</td>\n",
       "    </tr>\n",
       "    <tr>\n",
       "      <th>9</th>\n",
       "      <td>UC5</td>\n",
       "      <td>N.A</td>\n",
       "      <td>O (Post translation mods, chaperons)</td>\n",
       "      <td>Uncharacterized</td>\n",
       "      <td>105</td>\n",
       "      <td>0.004070</td>\n",
       "      <td>0.038863</td>\n",
       "      <td>Uncharacerized</td>\n",
       "      <td>Uncharacerized</td>\n",
       "      <td>Uncharacerized</td>\n",
       "      <td>Uncharacerized</td>\n",
       "      <td>Uncharacerized</td>\n",
       "      <td>Uncharacerized</td>\n",
       "      <td>Uncharacerized</td>\n",
       "      <td>Uncharacerized</td>\n",
       "      <td>Uncharacerized</td>\n",
       "    </tr>\n",
       "    <tr>\n",
       "      <th>10</th>\n",
       "      <td>UC20</td>\n",
       "      <td>N.A</td>\n",
       "      <td>N.A</td>\n",
       "      <td>Uncharacterized</td>\n",
       "      <td>0</td>\n",
       "      <td>0.017920</td>\n",
       "      <td>0.122405</td>\n",
       "      <td>Uncharacerized</td>\n",
       "      <td>Uncharacerized</td>\n",
       "      <td>Uncharacerized</td>\n",
       "      <td>Uncharacerized</td>\n",
       "      <td>Uncharacerized</td>\n",
       "      <td>Uncharacerized</td>\n",
       "      <td>Uncharacerized</td>\n",
       "      <td>Uncharacerized</td>\n",
       "      <td>Uncharacerized</td>\n",
       "    </tr>\n",
       "    <tr>\n",
       "      <th>11</th>\n",
       "      <td>UC6</td>\n",
       "      <td>N.A</td>\n",
       "      <td>C (Energy Production and Conversion)</td>\n",
       "      <td>Uncharacterized</td>\n",
       "      <td>218</td>\n",
       "      <td>0.002002</td>\n",
       "      <td>0.024372</td>\n",
       "      <td>Uncharacerized</td>\n",
       "      <td>Uncharacerized</td>\n",
       "      <td>Uncharacerized</td>\n",
       "      <td>Uncharacerized</td>\n",
       "      <td>Uncharacerized</td>\n",
       "      <td>Uncharacerized</td>\n",
       "      <td>Uncharacerized</td>\n",
       "      <td>Uncharacerized</td>\n",
       "      <td>Uncharacerized</td>\n",
       "    </tr>\n",
       "    <tr>\n",
       "      <th>12</th>\n",
       "      <td>UC7</td>\n",
       "      <td>Malate synthase, PCK, FTR1</td>\n",
       "      <td>S (Unknown)</td>\n",
       "      <td>Uncharacterized</td>\n",
       "      <td>105</td>\n",
       "      <td>0.005453</td>\n",
       "      <td>0.038097</td>\n",
       "      <td>Uncharacerized</td>\n",
       "      <td>Uncharacerized</td>\n",
       "      <td>Uncharacerized</td>\n",
       "      <td>Uncharacerized</td>\n",
       "      <td>Uncharacerized</td>\n",
       "      <td>Uncharacerized</td>\n",
       "      <td>Uncharacerized</td>\n",
       "      <td>Uncharacerized</td>\n",
       "      <td>Uncharacerized</td>\n",
       "    </tr>\n",
       "    <tr>\n",
       "      <th>13</th>\n",
       "      <td>UC8</td>\n",
       "      <td>N.A</td>\n",
       "      <td>S (Unknown)</td>\n",
       "      <td>Uncharacterized</td>\n",
       "      <td>243</td>\n",
       "      <td>0.001851</td>\n",
       "      <td>0.028383</td>\n",
       "      <td>Uncharacerized</td>\n",
       "      <td>Uncharacerized</td>\n",
       "      <td>Uncharacerized</td>\n",
       "      <td>Uncharacerized</td>\n",
       "      <td>Uncharacerized</td>\n",
       "      <td>Uncharacerized</td>\n",
       "      <td>Uncharacerized</td>\n",
       "      <td>Uncharacerized</td>\n",
       "      <td>Uncharacerized</td>\n",
       "    </tr>\n",
       "    <tr>\n",
       "      <th>14</th>\n",
       "      <td>HSP1</td>\n",
       "      <td>Heat shock protein subunits</td>\n",
       "      <td>S (Unknown)</td>\n",
       "      <td>Stress</td>\n",
       "      <td>160</td>\n",
       "      <td>0.073086</td>\n",
       "      <td>0.028105</td>\n",
       "      <td>Uncharacerized</td>\n",
       "      <td>Uncharacerized</td>\n",
       "      <td>Uncharacerized</td>\n",
       "      <td>Uncharacerized</td>\n",
       "      <td>Uncharacerized</td>\n",
       "      <td>Uncharacerized</td>\n",
       "      <td>Uncharacerized</td>\n",
       "      <td>Uncharacerized</td>\n",
       "      <td>Uncharacerized</td>\n",
       "    </tr>\n",
       "    <tr>\n",
       "      <th>15</th>\n",
       "      <td>UC9</td>\n",
       "      <td>N.A</td>\n",
       "      <td>S (Unknown)</td>\n",
       "      <td>Uncharacterized</td>\n",
       "      <td>196</td>\n",
       "      <td>0.166861</td>\n",
       "      <td>0.027916</td>\n",
       "      <td>Uncharacerized</td>\n",
       "      <td>Uncharacerized</td>\n",
       "      <td>Uncharacerized</td>\n",
       "      <td>Uncharacerized</td>\n",
       "      <td>Uncharacerized</td>\n",
       "      <td>Uncharacerized</td>\n",
       "      <td>Uncharacerized</td>\n",
       "      <td>Uncharacerized</td>\n",
       "      <td>Uncharacerized</td>\n",
       "    </tr>\n",
       "    <tr>\n",
       "      <th>16</th>\n",
       "      <td>MET32</td>\n",
       "      <td>Methionine biosynthesis</td>\n",
       "      <td>E (Amino acid transport)</td>\n",
       "      <td>Metabolism</td>\n",
       "      <td>104</td>\n",
       "      <td>0.052601</td>\n",
       "      <td>0.034906</td>\n",
       "      <td>8.03905610484055e-05</td>\n",
       "      <td>0.10576923076923077</td>\n",
       "      <td>0.05069124423963134</td>\n",
       "      <td>0.06853582554517133</td>\n",
       "      <td>11.0</td>\n",
       "      <td>217.0</td>\n",
       "      <td>104.0</td>\n",
       "      <td>0.0023313262704037596</td>\n",
       "      <td>1.0</td>\n",
       "    </tr>\n",
       "    <tr>\n",
       "      <th>17</th>\n",
       "      <td>FKH2</td>\n",
       "      <td>chromatin regulation</td>\n",
       "      <td>A (RNA processing and modification)</td>\n",
       "      <td>Cell division</td>\n",
       "      <td>255</td>\n",
       "      <td>0.041518</td>\n",
       "      <td>0.030228</td>\n",
       "      <td>5.165057790007537e-06</td>\n",
       "      <td>0.047058823529411764</td>\n",
       "      <td>0.15</td>\n",
       "      <td>0.07164179104477611</td>\n",
       "      <td>12.0</td>\n",
       "      <td>80.0</td>\n",
       "      <td>255.0</td>\n",
       "      <td>0.00039254439204057284</td>\n",
       "      <td>1.0</td>\n",
       "    </tr>\n",
       "    <tr>\n",
       "      <th>18</th>\n",
       "      <td>UC10</td>\n",
       "      <td>N.A</td>\n",
       "      <td>Q (Catabolism)</td>\n",
       "      <td>Uncharacerized</td>\n",
       "      <td>127</td>\n",
       "      <td>0.027396</td>\n",
       "      <td>0.033213</td>\n",
       "      <td>Uncharacerized</td>\n",
       "      <td>Uncharacerized</td>\n",
       "      <td>Uncharacerized</td>\n",
       "      <td>Uncharacerized</td>\n",
       "      <td>Uncharacerized</td>\n",
       "      <td>Uncharacerized</td>\n",
       "      <td>Uncharacerized</td>\n",
       "      <td>Uncharacerized</td>\n",
       "      <td>Uncharacerized</td>\n",
       "    </tr>\n",
       "    <tr>\n",
       "      <th>19</th>\n",
       "      <td>Zrt_Ftr</td>\n",
       "      <td>ZRT/FTR (Zinc, iron transporters)</td>\n",
       "      <td>S (Unknown)</td>\n",
       "      <td>Transport</td>\n",
       "      <td>220</td>\n",
       "      <td>0.042466</td>\n",
       "      <td>0.026078</td>\n",
       "      <td>Uncharacerized</td>\n",
       "      <td>Uncharacerized</td>\n",
       "      <td>Uncharacerized</td>\n",
       "      <td>Uncharacerized</td>\n",
       "      <td>Uncharacerized</td>\n",
       "      <td>Uncharacerized</td>\n",
       "      <td>Uncharacerized</td>\n",
       "      <td>Uncharacerized</td>\n",
       "      <td>Uncharacerized</td>\n",
       "    </tr>\n",
       "    <tr>\n",
       "      <th>20</th>\n",
       "      <td>UC11</td>\n",
       "      <td>N.A</td>\n",
       "      <td>- (Unknown)</td>\n",
       "      <td>Uncharacterized</td>\n",
       "      <td>175</td>\n",
       "      <td>0.002230</td>\n",
       "      <td>0.023308</td>\n",
       "      <td>Uncharacerized</td>\n",
       "      <td>Uncharacerized</td>\n",
       "      <td>Uncharacerized</td>\n",
       "      <td>Uncharacerized</td>\n",
       "      <td>Uncharacerized</td>\n",
       "      <td>Uncharacerized</td>\n",
       "      <td>Uncharacerized</td>\n",
       "      <td>Uncharacerized</td>\n",
       "      <td>Uncharacerized</td>\n",
       "    </tr>\n",
       "    <tr>\n",
       "      <th>21</th>\n",
       "      <td>CAT8</td>\n",
       "      <td>CRP like - non glucose carbon metabolism</td>\n",
       "      <td>C, G (Catabolism)</td>\n",
       "      <td>Metabolism</td>\n",
       "      <td>77</td>\n",
       "      <td>0.008676</td>\n",
       "      <td>0.039377</td>\n",
       "      <td>2.981878996883019e-14</td>\n",
       "      <td>0.12987012987012986</td>\n",
       "      <td>0.35714285714285715</td>\n",
       "      <td>0.19047619047619047</td>\n",
       "      <td>10.0</td>\n",
       "      <td>28.0</td>\n",
       "      <td>77.0</td>\n",
       "      <td>2.385503197506415e-12</td>\n",
       "      <td>1.0</td>\n",
       "    </tr>\n",
       "    <tr>\n",
       "      <th>22</th>\n",
       "      <td>GCN4</td>\n",
       "      <td>Amino acid biosynthesis</td>\n",
       "      <td>E (Amino acid transport)</td>\n",
       "      <td>Metabolism</td>\n",
       "      <td>228</td>\n",
       "      <td>0.013787</td>\n",
       "      <td>0.029040</td>\n",
       "      <td>2.7095502194120287e-11</td>\n",
       "      <td>0.22807017543859648</td>\n",
       "      <td>0.07313642756680731</td>\n",
       "      <td>0.11075612353567625</td>\n",
       "      <td>52.0</td>\n",
       "      <td>711.0</td>\n",
       "      <td>228.0</td>\n",
       "      <td>2.4114996952767058e-09</td>\n",
       "      <td>1.0</td>\n",
       "    </tr>\n",
       "    <tr>\n",
       "      <th>23</th>\n",
       "      <td>UC12</td>\n",
       "      <td>N.A</td>\n",
       "      <td>G(Carbohydrate transport and metabolism)</td>\n",
       "      <td>Uncharacterized</td>\n",
       "      <td>111</td>\n",
       "      <td>0.005311</td>\n",
       "      <td>0.032749</td>\n",
       "      <td>Uncharacerized</td>\n",
       "      <td>Uncharacerized</td>\n",
       "      <td>Uncharacerized</td>\n",
       "      <td>Uncharacerized</td>\n",
       "      <td>Uncharacerized</td>\n",
       "      <td>Uncharacerized</td>\n",
       "      <td>Uncharacerized</td>\n",
       "      <td>Uncharacerized</td>\n",
       "      <td>Uncharacerized</td>\n",
       "    </tr>\n",
       "    <tr>\n",
       "      <th>24</th>\n",
       "      <td>IFH1</td>\n",
       "      <td>Ribsomal</td>\n",
       "      <td>J (Translation/Ribosomal)</td>\n",
       "      <td>Translation</td>\n",
       "      <td>66</td>\n",
       "      <td>0.051413</td>\n",
       "      <td>0.045540</td>\n",
       "      <td>1.1700596583413142e-87</td>\n",
       "      <td>0.7272727272727273</td>\n",
       "      <td>0.5647058823529412</td>\n",
       "      <td>0.6357615894039735</td>\n",
       "      <td>48.0</td>\n",
       "      <td>85.0</td>\n",
       "      <td>66.0</td>\n",
       "      <td>6.786346018379623e-86</td>\n",
       "      <td>1.0</td>\n",
       "    </tr>\n",
       "    <tr>\n",
       "      <th>25</th>\n",
       "      <td>UC13</td>\n",
       "      <td>N.A</td>\n",
       "      <td>O (Post translation mods, chaperons)</td>\n",
       "      <td>Uncharacterized</td>\n",
       "      <td>234</td>\n",
       "      <td>0.002638</td>\n",
       "      <td>0.023695</td>\n",
       "      <td>Uncharacerized</td>\n",
       "      <td>Uncharacerized</td>\n",
       "      <td>Uncharacerized</td>\n",
       "      <td>Uncharacerized</td>\n",
       "      <td>Uncharacerized</td>\n",
       "      <td>Uncharacerized</td>\n",
       "      <td>Uncharacerized</td>\n",
       "      <td>Uncharacerized</td>\n",
       "      <td>Uncharacerized</td>\n",
       "    </tr>\n",
       "    <tr>\n",
       "      <th>26</th>\n",
       "      <td>MBP1</td>\n",
       "      <td>Cell phase related regulation</td>\n",
       "      <td>L ( Replication, Recombination, Repair)</td>\n",
       "      <td>Cell division</td>\n",
       "      <td>160</td>\n",
       "      <td>0.020295</td>\n",
       "      <td>0.033920</td>\n",
       "      <td>1.158981729071767e-11</td>\n",
       "      <td>0.0875</td>\n",
       "      <td>0.21875</td>\n",
       "      <td>0.12499999999999997</td>\n",
       "      <td>14.0</td>\n",
       "      <td>64.0</td>\n",
       "      <td>160.0</td>\n",
       "      <td>8.576464795131075e-10</td>\n",
       "      <td>1.0</td>\n",
       "    </tr>\n",
       "    <tr>\n",
       "      <th>27</th>\n",
       "      <td>UC14</td>\n",
       "      <td>N.A</td>\n",
       "      <td>P, H (Ion, Cofactor transport)</td>\n",
       "      <td>Transport</td>\n",
       "      <td>159</td>\n",
       "      <td>0.005124</td>\n",
       "      <td>0.030953</td>\n",
       "      <td>Uncharacerized</td>\n",
       "      <td>Uncharacerized</td>\n",
       "      <td>Uncharacerized</td>\n",
       "      <td>Uncharacerized</td>\n",
       "      <td>Uncharacerized</td>\n",
       "      <td>Uncharacerized</td>\n",
       "      <td>Uncharacerized</td>\n",
       "      <td>Uncharacerized</td>\n",
       "      <td>Uncharacerized</td>\n",
       "    </tr>\n",
       "    <tr>\n",
       "      <th>28</th>\n",
       "      <td>UC15</td>\n",
       "      <td>N.A</td>\n",
       "      <td>S (Unknown)</td>\n",
       "      <td>Uncharacterized</td>\n",
       "      <td>163</td>\n",
       "      <td>0.005899</td>\n",
       "      <td>0.032557</td>\n",
       "      <td>Uncharacerized</td>\n",
       "      <td>Uncharacerized</td>\n",
       "      <td>Uncharacerized</td>\n",
       "      <td>Uncharacerized</td>\n",
       "      <td>Uncharacerized</td>\n",
       "      <td>Uncharacerized</td>\n",
       "      <td>Uncharacerized</td>\n",
       "      <td>Uncharacerized</td>\n",
       "      <td>Uncharacerized</td>\n",
       "    </tr>\n",
       "    <tr>\n",
       "      <th>29</th>\n",
       "      <td>RTG3</td>\n",
       "      <td>Mitochondrial retrograde</td>\n",
       "      <td>S (Unknown), E(Amino acid transport)</td>\n",
       "      <td>Stress</td>\n",
       "      <td>108</td>\n",
       "      <td>0.004459</td>\n",
       "      <td>0.035295</td>\n",
       "      <td>0.00015608431383868843</td>\n",
       "      <td>0.046296296296296294</td>\n",
       "      <td>0.125</td>\n",
       "      <td>0.06756756756756757</td>\n",
       "      <td>5.0</td>\n",
       "      <td>40.0</td>\n",
       "      <td>108.0</td>\n",
       "      <td>0.007648131378095733</td>\n",
       "      <td>1.0</td>\n",
       "    </tr>\n",
       "    <tr>\n",
       "      <th>30</th>\n",
       "      <td>FeRd</td>\n",
       "      <td>Iron reductae/Iron related</td>\n",
       "      <td>S(Unknown)</td>\n",
       "      <td>Energy</td>\n",
       "      <td>105</td>\n",
       "      <td>0.015156</td>\n",
       "      <td>0.034309</td>\n",
       "      <td>Uncharacerized</td>\n",
       "      <td>Uncharacerized</td>\n",
       "      <td>Uncharacerized</td>\n",
       "      <td>Uncharacerized</td>\n",
       "      <td>Uncharacerized</td>\n",
       "      <td>Uncharacerized</td>\n",
       "      <td>Uncharacerized</td>\n",
       "      <td>Uncharacerized</td>\n",
       "      <td>Uncharacerized</td>\n",
       "    </tr>\n",
       "    <tr>\n",
       "      <th>31</th>\n",
       "      <td>HOT1</td>\n",
       "      <td>Osmolarity related glycerol biosynthesis</td>\n",
       "      <td>S(Unknown)</td>\n",
       "      <td>Stress</td>\n",
       "      <td>76</td>\n",
       "      <td>0.020185</td>\n",
       "      <td>0.038035</td>\n",
       "      <td>5.968243895175465e-05</td>\n",
       "      <td>0.039473684210526314</td>\n",
       "      <td>0.3333333333333333</td>\n",
       "      <td>0.07058823529411765</td>\n",
       "      <td>3.0</td>\n",
       "      <td>9.0</td>\n",
       "      <td>76.0</td>\n",
       "      <td>0.004416500482429844</td>\n",
       "      <td>1.0</td>\n",
       "    </tr>\n",
       "    <tr>\n",
       "      <th>32</th>\n",
       "      <td>UC16</td>\n",
       "      <td>N.A</td>\n",
       "      <td>A(RNA processing), E (Amino acid transport)</td>\n",
       "      <td>Uncharacterized</td>\n",
       "      <td>70</td>\n",
       "      <td>0.014638</td>\n",
       "      <td>0.041353</td>\n",
       "      <td>Uncharacerized</td>\n",
       "      <td>Uncharacerized</td>\n",
       "      <td>Uncharacerized</td>\n",
       "      <td>Uncharacerized</td>\n",
       "      <td>Uncharacerized</td>\n",
       "      <td>Uncharacerized</td>\n",
       "      <td>Uncharacerized</td>\n",
       "      <td>Uncharacerized</td>\n",
       "      <td>Uncharacerized</td>\n",
       "    </tr>\n",
       "    <tr>\n",
       "      <th>33</th>\n",
       "      <td>RME</td>\n",
       "      <td>RME1?</td>\n",
       "      <td>S (Unknown)</td>\n",
       "      <td>Cell division</td>\n",
       "      <td>73</td>\n",
       "      <td>0.012919</td>\n",
       "      <td>0.038265</td>\n",
       "      <td>Uncharacerized</td>\n",
       "      <td>Uncharacerized</td>\n",
       "      <td>Uncharacerized</td>\n",
       "      <td>Uncharacerized</td>\n",
       "      <td>Uncharacerized</td>\n",
       "      <td>Uncharacerized</td>\n",
       "      <td>Uncharacerized</td>\n",
       "      <td>Uncharacerized</td>\n",
       "      <td>Uncharacerized</td>\n",
       "    </tr>\n",
       "    <tr>\n",
       "      <th>34</th>\n",
       "      <td>UC17</td>\n",
       "      <td>N.A</td>\n",
       "      <td>E (Amino acid transport)</td>\n",
       "      <td>Transport</td>\n",
       "      <td>38</td>\n",
       "      <td>0.008407</td>\n",
       "      <td>0.045213</td>\n",
       "      <td>Uncharacerized</td>\n",
       "      <td>Uncharacerized</td>\n",
       "      <td>Uncharacerized</td>\n",
       "      <td>Uncharacerized</td>\n",
       "      <td>Uncharacerized</td>\n",
       "      <td>Uncharacerized</td>\n",
       "      <td>Uncharacerized</td>\n",
       "      <td>Uncharacerized</td>\n",
       "      <td>Uncharacerized</td>\n",
       "    </tr>\n",
       "    <tr>\n",
       "      <th>35</th>\n",
       "      <td>HSP2</td>\n",
       "      <td>HSP2</td>\n",
       "      <td>S(Unknown), G(Catabolism)</td>\n",
       "      <td>Stress</td>\n",
       "      <td>204</td>\n",
       "      <td>0.006701</td>\n",
       "      <td>0.028764</td>\n",
       "      <td>Uncharacerized</td>\n",
       "      <td>Uncharacerized</td>\n",
       "      <td>Uncharacerized</td>\n",
       "      <td>Uncharacerized</td>\n",
       "      <td>Uncharacerized</td>\n",
       "      <td>Uncharacerized</td>\n",
       "      <td>Uncharacerized</td>\n",
       "      <td>Uncharacerized</td>\n",
       "      <td>Uncharacerized</td>\n",
       "    </tr>\n",
       "    <tr>\n",
       "      <th>36</th>\n",
       "      <td>UC18</td>\n",
       "      <td>N.A</td>\n",
       "      <td>G(Carbohydrate transport and metabolism), T(Si...</td>\n",
       "      <td>Uncharacterized</td>\n",
       "      <td>119</td>\n",
       "      <td>0.006332</td>\n",
       "      <td>0.032757</td>\n",
       "      <td>Uncharacerized</td>\n",
       "      <td>Uncharacerized</td>\n",
       "      <td>Uncharacerized</td>\n",
       "      <td>Uncharacerized</td>\n",
       "      <td>Uncharacerized</td>\n",
       "      <td>Uncharacerized</td>\n",
       "      <td>Uncharacerized</td>\n",
       "      <td>Uncharacerized</td>\n",
       "      <td>Uncharacerized</td>\n",
       "    </tr>\n",
       "  </tbody>\n",
       "</table>\n",
       "</div>"
      ],
      "text/plain": [
       "   iModulon Name                               Descriptors  \\\n",
       "0          DAL81      Ammonia degradation/Nitrogen related   \n",
       "1            UC1     Contains some sugar related proteins?   \n",
       "2            FDH                     Formate Dehydrogenase   \n",
       "3           UC19                                       N.A   \n",
       "4           ADR1  CRP like - non glucose carbon metabolism   \n",
       "5            UC2                                       N.A   \n",
       "6           SWI5                    D (Cell cycle control)   \n",
       "7            UC3                                       N.A   \n",
       "8            UC4                                       N.A   \n",
       "9            UC5                                       N.A   \n",
       "10          UC20                                       N.A   \n",
       "11           UC6                                       N.A   \n",
       "12           UC7                Malate synthase, PCK, FTR1   \n",
       "13           UC8                                       N.A   \n",
       "14          HSP1              Heat shock protein subunits    \n",
       "15           UC9                                       N.A   \n",
       "16         MET32                   Methionine biosynthesis   \n",
       "17          FKH2                      chromatin regulation   \n",
       "18          UC10                                       N.A   \n",
       "19       Zrt_Ftr         ZRT/FTR (Zinc, iron transporters)   \n",
       "20          UC11                                       N.A   \n",
       "21          CAT8  CRP like - non glucose carbon metabolism   \n",
       "22          GCN4                  Amino acid biosynthesis    \n",
       "23          UC12                                       N.A   \n",
       "24          IFH1                                  Ribsomal   \n",
       "25          UC13                                       N.A   \n",
       "26          MBP1             Cell phase related regulation   \n",
       "27          UC14                                       N.A   \n",
       "28          UC15                                       N.A   \n",
       "29          RTG3                  Mitochondrial retrograde   \n",
       "30          FeRd                Iron reductae/Iron related   \n",
       "31          HOT1  Osmolarity related glycerol biosynthesis   \n",
       "32          UC16                                       N.A   \n",
       "33           RME                                     RME1?   \n",
       "34          UC17                                       N.A   \n",
       "35          HSP2                                      HSP2   \n",
       "36          UC18                                       N.A   \n",
       "\n",
       "                                                 COGs         Category  \\\n",
       "0                            E (Amino acid transport)       Metabolism   \n",
       "1                                         S (Unknown)  Uncharacterized   \n",
       "2                C (Energy Production and Conversion)           Energy   \n",
       "3                                                 N.A  Uncharacterized   \n",
       "4                                      Q (Catabolism)       Metabolism   \n",
       "5                                         S (Unknown)  Uncharacterized   \n",
       "6                              D (Cell cycle control)    Cell division   \n",
       "7            G(Carbohydrate transport and metabolism)  Uncharacterized   \n",
       "8                                         S (Unknown)  Uncharacterized   \n",
       "9                O (Post translation mods, chaperons)  Uncharacterized   \n",
       "10                                                N.A  Uncharacterized   \n",
       "11               C (Energy Production and Conversion)  Uncharacterized   \n",
       "12                                        S (Unknown)  Uncharacterized   \n",
       "13                                        S (Unknown)  Uncharacterized   \n",
       "14                                        S (Unknown)           Stress   \n",
       "15                                        S (Unknown)  Uncharacterized   \n",
       "16                           E (Amino acid transport)       Metabolism   \n",
       "17                A (RNA processing and modification)    Cell division   \n",
       "18                                     Q (Catabolism)   Uncharacerized   \n",
       "19                                        S (Unknown)        Transport   \n",
       "20                                        - (Unknown)  Uncharacterized   \n",
       "21                                  C, G (Catabolism)       Metabolism   \n",
       "22                           E (Amino acid transport)       Metabolism   \n",
       "23           G(Carbohydrate transport and metabolism)  Uncharacterized   \n",
       "24                          J (Translation/Ribosomal)      Translation   \n",
       "25               O (Post translation mods, chaperons)  Uncharacterized   \n",
       "26            L ( Replication, Recombination, Repair)    Cell division   \n",
       "27                     P, H (Ion, Cofactor transport)        Transport   \n",
       "28                                        S (Unknown)  Uncharacterized   \n",
       "29               S (Unknown), E(Amino acid transport)           Stress   \n",
       "30                                         S(Unknown)           Energy   \n",
       "31                                         S(Unknown)           Stress   \n",
       "32        A(RNA processing), E (Amino acid transport)  Uncharacterized   \n",
       "33                                        S (Unknown)    Cell division   \n",
       "34                           E (Amino acid transport)        Transport   \n",
       "35                          S(Unknown), G(Catabolism)           Stress   \n",
       "36  G(Carbohydrate transport and metabolism), T(Si...  Uncharacterized   \n",
       "\n",
       "    ngenes  explained_variance  threshold                  pvalue  \\\n",
       "0      131            0.024226   0.032645   4.471409016562623e-07   \n",
       "1       85            0.010175   0.035350          Uncharacerized   \n",
       "2       55            0.012128   0.040596          Uncharacerized   \n",
       "3        0            0.033613   0.120962          Uncharacerized   \n",
       "4      287            0.095930   0.024665  2.4016560658451717e-09   \n",
       "5       78            0.017706   0.040438          Uncharacerized   \n",
       "6       80            0.017075   0.041429   2.956025509236294e-07   \n",
       "7      394            0.013854   0.021520          Uncharacerized   \n",
       "8      262            0.008360   0.023275          Uncharacerized   \n",
       "9      105            0.004070   0.038863          Uncharacerized   \n",
       "10       0            0.017920   0.122405          Uncharacerized   \n",
       "11     218            0.002002   0.024372          Uncharacerized   \n",
       "12     105            0.005453   0.038097          Uncharacerized   \n",
       "13     243            0.001851   0.028383          Uncharacerized   \n",
       "14     160            0.073086   0.028105          Uncharacerized   \n",
       "15     196            0.166861   0.027916          Uncharacerized   \n",
       "16     104            0.052601   0.034906    8.03905610484055e-05   \n",
       "17     255            0.041518   0.030228   5.165057790007537e-06   \n",
       "18     127            0.027396   0.033213          Uncharacerized   \n",
       "19     220            0.042466   0.026078          Uncharacerized   \n",
       "20     175            0.002230   0.023308          Uncharacerized   \n",
       "21      77            0.008676   0.039377   2.981878996883019e-14   \n",
       "22     228            0.013787   0.029040  2.7095502194120287e-11   \n",
       "23     111            0.005311   0.032749          Uncharacerized   \n",
       "24      66            0.051413   0.045540  1.1700596583413142e-87   \n",
       "25     234            0.002638   0.023695          Uncharacerized   \n",
       "26     160            0.020295   0.033920   1.158981729071767e-11   \n",
       "27     159            0.005124   0.030953          Uncharacerized   \n",
       "28     163            0.005899   0.032557          Uncharacerized   \n",
       "29     108            0.004459   0.035295  0.00015608431383868843   \n",
       "30     105            0.015156   0.034309          Uncharacerized   \n",
       "31      76            0.020185   0.038035   5.968243895175465e-05   \n",
       "32      70            0.014638   0.041353          Uncharacerized   \n",
       "33      73            0.012919   0.038265          Uncharacerized   \n",
       "34      38            0.008407   0.045213          Uncharacerized   \n",
       "35     204            0.006701   0.028764          Uncharacerized   \n",
       "36     119            0.006332   0.032757          Uncharacerized   \n",
       "\n",
       "               precision               recall              f1score  \\\n",
       "0    0.04580152671755725                  0.3  0.07947019867549668   \n",
       "1         Uncharacerized       Uncharacerized       Uncharacerized   \n",
       "2         Uncharacerized       Uncharacerized       Uncharacerized   \n",
       "3         Uncharacerized       Uncharacerized       Uncharacerized   \n",
       "4    0.04878048780487805  0.25925925925925924  0.08211143695014664   \n",
       "5         Uncharacerized       Uncharacerized       Uncharacerized   \n",
       "6                 0.0625               0.3125  0.10416666666666667   \n",
       "7         Uncharacerized       Uncharacerized       Uncharacerized   \n",
       "8         Uncharacerized       Uncharacerized       Uncharacerized   \n",
       "9         Uncharacerized       Uncharacerized       Uncharacerized   \n",
       "10        Uncharacerized       Uncharacerized       Uncharacerized   \n",
       "11        Uncharacerized       Uncharacerized       Uncharacerized   \n",
       "12        Uncharacerized       Uncharacerized       Uncharacerized   \n",
       "13        Uncharacerized       Uncharacerized       Uncharacerized   \n",
       "14        Uncharacerized       Uncharacerized       Uncharacerized   \n",
       "15        Uncharacerized       Uncharacerized       Uncharacerized   \n",
       "16   0.10576923076923077  0.05069124423963134  0.06853582554517133   \n",
       "17  0.047058823529411764                 0.15  0.07164179104477611   \n",
       "18        Uncharacerized       Uncharacerized       Uncharacerized   \n",
       "19        Uncharacerized       Uncharacerized       Uncharacerized   \n",
       "20        Uncharacerized       Uncharacerized       Uncharacerized   \n",
       "21   0.12987012987012986  0.35714285714285715  0.19047619047619047   \n",
       "22   0.22807017543859648  0.07313642756680731  0.11075612353567625   \n",
       "23        Uncharacerized       Uncharacerized       Uncharacerized   \n",
       "24    0.7272727272727273   0.5647058823529412   0.6357615894039735   \n",
       "25        Uncharacerized       Uncharacerized       Uncharacerized   \n",
       "26                0.0875              0.21875  0.12499999999999997   \n",
       "27        Uncharacerized       Uncharacerized       Uncharacerized   \n",
       "28        Uncharacerized       Uncharacerized       Uncharacerized   \n",
       "29  0.046296296296296294                0.125  0.06756756756756757   \n",
       "30        Uncharacerized       Uncharacerized       Uncharacerized   \n",
       "31  0.039473684210526314   0.3333333333333333  0.07058823529411765   \n",
       "32        Uncharacerized       Uncharacerized       Uncharacerized   \n",
       "33        Uncharacerized       Uncharacerized       Uncharacerized   \n",
       "34        Uncharacerized       Uncharacerized       Uncharacerized   \n",
       "35        Uncharacerized       Uncharacerized       Uncharacerized   \n",
       "36        Uncharacerized       Uncharacerized       Uncharacerized   \n",
       "\n",
       "                TP    regulon_size   gene_set_size                  qvalue  \\\n",
       "0              6.0            20.0           131.0  3.2194144919250886e-05   \n",
       "1   Uncharacerized  Uncharacerized  Uncharacerized          Uncharacerized   \n",
       "2   Uncharacerized  Uncharacerized  Uncharacerized          Uncharacerized   \n",
       "3   Uncharacerized  Uncharacerized  Uncharacerized          Uncharacerized   \n",
       "4             14.0            54.0           287.0   2.041407655968396e-07   \n",
       "5   Uncharacerized  Uncharacerized  Uncharacerized          Uncharacerized   \n",
       "6              5.0            16.0            80.0    1.50757300971051e-05   \n",
       "7   Uncharacerized  Uncharacerized  Uncharacerized          Uncharacerized   \n",
       "8   Uncharacerized  Uncharacerized  Uncharacerized          Uncharacerized   \n",
       "9   Uncharacerized  Uncharacerized  Uncharacerized          Uncharacerized   \n",
       "10  Uncharacerized  Uncharacerized  Uncharacerized          Uncharacerized   \n",
       "11  Uncharacerized  Uncharacerized  Uncharacerized          Uncharacerized   \n",
       "12  Uncharacerized  Uncharacerized  Uncharacerized          Uncharacerized   \n",
       "13  Uncharacerized  Uncharacerized  Uncharacerized          Uncharacerized   \n",
       "14  Uncharacerized  Uncharacerized  Uncharacerized          Uncharacerized   \n",
       "15  Uncharacerized  Uncharacerized  Uncharacerized          Uncharacerized   \n",
       "16            11.0           217.0           104.0   0.0023313262704037596   \n",
       "17            12.0            80.0           255.0  0.00039254439204057284   \n",
       "18  Uncharacerized  Uncharacerized  Uncharacerized          Uncharacerized   \n",
       "19  Uncharacerized  Uncharacerized  Uncharacerized          Uncharacerized   \n",
       "20  Uncharacerized  Uncharacerized  Uncharacerized          Uncharacerized   \n",
       "21            10.0            28.0            77.0   2.385503197506415e-12   \n",
       "22            52.0           711.0           228.0  2.4114996952767058e-09   \n",
       "23  Uncharacerized  Uncharacerized  Uncharacerized          Uncharacerized   \n",
       "24            48.0            85.0            66.0   6.786346018379623e-86   \n",
       "25  Uncharacerized  Uncharacerized  Uncharacerized          Uncharacerized   \n",
       "26            14.0            64.0           160.0   8.576464795131075e-10   \n",
       "27  Uncharacerized  Uncharacerized  Uncharacerized          Uncharacerized   \n",
       "28  Uncharacerized  Uncharacerized  Uncharacerized          Uncharacerized   \n",
       "29             5.0            40.0           108.0    0.007648131378095733   \n",
       "30  Uncharacerized  Uncharacerized  Uncharacerized          Uncharacerized   \n",
       "31             3.0             9.0            76.0    0.004416500482429844   \n",
       "32  Uncharacerized  Uncharacerized  Uncharacerized          Uncharacerized   \n",
       "33  Uncharacerized  Uncharacerized  Uncharacerized          Uncharacerized   \n",
       "34  Uncharacerized  Uncharacerized  Uncharacerized          Uncharacerized   \n",
       "35  Uncharacerized  Uncharacerized  Uncharacerized          Uncharacerized   \n",
       "36  Uncharacerized  Uncharacerized  Uncharacerized          Uncharacerized   \n",
       "\n",
       "            n_regs  \n",
       "0              1.0  \n",
       "1   Uncharacerized  \n",
       "2   Uncharacerized  \n",
       "3   Uncharacerized  \n",
       "4              1.0  \n",
       "5   Uncharacerized  \n",
       "6              1.0  \n",
       "7   Uncharacerized  \n",
       "8   Uncharacerized  \n",
       "9   Uncharacerized  \n",
       "10  Uncharacerized  \n",
       "11  Uncharacerized  \n",
       "12  Uncharacerized  \n",
       "13  Uncharacerized  \n",
       "14  Uncharacerized  \n",
       "15  Uncharacerized  \n",
       "16             1.0  \n",
       "17             1.0  \n",
       "18  Uncharacerized  \n",
       "19  Uncharacerized  \n",
       "20  Uncharacerized  \n",
       "21             1.0  \n",
       "22             1.0  \n",
       "23  Uncharacerized  \n",
       "24             1.0  \n",
       "25  Uncharacerized  \n",
       "26             1.0  \n",
       "27  Uncharacerized  \n",
       "28  Uncharacerized  \n",
       "29             1.0  \n",
       "30  Uncharacerized  \n",
       "31             1.0  \n",
       "32  Uncharacerized  \n",
       "33  Uncharacerized  \n",
       "34  Uncharacerized  \n",
       "35  Uncharacerized  \n",
       "36  Uncharacerized  "
      ]
     },
     "execution_count": 38,
     "metadata": {},
     "output_type": "execute_result"
    }
   ],
   "source": [
    "ica_data.imodulon_table = ica_data.imodulon_table.fillna('Uncharacerized')\n",
    "\n",
    "ica_data.imodulon_table['Category'] = (ica_data.imodulon_table['Category'].replace('N.A', 'Uncharacterized') .fillna('Uncharacterized')           # NaN → Uncharacterized\n",
    ")\n",
    "\n",
    "ica_data.imodulon_table\n"
   ]
  },
  {
   "cell_type": "code",
   "execution_count": 39,
   "id": "79fde052",
   "metadata": {},
   "outputs": [
    {
     "data": {
      "application/vnd.plotly.v1+json": {
       "config": {
        "plotlyServerURL": "https://plot.ly"
       },
       "data": [
        {
         "branchvalues": "total",
         "customdata": [
          [
           0.09593006130966097,
           287,
           "CRP like - non glucose carbon metabolism",
           "Q (Catabolism)",
           0.02466495150839905,
           "Metabolism"
          ],
          [
           0.008676036903910833,
           77,
           "CRP like - non glucose carbon metabolism",
           "C, G (Catabolism)",
           0.03937694021540955,
           "Metabolism"
          ],
          [
           0.02422584134051098,
           131,
           "Ammonia degradation/Nitrogen related",
           "E (Amino acid transport)",
           0.03264504405392575,
           "Metabolism"
          ],
          [
           0.012127815639186412,
           55,
           "Formate Dehydrogenase",
           "C (Energy Production and Conversion)",
           0.04059570958735455,
           "Energy"
          ],
          [
           0.04151842304509179,
           255,
           "chromatin regulation",
           "A (RNA processing and modification)",
           0.030228449258897352,
           "Cell division"
          ],
          [
           0.015156318674855007,
           105,
           "Iron reductae/Iron related",
           "S(Unknown)",
           0.03430873279776915,
           "Energy"
          ],
          [
           0.05141299320170811,
           66,
           "Ribsomal",
           "J (Translation/Ribosomal)",
           0.0455396828327218,
           "Translation"
          ],
          [
           0.0067005106479258725,
           204,
           "HSP2",
           "S(Unknown), G(Catabolism)",
           0.02876383145259585,
           "Stress"
          ],
          [
           0.07308628196441258,
           160,
           "Heat shock protein subunits ",
           "S (Unknown)",
           0.028105185820819348,
           "Stress"
          ],
          [
           0.020184891799940985,
           76,
           "Osmolarity related glycerol biosynthesis",
           "S(Unknown)",
           0.0380349651251964,
           "Stress"
          ],
          [
           0.013787448402360236,
           228,
           "Amino acid biosynthesis ",
           "E (Amino acid transport)",
           0.0290402664257083,
           "Metabolism"
          ],
          [
           0.020294740951063206,
           160,
           "Cell phase related regulation",
           "L ( Replication, Recombination, Repair)",
           0.03392013397137705,
           "Cell division"
          ],
          [
           0.05260097467307545,
           104,
           "Methionine biosynthesis",
           "E (Amino acid transport)",
           0.034906253607808,
           "Metabolism"
          ],
          [
           0.012919003961677555,
           73,
           "RME1?",
           "S (Unknown)",
           0.0382652906030842,
           "Cell division"
          ],
          [
           0.004459472507806539,
           108,
           "Mitochondrial retrograde",
           "S (Unknown), E(Amino acid transport)",
           0.03529466339982815,
           "Stress"
          ],
          [
           0.01707487621936632,
           80,
           "D (Cell cycle control)",
           "D (Cell cycle control)",
           0.0414293666596193,
           "Cell division"
          ],
          [
           0.027395626179681276,
           127,
           "N.A",
           "Q (Catabolism)",
           0.03321273932734285,
           "Uncharacerized"
          ],
          [
           0.002229783137661423,
           175,
           "N.A",
           "- (Unknown)",
           0.02330820170222685,
           "Uncharacterized"
          ],
          [
           0.010174672372791127,
           85,
           "Contains some sugar related proteins?",
           "S (Unknown)",
           0.0353502367221376,
           "Uncharacterized"
          ],
          [
           0.005311396281709624,
           111,
           "N.A",
           "G(Carbohydrate transport and metabolism)",
           0.0327491948637541,
           "Uncharacterized"
          ],
          [
           0.16686058198312603,
           196,
           "N.A",
           "S (Unknown)",
           0.02791633829568475,
           "Uncharacterized"
          ],
          [
           0.0018506324469650393,
           243,
           "N.A",
           "S (Unknown)",
           0.028383498702785698,
           "Uncharacterized"
          ],
          [
           0.005453175993203163,
           105,
           "Malate synthase, PCK, FTR1",
           "S (Unknown)",
           0.038096721944109596,
           "Uncharacterized"
          ],
          [
           0.002001691104983494,
           218,
           "N.A",
           "C (Energy Production and Conversion)",
           0.024372336134568552,
           "Uncharacterized"
          ],
          [
           0.004069938558932229,
           105,
           "N.A",
           "O (Post translation mods, chaperons)",
           0.038863410048030345,
           "Uncharacterized"
          ],
          [
           0.008359652316148214,
           262,
           "N.A",
           "S (Unknown)",
           0.0232753771712243,
           "Uncharacterized"
          ],
          [
           0.013854160276853156,
           394,
           "N.A",
           "G(Carbohydrate transport and metabolism)",
           0.02151983321382855,
           "Uncharacterized"
          ],
          [
           0.017919974823579432,
           0,
           "N.A",
           "N.A",
           0.12240523302243571,
           "Uncharacterized"
          ],
          [
           0.017706468727074376,
           78,
           "N.A",
           "S (Unknown)",
           0.0404375412755835,
           "Uncharacterized"
          ],
          [
           0.0063319223315647655,
           119,
           "N.A",
           "G(Carbohydrate transport and metabolism), T(Signal transduction)",
           0.03275748276710755,
           "Uncharacterized"
          ],
          [
           0.008407189007800797,
           38,
           "N.A",
           "E (Amino acid transport)",
           0.04521251447129985,
           "Transport"
          ],
          [
           0.014638024684381246,
           70,
           "N.A",
           "A(RNA processing), E (Amino acid transport)",
           0.0413526104323582,
           "Uncharacterized"
          ],
          [
           0.005899039145421225,
           163,
           "N.A",
           "S (Unknown)",
           0.03255701194885195,
           "Uncharacterized"
          ],
          [
           0.005123800461319106,
           159,
           "N.A",
           "P, H (Ion, Cofactor transport)",
           0.030953412575860102,
           "Transport"
          ],
          [
           0.0026376047790666046,
           234,
           "N.A",
           "O (Post translation mods, chaperons)",
           0.0236946956279429,
           "Uncharacterized"
          ],
          [
           0.03361319536896179,
           0,
           "N.A",
           "N.A",
           0.1209622942131183,
           "Uncharacterized"
          ],
          [
           0.042465901056426114,
           220,
           "ZRT/FTR (Zinc, iron transporters)",
           "S (Unknown)",
           0.026077570643463548,
           "Transport"
          ],
          [
           0.09180704417719887,
           "(?)",
           "(?)",
           "(?)",
           "(?)",
           "Cell division"
          ],
          [
           0.02728413431404142,
           "(?)",
           "(?)",
           "(?)",
           "(?)",
           "Energy"
          ],
          [
           0.19522036262951847,
           "(?)",
           "(?)",
           "(?)",
           "(?)",
           "Metabolism"
          ],
          [
           0.10443115692008598,
           "(?)",
           "(?)",
           "(?)",
           "(?)",
           "Stress"
          ],
          [
           0.05141299320170811,
           66,
           "Ribsomal",
           "J (Translation/Ribosomal)",
           0.0455396828327218,
           "Translation"
          ],
          [
           0.05599689052554602,
           "(?)",
           "(?)",
           "(?)",
           "(?)",
           "Transport"
          ],
          [
           0.027395626179681276,
           127,
           "N.A",
           "Q (Catabolism)",
           0.03321273932734285,
           "Uncharacerized"
          ],
          [
           0.31891191433242294,
           "(?)",
           "(?)",
           "(?)",
           "(?)",
           "Uncharacterized"
          ]
         ],
         "domain": {
          "x": [
           0,
           1
          ],
          "y": [
           0,
           1
          ]
         },
         "hovertemplate": "labels=%{label}<br>explained_variance=%{customdata[0]:.4f}<br>parent=%{parent}<br>id=%{id}<br>ngenes=%{customdata[1]}<br>Descriptors=%{customdata[2]}<br>COGs=%{customdata[3]}<br>threshold=%{customdata[4]:.4f}<br>Category=%{customdata[5]}<extra></extra>",
         "ids": [
          "Metabolism/ADR1",
          "Metabolism/CAT8",
          "Metabolism/DAL81",
          "Energy/FDH",
          "Cell division/FKH2",
          "Energy/FeRd",
          "Translation/IFH1",
          "Stress/HSP2",
          "Stress/HSP1",
          "Stress/HOT1",
          "Metabolism/GCN4",
          "Cell division/MBP1",
          "Metabolism/MET32",
          "Cell division/RME",
          "Stress/RTG3",
          "Cell division/SWI5",
          "Uncharacerized/UC10",
          "Uncharacterized/UC11",
          "Uncharacterized/UC1",
          "Uncharacterized/UC12",
          "Uncharacterized/UC9",
          "Uncharacterized/UC8",
          "Uncharacterized/UC7",
          "Uncharacterized/UC6",
          "Uncharacterized/UC5",
          "Uncharacterized/UC4",
          "Uncharacterized/UC3",
          "Uncharacterized/UC20",
          "Uncharacterized/UC2",
          "Uncharacterized/UC18",
          "Transport/UC17",
          "Uncharacterized/UC16",
          "Uncharacterized/UC15",
          "Transport/UC14",
          "Uncharacterized/UC13",
          "Uncharacterized/UC19",
          "Transport/Zrt_Ftr",
          "Cell division",
          "Energy",
          "Metabolism",
          "Stress",
          "Translation",
          "Transport",
          "Uncharacerized",
          "Uncharacterized"
         ],
         "labels": [
          "ADR1",
          "CAT8",
          "DAL81",
          "FDH",
          "FKH2",
          "FeRd",
          "IFH1",
          "HSP2",
          "HSP1",
          "HOT1",
          "GCN4",
          "MBP1",
          "MET32",
          "RME",
          "RTG3",
          "SWI5",
          "UC10",
          "UC11",
          "UC1",
          "UC12",
          "UC9",
          "UC8",
          "UC7",
          "UC6",
          "UC5",
          "UC4",
          "UC3",
          "UC20",
          "UC2",
          "UC18",
          "UC17",
          "UC16",
          "UC15",
          "UC14",
          "UC13",
          "UC19",
          "Zrt_Ftr",
          "Cell division",
          "Energy",
          "Metabolism",
          "Stress",
          "Translation",
          "Transport",
          "Uncharacerized",
          "Uncharacterized"
         ],
         "marker": {
          "colors": [
           "rgb(141,211,199)",
           "rgb(141,211,199)",
           "rgb(141,211,199)",
           "rgb(255,255,179)",
           "rgb(190,186,218)",
           "rgb(255,255,179)",
           "rgb(251,128,114)",
           "rgb(128,177,211)",
           "rgb(128,177,211)",
           "rgb(128,177,211)",
           "rgb(141,211,199)",
           "rgb(190,186,218)",
           "rgb(141,211,199)",
           "rgb(190,186,218)",
           "rgb(128,177,211)",
           "rgb(190,186,218)",
           "rgb(253,180,98)",
           "rgb(179,222,105)",
           "rgb(179,222,105)",
           "rgb(179,222,105)",
           "rgb(179,222,105)",
           "rgb(179,222,105)",
           "rgb(179,222,105)",
           "rgb(179,222,105)",
           "rgb(179,222,105)",
           "rgb(179,222,105)",
           "rgb(179,222,105)",
           "rgb(179,222,105)",
           "rgb(179,222,105)",
           "rgb(179,222,105)",
           "rgb(252,205,229)",
           "rgb(179,222,105)",
           "rgb(179,222,105)",
           "rgb(252,205,229)",
           "rgb(179,222,105)",
           "rgb(179,222,105)",
           "rgb(252,205,229)",
           "rgb(190,186,218)",
           "rgb(255,255,179)",
           "rgb(141,211,199)",
           "rgb(128,177,211)",
           "rgb(251,128,114)",
           "rgb(252,205,229)",
           "rgb(253,180,98)",
           "rgb(179,222,105)"
          ]
         },
         "name": "",
         "parents": [
          "Metabolism",
          "Metabolism",
          "Metabolism",
          "Energy",
          "Cell division",
          "Energy",
          "Translation",
          "Stress",
          "Stress",
          "Stress",
          "Metabolism",
          "Cell division",
          "Metabolism",
          "Cell division",
          "Stress",
          "Cell division",
          "Uncharacerized",
          "Uncharacterized",
          "Uncharacterized",
          "Uncharacterized",
          "Uncharacterized",
          "Uncharacterized",
          "Uncharacterized",
          "Uncharacterized",
          "Uncharacterized",
          "Uncharacterized",
          "Uncharacterized",
          "Uncharacterized",
          "Uncharacterized",
          "Uncharacterized",
          "Transport",
          "Uncharacterized",
          "Uncharacterized",
          "Transport",
          "Uncharacterized",
          "Uncharacterized",
          "Transport",
          "",
          "",
          "",
          "",
          "",
          "",
          "",
          ""
         ],
         "textfont": {
          "color": "black",
          "family": "Arial",
          "size": 16
         },
         "tiling": {
          "squarifyratio": 1
         },
         "type": "treemap",
         "values": [
          0.09593006130966097,
          0.008676036903910833,
          0.02422584134051098,
          0.012127815639186412,
          0.04151842304509179,
          0.015156318674855007,
          0.05141299320170811,
          0.0067005106479258725,
          0.07308628196441258,
          0.020184891799940985,
          0.013787448402360236,
          0.020294740951063206,
          0.05260097467307545,
          0.012919003961677555,
          0.004459472507806539,
          0.01707487621936632,
          0.027395626179681276,
          0.002229783137661423,
          0.010174672372791127,
          0.005311396281709624,
          0.16686058198312603,
          0.0018506324469650393,
          0.005453175993203163,
          0.002001691104983494,
          0.004069938558932229,
          0.008359652316148214,
          0.013854160276853156,
          0.017919974823579432,
          0.017706468727074376,
          0.0063319223315647655,
          0.008407189007800797,
          0.014638024684381246,
          0.005899039145421225,
          0.005123800461319106,
          0.0026376047790666046,
          0.03361319536896179,
          0.042465901056426114,
          0.09180704417719887,
          0.02728413431404142,
          0.19522036262951847,
          0.10443115692008598,
          0.05141299320170811,
          0.05599689052554602,
          0.027395626179681276,
          0.31891191433242294
         ]
        }
       ],
       "layout": {
        "height": 500,
        "legend": {
         "tracegroupgap": 0
        },
        "margin": {
         "b": 10,
         "l": 10,
         "r": 10,
         "t": 60
        },
        "template": {
         "data": {
          "bar": [
           {
            "error_x": {
             "color": "#2a3f5f"
            },
            "error_y": {
             "color": "#2a3f5f"
            },
            "marker": {
             "line": {
              "color": "#E5ECF6",
              "width": 0.5
             },
             "pattern": {
              "fillmode": "overlay",
              "size": 10,
              "solidity": 0.2
             }
            },
            "type": "bar"
           }
          ],
          "barpolar": [
           {
            "marker": {
             "line": {
              "color": "#E5ECF6",
              "width": 0.5
             },
             "pattern": {
              "fillmode": "overlay",
              "size": 10,
              "solidity": 0.2
             }
            },
            "type": "barpolar"
           }
          ],
          "carpet": [
           {
            "aaxis": {
             "endlinecolor": "#2a3f5f",
             "gridcolor": "white",
             "linecolor": "white",
             "minorgridcolor": "white",
             "startlinecolor": "#2a3f5f"
            },
            "baxis": {
             "endlinecolor": "#2a3f5f",
             "gridcolor": "white",
             "linecolor": "white",
             "minorgridcolor": "white",
             "startlinecolor": "#2a3f5f"
            },
            "type": "carpet"
           }
          ],
          "choropleth": [
           {
            "colorbar": {
             "outlinewidth": 0,
             "ticks": ""
            },
            "type": "choropleth"
           }
          ],
          "contour": [
           {
            "colorbar": {
             "outlinewidth": 0,
             "ticks": ""
            },
            "colorscale": [
             [
              0,
              "#0d0887"
             ],
             [
              0.1111111111111111,
              "#46039f"
             ],
             [
              0.2222222222222222,
              "#7201a8"
             ],
             [
              0.3333333333333333,
              "#9c179e"
             ],
             [
              0.4444444444444444,
              "#bd3786"
             ],
             [
              0.5555555555555556,
              "#d8576b"
             ],
             [
              0.6666666666666666,
              "#ed7953"
             ],
             [
              0.7777777777777778,
              "#fb9f3a"
             ],
             [
              0.8888888888888888,
              "#fdca26"
             ],
             [
              1,
              "#f0f921"
             ]
            ],
            "type": "contour"
           }
          ],
          "contourcarpet": [
           {
            "colorbar": {
             "outlinewidth": 0,
             "ticks": ""
            },
            "type": "contourcarpet"
           }
          ],
          "heatmap": [
           {
            "colorbar": {
             "outlinewidth": 0,
             "ticks": ""
            },
            "colorscale": [
             [
              0,
              "#0d0887"
             ],
             [
              0.1111111111111111,
              "#46039f"
             ],
             [
              0.2222222222222222,
              "#7201a8"
             ],
             [
              0.3333333333333333,
              "#9c179e"
             ],
             [
              0.4444444444444444,
              "#bd3786"
             ],
             [
              0.5555555555555556,
              "#d8576b"
             ],
             [
              0.6666666666666666,
              "#ed7953"
             ],
             [
              0.7777777777777778,
              "#fb9f3a"
             ],
             [
              0.8888888888888888,
              "#fdca26"
             ],
             [
              1,
              "#f0f921"
             ]
            ],
            "type": "heatmap"
           }
          ],
          "heatmapgl": [
           {
            "colorbar": {
             "outlinewidth": 0,
             "ticks": ""
            },
            "colorscale": [
             [
              0,
              "#0d0887"
             ],
             [
              0.1111111111111111,
              "#46039f"
             ],
             [
              0.2222222222222222,
              "#7201a8"
             ],
             [
              0.3333333333333333,
              "#9c179e"
             ],
             [
              0.4444444444444444,
              "#bd3786"
             ],
             [
              0.5555555555555556,
              "#d8576b"
             ],
             [
              0.6666666666666666,
              "#ed7953"
             ],
             [
              0.7777777777777778,
              "#fb9f3a"
             ],
             [
              0.8888888888888888,
              "#fdca26"
             ],
             [
              1,
              "#f0f921"
             ]
            ],
            "type": "heatmapgl"
           }
          ],
          "histogram": [
           {
            "marker": {
             "pattern": {
              "fillmode": "overlay",
              "size": 10,
              "solidity": 0.2
             }
            },
            "type": "histogram"
           }
          ],
          "histogram2d": [
           {
            "colorbar": {
             "outlinewidth": 0,
             "ticks": ""
            },
            "colorscale": [
             [
              0,
              "#0d0887"
             ],
             [
              0.1111111111111111,
              "#46039f"
             ],
             [
              0.2222222222222222,
              "#7201a8"
             ],
             [
              0.3333333333333333,
              "#9c179e"
             ],
             [
              0.4444444444444444,
              "#bd3786"
             ],
             [
              0.5555555555555556,
              "#d8576b"
             ],
             [
              0.6666666666666666,
              "#ed7953"
             ],
             [
              0.7777777777777778,
              "#fb9f3a"
             ],
             [
              0.8888888888888888,
              "#fdca26"
             ],
             [
              1,
              "#f0f921"
             ]
            ],
            "type": "histogram2d"
           }
          ],
          "histogram2dcontour": [
           {
            "colorbar": {
             "outlinewidth": 0,
             "ticks": ""
            },
            "colorscale": [
             [
              0,
              "#0d0887"
             ],
             [
              0.1111111111111111,
              "#46039f"
             ],
             [
              0.2222222222222222,
              "#7201a8"
             ],
             [
              0.3333333333333333,
              "#9c179e"
             ],
             [
              0.4444444444444444,
              "#bd3786"
             ],
             [
              0.5555555555555556,
              "#d8576b"
             ],
             [
              0.6666666666666666,
              "#ed7953"
             ],
             [
              0.7777777777777778,
              "#fb9f3a"
             ],
             [
              0.8888888888888888,
              "#fdca26"
             ],
             [
              1,
              "#f0f921"
             ]
            ],
            "type": "histogram2dcontour"
           }
          ],
          "mesh3d": [
           {
            "colorbar": {
             "outlinewidth": 0,
             "ticks": ""
            },
            "type": "mesh3d"
           }
          ],
          "parcoords": [
           {
            "line": {
             "colorbar": {
              "outlinewidth": 0,
              "ticks": ""
             }
            },
            "type": "parcoords"
           }
          ],
          "pie": [
           {
            "automargin": true,
            "type": "pie"
           }
          ],
          "scatter": [
           {
            "fillpattern": {
             "fillmode": "overlay",
             "size": 10,
             "solidity": 0.2
            },
            "type": "scatter"
           }
          ],
          "scatter3d": [
           {
            "line": {
             "colorbar": {
              "outlinewidth": 0,
              "ticks": ""
             }
            },
            "marker": {
             "colorbar": {
              "outlinewidth": 0,
              "ticks": ""
             }
            },
            "type": "scatter3d"
           }
          ],
          "scattercarpet": [
           {
            "marker": {
             "colorbar": {
              "outlinewidth": 0,
              "ticks": ""
             }
            },
            "type": "scattercarpet"
           }
          ],
          "scattergeo": [
           {
            "marker": {
             "colorbar": {
              "outlinewidth": 0,
              "ticks": ""
             }
            },
            "type": "scattergeo"
           }
          ],
          "scattergl": [
           {
            "marker": {
             "colorbar": {
              "outlinewidth": 0,
              "ticks": ""
             }
            },
            "type": "scattergl"
           }
          ],
          "scattermapbox": [
           {
            "marker": {
             "colorbar": {
              "outlinewidth": 0,
              "ticks": ""
             }
            },
            "type": "scattermapbox"
           }
          ],
          "scatterpolar": [
           {
            "marker": {
             "colorbar": {
              "outlinewidth": 0,
              "ticks": ""
             }
            },
            "type": "scatterpolar"
           }
          ],
          "scatterpolargl": [
           {
            "marker": {
             "colorbar": {
              "outlinewidth": 0,
              "ticks": ""
             }
            },
            "type": "scatterpolargl"
           }
          ],
          "scatterternary": [
           {
            "marker": {
             "colorbar": {
              "outlinewidth": 0,
              "ticks": ""
             }
            },
            "type": "scatterternary"
           }
          ],
          "surface": [
           {
            "colorbar": {
             "outlinewidth": 0,
             "ticks": ""
            },
            "colorscale": [
             [
              0,
              "#0d0887"
             ],
             [
              0.1111111111111111,
              "#46039f"
             ],
             [
              0.2222222222222222,
              "#7201a8"
             ],
             [
              0.3333333333333333,
              "#9c179e"
             ],
             [
              0.4444444444444444,
              "#bd3786"
             ],
             [
              0.5555555555555556,
              "#d8576b"
             ],
             [
              0.6666666666666666,
              "#ed7953"
             ],
             [
              0.7777777777777778,
              "#fb9f3a"
             ],
             [
              0.8888888888888888,
              "#fdca26"
             ],
             [
              1,
              "#f0f921"
             ]
            ],
            "type": "surface"
           }
          ],
          "table": [
           {
            "cells": {
             "fill": {
              "color": "#EBF0F8"
             },
             "line": {
              "color": "white"
             }
            },
            "header": {
             "fill": {
              "color": "#C8D4E3"
             },
             "line": {
              "color": "white"
             }
            },
            "type": "table"
           }
          ]
         },
         "layout": {
          "annotationdefaults": {
           "arrowcolor": "#2a3f5f",
           "arrowhead": 0,
           "arrowwidth": 1
          },
          "autotypenumbers": "strict",
          "coloraxis": {
           "colorbar": {
            "outlinewidth": 0,
            "ticks": ""
           }
          },
          "colorscale": {
           "diverging": [
            [
             0,
             "#8e0152"
            ],
            [
             0.1,
             "#c51b7d"
            ],
            [
             0.2,
             "#de77ae"
            ],
            [
             0.3,
             "#f1b6da"
            ],
            [
             0.4,
             "#fde0ef"
            ],
            [
             0.5,
             "#f7f7f7"
            ],
            [
             0.6,
             "#e6f5d0"
            ],
            [
             0.7,
             "#b8e186"
            ],
            [
             0.8,
             "#7fbc41"
            ],
            [
             0.9,
             "#4d9221"
            ],
            [
             1,
             "#276419"
            ]
           ],
           "sequential": [
            [
             0,
             "#0d0887"
            ],
            [
             0.1111111111111111,
             "#46039f"
            ],
            [
             0.2222222222222222,
             "#7201a8"
            ],
            [
             0.3333333333333333,
             "#9c179e"
            ],
            [
             0.4444444444444444,
             "#bd3786"
            ],
            [
             0.5555555555555556,
             "#d8576b"
            ],
            [
             0.6666666666666666,
             "#ed7953"
            ],
            [
             0.7777777777777778,
             "#fb9f3a"
            ],
            [
             0.8888888888888888,
             "#fdca26"
            ],
            [
             1,
             "#f0f921"
            ]
           ],
           "sequentialminus": [
            [
             0,
             "#0d0887"
            ],
            [
             0.1111111111111111,
             "#46039f"
            ],
            [
             0.2222222222222222,
             "#7201a8"
            ],
            [
             0.3333333333333333,
             "#9c179e"
            ],
            [
             0.4444444444444444,
             "#bd3786"
            ],
            [
             0.5555555555555556,
             "#d8576b"
            ],
            [
             0.6666666666666666,
             "#ed7953"
            ],
            [
             0.7777777777777778,
             "#fb9f3a"
            ],
            [
             0.8888888888888888,
             "#fdca26"
            ],
            [
             1,
             "#f0f921"
            ]
           ]
          },
          "colorway": [
           "#636efa",
           "#EF553B",
           "#00cc96",
           "#ab63fa",
           "#FFA15A",
           "#19d3f3",
           "#FF6692",
           "#B6E880",
           "#FF97FF",
           "#FECB52"
          ],
          "font": {
           "color": "#2a3f5f"
          },
          "geo": {
           "bgcolor": "white",
           "lakecolor": "white",
           "landcolor": "#E5ECF6",
           "showlakes": true,
           "showland": true,
           "subunitcolor": "white"
          },
          "hoverlabel": {
           "align": "left"
          },
          "hovermode": "closest",
          "mapbox": {
           "style": "light"
          },
          "paper_bgcolor": "white",
          "plot_bgcolor": "#E5ECF6",
          "polar": {
           "angularaxis": {
            "gridcolor": "white",
            "linecolor": "white",
            "ticks": ""
           },
           "bgcolor": "#E5ECF6",
           "radialaxis": {
            "gridcolor": "white",
            "linecolor": "white",
            "ticks": ""
           }
          },
          "scene": {
           "xaxis": {
            "backgroundcolor": "#E5ECF6",
            "gridcolor": "white",
            "gridwidth": 2,
            "linecolor": "white",
            "showbackground": true,
            "ticks": "",
            "zerolinecolor": "white"
           },
           "yaxis": {
            "backgroundcolor": "#E5ECF6",
            "gridcolor": "white",
            "gridwidth": 2,
            "linecolor": "white",
            "showbackground": true,
            "ticks": "",
            "zerolinecolor": "white"
           },
           "zaxis": {
            "backgroundcolor": "#E5ECF6",
            "gridcolor": "white",
            "gridwidth": 2,
            "linecolor": "white",
            "showbackground": true,
            "ticks": "",
            "zerolinecolor": "white"
           }
          },
          "shapedefaults": {
           "line": {
            "color": "#2a3f5f"
           }
          },
          "ternary": {
           "aaxis": {
            "gridcolor": "white",
            "linecolor": "white",
            "ticks": ""
           },
           "baxis": {
            "gridcolor": "white",
            "linecolor": "white",
            "ticks": ""
           },
           "bgcolor": "#E5ECF6",
           "caxis": {
            "gridcolor": "white",
            "linecolor": "white",
            "ticks": ""
           }
          },
          "title": {
           "x": 0.05
          },
          "xaxis": {
           "automargin": true,
           "gridcolor": "white",
           "linecolor": "white",
           "ticks": "",
           "title": {
            "standoff": 15
           },
           "zerolinecolor": "white",
           "zerolinewidth": 2
          },
          "yaxis": {
           "automargin": true,
           "gridcolor": "white",
           "linecolor": "white",
           "ticks": "",
           "title": {
            "standoff": 15
           },
           "zerolinecolor": "white",
           "zerolinewidth": 2
          }
         }
        },
        "treemapcolorway": [
         "rgb(141,211,199)",
         "rgb(255,255,179)",
         "rgb(190,186,218)",
         "rgb(251,128,114)",
         "rgb(128,177,211)",
         "rgb(253,180,98)",
         "rgb(179,222,105)",
         "rgb(252,205,229)",
         "rgb(217,217,217)",
         "rgb(188,128,189)",
         "rgb(204,235,197)",
         "rgb(255,237,111)"
        ],
        "width": 500
       }
      },
      "text/html": [
       "<div>                            <div id=\"a0b17819-d405-4cf8-92fd-9e04303cce47\" class=\"plotly-graph-div\" style=\"height:500px; width:500px;\"></div>            <script type=\"text/javascript\">                require([\"plotly\"], function(Plotly) {                    window.PLOTLYENV=window.PLOTLYENV || {};                                    if (document.getElementById(\"a0b17819-d405-4cf8-92fd-9e04303cce47\")) {                    Plotly.newPlot(                        \"a0b17819-d405-4cf8-92fd-9e04303cce47\",                        [{\"branchvalues\":\"total\",\"customdata\":[[0.09593006130966097,287,\"CRP like - non glucose carbon metabolism\",\"Q (Catabolism)\",0.02466495150839905,\"Metabolism\"],[0.008676036903910833,77,\"CRP like - non glucose carbon metabolism\",\"C, G (Catabolism)\",0.03937694021540955,\"Metabolism\"],[0.02422584134051098,131,\"Ammonia degradation\\u002fNitrogen related\",\"E (Amino acid transport)\",0.03264504405392575,\"Metabolism\"],[0.012127815639186412,55,\"Formate Dehydrogenase\",\"C (Energy Production and Conversion)\",0.04059570958735455,\"Energy\"],[0.04151842304509179,255,\"chromatin regulation\",\"A (RNA processing and modification)\",0.030228449258897352,\"Cell division\"],[0.015156318674855007,105,\"Iron reductae\\u002fIron related\",\"S(Unknown)\",0.03430873279776915,\"Energy\"],[0.05141299320170811,66,\"Ribsomal\",\"J (Translation\\u002fRibosomal)\",0.0455396828327218,\"Translation\"],[0.0067005106479258725,204,\"HSP2\",\"S(Unknown), G(Catabolism)\",0.02876383145259585,\"Stress\"],[0.07308628196441258,160,\"Heat shock protein subunits \",\"S (Unknown)\",0.028105185820819348,\"Stress\"],[0.020184891799940985,76,\"Osmolarity related glycerol biosynthesis\",\"S(Unknown)\",0.0380349651251964,\"Stress\"],[0.013787448402360236,228,\"Amino acid biosynthesis \",\"E (Amino acid transport)\",0.0290402664257083,\"Metabolism\"],[0.020294740951063206,160,\"Cell phase related regulation\",\"L ( Replication, Recombination, Repair)\",0.03392013397137705,\"Cell division\"],[0.05260097467307545,104,\"Methionine biosynthesis\",\"E (Amino acid transport)\",0.034906253607808,\"Metabolism\"],[0.012919003961677555,73,\"RME1?\",\"S (Unknown)\",0.0382652906030842,\"Cell division\"],[0.004459472507806539,108,\"Mitochondrial retrograde\",\"S (Unknown), E(Amino acid transport)\",0.03529466339982815,\"Stress\"],[0.01707487621936632,80,\"D (Cell cycle control)\",\"D (Cell cycle control)\",0.0414293666596193,\"Cell division\"],[0.027395626179681276,127,\"N.A\",\"Q (Catabolism)\",0.03321273932734285,\"Uncharacerized\"],[0.002229783137661423,175,\"N.A\",\"- (Unknown)\",0.02330820170222685,\"Uncharacterized\"],[0.010174672372791127,85,\"Contains some sugar related proteins?\",\"S (Unknown)\",0.0353502367221376,\"Uncharacterized\"],[0.005311396281709624,111,\"N.A\",\"G(Carbohydrate transport and metabolism)\",0.0327491948637541,\"Uncharacterized\"],[0.16686058198312603,196,\"N.A\",\"S (Unknown)\",0.02791633829568475,\"Uncharacterized\"],[0.0018506324469650393,243,\"N.A\",\"S (Unknown)\",0.028383498702785698,\"Uncharacterized\"],[0.005453175993203163,105,\"Malate synthase, PCK, FTR1\",\"S (Unknown)\",0.038096721944109596,\"Uncharacterized\"],[0.002001691104983494,218,\"N.A\",\"C (Energy Production and Conversion)\",0.024372336134568552,\"Uncharacterized\"],[0.004069938558932229,105,\"N.A\",\"O (Post translation mods, chaperons)\",0.038863410048030345,\"Uncharacterized\"],[0.008359652316148214,262,\"N.A\",\"S (Unknown)\",0.0232753771712243,\"Uncharacterized\"],[0.013854160276853156,394,\"N.A\",\"G(Carbohydrate transport and metabolism)\",0.02151983321382855,\"Uncharacterized\"],[0.017919974823579432,0,\"N.A\",\"N.A\",0.12240523302243571,\"Uncharacterized\"],[0.017706468727074376,78,\"N.A\",\"S (Unknown)\",0.0404375412755835,\"Uncharacterized\"],[0.0063319223315647655,119,\"N.A\",\"G(Carbohydrate transport and metabolism), T(Signal transduction)\",0.03275748276710755,\"Uncharacterized\"],[0.008407189007800797,38,\"N.A\",\"E (Amino acid transport)\",0.04521251447129985,\"Transport\"],[0.014638024684381246,70,\"N.A\",\"A(RNA processing), E (Amino acid transport)\",0.0413526104323582,\"Uncharacterized\"],[0.005899039145421225,163,\"N.A\",\"S (Unknown)\",0.03255701194885195,\"Uncharacterized\"],[0.005123800461319106,159,\"N.A\",\"P, H (Ion, Cofactor transport)\",0.030953412575860102,\"Transport\"],[0.0026376047790666046,234,\"N.A\",\"O (Post translation mods, chaperons)\",0.0236946956279429,\"Uncharacterized\"],[0.03361319536896179,0,\"N.A\",\"N.A\",0.1209622942131183,\"Uncharacterized\"],[0.042465901056426114,220,\"ZRT\\u002fFTR (Zinc, iron transporters)\",\"S (Unknown)\",0.026077570643463548,\"Transport\"],[0.09180704417719887,\"(?)\",\"(?)\",\"(?)\",\"(?)\",\"Cell division\"],[0.02728413431404142,\"(?)\",\"(?)\",\"(?)\",\"(?)\",\"Energy\"],[0.19522036262951847,\"(?)\",\"(?)\",\"(?)\",\"(?)\",\"Metabolism\"],[0.10443115692008598,\"(?)\",\"(?)\",\"(?)\",\"(?)\",\"Stress\"],[0.05141299320170811,66,\"Ribsomal\",\"J (Translation\\u002fRibosomal)\",0.0455396828327218,\"Translation\"],[0.05599689052554602,\"(?)\",\"(?)\",\"(?)\",\"(?)\",\"Transport\"],[0.027395626179681276,127,\"N.A\",\"Q (Catabolism)\",0.03321273932734285,\"Uncharacerized\"],[0.31891191433242294,\"(?)\",\"(?)\",\"(?)\",\"(?)\",\"Uncharacterized\"]],\"domain\":{\"x\":[0.0,1.0],\"y\":[0.0,1.0]},\"hovertemplate\":\"labels=%{label}\\u003cbr\\u003eexplained_variance=%{customdata[0]:.4f}\\u003cbr\\u003eparent=%{parent}\\u003cbr\\u003eid=%{id}\\u003cbr\\u003engenes=%{customdata[1]}\\u003cbr\\u003eDescriptors=%{customdata[2]}\\u003cbr\\u003eCOGs=%{customdata[3]}\\u003cbr\\u003ethreshold=%{customdata[4]:.4f}\\u003cbr\\u003eCategory=%{customdata[5]}\\u003cextra\\u003e\\u003c\\u002fextra\\u003e\",\"ids\":[\"Metabolism\\u002fADR1\",\"Metabolism\\u002fCAT8\",\"Metabolism\\u002fDAL81\",\"Energy\\u002fFDH\",\"Cell division\\u002fFKH2\",\"Energy\\u002fFeRd\",\"Translation\\u002fIFH1\",\"Stress\\u002fHSP2\",\"Stress\\u002fHSP1\",\"Stress\\u002fHOT1\",\"Metabolism\\u002fGCN4\",\"Cell division\\u002fMBP1\",\"Metabolism\\u002fMET32\",\"Cell division\\u002fRME\",\"Stress\\u002fRTG3\",\"Cell division\\u002fSWI5\",\"Uncharacerized\\u002fUC10\",\"Uncharacterized\\u002fUC11\",\"Uncharacterized\\u002fUC1\",\"Uncharacterized\\u002fUC12\",\"Uncharacterized\\u002fUC9\",\"Uncharacterized\\u002fUC8\",\"Uncharacterized\\u002fUC7\",\"Uncharacterized\\u002fUC6\",\"Uncharacterized\\u002fUC5\",\"Uncharacterized\\u002fUC4\",\"Uncharacterized\\u002fUC3\",\"Uncharacterized\\u002fUC20\",\"Uncharacterized\\u002fUC2\",\"Uncharacterized\\u002fUC18\",\"Transport\\u002fUC17\",\"Uncharacterized\\u002fUC16\",\"Uncharacterized\\u002fUC15\",\"Transport\\u002fUC14\",\"Uncharacterized\\u002fUC13\",\"Uncharacterized\\u002fUC19\",\"Transport\\u002fZrt_Ftr\",\"Cell division\",\"Energy\",\"Metabolism\",\"Stress\",\"Translation\",\"Transport\",\"Uncharacerized\",\"Uncharacterized\"],\"labels\":[\"ADR1\",\"CAT8\",\"DAL81\",\"FDH\",\"FKH2\",\"FeRd\",\"IFH1\",\"HSP2\",\"HSP1\",\"HOT1\",\"GCN4\",\"MBP1\",\"MET32\",\"RME\",\"RTG3\",\"SWI5\",\"UC10\",\"UC11\",\"UC1\",\"UC12\",\"UC9\",\"UC8\",\"UC7\",\"UC6\",\"UC5\",\"UC4\",\"UC3\",\"UC20\",\"UC2\",\"UC18\",\"UC17\",\"UC16\",\"UC15\",\"UC14\",\"UC13\",\"UC19\",\"Zrt_Ftr\",\"Cell division\",\"Energy\",\"Metabolism\",\"Stress\",\"Translation\",\"Transport\",\"Uncharacerized\",\"Uncharacterized\"],\"marker\":{\"colors\":[\"rgb(141,211,199)\",\"rgb(141,211,199)\",\"rgb(141,211,199)\",\"rgb(255,255,179)\",\"rgb(190,186,218)\",\"rgb(255,255,179)\",\"rgb(251,128,114)\",\"rgb(128,177,211)\",\"rgb(128,177,211)\",\"rgb(128,177,211)\",\"rgb(141,211,199)\",\"rgb(190,186,218)\",\"rgb(141,211,199)\",\"rgb(190,186,218)\",\"rgb(128,177,211)\",\"rgb(190,186,218)\",\"rgb(253,180,98)\",\"rgb(179,222,105)\",\"rgb(179,222,105)\",\"rgb(179,222,105)\",\"rgb(179,222,105)\",\"rgb(179,222,105)\",\"rgb(179,222,105)\",\"rgb(179,222,105)\",\"rgb(179,222,105)\",\"rgb(179,222,105)\",\"rgb(179,222,105)\",\"rgb(179,222,105)\",\"rgb(179,222,105)\",\"rgb(179,222,105)\",\"rgb(252,205,229)\",\"rgb(179,222,105)\",\"rgb(179,222,105)\",\"rgb(252,205,229)\",\"rgb(179,222,105)\",\"rgb(179,222,105)\",\"rgb(252,205,229)\",\"rgb(190,186,218)\",\"rgb(255,255,179)\",\"rgb(141,211,199)\",\"rgb(128,177,211)\",\"rgb(251,128,114)\",\"rgb(252,205,229)\",\"rgb(253,180,98)\",\"rgb(179,222,105)\"]},\"name\":\"\",\"parents\":[\"Metabolism\",\"Metabolism\",\"Metabolism\",\"Energy\",\"Cell division\",\"Energy\",\"Translation\",\"Stress\",\"Stress\",\"Stress\",\"Metabolism\",\"Cell division\",\"Metabolism\",\"Cell division\",\"Stress\",\"Cell division\",\"Uncharacerized\",\"Uncharacterized\",\"Uncharacterized\",\"Uncharacterized\",\"Uncharacterized\",\"Uncharacterized\",\"Uncharacterized\",\"Uncharacterized\",\"Uncharacterized\",\"Uncharacterized\",\"Uncharacterized\",\"Uncharacterized\",\"Uncharacterized\",\"Uncharacterized\",\"Transport\",\"Uncharacterized\",\"Uncharacterized\",\"Transport\",\"Uncharacterized\",\"Uncharacterized\",\"Transport\",\"\",\"\",\"\",\"\",\"\",\"\",\"\",\"\"],\"values\":[0.09593006130966097,0.008676036903910833,0.02422584134051098,0.012127815639186412,0.04151842304509179,0.015156318674855007,0.05141299320170811,0.0067005106479258725,0.07308628196441258,0.020184891799940985,0.013787448402360236,0.020294740951063206,0.05260097467307545,0.012919003961677555,0.004459472507806539,0.01707487621936632,0.027395626179681276,0.002229783137661423,0.010174672372791127,0.005311396281709624,0.16686058198312603,0.0018506324469650393,0.005453175993203163,0.002001691104983494,0.004069938558932229,0.008359652316148214,0.013854160276853156,0.017919974823579432,0.017706468727074376,0.0063319223315647655,0.008407189007800797,0.014638024684381246,0.005899039145421225,0.005123800461319106,0.0026376047790666046,0.03361319536896179,0.042465901056426114,0.09180704417719887,0.02728413431404142,0.19522036262951847,0.10443115692008598,0.05141299320170811,0.05599689052554602,0.027395626179681276,0.31891191433242294],\"type\":\"treemap\",\"tiling\":{\"squarifyratio\":1},\"textfont\":{\"color\":\"black\",\"family\":\"Arial\",\"size\":16}}],                        {\"template\":{\"data\":{\"histogram2dcontour\":[{\"type\":\"histogram2dcontour\",\"colorbar\":{\"outlinewidth\":0,\"ticks\":\"\"},\"colorscale\":[[0.0,\"#0d0887\"],[0.1111111111111111,\"#46039f\"],[0.2222222222222222,\"#7201a8\"],[0.3333333333333333,\"#9c179e\"],[0.4444444444444444,\"#bd3786\"],[0.5555555555555556,\"#d8576b\"],[0.6666666666666666,\"#ed7953\"],[0.7777777777777778,\"#fb9f3a\"],[0.8888888888888888,\"#fdca26\"],[1.0,\"#f0f921\"]]}],\"choropleth\":[{\"type\":\"choropleth\",\"colorbar\":{\"outlinewidth\":0,\"ticks\":\"\"}}],\"histogram2d\":[{\"type\":\"histogram2d\",\"colorbar\":{\"outlinewidth\":0,\"ticks\":\"\"},\"colorscale\":[[0.0,\"#0d0887\"],[0.1111111111111111,\"#46039f\"],[0.2222222222222222,\"#7201a8\"],[0.3333333333333333,\"#9c179e\"],[0.4444444444444444,\"#bd3786\"],[0.5555555555555556,\"#d8576b\"],[0.6666666666666666,\"#ed7953\"],[0.7777777777777778,\"#fb9f3a\"],[0.8888888888888888,\"#fdca26\"],[1.0,\"#f0f921\"]]}],\"heatmap\":[{\"type\":\"heatmap\",\"colorbar\":{\"outlinewidth\":0,\"ticks\":\"\"},\"colorscale\":[[0.0,\"#0d0887\"],[0.1111111111111111,\"#46039f\"],[0.2222222222222222,\"#7201a8\"],[0.3333333333333333,\"#9c179e\"],[0.4444444444444444,\"#bd3786\"],[0.5555555555555556,\"#d8576b\"],[0.6666666666666666,\"#ed7953\"],[0.7777777777777778,\"#fb9f3a\"],[0.8888888888888888,\"#fdca26\"],[1.0,\"#f0f921\"]]}],\"heatmapgl\":[{\"type\":\"heatmapgl\",\"colorbar\":{\"outlinewidth\":0,\"ticks\":\"\"},\"colorscale\":[[0.0,\"#0d0887\"],[0.1111111111111111,\"#46039f\"],[0.2222222222222222,\"#7201a8\"],[0.3333333333333333,\"#9c179e\"],[0.4444444444444444,\"#bd3786\"],[0.5555555555555556,\"#d8576b\"],[0.6666666666666666,\"#ed7953\"],[0.7777777777777778,\"#fb9f3a\"],[0.8888888888888888,\"#fdca26\"],[1.0,\"#f0f921\"]]}],\"contourcarpet\":[{\"type\":\"contourcarpet\",\"colorbar\":{\"outlinewidth\":0,\"ticks\":\"\"}}],\"contour\":[{\"type\":\"contour\",\"colorbar\":{\"outlinewidth\":0,\"ticks\":\"\"},\"colorscale\":[[0.0,\"#0d0887\"],[0.1111111111111111,\"#46039f\"],[0.2222222222222222,\"#7201a8\"],[0.3333333333333333,\"#9c179e\"],[0.4444444444444444,\"#bd3786\"],[0.5555555555555556,\"#d8576b\"],[0.6666666666666666,\"#ed7953\"],[0.7777777777777778,\"#fb9f3a\"],[0.8888888888888888,\"#fdca26\"],[1.0,\"#f0f921\"]]}],\"surface\":[{\"type\":\"surface\",\"colorbar\":{\"outlinewidth\":0,\"ticks\":\"\"},\"colorscale\":[[0.0,\"#0d0887\"],[0.1111111111111111,\"#46039f\"],[0.2222222222222222,\"#7201a8\"],[0.3333333333333333,\"#9c179e\"],[0.4444444444444444,\"#bd3786\"],[0.5555555555555556,\"#d8576b\"],[0.6666666666666666,\"#ed7953\"],[0.7777777777777778,\"#fb9f3a\"],[0.8888888888888888,\"#fdca26\"],[1.0,\"#f0f921\"]]}],\"mesh3d\":[{\"type\":\"mesh3d\",\"colorbar\":{\"outlinewidth\":0,\"ticks\":\"\"}}],\"scatter\":[{\"fillpattern\":{\"fillmode\":\"overlay\",\"size\":10,\"solidity\":0.2},\"type\":\"scatter\"}],\"parcoords\":[{\"type\":\"parcoords\",\"line\":{\"colorbar\":{\"outlinewidth\":0,\"ticks\":\"\"}}}],\"scatterpolargl\":[{\"type\":\"scatterpolargl\",\"marker\":{\"colorbar\":{\"outlinewidth\":0,\"ticks\":\"\"}}}],\"bar\":[{\"error_x\":{\"color\":\"#2a3f5f\"},\"error_y\":{\"color\":\"#2a3f5f\"},\"marker\":{\"line\":{\"color\":\"#E5ECF6\",\"width\":0.5},\"pattern\":{\"fillmode\":\"overlay\",\"size\":10,\"solidity\":0.2}},\"type\":\"bar\"}],\"scattergeo\":[{\"type\":\"scattergeo\",\"marker\":{\"colorbar\":{\"outlinewidth\":0,\"ticks\":\"\"}}}],\"scatterpolar\":[{\"type\":\"scatterpolar\",\"marker\":{\"colorbar\":{\"outlinewidth\":0,\"ticks\":\"\"}}}],\"histogram\":[{\"marker\":{\"pattern\":{\"fillmode\":\"overlay\",\"size\":10,\"solidity\":0.2}},\"type\":\"histogram\"}],\"scattergl\":[{\"type\":\"scattergl\",\"marker\":{\"colorbar\":{\"outlinewidth\":0,\"ticks\":\"\"}}}],\"scatter3d\":[{\"type\":\"scatter3d\",\"line\":{\"colorbar\":{\"outlinewidth\":0,\"ticks\":\"\"}},\"marker\":{\"colorbar\":{\"outlinewidth\":0,\"ticks\":\"\"}}}],\"scattermapbox\":[{\"type\":\"scattermapbox\",\"marker\":{\"colorbar\":{\"outlinewidth\":0,\"ticks\":\"\"}}}],\"scatterternary\":[{\"type\":\"scatterternary\",\"marker\":{\"colorbar\":{\"outlinewidth\":0,\"ticks\":\"\"}}}],\"scattercarpet\":[{\"type\":\"scattercarpet\",\"marker\":{\"colorbar\":{\"outlinewidth\":0,\"ticks\":\"\"}}}],\"carpet\":[{\"aaxis\":{\"endlinecolor\":\"#2a3f5f\",\"gridcolor\":\"white\",\"linecolor\":\"white\",\"minorgridcolor\":\"white\",\"startlinecolor\":\"#2a3f5f\"},\"baxis\":{\"endlinecolor\":\"#2a3f5f\",\"gridcolor\":\"white\",\"linecolor\":\"white\",\"minorgridcolor\":\"white\",\"startlinecolor\":\"#2a3f5f\"},\"type\":\"carpet\"}],\"table\":[{\"cells\":{\"fill\":{\"color\":\"#EBF0F8\"},\"line\":{\"color\":\"white\"}},\"header\":{\"fill\":{\"color\":\"#C8D4E3\"},\"line\":{\"color\":\"white\"}},\"type\":\"table\"}],\"barpolar\":[{\"marker\":{\"line\":{\"color\":\"#E5ECF6\",\"width\":0.5},\"pattern\":{\"fillmode\":\"overlay\",\"size\":10,\"solidity\":0.2}},\"type\":\"barpolar\"}],\"pie\":[{\"automargin\":true,\"type\":\"pie\"}]},\"layout\":{\"autotypenumbers\":\"strict\",\"colorway\":[\"#636efa\",\"#EF553B\",\"#00cc96\",\"#ab63fa\",\"#FFA15A\",\"#19d3f3\",\"#FF6692\",\"#B6E880\",\"#FF97FF\",\"#FECB52\"],\"font\":{\"color\":\"#2a3f5f\"},\"hovermode\":\"closest\",\"hoverlabel\":{\"align\":\"left\"},\"paper_bgcolor\":\"white\",\"plot_bgcolor\":\"#E5ECF6\",\"polar\":{\"bgcolor\":\"#E5ECF6\",\"angularaxis\":{\"gridcolor\":\"white\",\"linecolor\":\"white\",\"ticks\":\"\"},\"radialaxis\":{\"gridcolor\":\"white\",\"linecolor\":\"white\",\"ticks\":\"\"}},\"ternary\":{\"bgcolor\":\"#E5ECF6\",\"aaxis\":{\"gridcolor\":\"white\",\"linecolor\":\"white\",\"ticks\":\"\"},\"baxis\":{\"gridcolor\":\"white\",\"linecolor\":\"white\",\"ticks\":\"\"},\"caxis\":{\"gridcolor\":\"white\",\"linecolor\":\"white\",\"ticks\":\"\"}},\"coloraxis\":{\"colorbar\":{\"outlinewidth\":0,\"ticks\":\"\"}},\"colorscale\":{\"sequential\":[[0.0,\"#0d0887\"],[0.1111111111111111,\"#46039f\"],[0.2222222222222222,\"#7201a8\"],[0.3333333333333333,\"#9c179e\"],[0.4444444444444444,\"#bd3786\"],[0.5555555555555556,\"#d8576b\"],[0.6666666666666666,\"#ed7953\"],[0.7777777777777778,\"#fb9f3a\"],[0.8888888888888888,\"#fdca26\"],[1.0,\"#f0f921\"]],\"sequentialminus\":[[0.0,\"#0d0887\"],[0.1111111111111111,\"#46039f\"],[0.2222222222222222,\"#7201a8\"],[0.3333333333333333,\"#9c179e\"],[0.4444444444444444,\"#bd3786\"],[0.5555555555555556,\"#d8576b\"],[0.6666666666666666,\"#ed7953\"],[0.7777777777777778,\"#fb9f3a\"],[0.8888888888888888,\"#fdca26\"],[1.0,\"#f0f921\"]],\"diverging\":[[0,\"#8e0152\"],[0.1,\"#c51b7d\"],[0.2,\"#de77ae\"],[0.3,\"#f1b6da\"],[0.4,\"#fde0ef\"],[0.5,\"#f7f7f7\"],[0.6,\"#e6f5d0\"],[0.7,\"#b8e186\"],[0.8,\"#7fbc41\"],[0.9,\"#4d9221\"],[1,\"#276419\"]]},\"xaxis\":{\"gridcolor\":\"white\",\"linecolor\":\"white\",\"ticks\":\"\",\"title\":{\"standoff\":15},\"zerolinecolor\":\"white\",\"automargin\":true,\"zerolinewidth\":2},\"yaxis\":{\"gridcolor\":\"white\",\"linecolor\":\"white\",\"ticks\":\"\",\"title\":{\"standoff\":15},\"zerolinecolor\":\"white\",\"automargin\":true,\"zerolinewidth\":2},\"scene\":{\"xaxis\":{\"backgroundcolor\":\"#E5ECF6\",\"gridcolor\":\"white\",\"linecolor\":\"white\",\"showbackground\":true,\"ticks\":\"\",\"zerolinecolor\":\"white\",\"gridwidth\":2},\"yaxis\":{\"backgroundcolor\":\"#E5ECF6\",\"gridcolor\":\"white\",\"linecolor\":\"white\",\"showbackground\":true,\"ticks\":\"\",\"zerolinecolor\":\"white\",\"gridwidth\":2},\"zaxis\":{\"backgroundcolor\":\"#E5ECF6\",\"gridcolor\":\"white\",\"linecolor\":\"white\",\"showbackground\":true,\"ticks\":\"\",\"zerolinecolor\":\"white\",\"gridwidth\":2}},\"shapedefaults\":{\"line\":{\"color\":\"#2a3f5f\"}},\"annotationdefaults\":{\"arrowcolor\":\"#2a3f5f\",\"arrowhead\":0,\"arrowwidth\":1},\"geo\":{\"bgcolor\":\"white\",\"landcolor\":\"#E5ECF6\",\"subunitcolor\":\"white\",\"showland\":true,\"showlakes\":true,\"lakecolor\":\"white\"},\"title\":{\"x\":0.05},\"mapbox\":{\"style\":\"light\"}}},\"legend\":{\"tracegroupgap\":0},\"margin\":{\"t\":60,\"l\":10,\"r\":10,\"b\":10},\"treemapcolorway\":[\"rgb(141,211,199)\",\"rgb(255,255,179)\",\"rgb(190,186,218)\",\"rgb(251,128,114)\",\"rgb(128,177,211)\",\"rgb(253,180,98)\",\"rgb(179,222,105)\",\"rgb(252,205,229)\",\"rgb(217,217,217)\",\"rgb(188,128,189)\",\"rgb(204,235,197)\",\"rgb(255,237,111)\"],\"height\":500,\"width\":500},                        {\"responsive\": true}                    ).then(function(){\n",
       "                            \n",
       "var gd = document.getElementById('a0b17819-d405-4cf8-92fd-9e04303cce47');\n",
       "var x = new MutationObserver(function (mutations, observer) {{\n",
       "        var display = window.getComputedStyle(gd).display;\n",
       "        if (!display || display === 'none') {{\n",
       "            console.log([gd, 'removed!']);\n",
       "            Plotly.purge(gd);\n",
       "            observer.disconnect();\n",
       "        }}\n",
       "}});\n",
       "\n",
       "// Listen for the removal of the full notebook cells\n",
       "var notebookContainer = gd.closest('#notebook-container');\n",
       "if (notebookContainer) {{\n",
       "    x.observe(notebookContainer, {childList: true});\n",
       "}}\n",
       "\n",
       "// Listen for the clearing of the current output cell\n",
       "var outputEl = gd.closest('.output');\n",
       "if (outputEl) {{\n",
       "    x.observe(outputEl, {childList: true});\n",
       "}}\n",
       "\n",
       "                        })                };                });            </script>        </div>"
      ]
     },
     "metadata": {},
     "output_type": "display_data"
    }
   ],
   "source": [
    "### Treemap of explained variance by imodulon category\n",
    "\n",
    "df = ica_data.imodulon_table.copy(deep=False)\n",
    "df = df.sort_values(['Category', 'explained_variance'], ascending=[True, False])\n",
    "\n",
    "# -------------------------------------------------\n",
    "# 3)  Build the treemap\n",
    "# -------------------------------------------------\n",
    "fig = px.treemap(\n",
    "    df,\n",
    "    path=['Category', 'iModulon Name'],\n",
    "    values='explained_variance',\n",
    "    color='Category',\n",
    "    hover_data={\n",
    "        'explained_variance': ':.4f',\n",
    "        'ngenes': True,\n",
    "        'Descriptors': True,\n",
    "        'COGs': True,\n",
    "        'threshold': ':.4f'\n",
    "    },\n",
    "    color_discrete_sequence=px.colors.qualitative.Set3,\n",
    "    # ↓ give the figure a tall, narrow “page”\n",
    "    height=500,      # make it tall\n",
    "    width=500         # keep it relatively narrow\n",
    ")\n",
    "fig.update_traces(\n",
    "    tiling=dict(\n",
    "        squarifyratio=1   \n",
    "    ),\n",
    "    textfont=dict(\n",
    "        size=16,      \n",
    "        color='black',\n",
    "        family='Arial'    \n",
    "    ),\n",
    "    selector=dict(type='treemap')\n",
    ")\n",
    "\n",
    "fig.update_layout(\n",
    "    margin=dict(t=60, l=10, r=10, b=10)\n",
    ")\n",
    "\n",
    "fig.show()"
   ]
  },
  {
   "cell_type": "code",
   "execution_count": 40,
   "id": "ac9ebde4",
   "metadata": {},
   "outputs": [
    {
     "data": {
      "text/plain": [
       "Text(0, 0.5, 'Cumulative Explained Variance')"
      ]
     },
     "execution_count": 40,
     "metadata": {},
     "output_type": "execute_result"
    },
    {
     "data": {
      "image/png": "[encoded data removed]",
      "text/plain": [
       "<Figure size 640x480 with 1 Axes>"
      ]
     },
     "metadata": {},
     "output_type": "display_data"
    }
   ],
   "source": [
    "exp_var = ica_data.imodulon_table.sort_values(by='explained_variance', ascending=False).reset_index().copy(deep=False)\n",
    "\n",
    "plt.plot(exp_var['iModulon Name'],exp_var['explained_variance'].cumsum(), marker='o',color='teal')\n",
    "plt.xticks(rotation=90, ha='right',fontsize=8);\n",
    "plt.yticks(fontsize=8)\n",
    "plt.ylabel('Cumulative Explained Variance',fontsize=12)\n"
   ]
  },
  {
   "cell_type": "code",
   "execution_count": 41,
   "id": "5f4e0366",
   "metadata": {},
   "outputs": [
    {
     "data": {
      "image/png": "[encoded data removed]",
      "text/plain": [
       "<Figure size 500x500 with 1 Axes>"
      ]
     },
     "metadata": {},
     "output_type": "display_data"
    }
   ],
   "source": [
    "#ica_data.imodulon_table.rename(columns={'ngenes':'n_genes'},inplace=True)\n",
    "\n",
    "ica_data.imodulon_table['regulator'] = ica_data.imodulon_table['iModulon Name']\n",
    "\n",
    "compare_imodulons_vs_regulons(ica_data,\n",
    "                              size_column='ngenes',\n",
    "                              cat_column='Category',\n",
    "                              scale=3);\n"
   ]
  },
  {
   "cell_type": "code",
   "execution_count": 34,
   "id": "f5c5cd0b",
   "metadata": {},
   "outputs": [
    {
     "data": {
      "text/html": [
       "<div>\n",
       "<style scoped>\n",
       "    .dataframe tbody tr th:only-of-type {\n",
       "        vertical-align: middle;\n",
       "    }\n",
       "\n",
       "    .dataframe tbody tr th {\n",
       "        vertical-align: top;\n",
       "    }\n",
       "\n",
       "    .dataframe thead th {\n",
       "        text-align: right;\n",
       "    }\n",
       "</style>\n",
       "<table border=\"1\" class=\"dataframe\">\n",
       "  <thead>\n",
       "    <tr style=\"text-align: right;\">\n",
       "      <th></th>\n",
       "      <th>index</th>\n",
       "      <th>iModulon Name</th>\n",
       "      <th>Descriptors</th>\n",
       "      <th>COGs</th>\n",
       "      <th>Category</th>\n",
       "      <th>ngenes</th>\n",
       "      <th>explained_variance</th>\n",
       "      <th>threshold</th>\n",
       "    </tr>\n",
       "  </thead>\n",
       "  <tbody>\n",
       "    <tr>\n",
       "      <th>0</th>\n",
       "      <td>15</td>\n",
       "      <td>UC9</td>\n",
       "      <td>N.A</td>\n",
       "      <td>S (Unknown)</td>\n",
       "      <td>Uncharacterized</td>\n",
       "      <td>196</td>\n",
       "      <td>0.166861</td>\n",
       "      <td>0.027916</td>\n",
       "    </tr>\n",
       "    <tr>\n",
       "      <th>1</th>\n",
       "      <td>4</td>\n",
       "      <td>ADR1</td>\n",
       "      <td>CRP like - non glucose carbon metabolism</td>\n",
       "      <td>Q (Catabolism)</td>\n",
       "      <td>Metabolism</td>\n",
       "      <td>287</td>\n",
       "      <td>0.095930</td>\n",
       "      <td>0.024665</td>\n",
       "    </tr>\n",
       "    <tr>\n",
       "      <th>2</th>\n",
       "      <td>14</td>\n",
       "      <td>HSP1</td>\n",
       "      <td>Heat shock protein subunits</td>\n",
       "      <td>S (Unknown)</td>\n",
       "      <td>Stress</td>\n",
       "      <td>160</td>\n",
       "      <td>0.073086</td>\n",
       "      <td>0.028105</td>\n",
       "    </tr>\n",
       "    <tr>\n",
       "      <th>3</th>\n",
       "      <td>16</td>\n",
       "      <td>MET32</td>\n",
       "      <td>Methionine biosynthesis</td>\n",
       "      <td>E (Amino acid transport)</td>\n",
       "      <td>Metabolism</td>\n",
       "      <td>104</td>\n",
       "      <td>0.052601</td>\n",
       "      <td>0.034906</td>\n",
       "    </tr>\n",
       "    <tr>\n",
       "      <th>4</th>\n",
       "      <td>24</td>\n",
       "      <td>IFH1</td>\n",
       "      <td>Ribsomal</td>\n",
       "      <td>J (Translation/Ribosomal)</td>\n",
       "      <td>Translation</td>\n",
       "      <td>66</td>\n",
       "      <td>0.051413</td>\n",
       "      <td>0.045540</td>\n",
       "    </tr>\n",
       "    <tr>\n",
       "      <th>5</th>\n",
       "      <td>19</td>\n",
       "      <td>Zrt_Ftr</td>\n",
       "      <td>ZRT/FTR (Zinc, iron transporters)</td>\n",
       "      <td>S (Unknown)</td>\n",
       "      <td>Transport</td>\n",
       "      <td>220</td>\n",
       "      <td>0.042466</td>\n",
       "      <td>0.026078</td>\n",
       "    </tr>\n",
       "    <tr>\n",
       "      <th>6</th>\n",
       "      <td>17</td>\n",
       "      <td>FKH2</td>\n",
       "      <td>chromatin regulation</td>\n",
       "      <td>A (RNA processing and modification)</td>\n",
       "      <td>Cell division</td>\n",
       "      <td>255</td>\n",
       "      <td>0.041518</td>\n",
       "      <td>0.030228</td>\n",
       "    </tr>\n",
       "    <tr>\n",
       "      <th>7</th>\n",
       "      <td>3</td>\n",
       "      <td>UC19</td>\n",
       "      <td>N.A</td>\n",
       "      <td>N.A</td>\n",
       "      <td>Uncharacterized</td>\n",
       "      <td>0</td>\n",
       "      <td>0.033613</td>\n",
       "      <td>0.120962</td>\n",
       "    </tr>\n",
       "    <tr>\n",
       "      <th>8</th>\n",
       "      <td>18</td>\n",
       "      <td>UC10</td>\n",
       "      <td>N.A</td>\n",
       "      <td>Q (Catabolism)</td>\n",
       "      <td>Uncharacerized</td>\n",
       "      <td>127</td>\n",
       "      <td>0.027396</td>\n",
       "      <td>0.033213</td>\n",
       "    </tr>\n",
       "    <tr>\n",
       "      <th>9</th>\n",
       "      <td>0</td>\n",
       "      <td>DAL81</td>\n",
       "      <td>Ammonia degradation/Nitrogen related</td>\n",
       "      <td>E (Amino acid transport)</td>\n",
       "      <td>Metabolism</td>\n",
       "      <td>131</td>\n",
       "      <td>0.024226</td>\n",
       "      <td>0.032645</td>\n",
       "    </tr>\n",
       "    <tr>\n",
       "      <th>10</th>\n",
       "      <td>26</td>\n",
       "      <td>MBP1</td>\n",
       "      <td>Cell phase related regulation</td>\n",
       "      <td>L ( Replication, Recombination, Repair)</td>\n",
       "      <td>Cell division</td>\n",
       "      <td>160</td>\n",
       "      <td>0.020295</td>\n",
       "      <td>0.033920</td>\n",
       "    </tr>\n",
       "    <tr>\n",
       "      <th>11</th>\n",
       "      <td>31</td>\n",
       "      <td>HOT1</td>\n",
       "      <td>Osmolarity related glycerol biosynthesis</td>\n",
       "      <td>S(Unknown)</td>\n",
       "      <td>Stress</td>\n",
       "      <td>76</td>\n",
       "      <td>0.020185</td>\n",
       "      <td>0.038035</td>\n",
       "    </tr>\n",
       "    <tr>\n",
       "      <th>12</th>\n",
       "      <td>10</td>\n",
       "      <td>UC20</td>\n",
       "      <td>N.A</td>\n",
       "      <td>N.A</td>\n",
       "      <td>Uncharacterized</td>\n",
       "      <td>0</td>\n",
       "      <td>0.017920</td>\n",
       "      <td>0.122405</td>\n",
       "    </tr>\n",
       "    <tr>\n",
       "      <th>13</th>\n",
       "      <td>5</td>\n",
       "      <td>UC2</td>\n",
       "      <td>N.A</td>\n",
       "      <td>S (Unknown)</td>\n",
       "      <td>Uncharacterized</td>\n",
       "      <td>78</td>\n",
       "      <td>0.017706</td>\n",
       "      <td>0.040438</td>\n",
       "    </tr>\n",
       "    <tr>\n",
       "      <th>14</th>\n",
       "      <td>6</td>\n",
       "      <td>SWI5</td>\n",
       "      <td>D (Cell cycle control)</td>\n",
       "      <td>D (Cell cycle control)</td>\n",
       "      <td>Cell division</td>\n",
       "      <td>80</td>\n",
       "      <td>0.017075</td>\n",
       "      <td>0.041429</td>\n",
       "    </tr>\n",
       "    <tr>\n",
       "      <th>15</th>\n",
       "      <td>30</td>\n",
       "      <td>FeRd</td>\n",
       "      <td>Iron reductae/Iron related</td>\n",
       "      <td>S(Unknown)</td>\n",
       "      <td>Energy</td>\n",
       "      <td>105</td>\n",
       "      <td>0.015156</td>\n",
       "      <td>0.034309</td>\n",
       "    </tr>\n",
       "    <tr>\n",
       "      <th>16</th>\n",
       "      <td>32</td>\n",
       "      <td>UC16</td>\n",
       "      <td>N.A</td>\n",
       "      <td>A(RNA processing), E (Amino acid transport)</td>\n",
       "      <td>Uncharacterized</td>\n",
       "      <td>70</td>\n",
       "      <td>0.014638</td>\n",
       "      <td>0.041353</td>\n",
       "    </tr>\n",
       "    <tr>\n",
       "      <th>17</th>\n",
       "      <td>7</td>\n",
       "      <td>UC3</td>\n",
       "      <td>N.A</td>\n",
       "      <td>G(Carbohydrate transport and metabolism)</td>\n",
       "      <td>Uncharacterized</td>\n",
       "      <td>394</td>\n",
       "      <td>0.013854</td>\n",
       "      <td>0.021520</td>\n",
       "    </tr>\n",
       "    <tr>\n",
       "      <th>18</th>\n",
       "      <td>22</td>\n",
       "      <td>GCN4</td>\n",
       "      <td>Amino acid biosynthesis</td>\n",
       "      <td>E (Amino acid transport)</td>\n",
       "      <td>Metabolism</td>\n",
       "      <td>228</td>\n",
       "      <td>0.013787</td>\n",
       "      <td>0.029040</td>\n",
       "    </tr>\n",
       "    <tr>\n",
       "      <th>19</th>\n",
       "      <td>33</td>\n",
       "      <td>RME</td>\n",
       "      <td>RME1?</td>\n",
       "      <td>S (Unknown)</td>\n",
       "      <td>Cell division</td>\n",
       "      <td>73</td>\n",
       "      <td>0.012919</td>\n",
       "      <td>0.038265</td>\n",
       "    </tr>\n",
       "    <tr>\n",
       "      <th>20</th>\n",
       "      <td>2</td>\n",
       "      <td>FDH</td>\n",
       "      <td>Formate Dehydrogenase</td>\n",
       "      <td>C (Energy Production and Conversion)</td>\n",
       "      <td>Energy</td>\n",
       "      <td>55</td>\n",
       "      <td>0.012128</td>\n",
       "      <td>0.040596</td>\n",
       "    </tr>\n",
       "    <tr>\n",
       "      <th>21</th>\n",
       "      <td>1</td>\n",
       "      <td>UC1</td>\n",
       "      <td>Contains some sugar related proteins?</td>\n",
       "      <td>S (Unknown)</td>\n",
       "      <td>Uncharacterized</td>\n",
       "      <td>85</td>\n",
       "      <td>0.010175</td>\n",
       "      <td>0.035350</td>\n",
       "    </tr>\n",
       "    <tr>\n",
       "      <th>22</th>\n",
       "      <td>21</td>\n",
       "      <td>CAT8</td>\n",
       "      <td>CRP like - non glucose carbon metabolism</td>\n",
       "      <td>C, G (Catabolism)</td>\n",
       "      <td>Metabolism</td>\n",
       "      <td>77</td>\n",
       "      <td>0.008676</td>\n",
       "      <td>0.039377</td>\n",
       "    </tr>\n",
       "    <tr>\n",
       "      <th>23</th>\n",
       "      <td>34</td>\n",
       "      <td>UC17</td>\n",
       "      <td>N.A</td>\n",
       "      <td>E (Amino acid transport)</td>\n",
       "      <td>Transport</td>\n",
       "      <td>38</td>\n",
       "      <td>0.008407</td>\n",
       "      <td>0.045213</td>\n",
       "    </tr>\n",
       "    <tr>\n",
       "      <th>24</th>\n",
       "      <td>8</td>\n",
       "      <td>UC4</td>\n",
       "      <td>N.A</td>\n",
       "      <td>S (Unknown)</td>\n",
       "      <td>Uncharacterized</td>\n",
       "      <td>262</td>\n",
       "      <td>0.008360</td>\n",
       "      <td>0.023275</td>\n",
       "    </tr>\n",
       "    <tr>\n",
       "      <th>25</th>\n",
       "      <td>35</td>\n",
       "      <td>HSP2</td>\n",
       "      <td>HSP2</td>\n",
       "      <td>S(Unknown), G(Catabolism)</td>\n",
       "      <td>Stress</td>\n",
       "      <td>204</td>\n",
       "      <td>0.006701</td>\n",
       "      <td>0.028764</td>\n",
       "    </tr>\n",
       "    <tr>\n",
       "      <th>26</th>\n",
       "      <td>36</td>\n",
       "      <td>UC18</td>\n",
       "      <td>N.A</td>\n",
       "      <td>G(Carbohydrate transport and metabolism), T(Si...</td>\n",
       "      <td>Uncharacterized</td>\n",
       "      <td>119</td>\n",
       "      <td>0.006332</td>\n",
       "      <td>0.032757</td>\n",
       "    </tr>\n",
       "    <tr>\n",
       "      <th>27</th>\n",
       "      <td>28</td>\n",
       "      <td>UC15</td>\n",
       "      <td>N.A</td>\n",
       "      <td>S (Unknown)</td>\n",
       "      <td>Uncharacterized</td>\n",
       "      <td>163</td>\n",
       "      <td>0.005899</td>\n",
       "      <td>0.032557</td>\n",
       "    </tr>\n",
       "    <tr>\n",
       "      <th>28</th>\n",
       "      <td>12</td>\n",
       "      <td>UC7</td>\n",
       "      <td>Malate synthase, PCK, FTR1</td>\n",
       "      <td>S (Unknown)</td>\n",
       "      <td>Uncharacterized</td>\n",
       "      <td>105</td>\n",
       "      <td>0.005453</td>\n",
       "      <td>0.038097</td>\n",
       "    </tr>\n",
       "    <tr>\n",
       "      <th>29</th>\n",
       "      <td>23</td>\n",
       "      <td>UC12</td>\n",
       "      <td>N.A</td>\n",
       "      <td>G(Carbohydrate transport and metabolism)</td>\n",
       "      <td>Uncharacterized</td>\n",
       "      <td>111</td>\n",
       "      <td>0.005311</td>\n",
       "      <td>0.032749</td>\n",
       "    </tr>\n",
       "    <tr>\n",
       "      <th>30</th>\n",
       "      <td>27</td>\n",
       "      <td>UC14</td>\n",
       "      <td>N.A</td>\n",
       "      <td>P, H (Ion, Cofactor transport)</td>\n",
       "      <td>Transport</td>\n",
       "      <td>159</td>\n",
       "      <td>0.005124</td>\n",
       "      <td>0.030953</td>\n",
       "    </tr>\n",
       "    <tr>\n",
       "      <th>31</th>\n",
       "      <td>29</td>\n",
       "      <td>RTG3</td>\n",
       "      <td>Mitochondrial retrograde</td>\n",
       "      <td>S (Unknown), E(Amino acid transport)</td>\n",
       "      <td>Stress</td>\n",
       "      <td>108</td>\n",
       "      <td>0.004459</td>\n",
       "      <td>0.035295</td>\n",
       "    </tr>\n",
       "    <tr>\n",
       "      <th>32</th>\n",
       "      <td>9</td>\n",
       "      <td>UC5</td>\n",
       "      <td>N.A</td>\n",
       "      <td>O (Post translation mods, chaperons)</td>\n",
       "      <td>Uncharacterized</td>\n",
       "      <td>105</td>\n",
       "      <td>0.004070</td>\n",
       "      <td>0.038863</td>\n",
       "    </tr>\n",
       "    <tr>\n",
       "      <th>33</th>\n",
       "      <td>25</td>\n",
       "      <td>UC13</td>\n",
       "      <td>N.A</td>\n",
       "      <td>O (Post translation mods, chaperons)</td>\n",
       "      <td>Uncharacterized</td>\n",
       "      <td>234</td>\n",
       "      <td>0.002638</td>\n",
       "      <td>0.023695</td>\n",
       "    </tr>\n",
       "    <tr>\n",
       "      <th>34</th>\n",
       "      <td>20</td>\n",
       "      <td>UC11</td>\n",
       "      <td>N.A</td>\n",
       "      <td>- (Unknown)</td>\n",
       "      <td>Uncharacterized</td>\n",
       "      <td>175</td>\n",
       "      <td>0.002230</td>\n",
       "      <td>0.023308</td>\n",
       "    </tr>\n",
       "    <tr>\n",
       "      <th>35</th>\n",
       "      <td>11</td>\n",
       "      <td>UC6</td>\n",
       "      <td>N.A</td>\n",
       "      <td>C (Energy Production and Conversion)</td>\n",
       "      <td>Uncharacterized</td>\n",
       "      <td>218</td>\n",
       "      <td>0.002002</td>\n",
       "      <td>0.024372</td>\n",
       "    </tr>\n",
       "    <tr>\n",
       "      <th>36</th>\n",
       "      <td>13</td>\n",
       "      <td>UC8</td>\n",
       "      <td>N.A</td>\n",
       "      <td>S (Unknown)</td>\n",
       "      <td>Uncharacterized</td>\n",
       "      <td>243</td>\n",
       "      <td>0.001851</td>\n",
       "      <td>0.028383</td>\n",
       "    </tr>\n",
       "  </tbody>\n",
       "</table>\n",
       "</div>"
      ],
      "text/plain": [
       "    index iModulon Name                               Descriptors  \\\n",
       "0      15           UC9                                       N.A   \n",
       "1       4          ADR1  CRP like - non glucose carbon metabolism   \n",
       "2      14          HSP1              Heat shock protein subunits    \n",
       "3      16         MET32                   Methionine biosynthesis   \n",
       "4      24          IFH1                                  Ribsomal   \n",
       "5      19       Zrt_Ftr         ZRT/FTR (Zinc, iron transporters)   \n",
       "6      17          FKH2                      chromatin regulation   \n",
       "7       3          UC19                                       N.A   \n",
       "8      18          UC10                                       N.A   \n",
       "9       0         DAL81      Ammonia degradation/Nitrogen related   \n",
       "10     26          MBP1             Cell phase related regulation   \n",
       "11     31          HOT1  Osmolarity related glycerol biosynthesis   \n",
       "12     10          UC20                                       N.A   \n",
       "13      5           UC2                                       N.A   \n",
       "14      6          SWI5                    D (Cell cycle control)   \n",
       "15     30          FeRd                Iron reductae/Iron related   \n",
       "16     32          UC16                                       N.A   \n",
       "17      7           UC3                                       N.A   \n",
       "18     22          GCN4                  Amino acid biosynthesis    \n",
       "19     33           RME                                     RME1?   \n",
       "20      2           FDH                     Formate Dehydrogenase   \n",
       "21      1           UC1     Contains some sugar related proteins?   \n",
       "22     21          CAT8  CRP like - non glucose carbon metabolism   \n",
       "23     34          UC17                                       N.A   \n",
       "24      8           UC4                                       N.A   \n",
       "25     35          HSP2                                      HSP2   \n",
       "26     36          UC18                                       N.A   \n",
       "27     28          UC15                                       N.A   \n",
       "28     12           UC7                Malate synthase, PCK, FTR1   \n",
       "29     23          UC12                                       N.A   \n",
       "30     27          UC14                                       N.A   \n",
       "31     29          RTG3                  Mitochondrial retrograde   \n",
       "32      9           UC5                                       N.A   \n",
       "33     25          UC13                                       N.A   \n",
       "34     20          UC11                                       N.A   \n",
       "35     11           UC6                                       N.A   \n",
       "36     13           UC8                                       N.A   \n",
       "\n",
       "                                                 COGs         Category  \\\n",
       "0                                         S (Unknown)  Uncharacterized   \n",
       "1                                      Q (Catabolism)       Metabolism   \n",
       "2                                         S (Unknown)           Stress   \n",
       "3                            E (Amino acid transport)       Metabolism   \n",
       "4                           J (Translation/Ribosomal)      Translation   \n",
       "5                                         S (Unknown)        Transport   \n",
       "6                 A (RNA processing and modification)    Cell division   \n",
       "7                                                 N.A  Uncharacterized   \n",
       "8                                      Q (Catabolism)   Uncharacerized   \n",
       "9                            E (Amino acid transport)       Metabolism   \n",
       "10            L ( Replication, Recombination, Repair)    Cell division   \n",
       "11                                         S(Unknown)           Stress   \n",
       "12                                                N.A  Uncharacterized   \n",
       "13                                        S (Unknown)  Uncharacterized   \n",
       "14                             D (Cell cycle control)    Cell division   \n",
       "15                                         S(Unknown)           Energy   \n",
       "16        A(RNA processing), E (Amino acid transport)  Uncharacterized   \n",
       "17           G(Carbohydrate transport and metabolism)  Uncharacterized   \n",
       "18                           E (Amino acid transport)       Metabolism   \n",
       "19                                        S (Unknown)    Cell division   \n",
       "20               C (Energy Production and Conversion)           Energy   \n",
       "21                                        S (Unknown)  Uncharacterized   \n",
       "22                                  C, G (Catabolism)       Metabolism   \n",
       "23                           E (Amino acid transport)        Transport   \n",
       "24                                        S (Unknown)  Uncharacterized   \n",
       "25                          S(Unknown), G(Catabolism)           Stress   \n",
       "26  G(Carbohydrate transport and metabolism), T(Si...  Uncharacterized   \n",
       "27                                        S (Unknown)  Uncharacterized   \n",
       "28                                        S (Unknown)  Uncharacterized   \n",
       "29           G(Carbohydrate transport and metabolism)  Uncharacterized   \n",
       "30                     P, H (Ion, Cofactor transport)        Transport   \n",
       "31               S (Unknown), E(Amino acid transport)           Stress   \n",
       "32               O (Post translation mods, chaperons)  Uncharacterized   \n",
       "33               O (Post translation mods, chaperons)  Uncharacterized   \n",
       "34                                        - (Unknown)  Uncharacterized   \n",
       "35               C (Energy Production and Conversion)  Uncharacterized   \n",
       "36                                        S (Unknown)  Uncharacterized   \n",
       "\n",
       "    ngenes  explained_variance  threshold  \n",
       "0      196            0.166861   0.027916  \n",
       "1      287            0.095930   0.024665  \n",
       "2      160            0.073086   0.028105  \n",
       "3      104            0.052601   0.034906  \n",
       "4       66            0.051413   0.045540  \n",
       "5      220            0.042466   0.026078  \n",
       "6      255            0.041518   0.030228  \n",
       "7        0            0.033613   0.120962  \n",
       "8      127            0.027396   0.033213  \n",
       "9      131            0.024226   0.032645  \n",
       "10     160            0.020295   0.033920  \n",
       "11      76            0.020185   0.038035  \n",
       "12       0            0.017920   0.122405  \n",
       "13      78            0.017706   0.040438  \n",
       "14      80            0.017075   0.041429  \n",
       "15     105            0.015156   0.034309  \n",
       "16      70            0.014638   0.041353  \n",
       "17     394            0.013854   0.021520  \n",
       "18     228            0.013787   0.029040  \n",
       "19      73            0.012919   0.038265  \n",
       "20      55            0.012128   0.040596  \n",
       "21      85            0.010175   0.035350  \n",
       "22      77            0.008676   0.039377  \n",
       "23      38            0.008407   0.045213  \n",
       "24     262            0.008360   0.023275  \n",
       "25     204            0.006701   0.028764  \n",
       "26     119            0.006332   0.032757  \n",
       "27     163            0.005899   0.032557  \n",
       "28     105            0.005453   0.038097  \n",
       "29     111            0.005311   0.032749  \n",
       "30     159            0.005124   0.030953  \n",
       "31     108            0.004459   0.035295  \n",
       "32     105            0.004070   0.038863  \n",
       "33     234            0.002638   0.023695  \n",
       "34     175            0.002230   0.023308  \n",
       "35     218            0.002002   0.024372  \n",
       "36     243            0.001851   0.028383  "
      ]
     },
     "execution_count": 34,
     "metadata": {},
     "output_type": "execute_result"
    }
   ],
   "source": [
    "exp_var"
   ]
  },
  {
   "cell_type": "code",
   "execution_count": null,
   "id": "e838150d",
   "metadata": {},
   "outputs": [],
   "source": []
  }
 ],
 "metadata": {
  "kernelspec": {
   "display_name": "pymodulon38",
   "language": "python",
   "name": "python3"
  },
  "language_info": {
   "codemirror_mode": {
    "name": "ipython",
    "version": 3
   },
   "file_extension": ".py",
   "mimetype": "text/x-python",
   "name": "python",
   "nbconvert_exporter": "python",
   "pygments_lexer": "ipython3",
   "version": "3.8.20"
  }
 },
 "nbformat": 4,
 "nbformat_minor": 5
}
